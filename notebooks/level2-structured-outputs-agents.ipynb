{
 "cells": [
  {
   "cell_type": "markdown",
   "metadata": {},
   "source": [
    "# Structured Outputs"
   ]
  },
  {
   "cell_type": "code",
   "execution_count": 1,
   "metadata": {},
   "outputs": [],
   "source": [
    "from pydantic import BaseModel, Field\n",
    "from openai import OpenAI\n"
   ]
  },
  {
   "cell_type": "code",
   "execution_count": 5,
   "metadata": {},
   "outputs": [],
   "source": [
    "# create file\n",
    "# create directory\n",
    "# list files\n",
    "\n",
    "class CreateFile(BaseModel):\n",
    "    file_path: str = Field(description=\"file path to create\")\n",
    "    contents: str = Field(description=\"contents to write to the file\")\n",
    "\n",
    "client = OpenAI()\n",
    "\n",
    "def get_structured_response(prompt):\n",
    "    response = client.beta.chat.completions.parse(\n",
    "        model=\"gpt-4.1\",\n",
    "        messages=[{\"role\": \"system\", \"content\": \"\"\"\n",
    "                   You are a helpful research and programming assistant,\n",
    "                   you take in requests and you output the structured object \n",
    "                   with the relevant attributes for the request.\n",
    "                   \"\"\"},\n",
    "                  {\"role\": \"user\", \"content\": prompt}],\n",
    "        response_format=CreateFile\n",
    "    )\n",
    "    \n",
    "    return response.choices[0].message.parsed\n",
    "\n",
    "\n",
    "prompt = \"Create a file with an essay containing 2 paragraphs about why bald guys love pancakes.\"\n",
    "\n",
    "structured_response = get_structured_response(prompt)"
   ]
  },
  {
   "cell_type": "code",
   "execution_count": 6,
   "metadata": {},
   "outputs": [
    {
     "data": {
      "text/markdown": [
       "bald_guys_love_pancakes_essay.txt"
      ],
      "text/plain": [
       "<IPython.core.display.Markdown object>"
      ]
     },
     "execution_count": 6,
     "metadata": {},
     "output_type": "execute_result"
    }
   ],
   "source": [
    "from IPython.display import Markdown\n",
    "\n",
    "Markdown(structured_response.file_path)"
   ]
  },
  {
   "cell_type": "code",
   "execution_count": 7,
   "metadata": {},
   "outputs": [
    {
     "data": {
      "text/markdown": [
       "Bald guys have developed a great affection for pancakes, and this delightful relationship goes beyond mere coincidence. For many, the comforting warmth and fluffiness of pancakes offer a sense of reassurance and satisfaction, much like a well-fitted hat. With fewer hair maintenance routines in the mornings, bald men often find themselves with extra time to perfect their pancake flipping or experiment with new toppings. The simplicity and versatility of pancakes align with the streamlined lifestyle of bald individuals, creating a breakfast tradition that feels both practical and indulgent.\n",
       "\n",
       "Additionally, pancakes have become a symbol of camaraderie and confidence among bald guys. Sharing a stack of pancakes with friends or family can spark conversations, laughter, and a sense of belonging. The act of enjoying pancakes is often associated with embracing one's unique style, whether it's baldness or the choice of syrup. Ultimately, for bald men, pancakes represent more than just a tasty meal—they're a celebration of self-acceptance and the sweeter things in life."
      ],
      "text/plain": [
       "<IPython.core.display.Markdown object>"
      ]
     },
     "execution_count": 7,
     "metadata": {},
     "output_type": "execute_result"
    }
   ],
   "source": [
    "Markdown(structured_response.contents)"
   ]
  },
  {
   "cell_type": "markdown",
   "metadata": {},
   "source": [
    "# Function Calling"
   ]
  },
  {
   "cell_type": "code",
   "execution_count": 8,
   "metadata": {},
   "outputs": [],
   "source": [
    "def create_file(file_path: str, contents: str) -> str:\n",
    "    with open(file_path, \"w\") as f:\n",
    "        f.write(contents)\n",
    "    \n",
    "    return \"Created file!\""
   ]
  },
  {
   "cell_type": "code",
   "execution_count": 9,
   "metadata": {},
   "outputs": [
    {
     "data": {
      "text/plain": [
       "'File created!'"
      ]
     },
     "execution_count": 9,
     "metadata": {},
     "output_type": "execute_result"
    }
   ],
   "source": [
    "def agent_execute_create_file_action(input_llm_struct: CreateFile) -> str:\n",
    "    try:\n",
    "        create_file(input_llm_struct.file_path, input_llm_struct.contents)\n",
    "    except:\n",
    "        print(\"did not create function!\")\n",
    "    \n",
    "    return \"File created!\"\n",
    "\n",
    "\n",
    "\n",
    "prompt = \"Create a file with an essay containing 2 paragraphs about why bald guys love pancakes.\"\n",
    "\n",
    "structured_response = get_structured_response(prompt)\n",
    "\n",
    "observation_output = agent_execute_create_file_action(structured_response)\n",
    "\n",
    "# pass that along the model or to a different model to generate a response\n",
    "# llm_call(observation_output)....."
   ]
  },
  {
   "cell_type": "code",
   "execution_count": 10,
   "metadata": {},
   "outputs": [
    {
     "data": {
      "text/plain": [
       "'bald_guys_love_pancakes_essay.txt'"
      ]
     },
     "execution_count": 10,
     "metadata": {},
     "output_type": "execute_result"
    }
   ],
   "source": [
    "structured_response.file_path"
   ]
  },
  {
   "cell_type": "code",
   "execution_count": null,
   "metadata": {},
   "outputs": [],
   "source": []
  }
 ],
 "metadata": {
  "language_info": {
   "name": "python"
  }
 },
 "nbformat": 4,
 "nbformat_minor": 2
}
