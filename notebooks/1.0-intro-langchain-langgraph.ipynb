{
 "cells": [
  {
   "cell_type": "code",
   "execution_count": 1,
   "metadata": {},
   "outputs": [],
   "source": [
    "# !pip install -qU \"langchain[openai]\""
   ]
  },
  {
   "cell_type": "markdown",
   "metadata": {},
   "source": []
  },
  {
   "cell_type": "markdown",
   "metadata": {},
   "source": []
  },
  {
   "cell_type": "code",
   "execution_count": 2,
   "metadata": {},
   "outputs": [],
   "source": [
    "import os\n",
    "import getpass\n",
    "\n",
    "def _set_env(var: str):\n",
    "    if not os.environ.get(var):\n",
    "        os.environ[var] = getpass.getpass(f\"var: \")\n",
    "\n",
    "_set_env(\"OPENAI_API_KEY\")"
   ]
  },
  {
   "cell_type": "code",
   "execution_count": 3,
   "metadata": {},
   "outputs": [
    {
     "data": {
      "text/plain": [
       "AIMessage(content='Hello! How can I assist you today?', additional_kwargs={'refusal': None}, response_metadata={'token_usage': {'completion_tokens': 9, 'prompt_tokens': 9, 'total_tokens': 18, 'completion_tokens_details': {'accepted_prediction_tokens': 0, 'audio_tokens': 0, 'reasoning_tokens': 0, 'rejected_prediction_tokens': 0}, 'prompt_tokens_details': {'audio_tokens': 0, 'cached_tokens': 0}}, 'model_name': 'gpt-4o-mini-2024-07-18', 'system_fingerprint': 'fp_51db84afab', 'id': 'chatcmpl-CO0DS6s9cguja2FkPX1788DYiPFrw', 'finish_reason': 'stop', 'logprobs': None}, id='run-f09b54ba-a0fb-44f3-9bff-37ee7dd6b4f7-0', usage_metadata={'input_tokens': 9, 'output_tokens': 9, 'total_tokens': 18, 'input_token_details': {'audio': 0, 'cache_read': 0}, 'output_token_details': {'audio': 0, 'reasoning': 0}})"
      ]
     },
     "execution_count": 3,
     "metadata": {},
     "output_type": "execute_result"
    }
   ],
   "source": [
    "from langchain_openai import ChatOpenAI\n",
    "\n",
    "llm = ChatOpenAI(model=\"gpt-4o-mini\")\n",
    "\n",
    "llm.invoke(\"HI!\")"
   ]
  },
  {
   "cell_type": "code",
   "execution_count": 4,
   "metadata": {},
   "outputs": [
    {
     "data": {
      "text/plain": [
       "AIMessage(content=\"I am based on OpenAI's GPT-3 model. If you have any questions or need assistance, feel free to ask!\", additional_kwargs={'refusal': None}, response_metadata={'token_usage': {'completion_tokens': 26, 'prompt_tokens': 14, 'total_tokens': 40, 'completion_tokens_details': {'accepted_prediction_tokens': 0, 'audio_tokens': 0, 'reasoning_tokens': 0, 'rejected_prediction_tokens': 0}, 'prompt_tokens_details': {'audio_tokens': 0, 'cached_tokens': 0}}, 'model_name': 'gpt-4o-mini-2024-07-18', 'system_fingerprint': 'fp_560af6e559', 'id': 'chatcmpl-CO0DS3OVoBV3l0MD91L1OakxqdqWL', 'finish_reason': 'stop', 'logprobs': None}, id='run-33ace397-d72f-43d4-8f94-3ee9d7125654-0', usage_metadata={'input_tokens': 14, 'output_tokens': 26, 'total_tokens': 40, 'input_token_details': {'audio': 0, 'cache_read': 0}, 'output_token_details': {'audio': 0, 'reasoning': 0}})"
      ]
     },
     "execution_count": 4,
     "metadata": {},
     "output_type": "execute_result"
    }
   ],
   "source": [
    "from langchain.chat_models import init_chat_model\n",
    "\n",
    "model = init_chat_model(\n",
    "    \"gpt-4o-mini\", \n",
    "    model_provider=\"openai\")\n",
    "\n",
    "model.invoke(\"Hi what is your model name?\")"
   ]
  },
  {
   "cell_type": "code",
   "execution_count": 5,
   "metadata": {},
   "outputs": [
    {
     "data": {
      "text/plain": [
       "AIMessage(content=\"I'm an AI assistant called Claude, created by Anthropic. I don't know all the details about my model name or training though.\", additional_kwargs={}, response_metadata={'id': 'msg_01Dj8xWDumiiMQicX4r8PQYJ', 'model': 'claude-3-5-sonnet-20240620', 'stop_reason': 'end_turn', 'stop_sequence': None, 'usage': {'cache_creation_input_tokens': 0, 'cache_read_input_tokens': 0, 'input_tokens': 18, 'output_tokens': 32, 'cache_creation': {'ephemeral_5m_input_tokens': 0, 'ephemeral_1h_input_tokens': 0}, 'service_tier': 'standard'}, 'model_name': 'claude-3-5-sonnet-20240620'}, id='run-a8118e78-4fd2-4c11-85ec-4b67d0d61e29-0', usage_metadata={'input_tokens': 18, 'output_tokens': 32, 'total_tokens': 50, 'input_token_details': {'cache_read': 0, 'cache_creation': 0}})"
      ]
     },
     "execution_count": 5,
     "metadata": {},
     "output_type": "execute_result"
    }
   ],
   "source": [
    "model = init_chat_model(\"claude-3-5-sonnet-20240620\", model_provider=\"anthropic\")\n",
    "\n",
    "model.invoke(\"Hi what is your name? Like the model name?\")"
   ]
  },
  {
   "cell_type": "markdown",
   "metadata": {},
   "source": [
    "# Full LLM App in LangChain"
   ]
  },
  {
   "cell_type": "code",
   "execution_count": 6,
   "metadata": {},
   "outputs": [],
   "source": [
    "import getpass\n",
    "import os\n",
    "\n",
    "try:\n",
    "    # load environment variables from .env file (requires `python-dotenv`)\n",
    "    from dotenv import load_dotenv\n",
    "\n",
    "    load_dotenv()\n",
    "except ImportError:\n",
    "    pass\n",
    "\n",
    "os.environ[\"LANGSMITH_TRACING\"] = \"true\"\n",
    "if \"LANGSMITH_API_KEY\" not in os.environ:\n",
    "    os.environ[\"LANGSMITH_API_KEY\"] = getpass.getpass(\n",
    "        prompt=\"Enter your LangSmith API key (optional): \"\n",
    "    )\n",
    "if \"LANGSMITH_PROJECT\" not in os.environ:\n",
    "    os.environ[\"LANGSMITH_PROJECT\"] = getpass.getpass(\n",
    "        prompt='Enter your LangSmith Project Name (default = \"default\"): '\n",
    "    )\n",
    "    if not os.environ.get(\"LANGSMITH_PROJECT\"):\n",
    "        os.environ[\"LANGSMITH_PROJECT\"] = \"default\"\n",
    "if \"OPENAI_API_KEY\" not in os.environ:\n",
    "    os.environ[\"OPENAI_API_KEY\"] = getpass.getpass(\n",
    "        prompt=\"Enter your OpenAI API key (required if using OpenAI): \"\n",
    "    )"
   ]
  },
  {
   "cell_type": "code",
   "execution_count": 7,
   "metadata": {},
   "outputs": [
    {
     "data": {
      "text/plain": [
       "AIMessage(content='Hello! How can I assist you today?', additional_kwargs={'refusal': None}, response_metadata={'token_usage': {'completion_tokens': 9, 'prompt_tokens': 8, 'total_tokens': 17, 'completion_tokens_details': {'accepted_prediction_tokens': 0, 'audio_tokens': 0, 'reasoning_tokens': 0, 'rejected_prediction_tokens': 0}, 'prompt_tokens_details': {'audio_tokens': 0, 'cached_tokens': 0}}, 'model_name': 'gpt-4o-mini-2024-07-18', 'system_fingerprint': 'fp_560af6e559', 'id': 'chatcmpl-CO0DnJEeU14Ljx0y1PxGB1YSHx9tS', 'finish_reason': 'stop', 'logprobs': None}, id='run-bf283bb9-dd9f-4820-bfdc-ed0f2ac4ad0c-0', usage_metadata={'input_tokens': 8, 'output_tokens': 9, 'total_tokens': 17, 'input_token_details': {'audio': 0, 'cache_read': 0}, 'output_token_details': {'audio': 0, 'reasoning': 0}})"
      ]
     },
     "execution_count": 7,
     "metadata": {},
     "output_type": "execute_result"
    }
   ],
   "source": [
    "from langchain.chat_models import init_chat_model\n",
    "\n",
    "model = init_chat_model(\n",
    "    \"gpt-4o-mini\",\n",
    "    model_provider=\"openai\"\n",
    ")\n",
    "\n",
    "model.invoke(\"Hi\")"
   ]
  },
  {
   "cell_type": "code",
   "execution_count": 8,
   "metadata": {},
   "outputs": [
    {
     "data": {
      "text/plain": [
       "AIMessage(content='Ciao! Impariamo sui modelli di linguaggio di grandi dimensioni!', additional_kwargs={'refusal': None}, response_metadata={'token_usage': {'completion_tokens': 17, 'prompt_tokens': 27, 'total_tokens': 44, 'completion_tokens_details': {'accepted_prediction_tokens': 0, 'audio_tokens': 0, 'reasoning_tokens': 0, 'rejected_prediction_tokens': 0}, 'prompt_tokens_details': {'audio_tokens': 0, 'cached_tokens': 0}}, 'model_name': 'gpt-4o-mini-2024-07-18', 'system_fingerprint': 'fp_51db84afab', 'id': 'chatcmpl-CO0DnRjaWQlyxGDoJJ1pDHXbcCFr8', 'finish_reason': 'stop', 'logprobs': None}, id='run-3c84fcd9-da12-4440-990b-31a271404e0e-0', usage_metadata={'input_tokens': 27, 'output_tokens': 17, 'total_tokens': 44, 'input_token_details': {'audio': 0, 'cache_read': 0}, 'output_token_details': {'audio': 0, 'reasoning': 0}})"
      ]
     },
     "execution_count": 8,
     "metadata": {},
     "output_type": "execute_result"
    }
   ],
   "source": [
    "from langchain_core.messages import HumanMessage, SystemMessage\n",
    "\n",
    "messages = [\n",
    "    SystemMessage(\"Translate the following from English into Italian\"),\n",
    "    HumanMessage(\"Hi! Let's learn about large language models!\"),\n",
    "]\n",
    "\n",
    "model.invoke(messages)"
   ]
  },
  {
   "cell_type": "code",
   "execution_count": 9,
   "metadata": {},
   "outputs": [
    {
     "data": {
      "text/plain": [
       "AIMessage(content=\"I'm just a program, so I don't have feelings, but I'm here and ready to help you! How can I assist you today?\", additional_kwargs={'refusal': None}, response_metadata={'token_usage': {'completion_tokens': 27, 'prompt_tokens': 11, 'total_tokens': 38, 'completion_tokens_details': {'accepted_prediction_tokens': 0, 'audio_tokens': 0, 'reasoning_tokens': 0, 'rejected_prediction_tokens': 0}, 'prompt_tokens_details': {'audio_tokens': 0, 'cached_tokens': 0}}, 'model_name': 'gpt-4o-mini-2024-07-18', 'system_fingerprint': 'fp_560af6e559', 'id': 'chatcmpl-CO0DoOJkCOTHdEfemUE9qGNVG1YEi', 'finish_reason': 'stop', 'logprobs': None}, id='run-6b834ecc-a4d8-4330-914b-d67ce9c9f6f2-0', usage_metadata={'input_tokens': 11, 'output_tokens': 27, 'total_tokens': 38, 'input_token_details': {'audio': 0, 'cache_read': 0}, 'output_token_details': {'audio': 0, 'reasoning': 0}})"
      ]
     },
     "execution_count": 9,
     "metadata": {},
     "output_type": "execute_result"
    }
   ],
   "source": [
    "model.invoke([{\"role\": \"user\", \"content\": \"How are ya?\"}])"
   ]
  },
  {
   "cell_type": "code",
   "execution_count": 10,
   "metadata": {},
   "outputs": [
    {
     "name": "stdout",
     "output_type": "stream",
     "text": [
      "|Sure|!| Here| are| three| jokes| that| might| give| you| a| laugh|:\n",
      "\n",
      "|1|.| **|Why| don't| scientists| trust| atoms|?|**|  \n",
      "|  | Because| they| make| up| everything|!\n",
      "\n",
      "|2|.| **|I| told| my| wife| she| was| drawing| her| eyebrows| too| high|.|**|  \n",
      "|  | She| looked| surprised|.\n",
      "\n",
      "|3|.| **|Why| did| the| scare|crow| win| an| award|?|**|  \n",
      "|  | Because| he| was| outstanding| in| his| field|!\n",
      "\n",
      "|I| hope| these| brought| a| smile| to| your| face|!||"
     ]
    }
   ],
   "source": [
    "for token in model.stream(\"Tell me the 3 funniest jokes you know\"):\n",
    "    print(token.content, end=\"|\")"
   ]
  },
  {
   "cell_type": "code",
   "execution_count": 11,
   "metadata": {},
   "outputs": [
    {
     "data": {
      "text/plain": [
       "'System: Translate the following from English into French\\nHuman: I love programming in Python'"
      ]
     },
     "execution_count": 11,
     "metadata": {},
     "output_type": "execute_result"
    }
   ],
   "source": [
    "from langchain_core.prompts import ChatPromptTemplate\n",
    "\n",
    "system_template = \"Translate the following from {language_source} into {language_target}\"\n",
    "\n",
    "prompt_template = ChatPromptTemplate.from_messages(\n",
    "    [(\"system\", system_template), (\"human\", \"{input_sentence}\")]\n",
    ")\n",
    "\n",
    "prompt_template.format(language_source=\"English\", language_target=\"French\", input_sentence=\"I love programming in Python\")"
   ]
  },
  {
   "cell_type": "code",
   "execution_count": 12,
   "metadata": {},
   "outputs": [
    {
     "data": {
      "text/plain": [
       "AIMessage(content=\"J'aime programmer en Python.\", additional_kwargs={'refusal': None}, response_metadata={'token_usage': {'completion_tokens': 6, 'prompt_tokens': 23, 'total_tokens': 29, 'completion_tokens_details': {'accepted_prediction_tokens': 0, 'audio_tokens': 0, 'reasoning_tokens': 0, 'rejected_prediction_tokens': 0}, 'prompt_tokens_details': {'audio_tokens': 0, 'cached_tokens': 0}}, 'model_name': 'gpt-4o-mini-2024-07-18', 'system_fingerprint': 'fp_51db84afab', 'id': 'chatcmpl-CO0DsYhsK3pjsd9BwSpnEFZmPSuEk', 'finish_reason': 'stop', 'logprobs': None}, id='run-f678d2e3-3101-4bbb-8781-b251c5fa9cec-0', usage_metadata={'input_tokens': 23, 'output_tokens': 6, 'total_tokens': 29, 'input_token_details': {'audio': 0, 'cache_read': 0}, 'output_token_details': {'audio': 0, 'reasoning': 0}})"
      ]
     },
     "execution_count": 12,
     "metadata": {},
     "output_type": "execute_result"
    }
   ],
   "source": [
    "prompt = prompt_template.invoke({\"language_source\": \"English\", \"language_target\": \"French\", \"input_sentence\": \"I love programming in Python\"})\n",
    "response = model.invoke(prompt)\n",
    "response"
   ]
  },
  {
   "cell_type": "code",
   "execution_count": 13,
   "metadata": {},
   "outputs": [
    {
     "data": {
      "text/plain": [
       "\"J'aime programmer en Python.\""
      ]
     },
     "execution_count": 13,
     "metadata": {},
     "output_type": "execute_result"
    }
   ],
   "source": [
    "response.content"
   ]
  },
  {
   "cell_type": "code",
   "execution_count": 14,
   "metadata": {},
   "outputs": [],
   "source": [
    "chain = prompt_template | model\n",
    "\n",
    "response = chain.invoke({\"language_source\": \"English\", \"language_target\": \"Italian\", \"input_sentence\": \"Lucas is a gorgeous bald teacher.\"})"
   ]
  },
  {
   "cell_type": "code",
   "execution_count": 15,
   "metadata": {},
   "outputs": [
    {
     "data": {
      "text/plain": [
       "'Lucas è un bellissimo insegnante calvo.'"
      ]
     },
     "execution_count": 15,
     "metadata": {},
     "output_type": "execute_result"
    }
   ],
   "source": [
    "response.content"
   ]
  },
  {
   "cell_type": "markdown",
   "metadata": {},
   "source": [
    "# Structured Outputs"
   ]
  },
  {
   "cell_type": "code",
   "execution_count": 16,
   "metadata": {},
   "outputs": [
    {
     "data": {
      "text/plain": [
       "ParsedChatCompletion[ElementsOfLiveCourse](id='chatcmpl-CO0DtFkCXNOQpIGfUsEOEGVdcfnXb', choices=[ParsedChoice[ElementsOfLiveCourse](finish_reason='stop', index=0, logprobs=None, message=ParsedChatCompletionMessage[ElementsOfLiveCourse](content='{\"title\":\"Model Context Protocol Development\",\"topic\":\"AI Integration and Development\",\"example_lesson\":\"Building Your First MCP Server: A Step-by-Step Guide\"}', refusal=None, role='assistant', annotations=[], audio=None, function_call=None, tool_calls=None, parsed=ElementsOfLiveCourse(title='Model Context Protocol Development', topic='AI Integration and Development', example_lesson='Building Your First MCP Server: A Step-by-Step Guide')))], created=1759836765, model='gpt-4o-mini-2024-07-18', object='chat.completion', service_tier='default', system_fingerprint='fp_560af6e559', usage=CompletionUsage(completion_tokens=31, prompt_tokens=1125, total_tokens=1156, completion_tokens_details=CompletionTokensDetails(accepted_prediction_tokens=0, audio_tokens=0, reasoning_tokens=0, rejected_prediction_tokens=0), prompt_tokens_details=PromptTokensDetails(audio_tokens=0, cached_tokens=0)))"
      ]
     },
     "execution_count": 16,
     "metadata": {},
     "output_type": "execute_result"
    }
   ],
   "source": [
    "from pydantic import BaseModel, Field\n",
    "from openai import OpenAI\n",
    "\n",
    "class ElementsOfLiveCourse(BaseModel):\n",
    "    title: str = Field(description=\"The title of the live course\")\n",
    "    topic: str = Field(description=\"The core topic of the live course\")\n",
    "    example_lesson: str = Field(description=\"An example lesson from the live course\")\n",
    "\n",
    "with open(\"./mcp_course_example.txt\", \"r\") as f:\n",
    "    prompt_raw_course = f.read()\n",
    "\n",
    "client = OpenAI()\n",
    "\n",
    "response = client.beta.chat.completions.parse(\n",
    "    model=\"gpt-4o-mini\",\n",
    "    messages=[\n",
    "        {\"role\": \"system\", \"content\": \"You take in raw information for a course and\\\n",
    "            you output the structured objects with information about that course\"},\n",
    "        {\"role\": \"user\", \"content\": prompt_raw_course}\n",
    "    ],\n",
    "    response_format=ElementsOfLiveCourse\n",
    ")\n",
    "\n",
    "response"
   ]
  },
  {
   "cell_type": "code",
   "execution_count": 17,
   "metadata": {},
   "outputs": [
    {
     "data": {
      "text/plain": [
       "ElementsOfLiveCourse(title='Model Context Protocol Development', topic='AI Integration and Development', example_lesson='Building Your First MCP Server: A Step-by-Step Guide')"
      ]
     },
     "execution_count": 17,
     "metadata": {},
     "output_type": "execute_result"
    }
   ],
   "source": [
    "response.choices[0].message.parsed"
   ]
  },
  {
   "cell_type": "code",
   "execution_count": 18,
   "metadata": {},
   "outputs": [
    {
     "data": {
      "text/markdown": [
       "\n",
       "# Model Context Protocol Development\n",
       "\n",
       "- *Topic*: AI Integration and Development\n",
       "- *Example Lesson*: Building Your First MCP Server: A Step-by-Step Guide\n"
      ],
      "text/plain": [
       "<IPython.core.display.Markdown object>"
      ]
     },
     "execution_count": 18,
     "metadata": {},
     "output_type": "execute_result"
    }
   ],
   "source": [
    "from IPython.display import Markdown\n",
    "\n",
    "str_output = f\"\"\"\n",
    "# {response.choices[0].message.parsed.title}\n",
    "\n",
    "- *Topic*: {response.choices[0].message.parsed.topic}\n",
    "- *Example Lesson*: {response.choices[0].message.parsed.example_lesson}\n",
    "\"\"\"\n",
    "Markdown(str_output)"
   ]
  },
  {
   "cell_type": "code",
   "execution_count": 19,
   "metadata": {},
   "outputs": [
    {
     "data": {
      "text/plain": [
       "AIMessage(content=\"A screenplay is a structured format that outlines the narrative for a film or television show. The elements include:\\n\\n1. **Title Page**: Contains the title of the screenplay, the writer’s name, and contact information, often with the date.\\n\\n2. **Logline**: A brief summary (1-2 sentences) that captures the essence of the story, including the protagonist, their goal, and the primary conflict.\\n\\n3. **Synopsis**: A brief overview (usually a paragraph or two) of the entire story, including the main characters, setting, and plot.\\n\\n4. **Characters**: \\n   - **Protagonist**: The main character who drives the story.\\n   - **Antagonist**: The character or force in opposition to the protagonist.\\n   - Supporting characters: Other relevant characters that contribute to the plot and development of the protagonist.\\n\\n5. **Scenes**: Each scene begins on a new line, with a scene heading (slug line) indicating whether it is interior (INT.) or exterior (EXT.), the location, and time of day.\\n\\n6. **Action/Description**: Provides visual details of what is happening in the scene, focusing on character actions, settings, and important props.\\n\\n7. **Dialogue**: The spoken words of the characters, centered on the page, with the character's name above their lines. Parentheticals can be used for direction or emotion.\\n\\n8. **Transitions**: Directions for moving from one scene to the next (e.g., CUT TO:, DISSOLVE TO:, etc.), often used sparingly in modern screenwriting.\\n\\n9. **Subtext**: Implied meaning behind dialogue and actions, which adds depth to the characters and story.\\n\\n10. **Act Structure**: Often divided into three acts:\\n   - **Act One**: Introduction, setup, and inciting incident.\\n   - **Act Two**: Conflict and rising action, often includes a midpoint.\\n   - **Act Three**: Climax and resolution.\\n\\n11. **Theme**: The underlying message or primary idea that the screenplay conveys through its narrative, characters, and dialogue.\\n\\n12. **Formatting**: Screenplays follow strict formatting guidelines, including font (usually Courier 12-point), margins, and spacing to ensure readability for producers, directors, and actors.\\n\\nThese elements combine to create a coherent and engaging story that can be translated into a visual medium.\", additional_kwargs={'refusal': None}, response_metadata={'token_usage': {'completion_tokens': 488, 'prompt_tokens': 16, 'total_tokens': 504, 'completion_tokens_details': {'accepted_prediction_tokens': 0, 'audio_tokens': 0, 'reasoning_tokens': 0, 'rejected_prediction_tokens': 0}, 'prompt_tokens_details': {'audio_tokens': 0, 'cached_tokens': 0}}, 'model_name': 'gpt-4o-mini-2024-07-18', 'system_fingerprint': 'fp_560af6e559', 'id': 'chatcmpl-CO0Du9b9FXDBGx3O6zzuwgTnEn47K', 'finish_reason': 'stop', 'logprobs': None}, id='run-89ffbced-2340-4718-85ff-6f22f83f5ebd-0', usage_metadata={'input_tokens': 16, 'output_tokens': 488, 'total_tokens': 504, 'input_token_details': {'audio': 0, 'cache_read': 0}, 'output_token_details': {'audio': 0, 'reasoning': 0}})"
      ]
     },
     "execution_count": 19,
     "metadata": {},
     "output_type": "execute_result"
    }
   ],
   "source": [
    "llm = init_chat_model(\"gpt-4o-mini\", model_provider=\"openai\")\n",
    "\n",
    "llm.invoke(\"What are the elements of a Screenplay?\")"
   ]
  },
  {
   "cell_type": "markdown",
   "metadata": {},
   "source": [
    "## Pydantic Class"
   ]
  },
  {
   "cell_type": "code",
   "execution_count": 20,
   "metadata": {},
   "outputs": [],
   "source": [
    "from typing import Optional\n",
    "from pydantic import BaseModel, Field\n",
    "\n",
    "\n",
    "# Pydantic\n",
    "class ElementsOfScreenplay(BaseModel):\n",
    "    \"\"\"Elements of a Screenplay.\"\"\"\n",
    "    \n",
    "    title: str = Field(description=\"The title of the screenplay\")\n",
    "    genre: str = Field(description=\"The genre of the screenplay\")\n",
    "    protagonist: str = Field(description=\"The protagonist of the screenplay\")\n",
    "    antagonist: str = Field(description=\"The antagonist of the screenplay\")\n",
    "    setting: str = Field(description=\"The setting of the screenplay\")\n",
    "    plot: str = Field(description=\"The plot of the screenplay\")\n",
    "\n",
    "\n",
    "structured_llm = llm.with_structured_output(ElementsOfScreenplay)\n",
    "\n",
    "screenplay_structured = structured_llm.invoke(\"Structure a Screenplay about characters afraid of becoming outdated.\")"
   ]
  },
  {
   "cell_type": "code",
   "execution_count": 21,
   "metadata": {},
   "outputs": [
    {
     "data": {
      "text/markdown": [
       "\n",
       "# Outdated\n",
       "\n",
       "- *Genre*: Drama/Comedy\n",
       "- *Protagonist*: Max, a once-popular social media influencer\n",
       "- *Antagonist*\n",
       "- *Setting*: A mid-sized city in the near future, heavily influenced by technology and changing social norms\n",
       "\n",
       "### Plot\n",
       "\n",
       "Max, a former social media influencer struggling to maintain relevance in a rapidly changing digital landscape, teams up with his old friends, a group of quirky tech misfits, to create an innovative app that they believe will restore his fame. However, as they dive deeper into the project, they face challenges from younger competitors, self-doubt, and the realization that perhaps their value is not based solely on their online presence. Ultimately, they must confront the fear of becoming outdated and learn to embrace the inevitable changes of life, finding meaning beyond social validation.\n"
      ],
      "text/plain": [
       "<IPython.core.display.Markdown object>"
      ]
     },
     "execution_count": 21,
     "metadata": {},
     "output_type": "execute_result"
    }
   ],
   "source": [
    "from IPython.display import Markdown\n",
    "\n",
    "str_output = f\"\"\"\n",
    "# {screenplay_structured.title}\n",
    "\n",
    "- *Genre*: {screenplay_structured.genre}\n",
    "- *Protagonist*: {screenplay_structured.protagonist}\n",
    "- *Antagonist*\n",
    "- *Setting*: {screenplay_structured.setting}\n",
    "\n",
    "### Plot\n",
    "\n",
    "{screenplay_structured.plot}\n",
    "\"\"\"\n",
    "Markdown(str_output)"
   ]
  },
  {
   "cell_type": "markdown",
   "metadata": {},
   "source": [
    "# Model + Tools"
   ]
  },
  {
   "cell_type": "code",
   "execution_count": 22,
   "metadata": {},
   "outputs": [],
   "source": [
    "from langchain_community.tools.tavily_search import TavilySearchResults\n",
    "\n",
    "model = init_chat_model(\"gpt-4o-mini\", model_provider=\"openai\")\n",
    "search = TavilySearchResults(max_results=2)\n",
    "tools = [search]\n",
    "\n",
    "model_with_tools = model.bind_tools(tools)\n",
    "\n",
    "output_model_tools = model_with_tools.invoke(\"Who is in the NBA playoffs?\")"
   ]
  },
  {
   "cell_type": "code",
   "execution_count": 23,
   "metadata": {},
   "outputs": [
    {
     "data": {
      "text/plain": [
       "[{'name': 'tavily_search_results_json',\n",
       "  'args': {'query': 'NBA playoffs 2024 current teams'},\n",
       "  'id': 'call_L6yJxQAY8ww4PueY8mxZmoja',\n",
       "  'type': 'tool_call'}]"
      ]
     },
     "execution_count": 23,
     "metadata": {},
     "output_type": "execute_result"
    }
   ],
   "source": [
    "output_model_tools.tool_calls"
   ]
  },
  {
   "cell_type": "markdown",
   "metadata": {},
   "source": [
    "The output we get here is something called a \"tool call\" which means, prepared arguments for a pre-defined function (in this case\n",
    "web search with the tavily API) to gather the required information."
   ]
  },
  {
   "cell_type": "markdown",
   "metadata": {},
   "source": [
    "Now let's look at a full agent."
   ]
  },
  {
   "cell_type": "code",
   "execution_count": 24,
   "metadata": {},
   "outputs": [
    {
     "data": {
      "image/png": "[encoded data removed]",
      "text/plain": [
       "<langgraph.graph.state.CompiledStateGraph object at 0x11646f3d0>"
      ]
     },
     "execution_count": 24,
     "metadata": {},
     "output_type": "execute_result"
    }
   ],
   "source": [
    "# Import relevant functionality\n",
    "from langchain_community.tools.tavily_search import TavilySearchResults\n",
    "from langchain_core.messages import HumanMessage\n",
    "from langgraph.checkpoint.memory import MemorySaver\n",
    "from langgraph.prebuilt import create_react_agent\n",
    "\n",
    "# Create the agent\n",
    "memory = MemorySaver()\n",
    "model = init_chat_model(\"gpt-4o-mini\", model_provider=\"openai\")\n",
    "search = TavilySearchResults(max_results=2)\n",
    "tools = [search]\n",
    "agent_executor = create_react_agent(model, tools, checkpointer=memory)\n",
    "\n",
    "agent_executor"
   ]
  },
  {
   "cell_type": "markdown",
   "metadata": {},
   "source": [
    "Agent Executor is a graph!"
   ]
  },
  {
   "cell_type": "code",
   "execution_count": 25,
   "metadata": {},
   "outputs": [
    {
     "data": {
      "text/plain": [
       "{'messages': [HumanMessage(content='What is the capital of Brazil?', additional_kwargs={}, response_metadata={}, id='0bc1464f-6e7c-4575-91bb-8df38e4b702e'),\n",
       "  AIMessage(content='The capital of Brazil is Brasília.', additional_kwargs={'refusal': None}, response_metadata={'token_usage': {'completion_tokens': 8, 'prompt_tokens': 86, 'total_tokens': 94, 'completion_tokens_details': {'accepted_prediction_tokens': 0, 'audio_tokens': 0, 'reasoning_tokens': 0, 'rejected_prediction_tokens': 0}, 'prompt_tokens_details': {'audio_tokens': 0, 'cached_tokens': 0}}, 'model_name': 'gpt-4o-mini-2024-07-18', 'system_fingerprint': 'fp_560af6e559', 'id': 'chatcmpl-CO0EIGtAwbj73pWwwjrw1vy7F2eFb', 'finish_reason': 'stop', 'logprobs': None}, id='run-00632bf4-f027-4121-a74c-08f1fddb7a56-0', usage_metadata={'input_tokens': 86, 'output_tokens': 8, 'total_tokens': 94, 'input_token_details': {'audio': 0, 'cache_read': 0}, 'output_token_details': {'audio': 0, 'reasoning': 0}})]}"
      ]
     },
     "execution_count": 25,
     "metadata": {},
     "output_type": "execute_result"
    }
   ],
   "source": [
    "# We pass config because this agent has memory so we need to pass a thread_id\n",
    "config = {\"configurable\": {\"thread_id\": \"abc123\"}}\n",
    "# Below we can't just invoke on \"input\" we use \"messages\" because the agent expects a list of messages (this info is hidden in the create_react_agent function)\n",
    "agent_executor.invoke({\"messages\": [HumanMessage(\"What is the capital of Brazil?\")]}, config=config)"
   ]
  },
  {
   "cell_type": "code",
   "execution_count": 26,
   "metadata": {},
   "outputs": [
    {
     "name": "stdout",
     "output_type": "stream",
     "text": [
      "================================\u001b[1m Human Message \u001b[0m=================================\n",
      "\n",
      "What are the best NBA teams right now?\n",
      "==================================\u001b[1m Ai Message \u001b[0m==================================\n",
      "Tool Calls:\n",
      "  tavily_search_results_json (call_hCGAN1pAwPAkYSZohfIQ5926)\n",
      " Call ID: call_hCGAN1pAwPAkYSZohfIQ5926\n",
      "  Args:\n",
      "    query: best NBA teams 2023\n",
      "=================================\u001b[1m Tool Message \u001b[0m=================================\n",
      "Name: tavily_search_results_json\n",
      "\n",
      "[{\"title\": \"2023-24 NBA Team Ratings\", \"url\": \"https://www.basketball-reference.com/leagues/NBA_2024_ratings.html\", \"content\": \"|  | | | | | | | Unadjusted | | | | Adjusted | | | |\\n| Rk | Team | Conf | Div | W | L | W/L% | MOV | ORtg | DRtg | NRtg | MOV/A | ORtg/A | DRtg/A | NRtg/A |\\n| 1 | Boston Celtics | E | A | 64 | 18 | .780 | 11.34 | 124.23 | 112.51 | 11.71 | 10.74 | 123.81 | 112.70 | 11.11 |\\n| 2 | Oklahoma City Thunder | W | NW | 57 | 25 | .695 | 7.41 | 120.43 | 113.12 | 7.31 | 7.36 | 120.49 | 113.23 | 7.26 | [...] | 7 | Los Angeles Clippers | W | P | 51 | 31 | .622 | 3.28 | 119.75 | 116.51 | 3.24 | 3.41 | 119.97 | 116.59 | 3.37 |\\n| 8 | Phoenix Suns | W | P | 49 | 33 | .598 | 3.06 | 118.78 | 115.69 | 3.09 | 3.08 | 118.83 | 115.73 | 3.10 |\\n| 9 | Golden State Warriors | W | P | 46 | 36 | .561 | 2.61 | 118.67 | 115.95 | 2.72 | 2.77 | 118.76 | 115.89 | 2.87 |\\n| 10 | Indiana Pacers | E | C | 47 | 35 | .573 | 3.05 | 121.85 | 118.85 | 2.99 | 2.75 | 121.73 | 119.03 | 2.70 | [...] | 19 | Los Angeles Lakers | W | P | 47 | 35 | .573 | 0.60 | 116.69 | 116.21 | 0.47 | 1.07 | 117.00 | 116.04 | 0.95 |\\n| 20 | Chicago Bulls | E | C | 39 | 43 | .476 | -1.44 | 115.83 | 117.46 | -1.64 | -1.77 | 115.71 | 117.66 | -1.95 |\\n| 21 | Atlanta Hawks | E | SE | 36 | 46 | .439 | -2.18 | 118.16 | 120.25 | -2.09 | -2.38 | 118.16 | 120.45 | -2.29 |\\n| 22 | Brooklyn Nets | E | A | 32 | 50 | .390 | -2.89 | 114.14 | 117.13 | -2.99 | -3.02 | 114.06 | 117.16 | -3.11 |\", \"score\": 0.84948516}, {\"title\": \"Offseason Power Rankings: Cavs, Knicks leading the way ...\", \"url\": \"https://www.nba.com/news/offseason-power-rankings-east-2025\", \"content\": \"The Knicks have ranked in the bottom seven in ball movement in each of the last five seasons, with Jalen Brunson leading the league in time of possession in each of the last two seasons. The Kings ranked in the top three in ball movement in each of Brown’s two full seasons in Sacramento, leading the league in efficiency in 2022-23. [...] The Cleveland Cavaliers and New York Knicks should remain at the top of the conference, while the Atlanta Hawks and Orlando Magic should both be much improved. The Philadelphia 76ers are a complete wildcard, and maybe a younger East team will take a huge step forward (like last season’s Detroit Pistons).\", \"score\": 0.74229145}]\n",
      "==================================\u001b[1m Ai Message \u001b[0m==================================\n",
      "\n",
      "As of the 2023-2024 NBA season, the best teams include:\n",
      "\n",
      "1. **Boston Celtics**: \n",
      "   - Record: 64 wins, 18 losses\n",
      "   - Win Percentage: .780\n",
      "\n",
      "2. **Oklahoma City Thunder**: \n",
      "   - Record: 57 wins, 25 losses\n",
      "   - Win Percentage: .695\n",
      "\n",
      "3. **Cleveland Cavaliers** and **New York Knicks** are also expected to perform well this season, with both teams leading in their respective conferences.\n",
      "\n",
      "For detailed team ratings and more statistics, you can visit the [Basketball Reference](https://www.basketball-reference.com/leagues/NBA_2024_ratings.html).\n"
     ]
    }
   ],
   "source": [
    "for step in agent_executor.stream(\n",
    "    {\"messages\": [HumanMessage(content=\"What are the best NBA teams right now?\")]},\n",
    "    stream_mode=\"values\",\n",
    "    config=config\n",
    "):\n",
    "    step[\"messages\"][-1].pretty_print()"
   ]
  },
  {
   "cell_type": "code",
   "execution_count": 28,
   "metadata": {},
   "outputs": [
    {
     "data": {
      "text/plain": [
       "AIMessage(content=\"To provide an accurate prediction for the most likely NBA team to win the championship this year, I would need to check the latest standings, team performances, and expert analyses. Since my knowledge cutoff is in October 2023, I don't have real-time data or updates on the current season.\\n\\nWould you like me to help you find the latest information or standings from a reliable source? If so, you can provide the current date or the specific season you're interested in, and I can guide you on where to look for the most up-to-date information.\", additional_kwargs={}, response_metadata={'model': 'mistral-small3.2', 'created_at': '2025-10-07T11:33:44.161276Z', 'done': True, 'done_reason': 'stop', 'total_duration': 12411123833, 'load_duration': 3727225958, 'prompt_eval_count': 522, 'prompt_eval_duration': 3658988667, 'eval_count': 115, 'eval_duration': 5007481500, 'model_name': 'mistral-small3.2'}, id='run-17bca241-4a39-450a-af4b-c49fdd4249c2-0', usage_metadata={'input_tokens': 522, 'output_tokens': 115, 'total_tokens': 637})"
      ]
     },
     "execution_count": 28,
     "metadata": {},
     "output_type": "execute_result"
    }
   ],
   "source": [
    "# !pip install langchain-ollama\n",
    "\n",
    "from langchain.chat_models import init_chat_model\n",
    "\n",
    "local_llm = init_chat_model(\"mistral-small3.2\", model_provider=\"ollama\")\n",
    "\n",
    "local_llm.invoke(\"What is the team from NBA most likely to win the championship this year?\")"
   ]
  },
  {
   "cell_type": "code",
   "execution_count": null,
   "metadata": {},
   "outputs": [],
   "source": [
    "search = TavilySearchResults(max_results=2)\n",
    "tools = [search]\n",
    "agent_executor = create_react_agent(local_llm, tools)"
   ]
  },
  {
   "cell_type": "code",
   "execution_count": 30,
   "metadata": {},
   "outputs": [
    {
     "data": {
      "text/plain": [
       "{'messages': [HumanMessage(content='What is the team from NBA most likely to win the championship this year?', additional_kwargs={}, response_metadata={}, id='5bc5ecb1-f853-4636-a26d-afffe7e53ab8'),\n",
       "  AIMessage(content='', additional_kwargs={}, response_metadata={'model': 'mistral-small3.2', 'created_at': '2025-10-07T11:33:49.985759Z', 'done': True, 'done_reason': 'stop', 'total_duration': 2231277750, 'load_duration': 68959583, 'prompt_eval_count': 607, 'prompt_eval_duration': 1155921875, 'eval_count': 24, 'eval_duration': 1004482958, 'model_name': 'mistral-small3.2'}, id='run-6da4258e-ba2f-486e-abb2-3dc8a5212e10-0', tool_calls=[{'name': 'tavily_search_results_json', 'args': {'query': 'NBA team most likely to win the championship this year'}, 'id': 'eb997b21-b76c-4bb2-bb32-8f5bb986de8f', 'type': 'tool_call'}], usage_metadata={'input_tokens': 607, 'output_tokens': 24, 'total_tokens': 631}),\n",
       "  ToolMessage(content='[{\"title\": \"NBA Championship Odds for Every Team Ahead of 2025-26 NBA ...\", \"url\": \"https://www.si.com/betting/nba-championship-odds-for-every-team-ahead-of-2025-26-nba-season-can-okc-repeat\", \"content\": \"OKC is a major favorite to win the title, but the Boston Celtics were in that position in the 2024-25 season and failed to make the Eastern Conference Finals.\\\\n\\\\nJust four teams have shorter than 10/1 odds to win it all in the 2025-26 season, as major injuries to Jayson Tatum, Tyrese Haliburton, Damian Lillard and Fred VanVleet have shook up the futures market – and some rosters – in the offseason. [...] Miami Heat: +25000\\\\n Toronto Raptors: +30000\\\\n Sacramento Kings: +50000\\\\n Phoenix Suns: +60000\\\\n New Orleans Pelicans: +60000\\\\n Chicago Bulls: +80000\\\\n Portland Trail Blazers: +80000\\\\n Washington Wizards: +100000\\\\n Charlotte Hornets: +100000\\\\n Brooklyn Nets: +100000\\\\n Utah Jazz: +100000 [...] Oklahoma City Thunder: +245\\\\n Denver Nuggets: +650\\\\n Cleveland Cavaliers: +800\\\\n New York Knicks: +850\\\\n Houston Rockets: +1000\\\\n Minnesota Timberwolves: +1300\\\\n Los Angeles Lakers: +1400\\\\n Golden State Warriors: +1900\\\\n Los Angeles Clippers: +2000\\\\n Orlando Magic: +2200\\\\n Dallas Mavericks: +3000\\\\n Philadelphia 76ers: +3500\\\\n Atlanta Hawks: +4500\\\\n Milwaukee Bucks: +5000\\\\n San Antonio Spurs: +6500\\\\n Detroit Pistons: +7000\\\\n Boston Celtics: +8000\\\\n Indiana Pacers: +13000\\\\n Memphis Grizzlies: +20000\", \"score\": 0.74807674}, {\"title\": \"2024-25 NBA Championship odds: Favorites and lines to win NBA ...\", \"url\": \"https://www.foxsports.com/articles/nba/2024-25-nba-championship-odds-favorites-and-lines-to-win-nba-finals\", \"content\": \"# 2024-25 NBA Championship odds: Favorites and lines to win NBA Finals\\\\n\\\\nUpdated Jun. 22, 2025 12:39 p.m. ET\\\\n\\\\nshare\\\\n\\\\nfacebookxredditlink\\\\n\\\\n \\\\n\\\\nData Skrive\\\\n\\\\nWho will lift the Larry O\\'Brien Championship Trophy to close the NBA season? The Thunder are the favorites to win the title in 2025, with current odds of -325.\\\\n\\\\nKeep up with the 2024-25 NBA season on FOX!\\\\n\\\\n### Pacers beat Thunder 108-91, How are they doing this? | Breakfast Ball [...] The Indiana Pacers beat down the Oklahoma City Thunder 108-91 in Game 6 of the NBA Finals, and have forced the first Game 7 in the Finals since 2016. Danny Parkins, Mark Schlereth, and Eddie House ask how the Pacers keep winning, and if they can beat the Thunder to win the title.\\\\n\\\\n## 2024-25 NBA Championship Odds\\\\n\\\\n|  | Odds to Win |\\\\n --- |\\\\n| Thunder | -325 |\\\\n| Pacers | +260 |\\\\n\\\\n## Upcoming NBA Games\\\\n\\\\nView the full 2024-25 NBA season schedule. [...] 1. ### Victor Wembanyama scores season-high 38 points as Spurs stun Suns 132-121### Victor Wembanyama already wowing NBA: \\'He\\'s going to be the best to ever play this game\\'### NBA Champions by Year: Complete list of NBA Finals winners\\\\n2. ### 2025 NBA preseason schedule: Dates, times, channels, how to watch### NBA MVPs: Complete list of award winners by year### NBA Roundtable: Which team has been the biggest surprise of the season so far?\", \"score\": 0.7445268}, {\"title\": \"NBA Futures - 2025-26 NBA Finals Champion Odds - ESPN\", \"url\": \"https://www.espn.com/nba/futures\", \"content\": \"| Oklahoma City ThunderOKC+205 |\\\\n| Cleveland CavaliersCLE+650 |\\\\n| Denver NuggetsDEN+750 |\\\\n| New York KnicksNY+1000 |\\\\n| Houston RocketsHOU+1200 |\\\\n| Los Angeles LakersLAL+1300 |\\\\n| Orlando MagicORL+1500 |\\\\n| LA ClippersLAC+1800 |\\\\n| Minnesota TimberwolvesMIN+1800 |\\\\n| Atlanta HawksATL+2800 |\\\\n| Golden State WarriorsGS+2800 |\\\\n| Boston CelticsBOS+3300 |\\\\n| Dallas MavericksDAL+3300 |\\\\n| Philadelphia 76ersPHI+3300 |\\\\n| Detroit PistonsDET+4000 |\\\\n\\\\n| TEAMODDS | [...] 2025-10-04T02:00ZOpenSpreadTotalML\\\\n\\\\nPhoenix SunsSunsPHX\\\\n\\\\n(0-0)\\\\n\\\\n(0-0)\\\\n\\\\no218.5\\\\n\\\\n-115\\\\n\\\\n+1.5\\\\n\\\\n-110o219.5\\\\n\\\\n-115-120\\\\n\\\\nLos Angeles LakersLakersLAL\\\\n\\\\n(0-0)\\\\n\\\\n(0-0)\\\\n\\\\n-2.5\\\\n\\\\n-115\\\\n\\\\n-1.5\\\\n\\\\n-125u219.5\\\\n\\\\n-115-120\\\\n\\\\n2025-10-04T15:00ZOpenSpreadTotalML\\\\n\\\\nNew York KnicksKnicksNY\\\\n\\\\n(1-0)\\\\n\\\\n(1-0)\\\\n\\\\n-7.5\\\\n\\\\n-115\\\\n\\\\n-7.5\\\\n\\\\n-115o217.5\\\\n\\\\n-115-320\\\\n\\\\nPhiladelphia 76ers76ersPHI\\\\n\\\\n(0-1)\\\\n\\\\n(0-1)\\\\n\\\\nu217.5\\\\n\\\\n-115\\\\n\\\\n-115u217.5\\\\n\\\\n-115\\\\n\\\\n### NBA News\\\\n\\\\n## What are the most-searched sports movies of all time? [...] | Milwaukee BucksMIL+6000 |\\\\n| San Antonio SpursSA+6000 |\\\\n| Indiana PacersIND+8000 |\\\\n| Memphis GrizzliesMEM+10000 |\\\\n| Miami HeatMIA+12500 |\\\\n| Toronto RaptorsTOR+15000 |\\\\n| New Orleans PelicansNO+50000 |\\\\n| Chicago BullsCHI+50000 |\\\\n| Phoenix SunsPHX+50000 |\\\\n| Portland Trail BlazersPOR+50000 |\\\\n| Sacramento KingsSAC+50000 |\\\\n| Brooklyn NetsBKN+100000 |\\\\n| Utah JazzUTAH+100000 |\\\\n| Washington WizardsWSH+100000 |\\\\n| Charlotte HornetsCHA+100000 |\\\\n\\\\nLooking for odds for this week’s NBA?\\\\n\\\\nNBA Odds\\\\n\\\\nOdds by\", \"score\": 0.6937432}, {\"title\": \"2025-26 NBA Season Win Totals Predictions with Odds and Expert ...\", \"url\": \"https://www.docsports.com/2025/nba-season-win-totals-predictions.html\", \"content\": \"The Warriors are the oldest team in the league, and expecting dominance for an entire season is not realistic. Steph Curry still has plenty to offer at 37 years old, but his eyes are set on another championship, not regular-season success. Signing Al Horford didn’t do much to change this trend, although it will be fun to see his partnership with Draymond Green blossom. The Dubs will be an exciting team this year, but at 45.5 wins, the only choice is UNDER.\\\\n\\\\nHouston Rockets: 52.5 Wins [...] Cleveland Cavaliers: 56.5 Wins\\\\n\\\\nCleveland is the best team in the East and will dominate the conference this season. No one else has the same combination of depth and top-end talent, and the Cavaliers will be big favorites on a nightly basis. They already proved they can put it all together with a 64-18 record last season, and I see no reason why they can’t come close to that total again this year. OVER\\\\n\\\\nDallas Mavericks: 41.5 Wins [...] This is a sky-high total, but we will still take the over on Oklahoma City. Their lengthy list of young talent will allow them to stay fresh throughout the year, and there is no reason to expect any regression from their 68-win campaign last year. Hangovers are much easier to overcome for younger players, and the championship hangover for OKC will be nonexistent heading into the new year. OVER\\\\n\\\\nOrlando Magic: 50.5 Wins\", \"score\": 0.6892434}, {\"title\": \"NBA predictions 2025-26: East and West conference champions ...\", \"url\": \"https://www.espn.com/nba/story/_/id/46079120/nba-predictions-2025-26-expert-picks-predictions-western-eastern-conference-finals-champions\", \"content\": \"Who has a shot at the championship? Predictions for 2025-26 NBA conference and Finals winners\\\\n\\\\nOrlando Magic\\\\n\\\\n4dNBA insiders\\\\n\\\\nBucks bring back Giannis\\' brother on 1-year deal\\\\n\\\\nMilwaukee Bucks\\\\n\\\\n5h\\\\n\\\\nDoncic\\'s rare Euro triple-double carries Slovenia\\\\n\\\\nLos Angeles Lakers\\\\n\\\\n2h\\\\n\\\\nLin retires after living \\'wildest childhood dreams\\'\\\\n\\\\nGolden State Warriors\\\\n\\\\n7h\\\\n\\\\nSchröder subjected to racial abuse at EuroBasket\\\\n\\\\nSacramento Kings\\\\n\\\\n1d\\\\n\\\\nStaley met with Knicks, would\\'ve taken HC job\\\\n\\\\nNew York Knicks [...] However, the 2023 champion Nuggets are seen as the biggest challenger to the Thunder\\'s repeat. After pushing Oklahoma City to seven games in the West semifinals, Denver maneuvered this summer to provide Nikola Jokic the deepest supporting cast of his career. The Thunder proved last season that previous experience of a deep playoff run is not a prerequisite to win a championship. The Cavaliers hope to make a similar breakthrough for the East, having kept their core four together despite a [...] This season, the Oklahoma City Thunder will look to become the first back-to-back champions since 2018 and break the streak of seven straight different champions, but there will be plenty of challengers.\", \"score\": 0.57894874}]', name='tavily_search_results_json', id='e4606e93-f67d-476d-9409-da113ff50e35', tool_call_id='eb997b21-b76c-4bb2-bb32-8f5bb986de8f', artifact={'query': 'NBA team most likely to win the championship this year', 'follow_up_questions': None, 'answer': None, 'images': [], 'results': [{'url': 'https://www.si.com/betting/nba-championship-odds-for-every-team-ahead-of-2025-26-nba-season-can-okc-repeat', 'title': 'NBA Championship Odds for Every Team Ahead of 2025-26 NBA ...', 'content': 'OKC is a major favorite to win the title, but the Boston Celtics were in that position in the 2024-25 season and failed to make the Eastern Conference Finals.\\n\\nJust four teams have shorter than 10/1 odds to win it all in the 2025-26 season, as major injuries to Jayson Tatum, Tyrese Haliburton, Damian Lillard and Fred VanVleet have shook up the futures market – and some rosters – in the offseason. [...] Miami Heat: +25000\\n Toronto Raptors: +30000\\n Sacramento Kings: +50000\\n Phoenix Suns: +60000\\n New Orleans Pelicans: +60000\\n Chicago Bulls: +80000\\n Portland Trail Blazers: +80000\\n Washington Wizards: +100000\\n Charlotte Hornets: +100000\\n Brooklyn Nets: +100000\\n Utah Jazz: +100000 [...] Oklahoma City Thunder: +245\\n Denver Nuggets: +650\\n Cleveland Cavaliers: +800\\n New York Knicks: +850\\n Houston Rockets: +1000\\n Minnesota Timberwolves: +1300\\n Los Angeles Lakers: +1400\\n Golden State Warriors: +1900\\n Los Angeles Clippers: +2000\\n Orlando Magic: +2200\\n Dallas Mavericks: +3000\\n Philadelphia 76ers: +3500\\n Atlanta Hawks: +4500\\n Milwaukee Bucks: +5000\\n San Antonio Spurs: +6500\\n Detroit Pistons: +7000\\n Boston Celtics: +8000\\n Indiana Pacers: +13000\\n Memphis Grizzlies: +20000', 'score': 0.74807674, 'raw_content': None}, {'url': 'https://www.foxsports.com/articles/nba/2024-25-nba-championship-odds-favorites-and-lines-to-win-nba-finals', 'title': '2024-25 NBA Championship odds: Favorites and lines to win NBA ...', 'content': \"# 2024-25 NBA Championship odds: Favorites and lines to win NBA Finals\\n\\nUpdated Jun. 22, 2025 12:39 p.m. ET\\n\\nshare\\n\\nfacebookxredditlink\\n\\n \\n\\nData Skrive\\n\\nWho will lift the Larry O'Brien Championship Trophy to close the NBA season? The Thunder are the favorites to win the title in 2025, with current odds of -325.\\n\\nKeep up with the 2024-25 NBA season on FOX!\\n\\n### Pacers beat Thunder 108-91, How are they doing this? | Breakfast Ball [...] The Indiana Pacers beat down the Oklahoma City Thunder 108-91 in Game 6 of the NBA Finals, and have forced the first Game 7 in the Finals since 2016. Danny Parkins, Mark Schlereth, and Eddie House ask how the Pacers keep winning, and if they can beat the Thunder to win the title.\\n\\n## 2024-25 NBA Championship Odds\\n\\n|  | Odds to Win |\\n --- |\\n| Thunder | -325 |\\n| Pacers | +260 |\\n\\n## Upcoming NBA Games\\n\\nView the full 2024-25 NBA season schedule. [...] 1. ### Victor Wembanyama scores season-high 38 points as Spurs stun Suns 132-121### Victor Wembanyama already wowing NBA: 'He's going to be the best to ever play this game'### NBA Champions by Year: Complete list of NBA Finals winners\\n2. ### 2025 NBA preseason schedule: Dates, times, channels, how to watch### NBA MVPs: Complete list of award winners by year### NBA Roundtable: Which team has been the biggest surprise of the season so far?\", 'score': 0.7445268, 'raw_content': None}, {'url': 'https://www.espn.com/nba/futures', 'title': 'NBA Futures - 2025-26 NBA Finals Champion Odds - ESPN', 'content': '| Oklahoma City ThunderOKC+205 |\\n| Cleveland CavaliersCLE+650 |\\n| Denver NuggetsDEN+750 |\\n| New York KnicksNY+1000 |\\n| Houston RocketsHOU+1200 |\\n| Los Angeles LakersLAL+1300 |\\n| Orlando MagicORL+1500 |\\n| LA ClippersLAC+1800 |\\n| Minnesota TimberwolvesMIN+1800 |\\n| Atlanta HawksATL+2800 |\\n| Golden State WarriorsGS+2800 |\\n| Boston CelticsBOS+3300 |\\n| Dallas MavericksDAL+3300 |\\n| Philadelphia 76ersPHI+3300 |\\n| Detroit PistonsDET+4000 |\\n\\n| TEAMODDS | [...] 2025-10-04T02:00ZOpenSpreadTotalML\\n\\nPhoenix SunsSunsPHX\\n\\n(0-0)\\n\\n(0-0)\\n\\no218.5\\n\\n-115\\n\\n+1.5\\n\\n-110o219.5\\n\\n-115-120\\n\\nLos Angeles LakersLakersLAL\\n\\n(0-0)\\n\\n(0-0)\\n\\n-2.5\\n\\n-115\\n\\n-1.5\\n\\n-125u219.5\\n\\n-115-120\\n\\n2025-10-04T15:00ZOpenSpreadTotalML\\n\\nNew York KnicksKnicksNY\\n\\n(1-0)\\n\\n(1-0)\\n\\n-7.5\\n\\n-115\\n\\n-7.5\\n\\n-115o217.5\\n\\n-115-320\\n\\nPhiladelphia 76ers76ersPHI\\n\\n(0-1)\\n\\n(0-1)\\n\\nu217.5\\n\\n-115\\n\\n-115u217.5\\n\\n-115\\n\\n### NBA News\\n\\n## What are the most-searched sports movies of all time? [...] | Milwaukee BucksMIL+6000 |\\n| San Antonio SpursSA+6000 |\\n| Indiana PacersIND+8000 |\\n| Memphis GrizzliesMEM+10000 |\\n| Miami HeatMIA+12500 |\\n| Toronto RaptorsTOR+15000 |\\n| New Orleans PelicansNO+50000 |\\n| Chicago BullsCHI+50000 |\\n| Phoenix SunsPHX+50000 |\\n| Portland Trail BlazersPOR+50000 |\\n| Sacramento KingsSAC+50000 |\\n| Brooklyn NetsBKN+100000 |\\n| Utah JazzUTAH+100000 |\\n| Washington WizardsWSH+100000 |\\n| Charlotte HornetsCHA+100000 |\\n\\nLooking for odds for this week’s NBA?\\n\\nNBA Odds\\n\\nOdds by', 'score': 0.6937432, 'raw_content': None}, {'url': 'https://www.docsports.com/2025/nba-season-win-totals-predictions.html', 'title': '2025-26 NBA Season Win Totals Predictions with Odds and Expert ...', 'content': 'The Warriors are the oldest team in the league, and expecting dominance for an entire season is not realistic. Steph Curry still has plenty to offer at 37 years old, but his eyes are set on another championship, not regular-season success. Signing Al Horford didn’t do much to change this trend, although it will be fun to see his partnership with Draymond Green blossom. The Dubs will be an exciting team this year, but at 45.5 wins, the only choice is UNDER.\\n\\nHouston Rockets: 52.5 Wins [...] Cleveland Cavaliers: 56.5 Wins\\n\\nCleveland is the best team in the East and will dominate the conference this season. No one else has the same combination of depth and top-end talent, and the Cavaliers will be big favorites on a nightly basis. They already proved they can put it all together with a 64-18 record last season, and I see no reason why they can’t come close to that total again this year. OVER\\n\\nDallas Mavericks: 41.5 Wins [...] This is a sky-high total, but we will still take the over on Oklahoma City. Their lengthy list of young talent will allow them to stay fresh throughout the year, and there is no reason to expect any regression from their 68-win campaign last year. Hangovers are much easier to overcome for younger players, and the championship hangover for OKC will be nonexistent heading into the new year. OVER\\n\\nOrlando Magic: 50.5 Wins', 'score': 0.6892434, 'raw_content': None}, {'url': 'https://www.espn.com/nba/story/_/id/46079120/nba-predictions-2025-26-expert-picks-predictions-western-eastern-conference-finals-champions', 'title': 'NBA predictions 2025-26: East and West conference champions ...', 'content': \"Who has a shot at the championship? Predictions for 2025-26 NBA conference and Finals winners\\n\\nOrlando Magic\\n\\n4dNBA insiders\\n\\nBucks bring back Giannis' brother on 1-year deal\\n\\nMilwaukee Bucks\\n\\n5h\\n\\nDoncic's rare Euro triple-double carries Slovenia\\n\\nLos Angeles Lakers\\n\\n2h\\n\\nLin retires after living 'wildest childhood dreams'\\n\\nGolden State Warriors\\n\\n7h\\n\\nSchröder subjected to racial abuse at EuroBasket\\n\\nSacramento Kings\\n\\n1d\\n\\nStaley met with Knicks, would've taken HC job\\n\\nNew York Knicks [...] However, the 2023 champion Nuggets are seen as the biggest challenger to the Thunder's repeat. After pushing Oklahoma City to seven games in the West semifinals, Denver maneuvered this summer to provide Nikola Jokic the deepest supporting cast of his career. The Thunder proved last season that previous experience of a deep playoff run is not a prerequisite to win a championship. The Cavaliers hope to make a similar breakthrough for the East, having kept their core four together despite a [...] This season, the Oklahoma City Thunder will look to become the first back-to-back champions since 2018 and break the streak of seven straight different champions, but there will be plenty of challengers.\", 'score': 0.57894874, 'raw_content': None}], 'response_time': 1.98, 'request_id': '2a291002-ca1e-47f7-b5dc-8e194162c829'}),\n",
       "  AIMessage(content=\"Based on the latest NBA championship odds and expert predictions, the Oklahoma City Thunder are currently the favorites to win the title in the 2025-26 season. They have the shortest odds at +205, indicating they are the most likely team to win the championship this year. The Thunder are seen as strong contenders due to their young talent and the experience gained from their deep playoff run last season.\\n\\nOther top contenders include the Cleveland Cavaliers, Denver Nuggets, and New York Knicks, but none have the same favorable odds as the Thunder. The Cavaliers are considered the best team in the East and are expected to dominate the conference, while the Nuggets are seen as the biggest challenger to the Thunder's repeat.\\n\\nFor more detailed odds and predictions, you can check out the sources:\\n- [SI.com](https://www.si.com/betting/nba-championship-odds-for-every-team-ahead-of-2025-26-nba-season-can-okc-repeat)\\n- [Fox Sports](https://www.foxsports.com/articles/nba/2024-25-nba-championship-odds-favorites-and-lines-to-win-nba-finals)\\n- [ESPN](https://www.espn.com/nba/futures)\", additional_kwargs={}, response_metadata={'model': 'mistral-small3.2', 'created_at': '2025-10-07T11:34:22.568712Z', 'done': True, 'done_reason': 'stop', 'total_duration': 30213010084, 'load_duration': 75262125, 'prompt_eval_count': 3129, 'prompt_eval_duration': 14195771292, 'eval_count': 268, 'eval_duration': 15926911917, 'model_name': 'mistral-small3.2'}, id='run-ede8c0f2-4f7b-430e-bc15-50dd7db478f9-0', usage_metadata={'input_tokens': 3129, 'output_tokens': 268, 'total_tokens': 3397})]}"
      ]
     },
     "execution_count": 30,
     "metadata": {},
     "output_type": "execute_result"
    }
   ],
   "source": [
    "agent_executor.invoke({\"messages\": [HumanMessage(\"What is the team from NBA most likely to win the championship this year?\")]})"
   ]
  }
 ],
 "metadata": {
  "kernelspec": {
   "display_name": "oreilly-agents",
   "language": "python",
   "name": "python3"
  },
  "language_info": {
   "codemirror_mode": {
    "name": "ipython",
    "version": 3
   },
   "file_extension": ".py",
   "mimetype": "text/x-python",
   "name": "python",
   "nbconvert_exporter": "python",
   "pygments_lexer": "ipython3",
   "version": "3.11.11"
  }
 },
 "nbformat": 4,
 "nbformat_minor": 4
}
