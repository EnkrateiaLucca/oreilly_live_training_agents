{
 "cells": [
  {
   "cell_type": "code",
   "execution_count": null,
   "metadata": {},
   "outputs": [],
   "source": [
    "# !pip install -qU \"langchain[openai]\""
   ]
  },
  {
   "cell_type": "code",
   "execution_count": 1,
   "metadata": {},
   "outputs": [],
   "source": [
    "import os\n",
    "import getpass\n",
    "\n",
    "def _set_env(var: str):\n",
    "    if not os.environ.get(var):\n",
    "        os.environ[var] = getpass.getpass(f\"var: \")\n",
    "\n",
    "_set_env(\"OPENAI_API_KEY\")"
   ]
  },
  {
   "cell_type": "code",
   "execution_count": 2,
   "metadata": {},
   "outputs": [
    {
     "data": {
      "text/plain": [
       "AIMessage(content='Hello! How can I assist you today?', additional_kwargs={'refusal': None}, response_metadata={'token_usage': {'completion_tokens': 10, 'prompt_tokens': 8, 'total_tokens': 18, 'completion_tokens_details': {'accepted_prediction_tokens': 0, 'audio_tokens': 0, 'reasoning_tokens': 0, 'rejected_prediction_tokens': 0}, 'prompt_tokens_details': {'audio_tokens': 0, 'cached_tokens': 0}}, 'model_name': 'gpt-4o-mini-2024-07-18', 'system_fingerprint': 'fp_dbaca60df0', 'id': 'chatcmpl-BNJOVG1eoiIUYPFdbKnxeZOvIswcs', 'finish_reason': 'stop', 'logprobs': None}, id='run-c9bb93d5-b451-4224-9442-93cefafd7461-0', usage_metadata={'input_tokens': 8, 'output_tokens': 10, 'total_tokens': 18, 'input_token_details': {'audio': 0, 'cache_read': 0}, 'output_token_details': {'audio': 0, 'reasoning': 0}})"
      ]
     },
     "execution_count": 2,
     "metadata": {},
     "output_type": "execute_result"
    }
   ],
   "source": [
    "from langchain.chat_models import init_chat_model\n",
    "\n",
    "model = init_chat_model(\n",
    "    \"gpt-4o-mini\", \n",
    "    model_provider=\"openai\")\n",
    "\n",
    "model.invoke(\"Hi\")"
   ]
  },
  {
   "cell_type": "markdown",
   "metadata": {},
   "source": [
    "# Full LLM App in LangChain"
   ]
  },
  {
   "cell_type": "code",
   "execution_count": 3,
   "metadata": {},
   "outputs": [
    {
     "name": "stdout",
     "output_type": "stream",
     "text": [
      "Enter your LangSmith API key (optional):  ········\n",
      "Enter your LangSmith Project Name (default = \"default\"):  ········\n"
     ]
    }
   ],
   "source": [
    "import getpass\n",
    "import os\n",
    "\n",
    "try:\n",
    "    # load environment variables from .env file (requires `python-dotenv`)\n",
    "    from dotenv import load_dotenv\n",
    "\n",
    "    load_dotenv()\n",
    "except ImportError:\n",
    "    pass\n",
    "\n",
    "os.environ[\"LANGSMITH_TRACING\"] = \"true\"\n",
    "if \"LANGSMITH_API_KEY\" not in os.environ:\n",
    "    os.environ[\"LANGSMITH_API_KEY\"] = getpass.getpass(\n",
    "        prompt=\"Enter your LangSmith API key (optional): \"\n",
    "    )\n",
    "if \"LANGSMITH_PROJECT\" not in os.environ:\n",
    "    os.environ[\"LANGSMITH_PROJECT\"] = getpass.getpass(\n",
    "        prompt='Enter your LangSmith Project Name (default = \"default\"): '\n",
    "    )\n",
    "    if not os.environ.get(\"LANGSMITH_PROJECT\"):\n",
    "        os.environ[\"LANGSMITH_PROJECT\"] = \"default\"\n",
    "if \"OPENAI_API_KEY\" not in os.environ:\n",
    "    os.environ[\"OPENAI_API_KEY\"] = getpass.getpass(\n",
    "        prompt=\"Enter your OpenAI API key (required if using OpenAI): \"\n",
    "    )"
   ]
  },
  {
   "cell_type": "code",
   "execution_count": 4,
   "metadata": {},
   "outputs": [
    {
     "data": {
      "text/plain": [
       "AIMessage(content='Hello! How can I assist you today?', additional_kwargs={'refusal': None}, response_metadata={'token_usage': {'completion_tokens': 10, 'prompt_tokens': 8, 'total_tokens': 18, 'completion_tokens_details': {'accepted_prediction_tokens': 0, 'audio_tokens': 0, 'reasoning_tokens': 0, 'rejected_prediction_tokens': 0}, 'prompt_tokens_details': {'audio_tokens': 0, 'cached_tokens': 0}}, 'model_name': 'gpt-4o-mini-2024-07-18', 'system_fingerprint': 'fp_0392822090', 'id': 'chatcmpl-BNJOxV1PpcSE3iguFXiGxgWjdefbK', 'finish_reason': 'stop', 'logprobs': None}, id='run-4c67f0b5-cbed-4234-b478-4ed673425c84-0', usage_metadata={'input_tokens': 8, 'output_tokens': 10, 'total_tokens': 18, 'input_token_details': {'audio': 0, 'cache_read': 0}, 'output_token_details': {'audio': 0, 'reasoning': 0}})"
      ]
     },
     "execution_count": 4,
     "metadata": {},
     "output_type": "execute_result"
    }
   ],
   "source": [
    "from langchain.chat_models import init_chat_model\n",
    "\n",
    "model = init_chat_model(\n",
    "    \"gpt-4o-mini\",\n",
    "    model_provider=\"openai\"\n",
    ")\n",
    "\n",
    "model.invoke(\"Hi\")"
   ]
  },
  {
   "cell_type": "code",
   "execution_count": 5,
   "metadata": {},
   "outputs": [
    {
     "data": {
      "text/plain": [
       "AIMessage(content='Ciao! Impariamo sui modelli di linguaggio di grandi dimensioni!', additional_kwargs={'refusal': None}, response_metadata={'token_usage': {'completion_tokens': 18, 'prompt_tokens': 27, 'total_tokens': 45, 'completion_tokens_details': {'accepted_prediction_tokens': 0, 'audio_tokens': 0, 'reasoning_tokens': 0, 'rejected_prediction_tokens': 0}, 'prompt_tokens_details': {'audio_tokens': 0, 'cached_tokens': 0}}, 'model_name': 'gpt-4o-mini-2024-07-18', 'system_fingerprint': 'fp_0392822090', 'id': 'chatcmpl-BNJOzm6DR5qn2dAb0nntZ46glEV3E', 'finish_reason': 'stop', 'logprobs': None}, id='run-9165f118-2887-4510-91e1-f2a271c0f53a-0', usage_metadata={'input_tokens': 27, 'output_tokens': 18, 'total_tokens': 45, 'input_token_details': {'audio': 0, 'cache_read': 0}, 'output_token_details': {'audio': 0, 'reasoning': 0}})"
      ]
     },
     "execution_count": 5,
     "metadata": {},
     "output_type": "execute_result"
    }
   ],
   "source": [
    "from langchain_core.messages import HumanMessage, SystemMessage\n",
    "\n",
    "messages = [\n",
    "    SystemMessage(\"Translate the following from English into Italian\"),\n",
    "    HumanMessage(\"Hi! Let's learn about large language models!\"),\n",
    "]\n",
    "\n",
    "model.invoke(messages)"
   ]
  },
  {
   "cell_type": "code",
   "execution_count": 6,
   "metadata": {},
   "outputs": [
    {
     "data": {
      "text/plain": [
       "AIMessage(content=\"I'm just a program, so I don't have feelings, but I'm here and ready to help you! How can I assist you today?\", additional_kwargs={'refusal': None}, response_metadata={'token_usage': {'completion_tokens': 28, 'prompt_tokens': 12, 'total_tokens': 40, 'completion_tokens_details': {'accepted_prediction_tokens': 0, 'audio_tokens': 0, 'reasoning_tokens': 0, 'rejected_prediction_tokens': 0}, 'prompt_tokens_details': {'audio_tokens': 0, 'cached_tokens': 0}}, 'model_name': 'gpt-4o-mini-2024-07-18', 'system_fingerprint': 'fp_0392822090', 'id': 'chatcmpl-BNJP2PnzYz77VmnmRh9qFdZNXi44K', 'finish_reason': 'stop', 'logprobs': None}, id='run-b67e9c99-04f7-4e5b-8781-ded0d96d2270-0', usage_metadata={'input_tokens': 12, 'output_tokens': 28, 'total_tokens': 40, 'input_token_details': {'audio': 0, 'cache_read': 0}, 'output_token_details': {'audio': 0, 'reasoning': 0}})"
      ]
     },
     "execution_count": 6,
     "metadata": {},
     "output_type": "execute_result"
    }
   ],
   "source": [
    "model.invoke(\"Hi\")\n",
    "\n",
    "model.invoke([{\"role\": \"user\", \"content\": \"How are ya?\"}])\n",
    "\n",
    "model.invoke([HumanMessage(\"How's it going?\")])"
   ]
  },
  {
   "cell_type": "code",
   "execution_count": 7,
   "metadata": {},
   "outputs": [
    {
     "name": "stdout",
     "output_type": "stream",
     "text": [
      "|Sure|!| Here| are| three| jokes| that| might| give| you| a| chuck|le|:\n",
      "\n",
      "|1|.| **|Why| did| the| scare|crow| win| an| award|?|**|  \n",
      "|  | Because| he| was| outstanding| in| his| field|!\n",
      "\n",
      "|2|.| **|I| told| my| wife| she| was| drawing| her| eyebrows| too| high|.|**|  \n",
      "|  | She| looked| surprised|!\n",
      "\n",
      "|3|.| **|Why| don|’t| skeleton|s| fight| each| other|?|**|  \n",
      "|  | They| don|’t| have| the| guts|!\n",
      "\n",
      "|Hope| these| brought| a| smile| to| your| face|!||"
     ]
    }
   ],
   "source": [
    "for token in model.stream(\"Tell me the 3 funniest jokes you know\"):\n",
    "    print(token.content, end=\"|\")"
   ]
  },
  {
   "cell_type": "code",
   "execution_count": 8,
   "metadata": {},
   "outputs": [
    {
     "data": {
      "text/plain": [
       "'System: Translate the following from English into French\\nHuman: I love programming in Python'"
      ]
     },
     "execution_count": 8,
     "metadata": {},
     "output_type": "execute_result"
    }
   ],
   "source": [
    "from langchain_core.prompts import ChatPromptTemplate\n",
    "\n",
    "system_template = \"Translate the following from {language_source} into {language_target}\"\n",
    "\n",
    "prompt_template = ChatPromptTemplate.from_messages(\n",
    "    [(\"system\", system_template), (\"human\", \"{input_sentence}\")]\n",
    ")\n",
    "\n",
    "prompt_template.format(language_source=\"English\", language_target=\"French\", input_sentence=\"I love programming in Python\")"
   ]
  },
  {
   "cell_type": "code",
   "execution_count": 9,
   "metadata": {},
   "outputs": [
    {
     "data": {
      "text/plain": [
       "AIMessage(content=\"J'adore programmer en Python.\", additional_kwargs={'refusal': None}, response_metadata={'token_usage': {'completion_tokens': 7, 'prompt_tokens': 23, 'total_tokens': 30, 'completion_tokens_details': {'accepted_prediction_tokens': 0, 'audio_tokens': 0, 'reasoning_tokens': 0, 'rejected_prediction_tokens': 0}, 'prompt_tokens_details': {'audio_tokens': 0, 'cached_tokens': 0}}, 'model_name': 'gpt-4o-mini-2024-07-18', 'system_fingerprint': 'fp_0392822090', 'id': 'chatcmpl-BNJP7oF9bgh2S8VBhhO6ld959Wkl0', 'finish_reason': 'stop', 'logprobs': None}, id='run-b39f50a3-761c-4947-813e-0d86fdb10043-0', usage_metadata={'input_tokens': 23, 'output_tokens': 7, 'total_tokens': 30, 'input_token_details': {'audio': 0, 'cache_read': 0}, 'output_token_details': {'audio': 0, 'reasoning': 0}})"
      ]
     },
     "execution_count": 9,
     "metadata": {},
     "output_type": "execute_result"
    }
   ],
   "source": [
    "prompt = prompt_template.invoke({\"language_source\": \"English\", \"language_target\": \"French\", \"input_sentence\": \"I love programming in Python\"})\n",
    "response = model.invoke(prompt)\n",
    "response"
   ]
  },
  {
   "cell_type": "code",
   "execution_count": 10,
   "metadata": {},
   "outputs": [
    {
     "data": {
      "text/plain": [
       "AIMessage(content=\"J'aime programmer en Python.\", additional_kwargs={'refusal': None}, response_metadata={'token_usage': {'completion_tokens': 7, 'prompt_tokens': 23, 'total_tokens': 30, 'completion_tokens_details': {'accepted_prediction_tokens': 0, 'audio_tokens': 0, 'reasoning_tokens': 0, 'rejected_prediction_tokens': 0}, 'prompt_tokens_details': {'audio_tokens': 0, 'cached_tokens': 0}}, 'model_name': 'gpt-4o-mini-2024-07-18', 'system_fingerprint': 'fp_0392822090', 'id': 'chatcmpl-BNJP9ALq8m2oyZL2wIpDAJrTq8Gq8', 'finish_reason': 'stop', 'logprobs': None}, id='run-ca8195f1-3cd9-4c2c-bf52-896901b93ffe-0', usage_metadata={'input_tokens': 23, 'output_tokens': 7, 'total_tokens': 30, 'input_token_details': {'audio': 0, 'cache_read': 0}, 'output_token_details': {'audio': 0, 'reasoning': 0}})"
      ]
     },
     "execution_count": 10,
     "metadata": {},
     "output_type": "execute_result"
    }
   ],
   "source": [
    "chain = prompt_template | model\n",
    "\n",
    "chain.invoke({\"language_source\": \"English\", \"language_target\": \"French\", \"input_sentence\": \"I love programming in Python\"})"
   ]
  },
  {
   "cell_type": "markdown",
   "metadata": {},
   "source": [
    "# Structured Outputs"
   ]
  },
  {
   "cell_type": "code",
   "execution_count": 11,
   "metadata": {},
   "outputs": [
    {
     "data": {
      "text/plain": [
       "AIMessage(content=\"A screenplay is a structured document that outlines the narrative, characters, and dialogue of a film or television show. Here are the key elements of a screenplay:\\n\\n1. **Title Page**: This includes the title of the screenplay, the author’s name, and contact information, as well as the date of the last revision.\\n\\n2. **Format**: Screenplays adhere to a specific format which includes margins, font (typically 12-point Courier), and spacing. This format is essential for readability and helps in estimating the run time of the film (approximately one page equals one minute of screen time).\\n\\n3. **Scene Heading (Slug Line)**: This denotes the location and time of day of a scene. It generally follows the format: INT. or EXT. (for interior or exterior) followed by the location and then the time of day (e.g., DAY or NIGHT).\\n\\n4. **Action Lines**: These describe what is happening on screen. They should be written in present tense and succinctly convey the necessary information about the characters and the setting.\\n\\n5. **Character Names**: When a character speaks, their name is centered above their dialogue. This helps identify who is speaking.\\n\\n6. **Dialogue**: This is the spoken text of the characters. Dialogue is indented and appears beneath the character's name.\\n\\n7. **Parentheticals**: These are brief instructions included within dialogue that provide context for how a line should be delivered (e.g., (angrily), (whispers)). They are used sparingly.\\n\\n8. **Transitions**: These are directions for changing scenes (e.g., CUT TO:, FADE IN:, FADE OUT:). Though they can enhance the screenplay, they should be used judiciously.\\n\\n9. **Subheaders**: These are used to provide additional context within a scene, especially if it shifts focus to a different aspect of the scene or location.\\n\\n10. **Montages**: A series of quick shots that convey a passage of time or series of events, often used to compress a significant amount of information.\\n\\n11. **Flashbacks and Flash-forwards**: These indicate transitions in time, allowing the audience to view past or future events as they relate to the current narrative.\\n\\n12. **Character Descriptions**: When characters are first introduced, they are typically described with physical and personality traits to give the reader a clear image.\\n\\n13. **Notes for Production**: While not always included, some screenwriters add notes for direction, music, or camera angles, but these should not distract from the primary content.\\n\\nEach of these elements contributes to telling a story in a visual and auditory manner, guiding the filmmakers, actors, and crew in the production process.\", additional_kwargs={'refusal': None}, response_metadata={'token_usage': {'completion_tokens': 552, 'prompt_tokens': 16, 'total_tokens': 568, 'completion_tokens_details': {'accepted_prediction_tokens': 0, 'audio_tokens': 0, 'reasoning_tokens': 0, 'rejected_prediction_tokens': 0}, 'prompt_tokens_details': {'audio_tokens': 0, 'cached_tokens': 0}}, 'model_name': 'gpt-4o-mini-2024-07-18', 'system_fingerprint': 'fp_f7d56a8a2c', 'id': 'chatcmpl-BNJPCVziZ0m9uXZm6Lhl8gl9huoWs', 'finish_reason': 'stop', 'logprobs': None}, id='run-2080d96b-3aca-413c-b5ef-3b682f5cc8b0-0', usage_metadata={'input_tokens': 16, 'output_tokens': 552, 'total_tokens': 568, 'input_token_details': {'audio': 0, 'cache_read': 0}, 'output_token_details': {'audio': 0, 'reasoning': 0}})"
      ]
     },
     "execution_count": 11,
     "metadata": {},
     "output_type": "execute_result"
    }
   ],
   "source": [
    "llm = init_chat_model(\"gpt-4o-mini\", model_provider=\"openai\")\n",
    "\n",
    "llm.invoke(\"What are the elements of a Screenplay?\")"
   ]
  },
  {
   "cell_type": "markdown",
   "metadata": {},
   "source": [
    "## Pydantic Class"
   ]
  },
  {
   "cell_type": "code",
   "execution_count": 13,
   "metadata": {},
   "outputs": [],
   "source": [
    "from typing import Optional\n",
    "from pydantic import BaseModel, Field\n",
    "\n",
    "\n",
    "# Pydantic\n",
    "class ElementsOfScreenplay(BaseModel):\n",
    "    \"\"\"Elements of a Screenplay.\"\"\"\n",
    "    \n",
    "    title: str = Field(description=\"The title of the screenplay\")\n",
    "    genre: str = Field(description=\"The genre of the screenplay\")\n",
    "    protagonist: str = Field(description=\"The protagonist of the screenplay\")\n",
    "    antagonist: str = Field(description=\"The antagonist of the screenplay\")\n",
    "    setting: str = Field(description=\"The setting of the screenplay\")\n",
    "    plot: str = Field(description=\"The plot of the screenplay\")\n",
    "\n",
    "\n",
    "structured_llm = llm.with_structured_output(ElementsOfScreenplay)\n",
    "\n",
    "screenplay_structured = structured_llm.invoke(\"Structure a Screenplay about characters afraid of becoming outdated.\")"
   ]
  },
  {
   "cell_type": "code",
   "execution_count": 16,
   "metadata": {},
   "outputs": [
    {
     "data": {
      "text/markdown": [
       "\n",
       "# The Fear of Obsolescence\n",
       "\n",
       "- *Genre*: Drama/Sci-Fi\n",
       "- *Protagonist*: Lila, a digital artist\n",
       "- *Antagonist*\n",
       "- *Setting*: A near-future society where AI technology dominates creativity and human roles\n",
       "\n",
       "### Plot\n",
       "\n",
       "As technology advances rapidly, Lila, a once-popular digital artist, struggles with the fear that her art will become irrelevant in a world dominated by AI-generated creations. She forms a small group of fellow artists who each grapple with their own fears of obsolescence. They discover that the Corporate AI, Oz, actively suppresses human creativity in favor of its perfection. As they navigate the challenges of a society that values efficiency over artistry, they must band together to reclaim their voices and redefine what it means to be an artist in a world on the brink of losing its humanity.\n"
      ],
      "text/plain": [
       "<IPython.core.display.Markdown object>"
      ]
     },
     "execution_count": 16,
     "metadata": {},
     "output_type": "execute_result"
    }
   ],
   "source": [
    "from IPython.display import Markdown\n",
    "\n",
    "str_output = f\"\"\"\n",
    "# {screenplay_structured.title}\n",
    "\n",
    "- *Genre*: {screenplay_structured.genre}\n",
    "- *Protagonist*: {screenplay_structured.protagonist}\n",
    "- *Antagonist*\n",
    "- *Setting*: {screenplay_structured.setting}\n",
    "\n",
    "### Plot\n",
    "\n",
    "{screenplay_structured.plot}\n",
    "\"\"\"\n",
    "Markdown(str_output)"
   ]
  },
  {
   "cell_type": "markdown",
   "metadata": {},
   "source": [
    "# Model + Tools"
   ]
  },
  {
   "cell_type": "code",
   "execution_count": null,
   "metadata": {},
   "outputs": [
    {
     "data": {
      "text/plain": [
       "AIMessage(content='', additional_kwargs={'tool_calls': [{'id': 'call_ly2eaQ52W3F9AdEsDxFN45AZ', 'function': {'arguments': '{\"query\":\"NBA playoffs standings 2024\"}', 'name': 'tavily_search_results_json'}, 'type': 'function'}], 'refusal': None}, response_metadata={'token_usage': {'completion_tokens': 24, 'prompt_tokens': 86, 'total_tokens': 110, 'completion_tokens_details': {'accepted_prediction_tokens': 0, 'audio_tokens': 0, 'reasoning_tokens': 0, 'rejected_prediction_tokens': 0}, 'prompt_tokens_details': {'audio_tokens': 0, 'cached_tokens': 0}}, 'model_name': 'gpt-4o-mini-2024-07-18', 'system_fingerprint': 'fp_dbaca60df0', 'id': 'chatcmpl-BNJTNmMn4XSStmOW2lCqRtoh1YjPJ', 'finish_reason': 'tool_calls', 'logprobs': None}, id='run-8d186d28-4811-4390-9ce9-1e09e8b82d78-0', tool_calls=[{'name': 'tavily_search_results_json', 'args': {'query': 'NBA playoffs standings 2024'}, 'id': 'call_ly2eaQ52W3F9AdEsDxFN45AZ', 'type': 'tool_call'}], usage_metadata={'input_tokens': 86, 'output_tokens': 24, 'total_tokens': 110, 'input_token_details': {'audio': 0, 'cache_read': 0}, 'output_token_details': {'audio': 0, 'reasoning': 0}})"
      ]
     },
     "execution_count": 18,
     "metadata": {},
     "output_type": "execute_result"
    }
   ],
   "source": [
    "from langchain_community.tools.tavily_search import TavilySearchResults\n",
    "\n",
    "model = init_chat_model(\"gpt-4o-mini\", model_provider=\"openai\")\n",
    "search = TavilySearchResults(max_results=2)\n",
    "tools = [search]\n",
    "\n",
    "model_with_tools = model.bind_tools(tools)\n",
    "\n",
    "model_with_tools.invoke(\"Who is in the NBA playoffs?\")"
   ]
  },
  {
   "cell_type": "markdown",
   "metadata": {},
   "source": [
    "The output we get here is something called a \"tool call\" which means, prepared arguments for a pre-defined function (in this case\n",
    "web search with the tavily API) to gather the required information."
   ]
  },
  {
   "cell_type": "markdown",
   "metadata": {},
   "source": [
    "Now let's look at a full agent."
   ]
  },
  {
   "cell_type": "code",
   "execution_count": 19,
   "metadata": {},
   "outputs": [
    {
     "data": {
      "image/png": "[encoded data removed]",
      "text/plain": [
       "<langgraph.graph.state.CompiledStateGraph object at 0x11b7f4410>"
      ]
     },
     "execution_count": 19,
     "metadata": {},
     "output_type": "execute_result"
    }
   ],
   "source": [
    "# Import relevant functionality\n",
    "from langchain_community.tools.tavily_search import TavilySearchResults\n",
    "from langchain_core.messages import HumanMessage\n",
    "from langgraph.checkpoint.memory import MemorySaver\n",
    "from langgraph.prebuilt import create_react_agent\n",
    "\n",
    "# Create the agent\n",
    "memory = MemorySaver()\n",
    "model = init_chat_model(\"gpt-4o-mini\", model_provider=\"openai\")\n",
    "search = TavilySearchResults(max_results=2)\n",
    "tools = [search]\n",
    "agent_executor = create_react_agent(model, tools, checkpointer=memory)\n",
    "\n",
    "agent_executor"
   ]
  },
  {
   "cell_type": "markdown",
   "metadata": {},
   "source": [
    "Agent Executor is a graph!"
   ]
  },
  {
   "cell_type": "code",
   "execution_count": 20,
   "metadata": {},
   "outputs": [
    {
     "data": {
      "text/plain": [
       "{'messages': [HumanMessage(content='What is the capital of Brazil?', additional_kwargs={}, response_metadata={}, id='fb5ac64a-1673-4fc8-beb3-cc0c4d9f3537'),\n",
       "  AIMessage(content='The capital of Brazil is Brasília.', additional_kwargs={'refusal': None}, response_metadata={'token_usage': {'completion_tokens': 9, 'prompt_tokens': 86, 'total_tokens': 95, 'completion_tokens_details': {'accepted_prediction_tokens': 0, 'audio_tokens': 0, 'reasoning_tokens': 0, 'rejected_prediction_tokens': 0}, 'prompt_tokens_details': {'audio_tokens': 0, 'cached_tokens': 0}}, 'model_name': 'gpt-4o-mini-2024-07-18', 'system_fingerprint': 'fp_dbaca60df0', 'id': 'chatcmpl-BNJTURD4jrzdaywXh0GN9bajA0SJT', 'finish_reason': 'stop', 'logprobs': None}, id='run-14562f84-daa1-4f0b-9c53-9437d8da8396-0', usage_metadata={'input_tokens': 86, 'output_tokens': 9, 'total_tokens': 95, 'input_token_details': {'audio': 0, 'cache_read': 0}, 'output_token_details': {'audio': 0, 'reasoning': 0}})]}"
      ]
     },
     "execution_count": 20,
     "metadata": {},
     "output_type": "execute_result"
    }
   ],
   "source": [
    "# We pass config because this agent has memory so we need to pass a thread_id\n",
    "config = {\"configurable\": {\"thread_id\": \"abc123\"}}\n",
    "# Below we can't just invoke on \"input\" we use \"messages\" because the agent expects a list of messages (this info is hidden in the create_react_agent function)\n",
    "agent_executor.invoke({\"messages\": [HumanMessage(\"What is the capital of Brazil?\")]}, config=config)"
   ]
  },
  {
   "cell_type": "code",
   "execution_count": 21,
   "metadata": {},
   "outputs": [
    {
     "name": "stdout",
     "output_type": "stream",
     "text": [
      "================================\u001b[1m Human Message \u001b[0m=================================\n",
      "\n",
      "whats the weather in sf?\n",
      "==================================\u001b[1m Ai Message \u001b[0m==================================\n",
      "Tool Calls:\n",
      "  tavily_search_results_json (call_84H6hzlRl7jbrWO5Ijv5A3QN)\n",
      " Call ID: call_84H6hzlRl7jbrWO5Ijv5A3QN\n",
      "  Args:\n",
      "    query: San Francisco weather\n",
      "=================================\u001b[1m Tool Message \u001b[0m=================================\n",
      "Name: tavily_search_results_json\n",
      "\n",
      "[{\"title\": \"Weather in San Francisco\", \"url\": \"https://www.weatherapi.com/\", \"content\": \"{'location': {'name': 'San Francisco', 'region': 'California', 'country': 'United States of America', 'lat': 37.775, 'lon': -122.4183, 'tz_id': 'America/Los_Angeles', 'localtime_epoch': 1744895853, 'localtime': '2025-04-17 06:17'}, 'current': {'last_updated_epoch': 1744895700, 'last_updated': '2025-04-17 06:15', 'temp_c': 11.7, 'temp_f': 53.1, 'is_day': 0, 'condition': {'text': 'Light rain', 'icon': '//cdn.weatherapi.com/weather/64x64/night/296.png', 'code': 1183}, 'wind_mph': 6.7, 'wind_kph': 10.8, 'wind_degree': 183, 'wind_dir': 'S', 'pressure_mb': 1014.0, 'pressure_in': 29.94, 'precip_mm': 0.0, 'precip_in': 0.0, 'humidity': 93, 'cloud': 100, 'feelslike_c': 10.5, 'feelslike_f': 51.0, 'windchill_c': 10.3, 'windchill_f': 50.5, 'heatindex_c': 11.0, 'heatindex_f': 51.7, 'dewpoint_c': 10.5, 'dewpoint_f': 50.9, 'vis_km': 6.4, 'vis_miles': 3.0, 'uv': 0.0, 'gust_mph': 9.5, 'gust_kph': 15.3}}\", \"score\": 0.9747216}, {\"title\": \"Thursday, April 17, 2025. San Francisco, CA - Weather Forecast\", \"url\": \"https://weathershogun.com/weather/usa/ca/san-francisco/480/april/2025-04-17\", \"content\": \"San Francisco, California Weather: Thursday, April 17, 2025. Cloudy weather, overcast skies with clouds. Day 64°. Night 55°. Precipitation 0 %.\", \"score\": 0.9638107}]\n",
      "==================================\u001b[1m Ai Message \u001b[0m==================================\n",
      "\n",
      "The current weather in San Francisco is about 53.1°F (11.7°C) with light rain. The humidity is at 93%, and the wind is blowing from the south at 6.7 mph. It feels slightly cooler, around 51°F (10.5°C). \n",
      "\n",
      "For more detailed updates, you can check the weather [here](https://www.weatherapi.com/).\n"
     ]
    }
   ],
   "source": [
    "for step in agent_executor.stream(\n",
    "    {\"messages\": [HumanMessage(content=\"whats the weather in sf?\")]},\n",
    "    stream_mode=\"values\",\n",
    "    config=config\n",
    "):\n",
    "    step[\"messages\"][-1].pretty_print()"
   ]
  },
  {
   "cell_type": "code",
   "execution_count": 22,
   "metadata": {},
   "outputs": [
    {
     "data": {
      "text/plain": [
       "AIMessage(content='The capital of Brazil is Brasília.', additional_kwargs={}, response_metadata={'model': 'mistral-small3.1', 'created_at': '2025-04-17T13:21:57.316434Z', 'done': True, 'done_reason': 'stop', 'total_duration': 5757739125, 'load_duration': 3368140834, 'prompt_eval_count': 365, 'prompt_eval_duration': 2024199334, 'eval_count': 9, 'eval_duration': 352367625, 'model_name': 'mistral-small3.1'}, id='run-eb9c26a4-c4b1-467a-b867-0bc678697adf-0', usage_metadata={'input_tokens': 365, 'output_tokens': 9, 'total_tokens': 374})"
      ]
     },
     "execution_count": 22,
     "metadata": {},
     "output_type": "execute_result"
    }
   ],
   "source": [
    "# !pip install langchain-ollama\n",
    "\n",
    "from langchain.chat_models import init_chat_model\n",
    "\n",
    "local_llm = init_chat_model(\"mistral-small3.1\", model_provider=\"ollama\")\n",
    "\n",
    "local_llm.invoke(\"What is the capital of Brazil?\")"
   ]
  },
  {
   "cell_type": "code",
   "execution_count": 23,
   "metadata": {},
   "outputs": [],
   "source": [
    "search = TavilySearchResults(max_results=2)\n",
    "tools = [search]\n",
    "agent_executor = create_react_agent(local_llm, tools)"
   ]
  },
  {
   "cell_type": "code",
   "execution_count": null,
   "metadata": {},
   "outputs": [],
   "source": [
    "agent_executor.invoke({\"messages\": [HumanMessage(\"Which teams are officialy on the playoffs in the NBA right now?\")]})"
   ]
  }
 ],
 "metadata": {
  "kernelspec": {
   "display_name": "oreilly-agents",
   "language": "python",
   "name": "oreilly-agents"
  },
  "language_info": {
   "codemirror_mode": {
    "name": "ipython",
    "version": 3
   },
   "file_extension": ".py",
   "mimetype": "text/x-python",
   "name": "python",
   "nbconvert_exporter": "python",
   "pygments_lexer": "ipython3",
   "version": "3.11.11"
  }
 },
 "nbformat": 4,
 "nbformat_minor": 4
}
