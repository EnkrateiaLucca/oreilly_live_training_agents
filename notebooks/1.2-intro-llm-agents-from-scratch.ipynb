{
 "cells": [
  {
   "cell_type": "markdown",
   "metadata": {},
   "source": [
    "# Why Agents?"
   ]
  },
  {
   "cell_type": "markdown",
   "metadata": {},
   "source": [
    "What is an agent?\n",
    "\n",
    "An agent is a reference to combining models that can perform some kind of reasoning, like large language models (e.g ChatGPT, Llama2, Mistral, etc...) with tools to give it access to the real world,\n",
    "so they can do things like browsing the internet, buying stuff, etc..."
   ]
  },
  {
   "cell_type": "markdown",
   "metadata": {},
   "source": [
    "Ok, so, why is there so much hype around agents right now?\n",
    "\n",
    "Because Agents are cool! Recently with the advance of LLMs, we've seen them become an amazing tool to do all sorts of things like building apps, browse the internet and more.\n",
    "\n"
   ]
  },
  {
   "cell_type": "markdown",
   "metadata": {},
   "source": [
    "SOme neat examples of these kinds of agents can be found in here:\n",
    "\n",
    "- [AutoGPT](https://github.com/Significant-Gravitas/AutoGPT)\n",
    "- [GPT-Engineer](https://github.com/gpt-engineer-org/gpt-engineer)\n",
    "- [BabyAGI](https://github.com/yoheinakajima/babyagi)\n",
    "\n",
    "Now, today although they seem extremely powerful, agents are still at a very early stage in terms of readiness to deploy as products, something you can atest by listening to Andrej Karpathy talk about agents in this talk here:\n",
    "\n",
    "- [Karpathy on Agents](https://www.youtube.com/watch?v=fqVLjtvWgq8)"
   ]
  },
  {
   "cell_type": "markdown",
   "metadata": {},
   "source": [
    "This live-training is all about! Getting you excited about this amazing new technology, understanding it from the ground up but with a focus on practical applications and fun stuff you can do with them! "
   ]
  },
  {
   "cell_type": "markdown",
   "metadata": {},
   "source": [
    "# What is an Agent?"
   ]
  },
  {
   "cell_type": "markdown",
   "metadata": {},
   "source": [
    "An agent is nothing more than some entity that can _think_ and _act_, that's right, in a way you're an agent! \n",
    "\n",
    "After all you can think and act on those thoughts like in the case of coming to this live-training:\n",
    "\n",
    "- Thought: \"I want to learn about agents\"\n",
    "\n",
    "- Action: \"Go to the internet and research cool platforms where I can learn about agents\"\n",
    "\n",
    "- Thought: \"O'Reilly has some awesome courses and live-trainings\"\n",
    "\n",
    "- Action: \"Look up O'Reilly courses\"\n",
    "\n",
    "- Thought: \"Live-trainings by instructor Lucas are awesome\"\n",
    "\n",
    "- Action: \"Schedule live-training about agents with instructor Lucas Soares\" (lol)\n",
    "\n",
    "In a way this is a simplified rendition of what brought you here, obviously not necessarily in this particular order nor these particular sets of thought and action pairs. This particular way of thinking about how to structure thoughts and actions is well represented in the paper: [ReACT](https://arxiv.org/pdf/2210.03629.pdf). \n",
    "\n",
    "With regards to LLMs, how can bring this idea to fruition thinking about the LLM model as the reasoning and thinking engine?\n",
    "\n",
    "We can start simple and just call the openai API to start:"
   ]
  },
  {
   "cell_type": "code",
   "execution_count": null,
   "metadata": {},
   "outputs": [],
   "source": [
    "%pip install openai"
   ]
  },
  {
   "cell_type": "code",
   "execution_count": null,
   "metadata": {},
   "outputs": [],
   "source": [
    "# uncomment this if running locally\n",
    "#!pip install python-dotenv\n",
    "# from dotenv import load_dotenv\n",
    "\n",
    "# load_dotenv()\n",
    "\n",
    "# Or if you are in Colab, uncoment below and add your api key\n",
    "import os\n",
    "os.environ[\"OPENAI_API_KEY\"] = \"your-api-key\""
   ]
  },
  {
   "cell_type": "code",
   "execution_count": 1,
   "metadata": {},
   "outputs": [
    {
     "data": {
      "text/markdown": [
       "Why did the bald teacher bring a mirror to explain agents to his wonderful students?\n",
       "\n",
       "Because he wanted to show them how \"reflection\" works in decision-making!"
      ],
      "text/plain": [
       "<IPython.core.display.Markdown object>"
      ]
     },
     "execution_count": 1,
     "metadata": {},
     "output_type": "execute_result"
    }
   ],
   "source": [
    "from openai import OpenAI\n",
    "from IPython.display import Markdown\n",
    "client = OpenAI()\n",
    "\n",
    "def get_response(prompt_question):\n",
    "    response = client.chat.completions.create(\n",
    "        model=\"gpt-4o-mini\",\n",
    "        messages=[{\"role\": \"system\", \"content\": \"You are a helpful research and programming assistant\"},\n",
    "                  {\"role\": \"user\", \"content\": prompt_question}]\n",
    "    )\n",
    "    \n",
    "    return response.choices[0].message.content\n",
    "\n",
    "output = get_response(\"Create a joke about a bald teacher explaining agents to wonderful students.\")\n",
    "Markdown(output)"
   ]
  },
  {
   "cell_type": "markdown",
   "metadata": {},
   "source": [
    "Ok cool, so here we have three ideas of actions to perform:\n",
    "\n",
    "- Creating directories\n",
    "- Listing files\n",
    "- Removing files\n",
    "\n",
    "Let's transform them into functions that we could call just like in any type of Python-based application."
   ]
  },
  {
   "cell_type": "code",
   "execution_count": 2,
   "metadata": {},
   "outputs": [],
   "source": [
    "def create_directory(dir_name):\n",
    "    os.makedirs(dir_name, exist_ok=True)\n",
    "\n",
    "def create_file(filename):\n",
    "    with open(filename, 'w'):\n",
    "        pass\n",
    "\n",
    "def list_files():\n",
    "    files = os.listdir()\n",
    "    for file in files:\n",
    "        print(file)"
   ]
  },
  {
   "cell_type": "markdown",
   "metadata": {},
   "source": [
    "Now, let's imagine that we wanted to create an agent that would perform these actions for us based on some input that we give it, how can we connect models that we know and can use today like ChatGPT, with these tools that do stuff in the real world?"
   ]
  },
  {
   "cell_type": "markdown",
   "metadata": {},
   "source": [
    "To answer this question, how about we give a task to the model, and for that task we ask it to list the steps that it needs to perform to complete the task, and then for each of those steps we would ask the model to decide whether or not a function should be called to execute that task? \n",
    "\n",
    "In the famous paper ['Toolformer'](https://arxiv.org/pdf/2302.04761.pdf) they demonstrated that today's advanced LLMs like the gpt-series could teacha themselves how to properly call and use external tools!\n",
    "\n",
    "Isn't that awesome???\n",
    "\n",
    "So, let's see if we can hack our way into connecting the llm response with the functions that we want that llm to use."
   ]
  },
  {
   "cell_type": "code",
   "execution_count": null,
   "metadata": {},
   "outputs": [],
   "source": [
    "def get_response(prompt_question):\n",
    "    response = client.chat.completions.create(\n",
    "        model=\"gpt-4o-mini\",\n",
    "        messages=[{\"role\": \"system\", \"content\": \"You are a helpful research and programming assistant\"},\n",
    "                {\"role\": \"user\", \"content\": prompt_question}]\n",
    "    )\n",
    "    \n",
    "    return response.choices[0].message.content\n"
   ]
  },
  {
   "cell_type": "markdown",
   "metadata": {},
   "source": [
    "Now, how can we actually put it all together so that given a task, a model can:\n",
    "\n",
    "- Plan the task\n",
    "- Execute actions to complete the task\n",
    "- Know when to call a function\n",
    "\n",
    "\n",
    "This is actually an interesting problem, let's understand why is that the case by trying to hack our way into putting all of these together:"
   ]
  },
  {
   "cell_type": "code",
   "execution_count": 2,
   "metadata": {},
   "outputs": [
    {
     "data": {
      "text/markdown": [
       "create_directory('lucas-loves-pancakes')"
      ],
      "text/plain": [
       "<IPython.core.display.Markdown object>"
      ]
     },
     "execution_count": 2,
     "metadata": {},
     "output_type": "execute_result"
    }
   ],
   "source": [
    "def get_response(prompt_question, model=\"gpt-3.5-turbo-16k\"):\n",
    "    response = client.chat.completions.create(\n",
    "        model=model,\n",
    "        messages=[{\"role\": \"system\", \"content\": \"You are a helpful research and programming assistant\"},\n",
    "                {\"role\": \"user\", \"content\": prompt_question}]\n",
    "    )\n",
    "    \n",
    "    return response.choices[0].message.content\n",
    "\n",
    "def create_directory(dir_name):\n",
    "    os.makedirs(dir_name, exist_ok=True)\n",
    "\n",
    "def create_file(filename):\n",
    "    with open(filename, 'w'):\n",
    "        pass\n",
    "\n",
    "def list_files():\n",
    "    files = os.listdir()\n",
    "    for file in files:\n",
    "        print(file)\n",
    "\n",
    "    \n",
    "\n",
    "task_description = \"Create a folder called 'lucas-loves-pancakes'. Inside that folder, \\\n",
    "create a file called 'the-10-master-rules.md\"\n",
    "\n",
    "output = get_response(f\"\"\"Given this task: {task_description}, \\n\n",
    "                            Consider you have access to the following functions:\n",
    "                            \n",
    "    def create_directory(dir_name):\n",
    "        os.makedirs(dir_name, exist_ok=True)\n",
    "\n",
    "    def create_file():\n",
    "        with open('test.txt', 'w'):\n",
    "            pass\n",
    "\n",
    "    def list_files():\n",
    "        files = os.listdir()\n",
    "        for file in files:\n",
    "            print(file)\n",
    "    \n",
    "    Your output should be the first function to be executed to complete the task containing the necessary arguments.\n",
    "    The OUTPUT SHOULD ONLY BE THE PYTHON FUNCTION CALL and NOTHING ELSE.\n",
    "    \"\"\")\n",
    "\n",
    "Markdown(output)"
   ]
  },
  {
   "cell_type": "code",
   "execution_count": 3,
   "metadata": {},
   "outputs": [],
   "source": [
    "import os\n",
    "exec(output)"
   ]
  },
  {
   "cell_type": "code",
   "execution_count": 4,
   "metadata": {},
   "outputs": [
    {
     "name": "stdout",
     "output_type": "stream",
     "text": [
      "\u001b[1m\u001b[36m./lucas-loves-pancakes\u001b[m\u001b[m\n"
     ]
    }
   ],
   "source": [
    "!ls -d ./* | grep pancakes"
   ]
  },
  {
   "cell_type": "markdown",
   "metadata": {},
   "source": [
    "At this point we can start identifying a lot of issues with this approach despite our early sucess:\n",
    "\n",
    "- Uncertainty of model's outputs can affect our ability to reliably call the functions\n",
    "- We need more structured ways to prepare the inputs of the function calls\n",
    "- We need better ways to put everything together (just feeding the entire functions like this makes it a very clunky and non-scalable framework for more complex cases)\n",
    "\n",
    "There are many more issues but starting with these, we can now look at frameworks and see how they fix these issues and with that in mind understand what is behind their implementations!\n",
    "\n",
    "I personally think this is a much better way to understand what is going on behind agents in practice rather than just use the more higher level frameworks right of the bat!"
   ]
  },
  {
   "cell_type": "markdown",
   "metadata": {},
   "source": [
    "# OpenAI Functions"
   ]
  },
  {
   "cell_type": "markdown",
   "metadata": {},
   "source": [
    "Ok, let's first understand how [OpenAI](https://openai.com/) the company behind ChatGPT, allows for these function call implementations in its API.\n",
    "\n",
    "OpenAI implemented a [function calling API](https://platform.openai.com/docs/guides/function-calling) which is a standard way to connect their models to outside tools like in the very simple example we did above.\n",
    "\n",
    "According to their [official documentation](https://platform.openai.com/docs/guides/function-calling#:~:text=The%20basic%20sequence,to%20the%20user.) the sequence of steps for function calling is as follows:\n",
    "1. Call the model with the user query and a set of functions defined in the functions parameter.\n",
    "2. The model can choose to call one or more functions; if so, the content will be a stringified JSON object adhering to your custom schema (note: the model may hallucinate parameters).\n",
    "3. Parse the string into JSON in your code, and call your function with the provided arguments if they exist.\n",
    "4. Call the model again by appending the function response as a new message, and let the model summarize the results back to the user."
   ]
  },
  {
   "cell_type": "markdown",
   "metadata": {},
   "source": [
    "Below is an example taken from their official documentation:"
   ]
  },
  {
   "cell_type": "code",
   "execution_count": 9,
   "metadata": {},
   "outputs": [],
   "source": [
    "from openai import OpenAI\n",
    "import json\n",
    "\n",
    "client = OpenAI()"
   ]
  },
  {
   "cell_type": "markdown",
   "metadata": {},
   "source": [
    "Let's look at how our previous model with those three simple functions: `create_directory()`, `create_file()`, and `list_files()` would be implemented using OpenAI's function calling approach:"
   ]
  },
  {
   "cell_type": "code",
   "execution_count": 10,
   "metadata": {},
   "outputs": [],
   "source": [
    "import json\n",
    "import subprocess\n",
    "import json\n",
    "import os\n",
    "\n",
    "def create_directory(directory_name):\n",
    "    \"\"\"Function that creates a directory given a directory name.\"\"\"\n",
    "    os.mkdir(directory_name)\n",
    "    return json.dumps({\"directory_name\": directory_name})\n",
    "\n",
    "\n",
    "tool_create_directory = {\n",
    "    \"type\": \"function\",\n",
    "    \"function\": {\n",
    "        \"name\": \"create_directory\",\n",
    "        \"description\": \"Create a directory given a directory name.\",\n",
    "        \"parameters\": {\n",
    "            \"type\": \"object\",\n",
    "            \"properties\": {\n",
    "                \"directory_name\": {\n",
    "                    \"type\": \"string\",\n",
    "                    \"description\": \"The name of the directory to create.\",\n",
    "                }\n",
    "            },\n",
    "            \"required\": [\"directory_name\"],\n",
    "        },\n",
    "    },\n",
    "}\n",
    "\n",
    "tools = [tool_create_directory]"
   ]
  },
  {
   "cell_type": "code",
   "execution_count": 11,
   "metadata": {},
   "outputs": [
    {
     "data": {
      "text/plain": [
       "ChatCompletion(id='chatcmpl-Av4WW7GV0aJr1wW2wviNFzxtNLV9W', choices=[Choice(finish_reason='stop', index=0, logprobs=None, message=ChatCompletionMessage(content=\"A folder called 'pancakes-are-better-than-waffles' has been created.\", refusal=None, role='assistant', audio=None, function_call=None, tool_calls=None))], created=1738165448, model='gpt-4o-mini-2024-07-18', object='chat.completion', service_tier='default', system_fingerprint='fp_72ed7ab54c', usage=CompletionUsage(completion_tokens=21, prompt_tokens=74, total_tokens=95, completion_tokens_details=CompletionTokensDetails(accepted_prediction_tokens=0, audio_tokens=0, reasoning_tokens=0, rejected_prediction_tokens=0), prompt_tokens_details=PromptTokensDetails(audio_tokens=0, cached_tokens=0)))"
      ]
     },
     "execution_count": 11,
     "metadata": {},
     "output_type": "execute_result"
    }
   ],
   "source": [
    "import json\n",
    "\n",
    "def run_terminal_task():\n",
    "    messages = [\n",
    "        {\"role\": \"user\", \n",
    "         \"content\": \"Create a folder called 'pancakes-are-better-than-waffles'.\"}]\n",
    "    tools = [tool_create_directory]  \n",
    "    response = client.chat.completions.create(\n",
    "        model=\"gpt-4o-mini\",\n",
    "        messages=messages,\n",
    "        tools=tools,\n",
    "        tool_choice=\"auto\",  # auto is default, but we'll be explicit\n",
    "    )\n",
    "    response_message = response.choices[0].message\n",
    "    tool_calls = response_message.tool_calls\n",
    "    # Step 2: check if the model wanted to call a function\n",
    "    \n",
    "    if tool_calls:\n",
    "        # Step 3: call the function\n",
    "        # Note: the JSON response may not always be valid; be sure to handle errors\n",
    "        available_functions = {\n",
    "            \"create_directory\": create_directory,\n",
    "        }\n",
    "        messages.append(response_message)\n",
    "        # Step 4: send the info for each function call and function response to the model\n",
    "        for tool_call in tool_calls:\n",
    "            function_name = tool_call.function.name\n",
    "            function_to_call = available_functions[function_name]\n",
    "            function_args = json.loads(tool_call.function.arguments)\n",
    "            function_response = function_to_call(\n",
    "                directory_name=function_args.get(\"directory_name\"),\n",
    "            )\n",
    "            messages.append(\n",
    "                {\n",
    "                    \"tool_call_id\": tool_call.id,\n",
    "                    \"role\": \"tool\",\n",
    "                    \"name\": function_name,\n",
    "                    \"content\": function_response,\n",
    "                }\n",
    "            )\n",
    "        second_response = client.chat.completions.create(\n",
    "            model=\"gpt-4o-mini\",\n",
    "            messages=messages,\n",
    "        )\n",
    "        return second_response\n",
    "\n",
    "output = run_terminal_task()\n",
    "output"
   ]
  },
  {
   "cell_type": "code",
   "execution_count": 12,
   "metadata": {},
   "outputs": [
    {
     "data": {
      "text/plain": [
       "\"A folder called 'pancakes-are-better-than-waffles' has been created.\""
      ]
     },
     "execution_count": 12,
     "metadata": {},
     "output_type": "execute_result"
    }
   ],
   "source": [
    "output.choices[0].message.content"
   ]
  },
  {
   "cell_type": "code",
   "execution_count": 13,
   "metadata": {},
   "outputs": [
    {
     "name": "stdout",
     "output_type": "stream",
     "text": [
      "\u001b[1m\u001b[36mpancakes-are-better-than-waffles/\u001b[m\u001b[m\n"
     ]
    }
   ],
   "source": [
    "!ls -d */ | grep waffles"
   ]
  },
  {
   "cell_type": "markdown",
   "metadata": {},
   "source": [
    "Great! We implemented openai function calling for creating directories! We could evolve this approach but let's stop for now.\n",
    "\n",
    "See more info on these examples from OpenAI's [official cookbook](https://cookbook.openai.com/examples/how_to_call_functions_with_chat_models)."
   ]
  },
  {
   "cell_type": "markdown",
   "metadata": {},
   "source": [
    "Now, let's implement the agent loop using a few LangChain components but implementing the loop logic ourselves!\n"
   ]
  },
  {
   "cell_type": "code",
   "execution_count": 14,
   "metadata": {},
   "outputs": [
    {
     "data": {
      "text/plain": [
       "AIMessage(content='{ \"Mittens\" : \"A grey and white cat with bright green eyes\", \\n\"Muffin\": \"A fluffy orange tabby with a sweet disposition\",\\n\"Bella\": \"A sleek black cat with a shiny coat and playful personality\",\\n\"Pussycat\": \"A mischievous calico cat with a love for adventure\",\\n\"Salem\": \"A mysterious grey and white cat with piercing blue eyes\" }', additional_kwargs={}, response_metadata={'model': 'llama3.2', 'created_at': '2025-01-29T15:50:35.130048Z', 'done': True, 'done_reason': 'stop', 'total_duration': 2247062000, 'load_duration': 565237916, 'prompt_eval_count': 30, 'prompt_eval_duration': 821000000, 'eval_count': 86, 'eval_duration': 859000000, 'message': Message(role='assistant', content='', images=None, tool_calls=None)}, id='run-1a02d6bd-571b-4df3-b3b5-b8a7fd789d92-0', usage_metadata={'input_tokens': 30, 'output_tokens': 86, 'total_tokens': 116})"
      ]
     },
     "execution_count": 14,
     "metadata": {},
     "output_type": "execute_result"
    }
   ],
   "source": [
    "from langchain_ollama import ChatOllama\n",
    "\n",
    "llm_structured_output = ChatOllama(model=\"llama3.2\", format=\"json\", temperature=0)\n",
    "\n",
    "llm_structured_output.invoke(\"Output names of cats!\")"
   ]
  },
  {
   "cell_type": "code",
   "execution_count": 15,
   "metadata": {},
   "outputs": [
    {
     "data": {
      "text/plain": [
       "'Folder path was created at: lucas-test-agents'"
      ]
     },
     "execution_count": 15,
     "metadata": {},
     "output_type": "execute_result"
    }
   ],
   "source": [
    "import os\n",
    "\n",
    "def create_dir(folder_path):\n",
    "    \"\"\"\n",
    "    Creates a directory given a folder path.\n",
    "    \"\"\"\n",
    "    if not os.path.exists(folder_path):\n",
    "        os.mkdir(folder_path)\n",
    "    \n",
    "    return f\"Folder path was created at: {folder_path}\"\n",
    "\n",
    "\n",
    "create_dir(\"lucas-test-agents\")"
   ]
  },
  {
   "cell_type": "code",
   "execution_count": 16,
   "metadata": {},
   "outputs": [
    {
     "name": "stdout",
     "output_type": "stream",
     "text": [
      "\u001b[1m\u001b[36mlucas-test-agents/\u001b[m\u001b[m\n"
     ]
    }
   ],
   "source": [
    "!ls -d */ | grep test-agents"
   ]
  },
  {
   "cell_type": "code",
   "execution_count": 17,
   "metadata": {},
   "outputs": [
    {
     "data": {
      "text/plain": [
       "'A file was created at: ./lucas-test-agents/file-text.txt'"
      ]
     },
     "execution_count": 17,
     "metadata": {},
     "output_type": "execute_result"
    }
   ],
   "source": [
    "def create_file(file_path, contents=\"\"):\n",
    "    \"\"\"\n",
    "    Creates a file with content.\n",
    "    If no content is provided it will create an empty file.\n",
    "    \"\"\"\n",
    "    \n",
    "    with open(file_path, \"w\") as f:\n",
    "        f.write(contents)\n",
    "    \n",
    "    return f\"A file was created at: {file_path}\"\n",
    "\n",
    "create_file(\"./lucas-test-agents/file-text.txt\", \"This is a test\")"
   ]
  },
  {
   "cell_type": "code",
   "execution_count": 18,
   "metadata": {},
   "outputs": [
    {
     "data": {
      "text/plain": [
       "'This is a test'"
      ]
     },
     "execution_count": 18,
     "metadata": {},
     "output_type": "execute_result"
    }
   ],
   "source": [
    "def read_file(file_path):\n",
    "    \"\"\"\n",
    "    Reads from file given its path.\n",
    "    \"\"\"\n",
    "    \n",
    "    with open(file_path, \"r\") as f:\n",
    "        contents = f.read()\n",
    "    \n",
    "    return contents\n",
    "\n",
    "read_file(\"./lucas-test-agents/file-text.txt\")"
   ]
  },
  {
   "cell_type": "code",
   "execution_count": 19,
   "metadata": {},
   "outputs": [],
   "source": [
    "tools = [create_dir, create_file, read_file]\n",
    "\n",
    "llm_tools = llm_structured_output.bind_tools(tools)"
   ]
  },
  {
   "cell_type": "code",
   "execution_count": 20,
   "metadata": {},
   "outputs": [],
   "source": [
    "from langchain_core.prompts import ChatPromptTemplate\n",
    "\n",
    "system_prompt = f\"\"\"\n",
    "You are an agent that helps users with desktop tasks like reading and writing files and creating directories. You either call a tool\n",
    "from the options available: create_dir, create_file or read_file, or you return a summary of the tasks performed and at the end a string: END.\n",
    "\"\"\"\n",
    "prompt_template = ChatPromptTemplate.from_messages([\n",
    "    (\"system\", system_prompt),\n",
    "    (\"human\", \"{input}\")\n",
    "])\n",
    "llm_agent = prompt_template | llm_tools"
   ]
  },
  {
   "cell_type": "code",
   "execution_count": 21,
   "metadata": {},
   "outputs": [
    {
     "data": {
      "text/plain": [
       "AIMessage(content='', additional_kwargs={}, response_metadata={'model': 'llama3.2', 'created_at': '2025-01-29T15:54:22.825689Z', 'done': True, 'done_reason': 'stop', 'total_duration': 898879958, 'load_duration': 30640417, 'prompt_eval_count': 329, 'prompt_eval_duration': 267000000, 'eval_count': 29, 'eval_duration': 286000000, 'message': Message(role='assistant', content='', images=None, tool_calls=None)}, id='run-26c781cc-febe-47ae-bf64-6bc9ca2b6f18-0', tool_calls=[{'name': 'create_file', 'args': {'contents': '', 'file_path': 'lucas-loves-pancakes.md'}, 'id': '4aaed786-d883-4c9a-a383-afd009551f0f', 'type': 'tool_call'}], usage_metadata={'input_tokens': 329, 'output_tokens': 29, 'total_tokens': 358})"
      ]
     },
     "execution_count": 21,
     "metadata": {},
     "output_type": "execute_result"
    }
   ],
   "source": [
    "llm_agent.invoke(\"Create file named lucas-loves-pancakes.md\")"
   ]
  },
  {
   "cell_type": "code",
   "execution_count": 22,
   "metadata": {},
   "outputs": [
    {
     "data": {
      "text/plain": [
       "[{'name': 'create_file',\n",
       "  'args': {'contents': '', 'file_path': './test-agent.txt'},\n",
       "  'id': 'b3e88340-8761-453e-8fde-10897e01d59d',\n",
       "  'type': 'tool_call'}]"
      ]
     },
     "execution_count": 22,
     "metadata": {},
     "output_type": "execute_result"
    }
   ],
   "source": [
    "output_tool_call = llm_agent.invoke(\"Create a file named ./test-agent.txt\")\n",
    "output_tool_call.tool_calls"
   ]
  },
  {
   "cell_type": "code",
   "execution_count": 23,
   "metadata": {},
   "outputs": [],
   "source": [
    "tool_mapping = {\n",
    "    \"create_file\": create_file,\n",
    "    \"create_dir\": create_dir,\n",
    "    \"read_file\": read_file\n",
    "}"
   ]
  },
  {
   "cell_type": "code",
   "execution_count": 24,
   "metadata": {},
   "outputs": [],
   "source": [
    "def llm_call(query, observations=[], actions_taken=[]):\n",
    "    \"\"\"\n",
    "    Calls the llm, it can return a tool call with arguments for calling different tools,\n",
    "    or an output to the user.\n",
    "    \"\"\"\n",
    "    template = \"\"\"\n",
    "    Imagine you are a simple assistant tasked with managing a file system. You have access to three tools:\n",
    "    \n",
    "    1. create_dir: Creates a new directory.\n",
    "    2. create_file: Creates a new file and optionally writes content to it.\n",
    "    3. read_file: Reads the contents of an existing file.\n",
    "\n",
    "    Based on the user input and your observations, choose an action to execute. Your action must follow these guidelines:\n",
    "    \n",
    "    * Action Guidelines *\n",
    "    1) Only one action is allowed per iteration.\n",
    "    2) Be concise and specific about what to create, write, or read.\n",
    "    3) Provide clear reasoning for your action.\n",
    "    4) Always consider the current context before taking action.\n",
    "    \n",
    "    Respond in the following format:\n",
    "    Thought: {{Your reasoning here}}\n",
    "    Action: {{Action name with parameters}}\n",
    "    \n",
    "    Available Actions:\n",
    "    - create_dir [directory_name]\n",
    "    - create_file [file_name]; [content (optional)]\n",
    "    - read_file [file_name]\n",
    "    \"\"\"\n",
    "\n",
    "    # Prepare the input for the LLM\n",
    "    prompt = f\"\"\"\n",
    "    {template}\n",
    "\n",
    "    User Query: {query}\n",
    "    Observations: {observations}\n",
    "    Actions Taken So Far: {actions_taken}\n",
    "    \"\"\"\n",
    "\n",
    "    output = llm_agent.invoke(prompt)\n",
    "\n",
    "    if output.tool_calls:\n",
    "        for tool_call in output.tool_calls:\n",
    "            function_name = tool_call[\"name\"]\n",
    "            function_args = tool_call.get(\"args\", [])  # default to empty list if \"args\" is missing\n",
    "\n",
    "            # Check if function_name exists in tool_mapping\n",
    "            if function_name not in tool_mapping:\n",
    "                print(f\"Error: Unknown function name '{function_name}'\")\n",
    "                continue\n",
    "\n",
    "            try:\n",
    "                # Attempt to call the function with the provided arguments\n",
    "                tool_output = tool_mapping[function_name](**function_args)\n",
    "                actions_taken.append(function_name)\n",
    "                observations.append(tool_output)\n",
    "            except TypeError as e:\n",
    "                # Handle errors if the number of arguments does not match the expected number for the function\n",
    "                print(f\"Error: Invalid arguments for function '{function_name}': {e}\")\n",
    "    \n",
    "    \n",
    "    return output, actions_taken, observations"
   ]
  },
  {
   "cell_type": "code",
   "execution_count": 25,
   "metadata": {},
   "outputs": [
    {
     "data": {
      "text/plain": [
       "(AIMessage(content='', additional_kwargs={}, response_metadata={'model': 'llama3.2', 'created_at': '2025-01-29T16:00:09.563409Z', 'done': True, 'done_reason': 'stop', 'total_duration': 1912807792, 'load_duration': 563661667, 'prompt_eval_count': 558, 'prompt_eval_duration': 460000000, 'eval_count': 55, 'eval_duration': 565000000, 'message': Message(role='assistant', content='', images=None, tool_calls=None)}, id='run-3d92583b-e504-4e73-8387-6f4e4eba5c77-0', tool_calls=[{'name': 'create_dir', 'args': {'folder_path': 'lucas-tests-tool-calling'}, 'id': '0a2e71c7-95b6-4a4a-b6c0-781d6117785b', 'type': 'tool_call'}], usage_metadata={'input_tokens': 558, 'output_tokens': 55, 'total_tokens': 613}),\n",
       " ['create_dir'],\n",
       " ['Folder path was created at: lucas-tests-tool-calling'])"
      ]
     },
     "execution_count": 25,
     "metadata": {},
     "output_type": "execute_result"
    }
   ],
   "source": [
    "llm_call(\"Create a folder named: lucas-tests-tool-calling\")"
   ]
  },
  {
   "cell_type": "code",
   "execution_count": 26,
   "metadata": {},
   "outputs": [
    {
     "data": {
      "text/plain": [
       "(AIMessage(content='', additional_kwargs={}, response_metadata={'model': 'llama3.2', 'created_at': '2025-01-29T16:00:27.615399Z', 'done': True, 'done_reason': 'stop', 'total_duration': 584027917, 'load_duration': 32026375, 'prompt_eval_count': 591, 'prompt_eval_duration': 130000000, 'eval_count': 41, 'eval_duration': 420000000, 'message': Message(role='assistant', content='', images=None, tool_calls=None)}, id='run-6a1677b6-7203-4d62-bb23-cfd6e732e0f4-0', tool_calls=[{'name': 'create_file', 'args': {'contents': 'Hello Lucas! You just made a tool call!', 'file_path': './lucas-tests-tool-calling/test1.txt'}, 'id': 'c733aed2-81a3-4cd9-8ac3-97a6ec0189ba', 'type': 'tool_call'}], usage_metadata={'input_tokens': 591, 'output_tokens': 41, 'total_tokens': 632}),\n",
       " ['create_dir', 'create_file'],\n",
       " ['Folder path was created at: lucas-tests-tool-calling',\n",
       "  'A file was created at: ./lucas-tests-tool-calling/test1.txt'])"
      ]
     },
     "execution_count": 26,
     "metadata": {},
     "output_type": "execute_result"
    }
   ],
   "source": [
    "llm_call(\"Create a file at: ./lucas-tests-tool-calling/test1.txt with the contents: Hello Lucas! You just made a tool call!\")"
   ]
  },
  {
   "cell_type": "code",
   "execution_count": 27,
   "metadata": {},
   "outputs": [
    {
     "data": {
      "text/plain": [
       "(AIMessage(content='', additional_kwargs={}, response_metadata={'model': 'llama3.2', 'created_at': '2025-01-29T16:00:35.620953Z', 'done': True, 'done_reason': 'stop', 'total_duration': 444725209, 'load_duration': 33339625, 'prompt_eval_count': 601, 'prompt_eval_duration': 142000000, 'eval_count': 26, 'eval_duration': 267000000, 'message': Message(role='assistant', content='', images=None, tool_calls=None)}, id='run-c3a0f114-2691-4cb6-80b3-cd63080a0d77-0', tool_calls=[{'name': 'read_file', 'args': {'file_path': './lucas-tests-tool-calling/test1.txt'}, 'id': 'e1c3c056-5a22-4922-bec3-4dd0cf6ddde8', 'type': 'tool_call'}], usage_metadata={'input_tokens': 601, 'output_tokens': 26, 'total_tokens': 627}),\n",
       " ['create_dir', 'create_file', 'read_file'],\n",
       " ['Folder path was created at: lucas-tests-tool-calling',\n",
       "  'A file was created at: ./lucas-tests-tool-calling/test1.txt',\n",
       "  'Hello Lucas! You just made a tool call!'])"
      ]
     },
     "execution_count": 27,
     "metadata": {},
     "output_type": "execute_result"
    }
   ],
   "source": [
    "llm_call(\"Read the file contents from  ./lucas-tests-tool-calling/test1.txt\")"
   ]
  },
  {
   "cell_type": "code",
   "execution_count": 28,
   "metadata": {},
   "outputs": [
    {
     "name": "stdout",
     "output_type": "stream",
     "text": [
      "content='' additional_kwargs={} response_metadata={'model': 'llama3.2', 'created_at': '2025-01-29T16:03:43.965274Z', 'done': True, 'done_reason': 'stop', 'total_duration': 581046000, 'load_duration': 34512959, 'prompt_eval_count': 572, 'prompt_eval_duration': 125000000, 'eval_count': 30, 'eval_duration': 419000000, 'message': Message(role='assistant', content='', images=None, tool_calls=None)} id='run-20cdd028-8758-4d1a-9996-356226c9061c-0' tool_calls=[{'name': 'create_dir', 'args': {'folder_path': './testing-multiple-calls'}, 'id': '2faf5536-24e3-4295-86da-139f366a1d6b', 'type': 'tool_call'}] usage_metadata={'input_tokens': 572, 'output_tokens': 30, 'total_tokens': 602}\n",
      "content='' additional_kwargs={} response_metadata={'model': 'llama3.2', 'created_at': '2025-01-29T16:03:44.80329Z', 'done': True, 'done_reason': 'stop', 'total_duration': 834996584, 'load_duration': 11996959, 'prompt_eval_count': 588, 'prompt_eval_duration': 44000000, 'eval_count': 74, 'eval_duration': 777000000, 'message': Message(role='assistant', content='', images=None, tool_calls=None)} id='run-b713f6a1-3299-4e72-9b04-5aa58f9280b8-0' tool_calls=[{'name': 'create_dir', 'args': {'folder_path': './testing-multiple-calls'}, 'id': 'a4604eed-81dc-4f4b-b6b9-c401f77157f6', 'type': 'tool_call'}] usage_metadata={'input_tokens': 588, 'output_tokens': 74, 'total_tokens': 662}\n",
      "content='' additional_kwargs={} response_metadata={'model': 'llama3.2', 'created_at': '2025-01-29T16:03:45.222607Z', 'done': True, 'done_reason': 'stop', 'total_duration': 417848833, 'load_duration': 11182458, 'prompt_eval_count': 606, 'prompt_eval_duration': 56000000, 'eval_count': 33, 'eval_duration': 348000000, 'message': Message(role='assistant', content='', images=None, tool_calls=None)} id='run-7f12e75e-e511-4e8a-8ab0-40733b60e50c-0' tool_calls=[{'name': 'create_file', 'args': {'contents': '', 'file_path': './testing-multiple-calls/nested-file.txt'}, 'id': '5e1b292c-8c3d-4112-a477-794acae9b48e', 'type': 'tool_call'}] usage_metadata={'input_tokens': 606, 'output_tokens': 33, 'total_tokens': 639}\n",
      "Breaking after 3 iterations\n"
     ]
    },
    {
     "data": {
      "text/plain": [
       "''"
      ]
     },
     "execution_count": 28,
     "metadata": {},
     "output_type": "execute_result"
    }
   ],
   "source": [
    "def agent_loop(query):\n",
    "    iter_count = 0\n",
    "    obs = []\n",
    "    acts_taken = []\n",
    "    while True:\n",
    "        output,obs,acts_taken = llm_call(query, obs, acts_taken)\n",
    "        print(output)\n",
    "        iter_count+=1\n",
    "        if iter_count>=3:\n",
    "            print(f\"Breaking after {iter_count} iterations\")\n",
    "            break\n",
    "        if output.content!=\"\":\n",
    "            break\n",
    "    \n",
    "    return output.content\n",
    "\n",
    "\n",
    "agent_loop(\"Create a folder in current directory named 'testing-multiple-calls' and inside that folder create a file named nested-file.txt\")        "
   ]
  },
  {
   "cell_type": "code",
   "execution_count": null,
   "metadata": {},
   "outputs": [
    {
     "data": {
      "text/plain": [
       "'Folder path was created at: lucas-test-agents'"
      ]
     },
     "metadata": {},
     "output_type": "display_data"
    }
   ],
   "source": [
    "import os\n",
    "\n",
    "def create_dir(folder_path):\n",
    "    \"\"\"\n",
    "    Creates a directory given a folder path.\n",
    "    \"\"\"\n",
    "    if not os.path.exists(folder_path):\n",
    "        os.mkdir(folder_path)\n",
    "    \n",
    "    return f\"Folder path was created at: {folder_path}\"\n",
    "\n",
    "\n",
    "create_dir(\"lucas-test-agents\")\n"
   ]
  },
  {
   "cell_type": "code",
   "execution_count": null,
   "metadata": {},
   "outputs": [
    {
     "name": "stdout",
     "output_type": "stream",
     "text": [
      "\u001b[1m\u001b[36mWebRover/\u001b[m\u001b[m          \u001b[1m\u001b[36mlucas-test-agents/\u001b[m\u001b[m \u001b[1m\u001b[36mreact-voice-agent/\u001b[m\u001b[m\n"
     ]
    }
   ],
   "source": [
    "!ls -d */"
   ]
  },
  {
   "cell_type": "code",
   "execution_count": null,
   "metadata": {},
   "outputs": [
    {
     "data": {
      "text/plain": [
       "'A file was created at: ./lucas-test-agents/file-text.txt'"
      ]
     },
     "metadata": {},
     "output_type": "display_data"
    }
   ],
   "source": [
    "def create_file(file_path, contents=\"\"):\n",
    "    \"\"\"\n",
    "    Creates a file with content.\n",
    "    If no content is provided it will create an empty file.\n",
    "    \"\"\"\n",
    "    \n",
    "    with open(file_path, \"w\") as f:\n",
    "        f.write(contents)\n",
    "    \n",
    "    return f\"A file was created at: {file_path}\"\n",
    "\n",
    "create_file(\"./lucas-test-agents/file-text.txt\", \"This is a test\")"
   ]
  },
  {
   "cell_type": "code",
   "execution_count": null,
   "metadata": {},
   "outputs": [
    {
     "data": {
      "text/plain": [
       "'This is a test'"
      ]
     },
     "metadata": {},
     "output_type": "display_data"
    }
   ],
   "source": [
    "def read_file(file_path):\n",
    "    \"\"\"\n",
    "    Reads from file given its path.\n",
    "    \"\"\"\n",
    "    \n",
    "    with open(file_path, \"r\") as f:\n",
    "        contents = f.read()\n",
    "    \n",
    "    return contents\n",
    "\n",
    "read_file(\"./lucas-test-agents/file-text.txt\")"
   ]
  },
  {
   "cell_type": "code",
   "execution_count": null,
   "metadata": {},
   "outputs": [],
   "source": [
    "tools = [create_dir, create_file, read_file]\n",
    "\n",
    "llm_tools = llm_structured_output.bind_tools(tools)"
   ]
  },
  {
   "cell_type": "code",
   "execution_count": null,
   "metadata": {},
   "outputs": [],
   "source": [
    "from langchain_core.prompts import ChatPromptTemplate\n",
    "system_prompt = f\"\"\"You are an agent that helps users with desktop tasks like reading and writing files and creating directories. You either call a tool\n",
    "from the options available: create_dir, create_file or read_file, or you return a summary of the tasks performed and at the end a string: END.\n",
    "\"\"\"\n",
    "prompt_template = ChatPromptTemplate.from_messages([\n",
    "    (\"system\", system_prompt),\n",
    "    (\"human\", \"{input}\")\n",
    "])\n",
    "llm_agent = prompt_template | llm_tools"
   ]
  },
  {
   "cell_type": "code",
   "execution_count": null,
   "metadata": {},
   "outputs": [
    {
     "data": {
      "text/plain": [
       "AIMessage(content='', response_metadata={'model': 'llama3.2', 'created_at': '2025-01-27T21:30:19.116521Z', 'message': {'role': 'assistant', 'content': '', 'tool_calls': [{'function': {'name': 'create_file', 'arguments': {'contents': '', 'file_path': 'lucas-locas-pancakes.md'}}}]}, 'done_reason': 'stop', 'done': True, 'total_duration': 438141625, 'load_duration': 26659959, 'prompt_eval_count': 330, 'prompt_eval_duration': 130000000, 'eval_count': 30, 'eval_duration': 279000000}, id='run-2a61ea11-f765-4ea6-842e-182bc2edb27a-0', tool_calls=[{'name': 'create_file', 'args': {'contents': '', 'file_path': 'lucas-locas-pancakes.md'}, 'id': '8d96d871-6bc1-465b-9165-38233700957e', 'type': 'tool_call'}], usage_metadata={'input_tokens': 330, 'output_tokens': 30, 'total_tokens': 360})"
      ]
     },
     "metadata": {},
     "output_type": "display_data"
    }
   ],
   "source": [
    "llm_agent.invoke(\"Create file named lucas-locas-pancakes.md\")"
   ]
  },
  {
   "cell_type": "code",
   "execution_count": null,
   "metadata": {},
   "outputs": [
    {
     "data": {
      "text/plain": [
       "[{'name': 'create_file',\n",
       "  'args': {'contents': '', 'file_path': './test-agent.txt'},\n",
       "  'id': 'ae06a878-1490-4aaa-a766-9488c5521aed',\n",
       "  'type': 'tool_call'}]"
      ]
     },
     "metadata": {},
     "output_type": "display_data"
    }
   ],
   "source": [
    "output_tool_call = llm_agent.invoke(\"Create a file named ./test-agent.txt\")\n",
    "output_tool_call.tool_calls"
   ]
  },
  {
   "cell_type": "code",
   "execution_count": null,
   "metadata": {},
   "outputs": [],
   "source": [
    "tool_mapping = {\n",
    "    \"create_file\": create_file,\n",
    "    \"create_dir\": create_dir,\n",
    "    \"read_file\": read_file\n",
    "}"
   ]
  },
  {
   "cell_type": "code",
   "execution_count": null,
   "metadata": {},
   "outputs": [],
   "source": [
    "def llm_call(query, observations=[], actions_taken=[]):\n",
    "    \"\"\"\n",
    "    Calls the llm, it can return a tool call with arguments for calling different tools,\n",
    "    or an output to the user.\n",
    "    \"\"\"\n",
    "    template = \"\"\"\n",
    "    Imagine you are a simple assistant tasked with managing a file system. You have access to three tools:\n",
    "    \n",
    "    1. create_dir: Creates a new directory.\n",
    "    2. create_file: Creates a new file and optionally writes content to it.\n",
    "    3. read_file: Reads the contents of an existing file.\n",
    "\n",
    "    Based on the user input and your observations, choose an action to execute. Your action must follow these guidelines:\n",
    "    \n",
    "    * Action Guidelines *\n",
    "    1) Only one action is allowed per iteration.\n",
    "    2) Be concise and specific about what to create, write, or read.\n",
    "    3) Provide clear reasoning for your action.\n",
    "    4) Always consider the current context before taking action.\n",
    "    \n",
    "    Respond in the following format:\n",
    "    Thought: {{Your reasoning here}}\n",
    "    Action: {{Action name with parameters}}\n",
    "    \n",
    "    Available Actions:\n",
    "    - create_dir [directory_name]\n",
    "    - create_file [file_name]; [content (optional)]\n",
    "    - read_file [file_name]\n",
    "    \"\"\"\n",
    "\n",
    "    # Prepare the input for the LLM\n",
    "    prompt = f\"\"\"\n",
    "    {template}\n",
    "\n",
    "    User Query: {query}\n",
    "    Observations: {observations}\n",
    "    Actions Taken So Far: {actions_taken}\n",
    "    \"\"\"\n",
    "\n",
    "    output = llm_agent.invoke(prompt)\n",
    "\n",
    "    if output.tool_calls:\n",
    "        for tool_call in output.tool_calls:\n",
    "            function_name = tool_call[\"name\"]\n",
    "            function_args = tool_call.get(\"args\", [])  # default to empty list if \"args\" is missing\n",
    "\n",
    "            # Check if function_name exists in tool_mapping\n",
    "            if function_name not in tool_mapping:\n",
    "                print(f\"Error: Unknown function name '{function_name}'\")\n",
    "                continue\n",
    "\n",
    "            try:\n",
    "                # Attempt to call the function with the provided arguments\n",
    "                tool_output = tool_mapping[function_name](**function_args)\n",
    "                actions_taken.append(function_name)\n",
    "                observations.append(tool_output)\n",
    "            except TypeError as e:\n",
    "                # Handle errors if the number of arguments does not match the expected number for the function\n",
    "                print(f\"Error: Invalid arguments for function '{function_name}': {e}\")\n",
    "    \n",
    "    \n",
    "    return output, actions_taken, observations"
   ]
  },
  {
   "cell_type": "code",
   "execution_count": null,
   "metadata": {},
   "outputs": [
    {
     "data": {
      "text/plain": [
       "(AIMessage(content='', response_metadata={'model': 'llama3.2', 'created_at': '2025-01-27T22:21:11.784171Z', 'message': {'role': 'assistant', 'content': '', 'tool_calls': [{'function': {'name': 'create_dir', 'arguments': {'folder_path': 'lucas-tests-tool-calling'}}}]}, 'done_reason': 'stop', 'done': True, 'total_duration': 1901656625, 'load_duration': 568133000, 'prompt_eval_count': 558, 'prompt_eval_duration': 451000000, 'eval_count': 55, 'eval_duration': 553000000}, id='run-204906b5-3c97-4285-8b54-4c376a042e9e-0', tool_calls=[{'name': 'create_dir', 'args': {'folder_path': 'lucas-tests-tool-calling'}, 'id': 'bf8293d0-58b8-4be5-b3b6-24738374640e', 'type': 'tool_call'}], usage_metadata={'input_tokens': 558, 'output_tokens': 55, 'total_tokens': 613}),\n",
       " ['create_dir'],\n",
       " ['Folder path was created at: lucas-tests-tool-calling'])"
      ]
     },
     "metadata": {},
     "output_type": "display_data"
    }
   ],
   "source": [
    "llm_call(\"Create a folder named: lucas-tests-tool-calling\")"
   ]
  },
  {
   "cell_type": "code",
   "execution_count": null,
   "metadata": {},
   "outputs": [
    {
     "data": {
      "text/plain": [
       "{'output': ('observation',\n",
       "  ['A file was created at: ./lucas-tests-tool-calling/test1.txt'])}"
      ]
     },
     "metadata": {},
     "output_type": "display_data"
    }
   ],
   "source": [
    "llm_call(\"Create a file at: ./lucas-tests-tool-calling/test1.txt with the contents: Hello Lucas! You just made a tool call!\")"
   ]
  },
  {
   "cell_type": "code",
   "execution_count": null,
   "metadata": {},
   "outputs": [
    {
     "data": {
      "text/plain": [
       "{'output': ('observation', ['Hello Lucas! You just made a tool call!'])}"
      ]
     },
     "metadata": {},
     "output_type": "display_data"
    }
   ],
   "source": [
    "llm_call(\"Read the file contents from  ./lucas-tests-tool-calling/test1.txt\")"
   ]
  },
  {
   "cell_type": "code",
   "execution_count": null,
   "metadata": {},
   "outputs": [
    {
     "name": "stdout",
     "output_type": "stream",
     "text": [
      "content='' response_metadata={'model': 'llama3.2', 'created_at': '2025-01-27T22:21:26.57492Z', 'message': {'role': 'assistant', 'content': '', 'tool_calls': [{'function': {'name': 'create_dir', 'arguments': {'folder_path': './testing-multiple-calls'}}}]}, 'done_reason': 'stop', 'done': True, 'total_duration': 566164709, 'load_duration': 32140750, 'prompt_eval_count': 572, 'prompt_eval_duration': 136000000, 'eval_count': 30, 'eval_duration': 396000000} id='run-b03dcbe3-504f-4a74-896a-9f11ba4fadb4-0' tool_calls=[{'name': 'create_dir', 'args': {'folder_path': './testing-multiple-calls'}, 'id': '8f81c62c-0e25-4a4c-a377-e6732748866c', 'type': 'tool_call'}] usage_metadata={'input_tokens': 572, 'output_tokens': 30, 'total_tokens': 602}\n",
      "content='' response_metadata={'model': 'llama3.2', 'created_at': '2025-01-27T22:21:27.36701Z', 'message': {'role': 'assistant', 'content': '', 'tool_calls': [{'function': {'name': 'create_dir', 'arguments': {'folder_path': './testing-multiple-calls'}}}]}, 'done_reason': 'stop', 'done': True, 'total_duration': 789315125, 'load_duration': 9906458, 'prompt_eval_count': 588, 'prompt_eval_duration': 43000000, 'eval_count': 74, 'eval_duration': 735000000} id='run-a4970a0d-673a-45c2-889a-e4c2fbfcdcdd-0' tool_calls=[{'name': 'create_dir', 'args': {'folder_path': './testing-multiple-calls'}, 'id': '002309e1-7422-44e6-ae68-4b1a330d03f8', 'type': 'tool_call'}] usage_metadata={'input_tokens': 588, 'output_tokens': 74, 'total_tokens': 662}\n",
      "content='' response_metadata={'model': 'llama3.2', 'created_at': '2025-01-27T22:21:27.766626Z', 'message': {'role': 'assistant', 'content': '', 'tool_calls': [{'function': {'name': 'create_file', 'arguments': {'contents': '', 'file_path': './testing-multiple-calls/nested-file.txt'}}}]}, 'done_reason': 'stop', 'done': True, 'total_duration': 396480959, 'load_duration': 10226959, 'prompt_eval_count': 606, 'prompt_eval_duration': 55000000, 'eval_count': 33, 'eval_duration': 329000000} id='run-e20f40b6-00af-4365-8f91-8d24a1030b59-0' tool_calls=[{'name': 'create_file', 'args': {'contents': '', 'file_path': './testing-multiple-calls/nested-file.txt'}, 'id': '9347418f-fc48-404d-9c64-b5faa350d463', 'type': 'tool_call'}] usage_metadata={'input_tokens': 606, 'output_tokens': 33, 'total_tokens': 639}\n",
      "Breaking after 3 iterations\n"
     ]
    },
    {
     "data": {
      "text/plain": [
       "''"
      ]
     },
     "metadata": {},
     "output_type": "display_data"
    }
   ],
   "source": [
    "def agent_loop(query):\n",
    "    iter_count = 0\n",
    "    obs = []\n",
    "    acts_taken = []\n",
    "    while True:\n",
    "        output,obs,acts_taken = llm_call(query, obs, acts_taken)\n",
    "        print(output)\n",
    "        iter_count+=1\n",
    "        if iter_count>=3:\n",
    "            print(f\"Breaking after {iter_count} iterations\")\n",
    "            break\n",
    "        if output.content!=\"\":\n",
    "            break\n",
    "    \n",
    "    return output.content\n",
    "\n",
    "\n",
    "agent_loop(\"Create a folder in current directory named 'testing-multiple-calls' and inside that folder create a file named nested-file.txt\")        "
   ]
  },
  {
   "cell_type": "markdown",
   "metadata": {},
   "source": [
    "# References\n",
    "\n",
    "- [HuggingGPT](https://github.com/microsoft/JARVIS)\n",
    "- [Gen Agents](https://arxiv.org/pdf/2304.03442.pdf)\n",
    "- [WebGPT](https://www.semanticscholar.org/paper/WebGPT%3A-Browser-assisted-question-answering-with-Nakano-Hilton/2f3efe44083af91cef562c1a3451eee2f8601d22)\n",
    "- [LangChain](https://python.langchain.com/docs/get_started/introduction)\n",
    "- [OpenAI](https://openai.com/)\n",
    "- [OpenAI Function Calling](https://platform.openai.com/docs/guides/function-calling)\n",
    "- [AutoGPT](https://github.com/Significant-Gravitas/AutoGPT)\n",
    "- [GPT-Engineer](https://github.com/gpt-engineer-org/gpt-engineer)\n",
    "- [BabyAGI](https://github.com/yoheinakajima/babyagi)\n",
    "- [Karpathy on Agents](https://www.youtube.com/watch?v=fqVLjtvWgq8)\n",
    "- [ReACT Paper](https://arxiv.org/abs/2210.03629)"
   ]
  }
 ],
 "metadata": {
  "kernelspec": {
   "display_name": "oreilly-agents",
   "language": "python",
   "name": "oreilly-agents"
  },
  "language_info": {
   "codemirror_mode": {
    "name": "ipython",
    "version": 3
   },
   "file_extension": ".py",
   "mimetype": "text/x-python",
   "name": "python",
   "nbconvert_exporter": "python",
   "pygments_lexer": "ipython3",
   "version": "3.11.9"
  }
 },
 "nbformat": 4,
 "nbformat_minor": 2
}
