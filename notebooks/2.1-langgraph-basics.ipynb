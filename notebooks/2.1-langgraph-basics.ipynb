{
 "cells": [
  {
   "cell_type": "markdown",
   "id": "a1",
   "metadata": {},
   "source": [
    "# LangGraph Basics - Building a Simple Math Agent"
   ]
  },
  {
   "cell_type": "markdown",
   "id": "a2",
   "metadata": {},
   "source": [
    "## Step 1: Import dependencies and initialize the LLM"
   ]
  },
  {
   "cell_type": "code",
   "execution_count": 1,
   "id": "bd3f980b",
   "metadata": {},
   "outputs": [],
   "source": [
    "import os\n",
    "import getpass\n",
    "\n",
    "def _set_env(var: str):\n",
    "    if not os.environ.get(var):\n",
    "        os.environ[var] = getpass.getpass(f\"var: \")\n",
    "\n",
    "_set_env(\"OPENAI_API_KEY\")"
   ]
  },
  {
   "cell_type": "code",
   "execution_count": 2,
   "id": "a3",
   "metadata": {},
   "outputs": [],
   "source": [
    "from langchain_core.tools import tool\n",
    "from langchain.chat_models import init_chat_model\n",
    "\n",
    "llm = init_chat_model(\n",
    "    \"openai:gpt-5-mini\",\n",
    ")"
   ]
  },
  {
   "cell_type": "markdown",
   "id": "a4",
   "metadata": {},
   "source": [
    "## Step 2: Define tools for arithmetic operations"
   ]
  },
  {
   "cell_type": "code",
   "execution_count": 3,
   "id": "a5",
   "metadata": {},
   "outputs": [],
   "source": [
    "@tool\n",
    "def multiply(a: int, b: int) -> int:\n",
    "    \"\"\"Multiply a and b.\n",
    "\n",
    "    Args:\n",
    "        a: first int\n",
    "        b: second int\n",
    "    \"\"\"\n",
    "    return a * b\n",
    "\n",
    "\n",
    "@tool\n",
    "def add(a: int, b: int) -> int:\n",
    "    \"\"\"Adds a and b.\n",
    "\n",
    "    Args:\n",
    "        a: first int\n",
    "        b: second int\n",
    "    \"\"\"\n",
    "    return a + b\n",
    "\n",
    "\n",
    "@tool\n",
    "def divide(a: int, b: int) -> float:\n",
    "    \"\"\"Divide a and b.\n",
    "\n",
    "    Args:\n",
    "        a: first int\n",
    "        b: second int\n",
    "    \"\"\"\n",
    "    return a / b"
   ]
  },
  {
   "cell_type": "markdown",
   "id": "a6",
   "metadata": {},
   "source": [
    "## Step 3: Bind tools to the LLM"
   ]
  },
  {
   "cell_type": "code",
   "execution_count": 4,
   "id": "a7",
   "metadata": {},
   "outputs": [],
   "source": [
    "tools = [add, multiply, divide]\n",
    "tools_by_name = {tool.name: tool for tool in tools}\n",
    "llm_with_tools = llm.bind_tools(tools)"
   ]
  },
  {
   "cell_type": "code",
   "execution_count": 7,
   "id": "f5d5f8b7",
   "metadata": {},
   "outputs": [
    {
     "data": {
      "text/plain": [
       "AIMessage(content='', additional_kwargs={'tool_calls': [{'id': 'call_he2j4NvABpVRRv4lFR23Ha7a', 'function': {'arguments': '{\"a\":3,\"b\":4}', 'name': 'add'}, 'type': 'function'}], 'refusal': None}, response_metadata={'token_usage': {'completion_tokens': 90, 'prompt_tokens': 219, 'total_tokens': 309, 'completion_tokens_details': {'accepted_prediction_tokens': 0, 'audio_tokens': 0, 'reasoning_tokens': 64, 'rejected_prediction_tokens': 0}, 'prompt_tokens_details': {'audio_tokens': 0, 'cached_tokens': 0}}, 'model_name': 'gpt-5-mini-2025-08-07', 'system_fingerprint': None, 'id': 'chatcmpl-CO4AfDFmy5wuelPTdaXbGx3NplCrl', 'finish_reason': 'tool_calls', 'logprobs': None}, id='run-4fb45dfc-f74d-42cd-8406-8d14aa4fd425-0', tool_calls=[{'name': 'add', 'args': {'a': 3, 'b': 4}, 'id': 'call_he2j4NvABpVRRv4lFR23Ha7a', 'type': 'tool_call'}], usage_metadata={'input_tokens': 219, 'output_tokens': 90, 'total_tokens': 309, 'input_token_details': {'audio': 0, 'cache_read': 0}, 'output_token_details': {'audio': 0, 'reasoning': 64}})"
      ]
     },
     "execution_count": 7,
     "metadata": {},
     "output_type": "execute_result"
    }
   ],
   "source": [
    "output_function_call = llm_with_tools.invoke(\"Add 3 and 4 using the add tool\")\n",
    "output_function_call"
   ]
  },
  {
   "cell_type": "code",
   "execution_count": 18,
   "id": "8f87d631",
   "metadata": {},
   "outputs": [
    {
     "data": {
      "text/plain": [
       "'add'"
      ]
     },
     "execution_count": 18,
     "metadata": {},
     "output_type": "execute_result"
    }
   ],
   "source": [
    "output_function_call.additional_kwargs['tool_calls'][0]['function']['name']"
   ]
  },
  {
   "cell_type": "code",
   "execution_count": 19,
   "id": "707b2286",
   "metadata": {},
   "outputs": [
    {
     "data": {
      "text/plain": [
       "'{\"a\":3,\"b\":4}'"
      ]
     },
     "execution_count": 19,
     "metadata": {},
     "output_type": "execute_result"
    }
   ],
   "source": [
    "output_function_call.additional_kwargs['tool_calls'][0]['function']['arguments']"
   ]
  },
  {
   "cell_type": "markdown",
   "id": "a8",
   "metadata": {},
   "source": [
    "## Step 4: Define the agent state"
   ]
  },
  {
   "cell_type": "code",
   "execution_count": 20,
   "id": "a9",
   "metadata": {},
   "outputs": [],
   "source": [
    "# from langgraph.graph import MessagesState\n",
    "from langchain_core.messages import AnyMessage\n",
    "from typing_extensions import TypedDict, Annotated\n",
    "import operator\n",
    "\n",
    "class MessagesState(TypedDict):\n",
    "    messages: Annotated[list[AnyMessage], operator.add]\n",
    "    llm_calls: int"
   ]
  },
  {
   "cell_type": "markdown",
   "id": "a10",
   "metadata": {},
   "source": [
    "## Step 5: Define the LLM node"
   ]
  },
  {
   "cell_type": "code",
   "execution_count": 21,
   "id": "a11",
   "metadata": {},
   "outputs": [],
   "source": [
    "from langchain_core.messages import SystemMessage\n",
    "\n",
    "def llm_call(state: dict):\n",
    "    \"\"\"LLM decides whether to call a tool or not\"\"\"\n",
    "\n",
    "    return {\n",
    "        \"messages\": [\n",
    "            llm_with_tools.invoke(\n",
    "                [\n",
    "                    SystemMessage(\n",
    "                        content=\"You are a helpful assistant tasked with performing arithmetic on a set of inputs.\"\n",
    "                    )\n",
    "                ]\n",
    "                + state[\"messages\"]\n",
    "            )\n",
    "        ],\n",
    "        \"llm_calls\": state.get('llm_calls', 0) + 1\n",
    "    }"
   ]
  },
  {
   "cell_type": "markdown",
   "id": "a12",
   "metadata": {},
   "source": [
    "## Step 6: Define the tool execution node"
   ]
  },
  {
   "cell_type": "code",
   "execution_count": 22,
   "id": "a13",
   "metadata": {},
   "outputs": [],
   "source": [
    "from langchain_core.messages import ToolMessage\n",
    "\n",
    "def tool_node(state: dict):\n",
    "    \"\"\"Performs the tool call\"\"\"\n",
    "\n",
    "    result = []\n",
    "    for tool_call in state[\"messages\"][-1].tool_calls:\n",
    "        tool = tools_by_name[tool_call[\"name\"]]\n",
    "        observation = tool.invoke(tool_call[\"args\"])\n",
    "        result.append(ToolMessage(content=observation, tool_call_id=tool_call[\"id\"]))\n",
    "    return {\"messages\": result}"
   ]
  },
  {
   "cell_type": "markdown",
   "id": "a14",
   "metadata": {},
   "source": [
    "## Step 7: Define the conditional routing logic"
   ]
  },
  {
   "cell_type": "code",
   "execution_count": 23,
   "id": "a15",
   "metadata": {},
   "outputs": [],
   "source": [
    "from typing import Literal\n",
    "from langgraph.graph import StateGraph, START, END\n",
    "\n",
    "def route_between_nodes(state: MessagesState) -> Literal[\"tool_node\", END]:\n",
    "    \"\"\"Decide if we should continue the loop or stop based upon whether the LLM made a tool call\"\"\"\n",
    "\n",
    "    messages = state[\"messages\"]\n",
    "    last_message = messages[-1]\n",
    "    # If the LLM makes a tool call, then perform an action\n",
    "    if last_message.tool_calls:\n",
    "        return \"tool_node\"\n",
    "    # Otherwise, we stop (reply to the user)\n",
    "    return END"
   ]
  },
  {
   "cell_type": "markdown",
   "id": "a16",
   "metadata": {},
   "source": [
    "## Step 8: Build the agent graph"
   ]
  },
  {
   "cell_type": "code",
   "execution_count": 25,
   "id": "a17",
   "metadata": {},
   "outputs": [],
   "source": [
    "# Build workflow\n",
    "agent_builder = StateGraph(MessagesState)\n",
    "\n",
    "# Add nodes\n",
    "agent_builder.add_node(\"llm_call\", llm_call)\n",
    "agent_builder.add_node(\"tool_node\", tool_node)\n",
    "\n",
    "# Add edges to connect nodes\n",
    "agent_builder.add_edge(START, \"llm_call\")\n",
    "agent_builder.add_conditional_edges(\n",
    "    \"llm_call\",\n",
    "    route_between_nodes,\n",
    "    [\"tool_node\", END]\n",
    ")\n",
    "agent_builder.add_edge(\"tool_node\", \"llm_call\")\n",
    "\n",
    "# Compile the agent\n",
    "agent = agent_builder.compile()"
   ]
  },
  {
   "cell_type": "markdown",
   "id": "a18",
   "metadata": {},
   "source": [
    "## Step 9: Visualize the agent graph"
   ]
  },
  {
   "cell_type": "code",
   "execution_count": 26,
   "id": "a19",
   "metadata": {},
   "outputs": [
    {
     "data": {
      "image/png": "[encoded data removed]",
      "text/plain": [
       "<IPython.core.display.Image object>"
      ]
     },
     "metadata": {},
     "output_type": "display_data"
    }
   ],
   "source": [
    "from IPython.display import Image, display\n",
    "\n",
    "display(Image(agent.get_graph(xray=True).draw_mermaid_png()))"
   ]
  },
  {
   "cell_type": "markdown",
   "id": "a20",
   "metadata": {},
   "source": [
    "## Step 10: Run the agent with a sample query"
   ]
  },
  {
   "cell_type": "code",
   "execution_count": 28,
   "id": "a21",
   "metadata": {},
   "outputs": [
    {
     "name": "stdout",
     "output_type": "stream",
     "text": [
      "================================\u001b[1m Human Message \u001b[0m=================================\n",
      "\n",
      "Multiply 200 by 2 then divide the result by 100\n",
      "==================================\u001b[1m Ai Message \u001b[0m==================================\n",
      "Tool Calls:\n",
      "  multiply (call_47273BhzrcSJCeM870sf4YHL)\n",
      " Call ID: call_47273BhzrcSJCeM870sf4YHL\n",
      "  Args:\n",
      "    a: 200\n",
      "    b: 2\n",
      "=================================\u001b[1m Tool Message \u001b[0m=================================\n",
      "\n",
      "400\n",
      "==================================\u001b[1m Ai Message \u001b[0m==================================\n",
      "Tool Calls:\n",
      "  divide (call_Xvw1RZxxj8AdOIuITqjAZzWG)\n",
      " Call ID: call_Xvw1RZxxj8AdOIuITqjAZzWG\n",
      "  Args:\n",
      "    a: 400\n",
      "    b: 100\n",
      "=================================\u001b[1m Tool Message \u001b[0m=================================\n",
      "\n",
      "4.0\n",
      "==================================\u001b[1m Ai Message \u001b[0m==================================\n",
      "\n",
      "4.0\n"
     ]
    }
   ],
   "source": [
    "from langchain_core.messages import HumanMessage\n",
    "\n",
    "messages = [HumanMessage(content=\"Multiply 200 by 2 then \\\n",
    "    divide the result by 100\")]\n",
    "messages = agent.invoke({\"messages\": messages})\n",
    "\n",
    "for m in messages[\"messages\"]:\n",
    "    m.pretty_print()"
   ]
  },
  {
   "cell_type": "code",
   "execution_count": null,
   "id": "c4b32f71",
   "metadata": {},
   "outputs": [],
   "source": [
    "from langgraph.prebuilt import create_react_agent\n",
    "from langchain.chat_models import init_chat_model\n",
    "from langchain_core.tools import tool\n",
    "\n",
    "@tool\n",
    "def add(a: int, b: int) -> int:\n",
    "    \"\"\"Adds a and b.\"\"\"\n",
    "    return a + b\n",
    "\n",
    "llm = init_chat_model(\n",
    "    \"openai:gpt-5-mini\")\n",
    "\n",
    "agent = create_react_agent(\n",
    "    model=llm,\n",
    "    tools=[add])\n",
    "\n",
    "agent.invoke({\"messages\": [HumanMessage(content=\"Add 3 and 4.\")]})"
   ]
  },
  {
   "cell_type": "code",
   "execution_count": 41,
   "id": "fdf274dd",
   "metadata": {},
   "outputs": [
    {
     "data": {
      "text/plain": [
       "{'messages': [HumanMessage(content='Multiply 200 by 2', additional_kwargs={}, response_metadata={}, id='3143b41e-c35f-4cdc-8cdb-9ab9ccbfc126'),\n",
       "  AIMessage(content='200 × 2 = 400', additional_kwargs={'refusal': None}, response_metadata={'token_usage': {'completion_tokens': 80, 'prompt_tokens': 134, 'total_tokens': 214, 'completion_tokens_details': {'accepted_prediction_tokens': 0, 'audio_tokens': 0, 'reasoning_tokens': 64, 'rejected_prediction_tokens': 0}, 'prompt_tokens_details': {'audio_tokens': 0, 'cached_tokens': 0}}, 'model_name': 'gpt-5-mini-2025-08-07', 'system_fingerprint': None, 'id': 'chatcmpl-CO4Q9MlKSR2SIEzLnQFh0cBU2Jvre', 'finish_reason': 'stop', 'logprobs': None}, id='run-42706345-aefe-4b94-a4d7-100dee428a49-0', usage_metadata={'input_tokens': 134, 'output_tokens': 80, 'total_tokens': 214, 'input_token_details': {'audio': 0, 'cache_read': 0}, 'output_token_details': {'audio': 0, 'reasoning': 64}})]}"
      ]
     },
     "execution_count": 41,
     "metadata": {},
     "output_type": "execute_result"
    }
   ],
   "source": [
    "\n",
    "@tool\n",
    "def multiply(a: int, b: int) -> int:\n",
    "    \"\"\"Multiplies a and b.\"\"\"\n",
    "    return a * b\n",
    "\n",
    "agent_2 = create_react_agent(\n",
    "    model=llm,\n",
    "    tools=[multiply],\n",
    ")\n",
    "\n",
    "agent_2.invoke({\"messages\": [HumanMessage(content=\"Multiply 200 by 2\")]})"
   ]
  },
  {
   "cell_type": "code",
   "execution_count": 43,
   "id": "4ce2ac2d",
   "metadata": {},
   "outputs": [
    {
     "data": {
      "image/png": "[encoded data removed]",
      "text/plain": [
       "<IPython.core.display.Image object>"
      ]
     },
     "execution_count": 43,
     "metadata": {},
     "output_type": "execute_result"
    }
   ],
   "source": [
    "from langgraph.graph import StateGraph, END\n",
    "\n",
    "# Define a simple state class to hold the running value\n",
    "class CalcState(dict):\n",
    "    pass\n",
    "\n",
    "# Node for add agent\n",
    "def add_node(state: CalcState):\n",
    "    # expects state[\"messages\"] to be present\n",
    "    result = agent.invoke({\"messages\": state[\"messages\"]})\n",
    "    # get the output value from the agent's response\n",
    "    # The agent returns a list of messages, the last one is the AIMessage\n",
    "    # For this example, let's extract the tool call result from the message\n",
    "    # We'll just pass the messages along for the next agent\n",
    "    return {\"messages\": result[\"messages\"]}\n",
    "\n",
    "# Node for multiply agent\n",
    "def multiply_node(state: CalcState):\n",
    "    result = agent_2.invoke({\"messages\": state[\"messages\"]})\n",
    "    return {\"messages\": result[\"messages\"]}\n",
    "\n",
    "# Build the graph\n",
    "graph = StateGraph(CalcState)\n",
    "graph.add_node(\"add\", agent)\n",
    "graph.add_node(\"multiply\", multiply_node)\n",
    "\n",
    "# For this example, let's go from add -> multiply -> END\n",
    "graph.add_edge(\"add\", \"multiply\")\n",
    "graph.add_edge(\"multiply\", END)\n",
    "\n",
    "# Set the entry point\n",
    "graph.set_entry_point(\"add\")\n",
    "\n",
    "# Compile the graph\n",
    "compiled_graph = graph.compile()\n",
    "\n",
    "Image(compiled_graph.get_graph(xray=True).draw_mermaid_png())"
   ]
  },
  {
   "cell_type": "code",
   "execution_count": null,
   "id": "e7bda314",
   "metadata": {},
   "outputs": [],
   "source": []
  }
 ],
 "metadata": {
  "kernelspec": {
   "display_name": "Python 3",
   "language": "python",
   "name": "python3"
  },
  "language_info": {
   "codemirror_mode": {
    "name": "ipython",
    "version": 3
   },
   "file_extension": ".py",
   "mimetype": "text/x-python",
   "name": "python",
   "nbconvert_exporter": "python",
   "pygments_lexer": "ipython3",
   "version": "3.11.0"
  }
 },
 "nbformat": 4,
 "nbformat_minor": 5
}
