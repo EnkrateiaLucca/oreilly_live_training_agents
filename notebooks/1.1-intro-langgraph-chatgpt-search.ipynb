{
 "cells": [
  {
   "cell_type": "markdown",
   "metadata": {},
   "source": [
    "# Intro Chatbot with Search using LangGraph"
   ]
  },
  {
   "cell_type": "code",
   "execution_count": 2,
   "metadata": {},
   "outputs": [],
   "source": [
    "from typing import Annotated\n",
    "from langchain_tavily import TavilySearch\n",
    "from langgraph.graph import StateGraph, START, END, MessagesState\n",
    "from langgraph.prebuilt import ToolNode, tools_condition\n",
    "from langchain.chat_models import init_chat_model"
   ]
  },
  {
   "cell_type": "code",
   "execution_count": 10,
   "metadata": {},
   "outputs": [],
   "source": [
    "# state where we can add messages as we update the state\n",
    "graph_builder = StateGraph(MessagesState)"
   ]
  },
  {
   "cell_type": "code",
   "execution_count": 11,
   "metadata": {},
   "outputs": [],
   "source": [
    "llm = init_chat_model(\"openai:gpt-4.1\")\n",
    "\n",
    "web_search_tool = TavilySearch(max_results=2)\n",
    "tools = [web_search_tool]\n",
    "\n",
    "llm_with_tools = llm.bind_tools(tools)\n",
    "\n",
    "\n",
    "def chatbot(state: MessagesState):\n",
    "    return {\"messages\": [llm_with_tools.invoke(state[\"messages\"])]}"
   ]
  },
  {
   "cell_type": "code",
   "execution_count": 12,
   "metadata": {},
   "outputs": [],
   "source": [
    "from typing import Literal\n",
    "from langgraph.graph import END\n",
    "# Tools condition implements this under the hood\n",
    "def should_continue(state: MessagesState) -> Literal[\"tools\", END]:\n",
    "    messages = state['messages']\n",
    "    last_message = messages[-1]\n",
    "    # If the LLM makes a tool call, then we route to the \"tools\" node\n",
    "    if last_message.tool_calls:\n",
    "        return \"tools\"\n",
    "    # Otherwise, we stop (reply to the user)\n",
    "    return END"
   ]
  },
  {
   "cell_type": "code",
   "execution_count": 13,
   "metadata": {},
   "outputs": [],
   "source": [
    "tool_node = ToolNode(tools=tools)\n",
    "\n",
    "graph_builder.add_node(\"chatbot\", chatbot)\n",
    "graph_builder.add_node(\"tools\", tool_node)\n",
    "graph_builder.add_conditional_edges(\n",
    "    \"chatbot\",\n",
    "    should_continue\n",
    ")\n",
    "\n",
    "graph_builder.add_edge(\"tools\", \"chatbot\")\n",
    "graph_builder.add_edge(START, \"chatbot\")\n",
    "graph = graph_builder.compile()"
   ]
  },
  {
   "cell_type": "code",
   "execution_count": 14,
   "metadata": {},
   "outputs": [
    {
     "data": {
      "image/png": "[encoded data removed]",
      "text/plain": [
       "<IPython.core.display.Image object>"
      ]
     },
     "metadata": {},
     "output_type": "display_data"
    }
   ],
   "source": [
    "from IPython.display import Image\n",
    "\n",
    "try:\n",
    "    display(Image(graph.get_graph().draw_mermaid_png()))\n",
    "except Exception:\n",
    "    # This requires some extra dependencies and is optional\n",
    "    pass"
   ]
  },
  {
   "cell_type": "code",
   "execution_count": 7,
   "metadata": {},
   "outputs": [
    {
     "data": {
      "text/plain": [
       "{'messages': [HumanMessage(content='IN the latest langgraph langchain announcement for their 1.0.0 version what did they said about langchain and langgraph engineering relationship? WHo now is built on top of who?', additional_kwargs={}, response_metadata={}, id='7da9bafc-5738-4765-9d86-81a6aaf7678a'),\n",
       "  AIMessage(content='', additional_kwargs={'tool_calls': [{'id': 'call_4w1Giry7yHTAYcHLaNWz7iqL', 'function': {'arguments': '{\"query\":\"LangGraph 1.0.0 announcement LangChain engineering relationship\",\"search_depth\":\"advanced\"}', 'name': 'tavily_search'}, 'type': 'function'}], 'refusal': None}, response_metadata={'token_usage': {'completion_tokens': 33, 'prompt_tokens': 807, 'total_tokens': 840, 'completion_tokens_details': {'accepted_prediction_tokens': 0, 'audio_tokens': 0, 'reasoning_tokens': 0, 'rejected_prediction_tokens': 0}, 'prompt_tokens_details': {'audio_tokens': 0, 'cached_tokens': 0}}, 'model_name': 'gpt-4.1-2025-04-14', 'system_fingerprint': 'fp_3502f4eb73', 'id': 'chatcmpl-CO3BTA7m1SEMOYg7hcZUcaPiFekl3', 'finish_reason': 'tool_calls', 'logprobs': None}, id='run-dbff81c2-db4a-4faf-8427-e39ebb505b7a-0', tool_calls=[{'name': 'tavily_search', 'args': {'query': 'LangGraph 1.0.0 announcement LangChain engineering relationship', 'search_depth': 'advanced'}, 'id': 'call_4w1Giry7yHTAYcHLaNWz7iqL', 'type': 'tool_call'}], usage_metadata={'input_tokens': 807, 'output_tokens': 33, 'total_tokens': 840, 'input_token_details': {'audio': 0, 'cache_read': 0}, 'output_token_details': {'audio': 0, 'reasoning': 0}}),\n",
       "  ToolMessage(content='{\"query\": \"LangGraph 1.0.0 announcement LangChain engineering relationship\", \"follow_up_questions\": null, \"answer\": null, \"images\": [], \"results\": [{\"url\": \"https://www.leanware.co/insights/langchain-vs-langgraph-comparison\", \"title\": \"LangChain vs LangGraph: Choosing the Right AI Framework\", \"content\": \"LangChain excels in scenarios where your AI workflow follows a predictable path: **user input → processing → model interaction → formatted output.**It\\'s the framework of choice when you need to move fast, leverage existing components, and don\\'t require complex decision trees or state persistence across interactions. Choose LangGraph when your applications require complex conditional logic or multi-step reasoning, need advanced state management beyond simple parameter passing, prioritize long-term system evolution over immediate delivery speed, have experienced AI/ML engineers on your team, and can support extended development cycles for sophisticated capabilities. Consider hybrid approaches when your system requirements include both simple and complex workflow patterns, you need to migrate from existing LangChain implementations gradually, risk mitigation through incremental adoption is important, and different system components have varying complexity requirements that align better with different frameworks.\", \"score\": 0.98529, \"raw_content\": null}, {\"url\": \"https://blog.langchain.com/langchain-langchain-1-0-alpha-releases/\", \"title\": \"LangChain & LangGraph 1.0 alpha releases\", \"content\": \"[`langgraph`](https://docs.langchain.com/oss/python/langgraph/overview?ref=blog.langchain.com&ajs_aid=b8cd24c8-45af-40a5-a7bb-4776c9c2b5d0) has been battle tested as companies like [Uber](https://www.youtube.com/watch?v=8rkA5vWUE4Y&ref=blog.langchain.com), [LinkedIn](https://www.linkedin.com/blog/engineering/ai/practical-text-to-sql-for-data-analytics?ref=blog.langchain.com), and [Klarna](https://blog.langchain.com/customers-klarna/) use it in production. It comes with a built in agent runtime ([durable execution](https://docs.langchain.com/oss/python/langgraph/durable-execution?ref=blog.langchain.com&ajs_aid=b8cd24c8-45af-40a5-a7bb-4776c9c2b5d0), [short term memory](https://docs.langchain.com/oss/python/langgraph/persistence?ref=blog.langchain.com&ajs_aid=b8cd24c8-45af-40a5-a7bb-4776c9c2b5d0), [human in the loop patterns](https://docs.langchain.com/oss/python/langchain/human-in-the-loop?ref=blog.langchain.com&ajs_aid=b8cd24c8-45af-40a5-a7bb-4776c9c2b5d0), streaming), and be used to build [arbitrary workflows](https://docs.langchain.com/oss/python/langgraph/use-graph-api?ref=blog.langchain.com&ajs_aid=b8cd24c8-45af-40a5-a7bb-4776c9c2b5d0) and agentic patterns. [`langchain`](https://docs.langchain.com/oss/javascript/langchain-overview?ref=blog.langchain.com&ajs_aid=b8cd24c8-45af-40a5-a7bb-4776c9c2b5d0) has always contained high level interfaces for getting started with different agent patterns as easily as possible. In LangChain 1.0 we are focusing the `langchain` package centered around this abstraction, and are introducing a new [`create_agent`](https://docs.langchain.com/oss/javascript/langchain/agents?ref=blog.langchain.com&ajs_aid=b8cd24c8-45af-40a5-a7bb-4776c9c2b5d0) implementation - same high level interface, different underpinning. You can read all about content blocks [here](https://docs.langchain.com/oss/python/langchain/messages?ref=blog.langchain.com&ajs_aid=b8cd24c8-45af-40a5-a7bb-4776c9c2b5d0#content). Finally - we are also launching a [new docs site](https://docs.langchain.com/oss/python/releases/langchain-v1?ref=blog.langchain.com&ajs_aid=b8cd24c8-45af-40a5-a7bb-4776c9c2b5d0) for all these open source projects. Again - please give us feedback on these 1.0 releases (and docs) [here](https://forum.langchain.com/t/langchain-1-0-alpha/1436?ref=blog.langchain.com&ajs_aid=b8cd24c8-45af-40a5-a7bb-4776c9c2b5d0).\", \"score\": 0.98521, \"raw_content\": null}], \"response_time\": 2.76, \"request_id\": \"e41de94b-f6d3-4189-8a3c-04bbc7d3a4d1\"}', name='tavily_search', id='96fdd201-5303-4254-bc3a-2923f3060017', tool_call_id='call_4w1Giry7yHTAYcHLaNWz7iqL'),\n",
       "  AIMessage(content='', additional_kwargs={'tool_calls': [{'id': 'call_kdgtD0yF7E5lr2X1BRdyBdLT', 'function': {'arguments': '{\"query\":\"LangGraph 1.0.0 announcement built on top of LangChain or reverse\",\"search_depth\":\"advanced\"}', 'name': 'tavily_search'}, 'type': 'function'}], 'refusal': None}, response_metadata={'token_usage': {'completion_tokens': 37, 'prompt_tokens': 1984, 'total_tokens': 2021, 'completion_tokens_details': {'accepted_prediction_tokens': 0, 'audio_tokens': 0, 'reasoning_tokens': 0, 'rejected_prediction_tokens': 0}, 'prompt_tokens_details': {'audio_tokens': 0, 'cached_tokens': 0}}, 'model_name': 'gpt-4.1-2025-04-14', 'system_fingerprint': 'fp_3502f4eb73', 'id': 'chatcmpl-CO3BbvETsh1kB2hxCP7k4JAdGhtBI', 'finish_reason': 'tool_calls', 'logprobs': None}, id='run-9360475f-5858-4a22-abfb-1b4b404b01ef-0', tool_calls=[{'name': 'tavily_search', 'args': {'query': 'LangGraph 1.0.0 announcement built on top of LangChain or reverse', 'search_depth': 'advanced'}, 'id': 'call_kdgtD0yF7E5lr2X1BRdyBdLT', 'type': 'tool_call'}], usage_metadata={'input_tokens': 1984, 'output_tokens': 37, 'total_tokens': 2021, 'input_token_details': {'audio': 0, 'cache_read': 0}, 'output_token_details': {'audio': 0, 'reasoning': 0}}),\n",
       "  ToolMessage(content='{\"query\": \"LangGraph 1.0.0 announcement built on top of LangChain or reverse\", \"follow_up_questions\": null, \"answer\": null, \"images\": [], \"results\": [{\"url\": \"https://medium.com/@tahirbalarabe2/️langchain-vs-langgraph-a-comparative-analysis-ce7749a80d9c\", \"title\": \"⚙️LangChain vs. LangGraph: A Comparative Analysis\", \"content\": \"If you’re building applications with large language models, you’ll likely come across two frameworks: LangChain and LangGraph. Whether you’re chaining operations or navigating complex workflows, LangChain and LangGraph give you the tools to build something great. While LangChain focuses on chaining LLM operations in a specific sequence, LangGraph is primarily designed for creating stateful, multi-agent systems. If an application needs to remember past interactions and use that information in the future, which framework, LangChain or LangGraph, would be better and why? While LangChain can pass data through the chain, it doesn’t have a persistent state feature, making it less suitable for applications requiring memory across multiple runs or dynamic workflow adjustments based on past interactions.\", \"score\": 0.98565, \"raw_content\": null}, {\"url\": \"https://blog.langchain.com/langchain-langchain-1-0-alpha-releases/\", \"title\": \"LangChain & LangGraph 1.0 alpha releases\", \"content\": \"[`langgraph`](https://docs.langchain.com/oss/python/langgraph/overview?ref=blog.langchain.com&ajs_aid=b8cd24c8-45af-40a5-a7bb-4776c9c2b5d0) has been battle tested as companies like [Uber](https://www.youtube.com/watch?v=8rkA5vWUE4Y&ref=blog.langchain.com), [LinkedIn](https://www.linkedin.com/blog/engineering/ai/practical-text-to-sql-for-data-analytics?ref=blog.langchain.com), and [Klarna](https://blog.langchain.com/customers-klarna/) use it in production. It comes with a built in agent runtime ([durable execution](https://docs.langchain.com/oss/python/langgraph/durable-execution?ref=blog.langchain.com&ajs_aid=b8cd24c8-45af-40a5-a7bb-4776c9c2b5d0), [short term memory](https://docs.langchain.com/oss/python/langgraph/persistence?ref=blog.langchain.com&ajs_aid=b8cd24c8-45af-40a5-a7bb-4776c9c2b5d0), [human in the loop patterns](https://docs.langchain.com/oss/python/langchain/human-in-the-loop?ref=blog.langchain.com&ajs_aid=b8cd24c8-45af-40a5-a7bb-4776c9c2b5d0), streaming), and be used to build [arbitrary workflows](https://docs.langchain.com/oss/python/langgraph/use-graph-api?ref=blog.langchain.com&ajs_aid=b8cd24c8-45af-40a5-a7bb-4776c9c2b5d0) and agentic patterns. [`langchain`](https://docs.langchain.com/oss/javascript/langchain-overview?ref=blog.langchain.com&ajs_aid=b8cd24c8-45af-40a5-a7bb-4776c9c2b5d0) has always contained high level interfaces for getting started with different agent patterns as easily as possible. In LangChain 1.0 we are focusing the `langchain` package centered around this abstraction, and are introducing a new [`create_agent`](https://docs.langchain.com/oss/javascript/langchain/agents?ref=blog.langchain.com&ajs_aid=b8cd24c8-45af-40a5-a7bb-4776c9c2b5d0) implementation - same high level interface, different underpinning. You can read all about content blocks [here](https://docs.langchain.com/oss/python/langchain/messages?ref=blog.langchain.com&ajs_aid=b8cd24c8-45af-40a5-a7bb-4776c9c2b5d0#content). Finally - we are also launching a [new docs site](https://docs.langchain.com/oss/python/releases/langchain-v1?ref=blog.langchain.com&ajs_aid=b8cd24c8-45af-40a5-a7bb-4776c9c2b5d0) for all these open source projects. Again - please give us feedback on these 1.0 releases (and docs) [here](https://forum.langchain.com/t/langchain-1-0-alpha/1436?ref=blog.langchain.com&ajs_aid=b8cd24c8-45af-40a5-a7bb-4776c9c2b5d0).\", \"score\": 0.98517, \"raw_content\": null}], \"response_time\": 2.97, \"request_id\": \"ee3dbe84-a1a3-4c04-bc2c-10fb230d19c7\"}', name='tavily_search', id='3883db4c-19a4-411a-bdbe-69d4288fc796', tool_call_id='call_kdgtD0yF7E5lr2X1BRdyBdLT'),\n",
       "  AIMessage(content='', additional_kwargs={'tool_calls': [{'id': 'call_0wT7JQNsVafuThHAxiA9VLoj', 'function': {'arguments': '{\"query\":\"LangGraph 1.0.0 built on top of LangChain or vice versa official statement\",\"search_depth\":\"advanced\"}', 'name': 'tavily_search'}, 'type': 'function'}], 'refusal': None}, response_metadata={'token_usage': {'completion_tokens': 39, 'prompt_tokens': 3171, 'total_tokens': 3210, 'completion_tokens_details': {'accepted_prediction_tokens': 0, 'audio_tokens': 0, 'reasoning_tokens': 0, 'rejected_prediction_tokens': 0}, 'prompt_tokens_details': {'audio_tokens': 0, 'cached_tokens': 1920}}, 'model_name': 'gpt-4.1-2025-04-14', 'system_fingerprint': 'fp_3502f4eb73', 'id': 'chatcmpl-CO3BgZtDMDzLqnGiQebmqRZ5WcpcN', 'finish_reason': 'tool_calls', 'logprobs': None}, id='run-1dec894b-01e4-4675-b302-ba8121cd24fb-0', tool_calls=[{'name': 'tavily_search', 'args': {'query': 'LangGraph 1.0.0 built on top of LangChain or vice versa official statement', 'search_depth': 'advanced'}, 'id': 'call_0wT7JQNsVafuThHAxiA9VLoj', 'type': 'tool_call'}], usage_metadata={'input_tokens': 3171, 'output_tokens': 39, 'total_tokens': 3210, 'input_token_details': {'audio': 0, 'cache_read': 1920}, 'output_token_details': {'audio': 0, 'reasoning': 0}}),\n",
       "  ToolMessage(content='{\"query\": \"LangGraph 1.0.0 built on top of LangChain or vice versa official statement\", \"follow_up_questions\": null, \"answer\": null, \"images\": [], \"results\": [{\"url\": \"https://blog.langchain.com/langchain-langchain-1-0-alpha-releases/\", \"title\": \"LangChain & LangGraph 1.0 alpha releases\", \"content\": \"[`langgraph`](https://docs.langchain.com/oss/python/langgraph/overview?ref=blog.langchain.com&ajs_aid=b8cd24c8-45af-40a5-a7bb-4776c9c2b5d0) has been battle tested as companies like [Uber](https://www.youtube.com/watch?v=8rkA5vWUE4Y&ref=blog.langchain.com), [LinkedIn](https://www.linkedin.com/blog/engineering/ai/practical-text-to-sql-for-data-analytics?ref=blog.langchain.com), and [Klarna](https://blog.langchain.com/customers-klarna/) use it in production. It comes with a built in agent runtime ([durable execution](https://docs.langchain.com/oss/python/langgraph/durable-execution?ref=blog.langchain.com&ajs_aid=b8cd24c8-45af-40a5-a7bb-4776c9c2b5d0), [short term memory](https://docs.langchain.com/oss/python/langgraph/persistence?ref=blog.langchain.com&ajs_aid=b8cd24c8-45af-40a5-a7bb-4776c9c2b5d0), [human in the loop patterns](https://docs.langchain.com/oss/python/langchain/human-in-the-loop?ref=blog.langchain.com&ajs_aid=b8cd24c8-45af-40a5-a7bb-4776c9c2b5d0), streaming), and be used to build [arbitrary workflows](https://docs.langchain.com/oss/python/langgraph/use-graph-api?ref=blog.langchain.com&ajs_aid=b8cd24c8-45af-40a5-a7bb-4776c9c2b5d0) and agentic patterns. [`langchain`](https://docs.langchain.com/oss/javascript/langchain-overview?ref=blog.langchain.com&ajs_aid=b8cd24c8-45af-40a5-a7bb-4776c9c2b5d0) has always contained high level interfaces for getting started with different agent patterns as easily as possible. In LangChain 1.0 we are focusing the `langchain` package centered around this abstraction, and are introducing a new [`create_agent`](https://docs.langchain.com/oss/javascript/langchain/agents?ref=blog.langchain.com&ajs_aid=b8cd24c8-45af-40a5-a7bb-4776c9c2b5d0) implementation - same high level interface, different underpinning. You can read all about content blocks [here](https://docs.langchain.com/oss/python/langchain/messages?ref=blog.langchain.com&ajs_aid=b8cd24c8-45af-40a5-a7bb-4776c9c2b5d0#content). Finally - we are also launching a [new docs site](https://docs.langchain.com/oss/python/releases/langchain-v1?ref=blog.langchain.com&ajs_aid=b8cd24c8-45af-40a5-a7bb-4776c9c2b5d0) for all these open source projects. Again - please give us feedback on these 1.0 releases (and docs) [here](https://forum.langchain.com/t/langchain-1-0-alpha/1436?ref=blog.langchain.com&ajs_aid=b8cd24c8-45af-40a5-a7bb-4776c9c2b5d0).\", \"score\": 0.98507, \"raw_content\": null}, {\"url\": \"https://forum.langchain.com/t/langchain-1-0-alpha-feedback-wanted/1436\", \"title\": \"LangChain 1.0 Alpha – Feedback Wanted! - Announcements\", \"content\": \"* Keep discussions **focused on technical topics related to LangChain**. We’re excited to announce that we’ve published the first alpha release for LangChain & LangGraph v1! 3. LangChain itself - high level agents and chains - is greatly changed. You should think of LangChain 1.0 as a new package - focused around a central agent abstraction, built on top of LangGraph As a Senior PHP Engineer with extensive experience in building large-scale web applications, I’m curious to know how feasible it is to build frameworks similar to LangChain and LangGraph in PHP. LangGraph | 7 | 443 | 26d | | A2A protocol using LangChain and LangGraph  LangGraph  python-help,ambient-agents-with- | 3 | 1.6k | Jul 25 |\", \"score\": 0.98337, \"raw_content\": null}], \"response_time\": 3.36, \"request_id\": \"36bfdc97-d20a-4d34-be06-a8ee66d90419\"}', name='tavily_search', id='aef84111-0529-458f-8325-5ee52c2d646e', tool_call_id='call_0wT7JQNsVafuThHAxiA9VLoj'),\n",
       "  AIMessage(content='Based on the latest announcements and discussions about LangGraph and LangChain 1.0.0, the relationship between the two has changed with these new releases:\\n\\n- LangChain 1.0 is now \"focused around a central agent abstraction, built on top of LangGraph.\" This means that the core engineering of LangChain 1.0 is now architecturally sitting on top of LangGraph—LangGraph provides the foundational infrastructure for agentic and workflow patterns, while LangChain focuses on higher-level agent abstractions and user-friendly interfaces.\\n- Previously, LangGraph was seen as an extension or related tool, but with these releases, LangChain is explicitly built on top of LangGraph.\\n\\nSo, in summary:\\n- LangChain is now built on top of LangGraph as of the 1.0.0 versions.\\n- LangGraph provides the core runtime and advanced workflow/state management.\\n- LangChain provides higher-level abstractions for easier use and agent-centric patterns.\\n\\nSources:\\n- [LangChain & LangGraph 1.0 alpha releases (LangChain Blog)](https://blog.langchain.com/langchain-langchain-1-0-alpha-releases/)\\n- [LangChain forum official announcement](https://forum.langchain.com/t/langchain-1-0-alpha-feedback-wanted/1436)', additional_kwargs={'refusal': None}, response_metadata={'token_usage': {'completion_tokens': 264, 'prompt_tokens': 4368, 'total_tokens': 4632, 'completion_tokens_details': {'accepted_prediction_tokens': 0, 'audio_tokens': 0, 'reasoning_tokens': 0, 'rejected_prediction_tokens': 0}, 'prompt_tokens_details': {'audio_tokens': 0, 'cached_tokens': 3200}}, 'model_name': 'gpt-4.1-2025-04-14', 'system_fingerprint': 'fp_3502f4eb73', 'id': 'chatcmpl-CO3Bl4TAgHHgewFjPDUkM81rJoK9R', 'finish_reason': 'stop', 'logprobs': None}, id='run-95b3f284-93ed-46c8-bc25-3083584288f9-0', usage_metadata={'input_tokens': 4368, 'output_tokens': 264, 'total_tokens': 4632, 'input_token_details': {'audio': 0, 'cache_read': 3200}, 'output_token_details': {'audio': 0, 'reasoning': 0}})]}"
      ]
     },
     "execution_count": 7,
     "metadata": {},
     "output_type": "execute_result"
    }
   ],
   "source": [
    "graph.invoke({\"messages\": [\"IN the latest langgraph langchain announcement for their 1.0.0 version what did they said about langchain and langgraph engineering relationship? WHo now is built on top of who?\"]})"
   ]
  },
  {
   "cell_type": "markdown",
   "metadata": {},
   "source": [
    "# To add Memory to our chatbot with web search"
   ]
  },
  {
   "cell_type": "code",
   "execution_count": 15,
   "metadata": {},
   "outputs": [],
   "source": [
    "from langgraph.checkpoint.memory import MemorySaver\n",
    "\n",
    "memory = MemorySaver()"
   ]
  },
  {
   "cell_type": "code",
   "execution_count": 16,
   "metadata": {},
   "outputs": [],
   "source": [
    "graph = graph_builder.compile(checkpointer=memory)"
   ]
  },
  {
   "cell_type": "code",
   "execution_count": 17,
   "metadata": {},
   "outputs": [],
   "source": [
    "# pick a thread to use as the key for the conversation\n",
    "config = {\"configurable\": {\"thread_id\": \"1\"}}"
   ]
  },
  {
   "cell_type": "code",
   "execution_count": 18,
   "metadata": {},
   "outputs": [
    {
     "name": "stdout",
     "output_type": "stream",
     "text": [
      "================================\u001b[1m Human Message \u001b[0m=================================\n",
      "\n",
      "Sup my name is Lucas\n",
      "==================================\u001b[1m Ai Message \u001b[0m==================================\n",
      "\n",
      "Hey Lucas! How can I help you today?\n"
     ]
    }
   ],
   "source": [
    "user_input = \"Sup my name is Lucas\"\n",
    "\n",
    "# The config is the **second positional argument** to stream() or invoke()!\n",
    "events = graph.stream(\n",
    "    {\"messages\": [{\"role\": \"user\", \"content\": user_input}]},\n",
    "    config,\n",
    "    stream_mode=\"values\",\n",
    ")\n",
    "for event in events:\n",
    "    event[\"messages\"][-1].pretty_print()"
   ]
  },
  {
   "cell_type": "code",
   "execution_count": 19,
   "metadata": {},
   "outputs": [
    {
     "name": "stdout",
     "output_type": "stream",
     "text": [
      "================================\u001b[1m Human Message \u001b[0m=================================\n",
      "\n",
      "What is my name?\n",
      "==================================\u001b[1m Ai Message \u001b[0m==================================\n",
      "\n",
      "Your name is Lucas.\n"
     ]
    }
   ],
   "source": [
    "user_input = \"What is my name?\"\n",
    "\n",
    "# The config is the **second positional argument** to stream() or invoke()!\n",
    "events = graph.stream(\n",
    "    {\"messages\": [{\"role\": \"user\", \"content\": user_input}]},\n",
    "    config,\n",
    "    stream_mode=\"values\",\n",
    ")\n",
    "for event in events:\n",
    "    event[\"messages\"][-1].pretty_print()"
   ]
  },
  {
   "cell_type": "code",
   "execution_count": 20,
   "metadata": {},
   "outputs": [
    {
     "data": {
      "text/plain": [
       "{'messages': [HumanMessage(content='Sup my name is Lucas', additional_kwargs={}, response_metadata={}, id='fd65ca07-fd67-4f9f-a071-c2a119b41308'),\n",
       "  AIMessage(content='Hey Lucas! How can I help you today?', additional_kwargs={'refusal': None}, response_metadata={'token_usage': {'completion_tokens': 11, 'prompt_tokens': 772, 'total_tokens': 783, 'completion_tokens_details': {'accepted_prediction_tokens': 0, 'audio_tokens': 0, 'reasoning_tokens': 0, 'rejected_prediction_tokens': 0}, 'prompt_tokens_details': {'audio_tokens': 0, 'cached_tokens': 0}}, 'model_name': 'gpt-4.1-2025-04-14', 'system_fingerprint': 'fp_3502f4eb73', 'id': 'chatcmpl-CO3Jmk40MoOEhxoVd95qWYzKoCzFf', 'finish_reason': 'stop', 'logprobs': None}, id='run-ed76324e-9609-436d-b621-1b9074d05094-0', usage_metadata={'input_tokens': 772, 'output_tokens': 11, 'total_tokens': 783, 'input_token_details': {'audio': 0, 'cache_read': 0}, 'output_token_details': {'audio': 0, 'reasoning': 0}}),\n",
       "  HumanMessage(content='What is my name?', additional_kwargs={}, response_metadata={}, id='8e260179-5f17-4f55-b294-d89743d1b315'),\n",
       "  AIMessage(content='Your name is Lucas.', additional_kwargs={'refusal': None}, response_metadata={'token_usage': {'completion_tokens': 6, 'prompt_tokens': 795, 'total_tokens': 801, 'completion_tokens_details': {'accepted_prediction_tokens': 0, 'audio_tokens': 0, 'reasoning_tokens': 0, 'rejected_prediction_tokens': 0}, 'prompt_tokens_details': {'audio_tokens': 0, 'cached_tokens': 0}}, 'model_name': 'gpt-4.1-2025-04-14', 'system_fingerprint': 'fp_3502f4eb73', 'id': 'chatcmpl-CO3KedpOC2LaD9vIxkGjMJrN2MmpI', 'finish_reason': 'stop', 'logprobs': None}, id='run-cdda801e-7be5-41fc-aa9d-b5a4a64a9f96-0', usage_metadata={'input_tokens': 795, 'output_tokens': 6, 'total_tokens': 801, 'input_token_details': {'audio': 0, 'cache_read': 0}, 'output_token_details': {'audio': 0, 'reasoning': 0}}),\n",
       "  HumanMessage(content='My favorite book is The Great Gatsby', additional_kwargs={}, response_metadata={}, id='6bf4788b-4b93-4e34-b254-abf6ad216a7e'),\n",
       "  AIMessage(content='Got it! Your favorite book is\\u202fThe Great Gatsby. If you ever want to talk about the book, get recommendations based on it, or discuss anything else, just let me know!', additional_kwargs={'refusal': None}, response_metadata={'token_usage': {'completion_tokens': 39, 'prompt_tokens': 815, 'total_tokens': 854, 'completion_tokens_details': {'accepted_prediction_tokens': 0, 'audio_tokens': 0, 'reasoning_tokens': 0, 'rejected_prediction_tokens': 0}, 'prompt_tokens_details': {'audio_tokens': 0, 'cached_tokens': 0}}, 'model_name': 'gpt-4.1-2025-04-14', 'system_fingerprint': 'fp_3502f4eb73', 'id': 'chatcmpl-CO3OC3sY3DIVLN0PlvpmPuOuv9ays', 'finish_reason': 'stop', 'logprobs': None}, id='run-8da4181c-48e2-4e8d-9765-ab3d639ca551-0', usage_metadata={'input_tokens': 815, 'output_tokens': 39, 'total_tokens': 854, 'input_token_details': {'audio': 0, 'cache_read': 0}, 'output_token_details': {'audio': 0, 'reasoning': 0}})]}"
      ]
     },
     "execution_count": 20,
     "metadata": {},
     "output_type": "execute_result"
    }
   ],
   "source": [
    "user_input = 'My favorite book is The Great Gatsby'\n",
    "graph.invoke(\n",
    "    {\"messages\": [{\"role\": \"user\", \"content\": user_input}]},\n",
    "    config,\n",
    ")"
   ]
  },
  {
   "cell_type": "code",
   "execution_count": 21,
   "metadata": {},
   "outputs": [
    {
     "data": {
      "text/plain": [
       "{'messages': [HumanMessage(content='Sup my name is Lucas', additional_kwargs={}, response_metadata={}, id='fd65ca07-fd67-4f9f-a071-c2a119b41308'),\n",
       "  AIMessage(content='Hey Lucas! How can I help you today?', additional_kwargs={'refusal': None}, response_metadata={'token_usage': {'completion_tokens': 11, 'prompt_tokens': 772, 'total_tokens': 783, 'completion_tokens_details': {'accepted_prediction_tokens': 0, 'audio_tokens': 0, 'reasoning_tokens': 0, 'rejected_prediction_tokens': 0}, 'prompt_tokens_details': {'audio_tokens': 0, 'cached_tokens': 0}}, 'model_name': 'gpt-4.1-2025-04-14', 'system_fingerprint': 'fp_3502f4eb73', 'id': 'chatcmpl-CO3Jmk40MoOEhxoVd95qWYzKoCzFf', 'finish_reason': 'stop', 'logprobs': None}, id='run-ed76324e-9609-436d-b621-1b9074d05094-0', usage_metadata={'input_tokens': 772, 'output_tokens': 11, 'total_tokens': 783, 'input_token_details': {'audio': 0, 'cache_read': 0}, 'output_token_details': {'audio': 0, 'reasoning': 0}}),\n",
       "  HumanMessage(content='What is my name?', additional_kwargs={}, response_metadata={}, id='8e260179-5f17-4f55-b294-d89743d1b315'),\n",
       "  AIMessage(content='Your name is Lucas.', additional_kwargs={'refusal': None}, response_metadata={'token_usage': {'completion_tokens': 6, 'prompt_tokens': 795, 'total_tokens': 801, 'completion_tokens_details': {'accepted_prediction_tokens': 0, 'audio_tokens': 0, 'reasoning_tokens': 0, 'rejected_prediction_tokens': 0}, 'prompt_tokens_details': {'audio_tokens': 0, 'cached_tokens': 0}}, 'model_name': 'gpt-4.1-2025-04-14', 'system_fingerprint': 'fp_3502f4eb73', 'id': 'chatcmpl-CO3KedpOC2LaD9vIxkGjMJrN2MmpI', 'finish_reason': 'stop', 'logprobs': None}, id='run-cdda801e-7be5-41fc-aa9d-b5a4a64a9f96-0', usage_metadata={'input_tokens': 795, 'output_tokens': 6, 'total_tokens': 801, 'input_token_details': {'audio': 0, 'cache_read': 0}, 'output_token_details': {'audio': 0, 'reasoning': 0}}),\n",
       "  HumanMessage(content='My favorite book is The Great Gatsby', additional_kwargs={}, response_metadata={}, id='6bf4788b-4b93-4e34-b254-abf6ad216a7e'),\n",
       "  AIMessage(content='Got it! Your favorite book is\\u202fThe Great Gatsby. If you ever want to talk about the book, get recommendations based on it, or discuss anything else, just let me know!', additional_kwargs={'refusal': None}, response_metadata={'token_usage': {'completion_tokens': 39, 'prompt_tokens': 815, 'total_tokens': 854, 'completion_tokens_details': {'accepted_prediction_tokens': 0, 'audio_tokens': 0, 'reasoning_tokens': 0, 'rejected_prediction_tokens': 0}, 'prompt_tokens_details': {'audio_tokens': 0, 'cached_tokens': 0}}, 'model_name': 'gpt-4.1-2025-04-14', 'system_fingerprint': 'fp_3502f4eb73', 'id': 'chatcmpl-CO3OC3sY3DIVLN0PlvpmPuOuv9ays', 'finish_reason': 'stop', 'logprobs': None}, id='run-8da4181c-48e2-4e8d-9765-ab3d639ca551-0', usage_metadata={'input_tokens': 815, 'output_tokens': 39, 'total_tokens': 854, 'input_token_details': {'audio': 0, 'cache_read': 0}, 'output_token_details': {'audio': 0, 'reasoning': 0}}),\n",
       "  HumanMessage(content='Search online for the latest edition of my favorite book', additional_kwargs={}, response_metadata={}, id='4924b71d-6444-402e-93e1-dbe570bd3d42'),\n",
       "  AIMessage(content='', additional_kwargs={'tool_calls': [{'id': 'call_oI3YfaK7FLG7LmvIjzIlqkxZ', 'function': {'arguments': '{\"query\":\"latest edition of The Great Gatsby\",\"search_depth\":\"advanced\"}', 'name': 'tavily_search'}, 'type': 'function'}], 'refusal': None}, response_metadata={'token_usage': {'completion_tokens': 26, 'prompt_tokens': 871, 'total_tokens': 897, 'completion_tokens_details': {'accepted_prediction_tokens': 0, 'audio_tokens': 0, 'reasoning_tokens': 0, 'rejected_prediction_tokens': 0}, 'prompt_tokens_details': {'audio_tokens': 0, 'cached_tokens': 0}}, 'model_name': 'gpt-4.1-2025-04-14', 'system_fingerprint': 'fp_3502f4eb73', 'id': 'chatcmpl-CO3OaxEjIkHKEOqVOFYuxpI21NtCJ', 'finish_reason': 'tool_calls', 'logprobs': None}, id='run-c8da25be-8a41-4cdb-9eb9-157a4028dccc-0', tool_calls=[{'name': 'tavily_search', 'args': {'query': 'latest edition of The Great Gatsby', 'search_depth': 'advanced'}, 'id': 'call_oI3YfaK7FLG7LmvIjzIlqkxZ', 'type': 'tool_call'}], usage_metadata={'input_tokens': 871, 'output_tokens': 26, 'total_tokens': 897, 'input_token_details': {'audio': 0, 'cache_read': 0}, 'output_token_details': {'audio': 0, 'reasoning': 0}}),\n",
       "  ToolMessage(content='{\"query\": \"latest edition of The Great Gatsby\", \"follow_up_questions\": null, \"answer\": null, \"images\": [], \"results\": [{\"url\": \"https://www.planetebook.com/free-ebooks/the-great-gatsby.pdf\", \"title\": \"The Great Gatsby\", \"content\": \"‘He isn’t causing a row.’ Daisy looked desperately from one to the other. ‘You’re causing a row. Please have a little self control.’ ‘Self control!’ repeated Tom incredulously. ‘I suppose the latest thing is to sit back and let Mr. Nobody from Nowhere make love to your wife. Well, if that’s the idea you can count me out…. Nowadays people begin by sneering at family life and family institutions and next they’ll throw every-thing overboard and have intermarriage between black and 139 Free eBooks [...] The lights grow brighter as the earth lurches away from the sun and now the orchestra is playing yellow cocktail music and the opera of voices pitches a key higher. Laughter is easier, minute by minute, spilled with prodigality, tipped out at a cheerful word. The groups change more swift-ly, swell with new arrivals, dissolve and form in the same breath—already there are wanderers, confident girls who weave here and there among the stouter and more stable, 45 Free eBooks at Planet eBook.com [...] ‘Ladies and gentlemen,’ he cried. ‘At the request of Mr. Gatsby we are going to play for you Mr. Vladimir Tostoff’s latest work which attracted so much attention at Carnegie Hall last May. If you read the papers you know there was 55 Free eBooks at Planet eBook.com a big sensation.’ He smiled with jovial condescension and added ‘Some sensation!’ whereupon everybody laughed.\", \"score\": 0.40344992, \"raw_content\": null}, {\"url\": \"https://en.wikipedia.org/wiki/The_Great_Gatsby\", \"title\": \"The Great Gatsby\", \"content\": \"Set in the Jazz Age on Long Island, near New York City, the novel depicts first-person narrator Nick Carraway\\'s interactions with Jay Gatsby, a mysterious\", \"score\": 0.12426638, \"raw_content\": null}], \"response_time\": 5.96, \"request_id\": \"b8373764-a7e2-4ae1-b6b9-ea7db5ea6d2f\"}', name='tavily_search', id='a2b76326-d3a1-4c04-9be1-04829e070e2b', tool_call_id='call_oI3YfaK7FLG7LmvIjzIlqkxZ'),\n",
       "  AIMessage(content='I searched for the latest edition of The Great Gatsby. The results mainly point to free eBook versions and general information about the novel, but they don’t specify a particular print publisher’s newest edition.\\n\\nWould you like information on the most popular recent print editions (like Penguin Classics, Scribner, etc.), or are you looking for special illustrated or annotated versions? Let me know how specific you want the details!', additional_kwargs={'refusal': None}, response_metadata={'token_usage': {'completion_tokens': 83, 'prompt_tokens': 1411, 'total_tokens': 1494, 'completion_tokens_details': {'accepted_prediction_tokens': 0, 'audio_tokens': 0, 'reasoning_tokens': 0, 'rejected_prediction_tokens': 0}, 'prompt_tokens_details': {'audio_tokens': 0, 'cached_tokens': 0}}, 'model_name': 'gpt-4.1-2025-04-14', 'system_fingerprint': 'fp_3502f4eb73', 'id': 'chatcmpl-CO3OjQoHlbylIsD4ao3bYWxNNJFwM', 'finish_reason': 'stop', 'logprobs': None}, id='run-1af55928-6a15-4b29-bb75-aa19ab51fbe9-0', usage_metadata={'input_tokens': 1411, 'output_tokens': 83, 'total_tokens': 1494, 'input_token_details': {'audio': 0, 'cache_read': 0}, 'output_token_details': {'audio': 0, 'reasoning': 0}})]}"
      ]
     },
     "execution_count": 21,
     "metadata": {},
     "output_type": "execute_result"
    }
   ],
   "source": [
    "user_input = \"Search online for the latest edition of my favorite book\"\n",
    "\n",
    "graph.invoke(\n",
    "    {\"messages\": [{\"role\": \"user\", \"content\": user_input}]},\n",
    "    config,\n",
    ")"
   ]
  },
  {
   "cell_type": "code",
   "execution_count": null,
   "metadata": {},
   "outputs": [],
   "source": []
  }
 ],
 "metadata": {
  "language_info": {
   "name": "python"
  }
 },
 "nbformat": 4,
 "nbformat_minor": 2
}
