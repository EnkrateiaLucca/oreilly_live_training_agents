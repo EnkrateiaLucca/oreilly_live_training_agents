{
 "cells": [
  {
   "cell_type": "markdown",
   "metadata": {},
   "source": [
    "# Intro Chatbot with Search using LangGraph"
   ]
  },
  {
   "cell_type": "code",
   "execution_count": 6,
   "metadata": {},
   "outputs": [],
   "source": [
    "from typing import Annotated\n",
    "from langchain_tavily import TavilySearch\n",
    "from langchain_core.messages import BaseMessage\n",
    "from typing_extensions import TypedDict\n",
    "from langgraph.graph import StateGraph, START, END, MessagesState\n",
    "from langgraph.graph.message import add_messages\n",
    "from langgraph.prebuilt import ToolNode, tools_condition\n",
    "from langchain.chat_models import init_chat_model"
   ]
  },
  {
   "cell_type": "code",
   "execution_count": 2,
   "metadata": {},
   "outputs": [],
   "source": [
    "# state where we can add messages as we update the state\n",
    "graph_builder = StateGraph(MessagesState)"
   ]
  },
  {
   "cell_type": "code",
   "execution_count": 3,
   "metadata": {},
   "outputs": [],
   "source": [
    "llm = init_chat_model(\"openai:gpt-4.1\")\n",
    "\n",
    "web_search_tool = TavilySearch(max_results=2)\n",
    "tools = [web_search_tool]\n",
    "\n",
    "llm_with_tools = llm.bind_tools(tools)\n",
    "\n",
    "\n",
    "def chatbot(state: MessagesState):\n",
    "    return {\"messages\": [llm_with_tools.invoke(state[\"messages\"])]}"
   ]
  },
  {
   "cell_type": "code",
   "execution_count": 4,
   "metadata": {},
   "outputs": [],
   "source": [
    "tool_node = ToolNode(tools=tools)\n",
    "\n",
    "graph_builder.add_node(\"chatbot\", chatbot)\n",
    "graph_builder.add_node(\"tools\", tool_node)\n",
    "graph_builder.add_conditional_edges(\n",
    "    \"chatbot\",\n",
    "    tools_condition\n",
    ")\n",
    "\n",
    "graph_builder.add_edge(\"tools\", \"chatbot\")\n",
    "graph_builder.add_edge(START, \"chatbot\")\n",
    "graph = graph_builder.compile()"
   ]
  },
  {
   "cell_type": "code",
   "execution_count": 5,
   "metadata": {},
   "outputs": [
    {
     "data": {
      "image/png": "[encoded data removed]",
      "text/plain": [
       "<IPython.core.display.Image object>"
      ]
     },
     "metadata": {},
     "output_type": "display_data"
    }
   ],
   "source": [
    "from IPython.display import Image\n",
    "\n",
    "try:\n",
    "    display(Image(graph.get_graph().draw_mermaid_png()))\n",
    "except Exception:\n",
    "    # This requires some extra dependencies and is optional\n",
    "    pass"
   ]
  },
  {
   "cell_type": "code",
   "execution_count": 7,
   "metadata": {},
   "outputs": [
    {
     "data": {
      "text/plain": [
       "{'messages': [HumanMessage(content='Who won the NBA 2025?', additional_kwargs={}, response_metadata={}, id='d3c55f8b-36cd-409d-9df5-7343e060738a'),\n",
       "  AIMessage(content='', additional_kwargs={'tool_calls': [{'id': 'call_bgc5caR8EMPS6uayKNDB1i2z', 'function': {'arguments': '{\"query\":\"NBA 2025 champion\"}', 'name': 'tavily_search'}, 'type': 'function'}], 'refusal': None}, response_metadata={'token_usage': {'completion_tokens': 20, 'prompt_tokens': 775, 'total_tokens': 795, 'completion_tokens_details': {'accepted_prediction_tokens': 0, 'audio_tokens': 0, 'reasoning_tokens': 0, 'rejected_prediction_tokens': 0}, 'prompt_tokens_details': {'audio_tokens': 0, 'cached_tokens': 0}}, 'model_name': 'gpt-4.1-2025-04-14', 'system_fingerprint': 'fp_799e4ca3f1', 'id': 'chatcmpl-BosJz9ztNS9Ia10Mxt5P9hm8lI9Cb', 'finish_reason': 'tool_calls', 'logprobs': None}, id='run-9e1263e5-84f7-453a-bbb2-4db899556360-0', tool_calls=[{'name': 'tavily_search', 'args': {'query': 'NBA 2025 champion'}, 'id': 'call_bgc5caR8EMPS6uayKNDB1i2z', 'type': 'tool_call'}], usage_metadata={'input_tokens': 775, 'output_tokens': 20, 'total_tokens': 795, 'input_token_details': {'audio': 0, 'cache_read': 0}, 'output_token_details': {'audio': 0, 'reasoning': 0}}),\n",
       "  ToolMessage(content='{\"query\": \"NBA 2025 champion\", \"follow_up_questions\": null, \"answer\": null, \"images\": [], \"results\": [{\"title\": \"Who Won the NBA Finals 2025? Check the NBA Championship Winner Here\", \"url\": \"https://www.jagranjosh.com/us/trending/who-won-the-nba-finals-2025-1860000073\", \"content\": \"Following an intense series against the Indiana Pacers in the 2025 NBA Finals, the Oklahoma City Thunder made their way to their first-ever NBA Championship. Image 4: The Oklahoma City Thunder won the NBA Finals 2025, bringing their city the first ever NBA Championship Title. The Oklahoma City Thunder won the NBA Finals 2025, bringing their city the first ever NBA Championship Title. After a grueling regular season and a dramatic run through the NBA Playoffs, two formidable teams emerged to battle for the coveted Larry O\\'Brien Championship Trophy: the surprising Indiana Pacers from the Eastern Conference and the ascendant Oklahoma City Thunder from the West. The undisputed NBA Finals MVP for 2025 was Shai Gilgeous-Alexander of the Oklahoma City Thunder.\", \"score\": 0.89545894, \"raw_content\": null}, {\"title\": \"2025 NBA Finals - Wikipedia\", \"url\": \"https://en.wikipedia.org/wiki/2025_NBA_Finals\", \"content\": \"The **2025 NBA Finals** was the championship series of the National Basketball Association (NBA)\\'s 2024–25 season and conclusion to the season\\'s playoffs. The best-of-seven series ended with the Western Conference \\\\\"Western Conference (NBA)\\\\\") champion Oklahoma City Thunder defeating the Eastern Conference \\\\\"Eastern Conference (NBA)\\\\\") champion Indiana Pacers in seven games. Shai Gilgeous-Alexander became the first player to win the regular season MVP and an NBA Finals in the same season since Steph Curry in 2014–15. They won the Western Conference finals_Oklahoma_City_Thunder_vs._(6)_Minnesota_Timberwolves \\\\\"2025 NBA playoffs\\\\\") handily against the Minnesota Timberwolves in five games. \\\\\"Friday Ratings: Oklahoma City Thunder-Indiana Pacers NBA Finals on ABC Inches Up\\\\\".\", \"score\": 0.8740022, \"raw_content\": null}], \"response_time\": 1.8}', name='tavily_search', id='0c7bbbfd-7344-4af3-8952-47bd347d8b5e', tool_call_id='call_bgc5caR8EMPS6uayKNDB1i2z'),\n",
       "  AIMessage(content=\"The Oklahoma City Thunder won the 2025 NBA Finals, defeating the Indiana Pacers in a seven-game series. This victory marks the Thunder's first-ever NBA Championship. Shai Gilgeous-Alexander was notably named the NBA Finals MVP.\", additional_kwargs={'refusal': None}, response_metadata={'token_usage': {'completion_tokens': 51, 'prompt_tokens': 1288, 'total_tokens': 1339, 'completion_tokens_details': {'accepted_prediction_tokens': 0, 'audio_tokens': 0, 'reasoning_tokens': 0, 'rejected_prediction_tokens': 0}, 'prompt_tokens_details': {'audio_tokens': 0, 'cached_tokens': 0}}, 'model_name': 'gpt-4.1-2025-04-14', 'system_fingerprint': 'fp_799e4ca3f1', 'id': 'chatcmpl-BosK3eRXjyZhV8Kmamx0ZeuLsZpEz', 'finish_reason': 'stop', 'logprobs': None}, id='run-43a058ea-4348-4313-8a7c-a70dc8445504-0', usage_metadata={'input_tokens': 1288, 'output_tokens': 51, 'total_tokens': 1339, 'input_token_details': {'audio': 0, 'cache_read': 0}, 'output_token_details': {'audio': 0, 'reasoning': 0}})]}"
      ]
     },
     "execution_count": 7,
     "metadata": {},
     "output_type": "execute_result"
    }
   ],
   "source": [
    "graph.invoke({\"messages\": [\"Who won the NBA 2025?\"]})"
   ]
  },
  {
   "cell_type": "markdown",
   "metadata": {},
   "source": [
    "# To add Memory to our chatbot with web search"
   ]
  },
  {
   "cell_type": "code",
   "execution_count": 8,
   "metadata": {},
   "outputs": [],
   "source": [
    "from langgraph.checkpoint.memory import MemorySaver\n",
    "\n",
    "memory = MemorySaver()"
   ]
  },
  {
   "cell_type": "code",
   "execution_count": 9,
   "metadata": {},
   "outputs": [],
   "source": [
    "graph = graph_builder.compile(checkpointer=memory)"
   ]
  },
  {
   "cell_type": "code",
   "execution_count": 10,
   "metadata": {},
   "outputs": [],
   "source": [
    "# pick a thread to use as the key for the conversation\n",
    "config = {\"configurable\": {\"thread_id\": \"1\"}}"
   ]
  },
  {
   "cell_type": "code",
   "execution_count": 11,
   "metadata": {},
   "outputs": [
    {
     "name": "stdout",
     "output_type": "stream",
     "text": [
      "================================\u001b[1m Human Message \u001b[0m=================================\n",
      "\n",
      "Sup my name is Lucas\n",
      "==================================\u001b[1m Ai Message \u001b[0m==================================\n",
      "\n",
      "Hey Lucas! How can I help you today?\n"
     ]
    }
   ],
   "source": [
    "user_input = \"Sup my name is Lucas\"\n",
    "\n",
    "# The config is the **second positional argument** to stream() or invoke()!\n",
    "events = graph.stream(\n",
    "    {\"messages\": [{\"role\": \"user\", \"content\": user_input}]},\n",
    "    config,\n",
    "    stream_mode=\"values\",\n",
    ")\n",
    "for event in events:\n",
    "    event[\"messages\"][-1].pretty_print()"
   ]
  },
  {
   "cell_type": "code",
   "execution_count": 12,
   "metadata": {},
   "outputs": [
    {
     "name": "stdout",
     "output_type": "stream",
     "text": [
      "================================\u001b[1m Human Message \u001b[0m=================================\n",
      "\n",
      "What is my name?\n",
      "==================================\u001b[1m Ai Message \u001b[0m==================================\n",
      "\n",
      "Your name is Lucas!\n"
     ]
    }
   ],
   "source": [
    "user_input = \"What is my name?\"\n",
    "\n",
    "# The config is the **second positional argument** to stream() or invoke()!\n",
    "events = graph.stream(\n",
    "    {\"messages\": [{\"role\": \"user\", \"content\": user_input}]},\n",
    "    config,\n",
    "    stream_mode=\"values\",\n",
    ")\n",
    "for event in events:\n",
    "    event[\"messages\"][-1].pretty_print()"
   ]
  },
  {
   "cell_type": "code",
   "execution_count": null,
   "metadata": {},
   "outputs": [],
   "source": []
  }
 ],
 "metadata": {
  "language_info": {
   "name": "python"
  }
 },
 "nbformat": 4,
 "nbformat_minor": 2
}
