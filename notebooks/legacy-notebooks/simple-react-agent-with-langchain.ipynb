{
 "cells": [
  {
   "cell_type": "code",
   "execution_count": 16,
   "metadata": {},
   "outputs": [],
   "source": [
    "import os\n",
    "# uncomment this if running locally\n",
    "#!pip install python-dotenv\n",
    "# from dotenv import load_dotenv\n",
    "\n",
    "# load_dotenv()\n",
    "\n",
    "# Or if you are in Colab, uncoment below and add your api key\n",
    "# os.environ[\"OPENAI_API_KEY\"] = \"your-api-key\"\n",
    "# os.environ[\"LANGCHAIN_TRACING_V2\"] = \"true\"\n",
    "# os.environ[\"LANGCHAIN_ENDPOINT\"] = \"https://api.smith.langchain.com\"\n",
    "# os.environ[\"LANGCHAIN_API_KEY\"] = \"<your-api-key>\"\n",
    "# os.environ[\"LANGCHAIN_PROJECT\"] = \"langchain-agents-course\""
   ]
  },
  {
   "cell_type": "code",
   "execution_count": 1,
   "metadata": {},
   "outputs": [
    {
     "data": {
      "text/plain": [
       "[{'url': 'https://bt.gryphon.media/perspectives/pancakes-vs-waffles-the-ultimate-clash/',\n",
       "  'content': 'Pancakes are flat so the syrup can travel many places and not just land in one tiny square when poured. 2. Pancakes go better with butter. Because of their shape, pancakes allow butter to be easily spread without the hassle of it getting stuck in the holes of a waffle, or that wretched scraping sound of the knife on the waffle. 3. Pancakes are'},\n",
       " {'url': 'https://concreteplayground.com/brisbane/arts-entertainment/culture/pancakes-vs-waffles-the-great-debate',\n",
       "  'content': 'Therefore, objectively, the tastiest of the two would be the fattier, sweetest and saltiest product. On average waffles are 14% fat, versus pancakes, which are 10%. Waffles contain less sugar at 2%, while pancakes pack it up with 15%. Waffles take reign again with higher calorie, cholesterol, and salt figures, over pancakes.'},\n",
       " {'url': 'https://nique.net/opinions/2022/11/06/pancakes-versus-waffles/',\n",
       "  'content': 'The final area I will discuss in which waffles far exceed pancakes is, in my opinion, the most evident and the most convincing: customizability. Both waffles and pancakes can be made by baking toppings directly into the batter, and they are relatively equal in this regard. However, in terms of post-creation toppings, waffles win with ease.'},\n",
       " {'url': 'https://www.foodreadme.com/pancakes-vs-waffles/',\n",
       "  'content': '- Pancakes and waffles have a key difference in their method of preparation. - Pancakes have existed for as long as people have had access to grains, fat, sugar, milk, and fire. - The first waffle irons appeared in the early Middle Ages after the invention of a metal press used to make communion wafers. - Pancake and waffle batters have the same ingredients, but the ratios differ. - Pancakes'},\n",
       " {'url': 'https://thelancer.sfhs.com/9879/food/waffles-vs-pancakes-the-ultimate-debate/',\n",
       "  'content': 'Waffles and pancakes are two classic American breakfast foods that everyone loves. With this widespread popularity, the controversial question arises—which one is better? Many argue that waffles are a superior breakfast food because of their unique consistency, ability to be customized, and convenience for even the beginner chef. First, waffles have the perfect consistency; with'}]"
      ]
     },
     "execution_count": 1,
     "metadata": {},
     "output_type": "execute_result"
    }
   ],
   "source": [
    "from langchain_community.tools.tavily_search import TavilySearchResults\n",
    "\n",
    "search = TavilySearchResults()\n",
    "\n",
    "search.invoke(\"Search 3 best arguments for pancakes against waffles so I can tell my friend JP that JP is wrong.\")"
   ]
  },
  {
   "cell_type": "code",
   "execution_count": 2,
   "metadata": {},
   "outputs": [
    {
     "data": {
      "text/plain": [
       "PromptTemplate(input_variables=['agent_scratchpad', 'input', 'tool_names', 'tools'], input_types={}, partial_variables={}, metadata={'lc_hub_owner': 'hwchase17', 'lc_hub_repo': 'react', 'lc_hub_commit_hash': 'd15fe3c426f1c4b3f37c9198853e4a86e20c425ca7f4752ec0c9b0e97ca7ea4d'}, template='Answer the following questions as best you can. You have access to the following tools:\\n\\n{tools}\\n\\nUse the following format:\\n\\nQuestion: the input question you must answer\\nThought: you should always think about what to do\\nAction: the action to take, should be one of [{tool_names}]\\nAction Input: the input to the action\\nObservation: the result of the action\\n... (this Thought/Action/Action Input/Observation can repeat N times)\\nThought: I now know the final answer\\nFinal Answer: the final answer to the original input question\\n\\nBegin!\\n\\nQuestion: {input}\\nThought:{agent_scratchpad}')"
      ]
     },
     "execution_count": 2,
     "metadata": {},
     "output_type": "execute_result"
    }
   ],
   "source": [
    "from langchain import hub\n",
    "from langchain_openai import ChatOpenAI\n",
    "from langchain.agents import AgentExecutor, create_react_agent\n",
    "\n",
    "prompt = hub.pull(\"hwchase17/react\")\n",
    "\n",
    "prompt"
   ]
  },
  {
   "cell_type": "code",
   "execution_count": 5,
   "metadata": {},
   "outputs": [
    {
     "data": {
      "text/plain": [
       "PromptTemplate(input_variables=['agent_scratchpad', 'input', 'tool_names', 'tools'], input_types={}, partial_variables={}, metadata={'lc_hub_owner': 'hwchase17', 'lc_hub_repo': 'react', 'lc_hub_commit_hash': 'd15fe3c426f1c4b3f37c9198853e4a86e20c425ca7f4752ec0c9b0e97ca7ea4d'}, template='Answer the following questions as best you can. You have access to the following tools:\\n\\n{tools}\\n\\nUse the following format:\\n\\nQuestion: the input question you must answer\\nThought: you should always think about what to do\\nAction: the action to take, should be one of [{tool_names}]\\nAction Input: the input to the action\\nObservation: the result of the action\\n... (this Thought/Action/Action Input/Observation can repeat N times)\\nThought: I now know the final answer\\nFinal Answer: the final answer to the original input question\\n\\nBegin!\\n\\nQuestion: {input}\\nThought:{agent_scratchpad}')"
      ]
     },
     "execution_count": 5,
     "metadata": {},
     "output_type": "execute_result"
    }
   ],
   "source": [
    "prompt"
   ]
  },
  {
   "cell_type": "code",
   "execution_count": 3,
   "metadata": {},
   "outputs": [
    {
     "data": {
      "text/plain": [
       "AIMessage(content='Sure! Here are some counterarguments for pancakes against waffles that will hopefully make JP reconsider his choice:\\n\\n---\\n\\n**1. Pancakes are Comforting and Fluffy:**\\nWhile you might think pancakes are “dough-y-er,” that’s what makes them comforting! Their fluffy texture gives you that warm, homey feeling that waffles just can’t replicate. When you bite into a pancake, it’s like a cozy hug, while waffles can feel a bit too crispy and dry. \\n\\n**2. Ice Cream Compatibility:**\\nYou mentioned that pancakes don’t taste as good with ice cream, but have you ever tried a warm pancake topped with a scoop of vanilla ice cream melting into it? The combination of flavors and textures—soft pancake with creamy ice cream—is heavenly! Waffles can’t hold a candle to the sweetness and indulgence that pancakes bring to the table when paired with ice cream.\\n\\n**3. Whipped Cream? Think Again!**\\nYou said nobody puts whipped cream on pancakes, but that’s just not true! Whipped cream is a classic pancake topping—it elevates the dish to a whole new level. Plus, it’s versatile! You can add fruit, chocolate, or any number of toppings on your pancakes, transforming them into whatever flavor profile you desire. Waffles are limited in their toppings and can often feel one-dimensional.\\n\\n**4. The Guilt Factor:**\\nBy choosing waffles, JP, you might be missing out on the true breakfast classic. Think about all those pancake lovers out there who savor the joy of fluffy pancakes on a Sunday morning. By siding with waffles, you’re denying yourself and others the chance to indulge in a beloved comfort food! Are you really willing to miss out on such happiness? \\n\\n**5. Pancake Versatility:**\\nPancakes can be made in various styles—blueberry, banana, chocolate chip, and even savory options! Waffles, while delicious, often stick to the same sweet profile. Think about the creativity you can unleash with pancakes. Don’t let the waffle-loving camp hold you back from the diverse world of pancake possibilities!\\n\\n---\\n\\nSo, JP, next time you think about reaching for those waffles, remember all the delicious, comforting, and versatile options that pancakes have to offer. Don’t let waffle loyalty keep you from experiencing the full pancake potential!', additional_kwargs={'refusal': None}, response_metadata={'token_usage': {'completion_tokens': 468, 'prompt_tokens': 62, 'total_tokens': 530, 'completion_tokens_details': {'audio_tokens': None, 'reasoning_tokens': 0}, 'prompt_tokens_details': {'audio_tokens': None, 'cached_tokens': 0}}, 'model_name': 'gpt-4o-mini-2024-07-18', 'system_fingerprint': 'fp_f59a81427f', 'finish_reason': 'stop', 'logprobs': None}, id='run-08ad2823-af50-4a3a-8d7b-2ef64a72f73a-0', usage_metadata={'input_tokens': 62, 'output_tokens': 468, 'total_tokens': 530, 'input_token_details': {'cache_read': 0}, 'output_token_details': {'reasoning': 0}})"
      ]
     },
     "execution_count": 3,
     "metadata": {},
     "output_type": "execute_result"
    }
   ],
   "source": [
    "model = ChatOpenAI(model='gpt-4o-mini')\n",
    "\n",
    "model.invoke(\"\"\"Write counter arguments for pancakes against waffles for my friend JP:\n",
    "             Pancakes are dough-y-er\n",
    "             Pancakes don't taste as good with ice cream\n",
    "Who puts whipped cream on pancakes? Nobody. That's who.\n",
    "Make sure to make JP feel guilty for picking waffles.\n",
    "             \"\"\")"
   ]
  },
  {
   "cell_type": "code",
   "execution_count": 7,
   "metadata": {},
   "outputs": [
    {
     "data": {
      "text/plain": [
       "AIMessage(content=\"While I can't browse the internet in real-time, I can provide you with some potential job titles and roles that are often in demand for Ruby programmers in Portugal. This list is based on trends and common positions in the tech industry as of the latest available information:\\n\\n1. **Ruby on Rails Developer**  \\n   - Focus: Building web applications using the Ruby on Rails framework.\\n   - Companies: Startups, tech companies, and established firms with digital products.\\n\\n2. **Full-Stack Developer (Ruby)**  \\n   - Focus: Working on both front-end and back-end development.\\n   - Companies: Versatile roles in various sectors, including e-commerce, finance, and healthcare.\\n\\n3. **Backend Developer (Ruby)**  \\n   - Focus: Developing server-side logic, databases, and APIs.\\n   - Companies: Tech companies that require robust backend solutions.\\n\\n4. **Junior Ruby Developer**  \\n   - Focus: Entry-level position working under senior developers.\\n   - Companies: Startups and companies with training programs for new developers.\\n\\n5. **Senior Ruby Developer**  \\n   - Focus: Leading projects, mentoring junior developers, and architectural planning.\\n   - Companies: Medium to large enterprises with complex applications.\\n\\n6. **DevOps Engineer (Ruby)**  \\n   - Focus: Automation, CI/CD pipelines, and maintaining infrastructure with Ruby scripts.\\n   - Companies: Any company looking to streamline their development and deployment processes.\\n\\n7. **Ruby Consultant**  \\n   - Focus: Providing expertise and solutions for projects requiring Ruby development.\\n   - Companies: Consultancy firms or companies seeking short-term expertise.\\n\\n8. **Software Engineer (Ruby)**  \\n   - Focus: General software development using Ruby.\\n   - Companies: Any company that uses Ruby in their tech stack.\\n\\n9. **Ruby API Developer**  \\n   - Focus: Creating and maintaining APIs using Ruby.\\n   - Companies: Businesses that rely on web services and third-party integrations.\\n\\n10. **Ruby Testing/QA Engineer**  \\n    - Focus: Writing test scripts and ensuring software quality using Ruby.\\n    - Companies: Companies dedicated to maintaining high-quality software products.\\n\\nFor specific job openings, you may need to check job boards, company career pages, or recruitment agencies focused on the tech industry in Portugal. Websites like LinkedIn, Indeed, and Glassdoor can provide up-to-date listings and insights into the job market for Ruby programmers in Portugal.\", additional_kwargs={'refusal': None}, response_metadata={'token_usage': {'completion_tokens': 479, 'prompt_tokens': 40, 'total_tokens': 519, 'completion_tokens_details': {'audio_tokens': 0, 'reasoning_tokens': 0, 'accepted_prediction_tokens': 0, 'rejected_prediction_tokens': 0}, 'prompt_tokens_details': {'audio_tokens': 0, 'cached_tokens': 0}}, 'model_name': 'gpt-4o-2024-08-06', 'system_fingerprint': 'fp_50cad350e4', 'finish_reason': 'stop', 'logprobs': None}, id='run-ee5033dd-0f04-4659-a56a-216ca100351c-0', usage_metadata={'input_tokens': 40, 'output_tokens': 479, 'total_tokens': 519, 'input_token_details': {'audio': 0, 'cache_read': 0}, 'output_token_details': {'audio': 0, 'reasoning': 0}})"
      ]
     },
     "execution_count": 7,
     "metadata": {},
     "output_type": "execute_result"
    }
   ],
   "source": [
    "model = ChatOpenAI(model='gpt-4o')\n",
    "\n",
    "response = model.invoke(\"\"\"\n",
    "             Research online some top job options for RUBY programmers located in Portugal.\n",
    "             Write me an organized list with the top 10 you find in Portugal\n",
    "             \"\"\")\n",
    "response"
   ]
  },
  {
   "cell_type": "code",
   "execution_count": null,
   "metadata": {},
   "outputs": [],
   "source": []
  },
  {
   "cell_type": "code",
   "execution_count": 4,
   "metadata": {},
   "outputs": [],
   "source": [
    "# <!-- Let's choose a different model -->\n",
    "\n",
    "from langchain_ollama import ChatOllama\n",
    "\n",
    "llm = ChatOllama(model='llama3.2')\n",
    "\n",
    "output_counter_argument = llm.invoke(\"\"\"Write counter arguments for pancakes against waffles for my friend JP:\n",
    "                                        Pancakes are dough-y-er\n",
    "                                        Pancakes don't taste as good with ice cream\n",
    "                                        Who puts whipped cream on pancakes? Nobody. That's who.\n",
    "                                        Make sure to make JP feel guilty for picking waffles.\n",
    "                                        \"\"\")"
   ]
  },
  {
   "cell_type": "code",
   "execution_count": 6,
   "metadata": {},
   "outputs": [
    {
     "data": {
      "text/markdown": [
       "Here are some counterarguments for pancakes against waffles that you can share with your friend JP:\n",
       "\n",
       "1. \"Pancakes are dough-y-er\" - Ah, come on JP! You're dismissing the perfect balance of crispy edges and fluffy centers that only a well-made pancake can provide. Waffles just can't compete with the textural experience of biting into a warm, golden-brown pancake.\n",
       "\n",
       "2. \"Pancakes don't taste as good with ice cream\" - Who says pancakes and ice cream are an unfair pairing? In fact, a classic combination that's hard to beat. The creamy coldness of the ice cream perfectly complements the sweet, syrupy goodness of the pancake. It's a match made in heaven! Waffles just can't hold a candle to this iconic duo.\n",
       "\n",
       "3. \"Who puts whipped cream on pancakes? Nobody\" - Actually, JP, that's because we're too classy for such pedestrian toppings. Whipped cream is for people who settle for bland, mass-produced breakfast foods like... well, waffles. A true pancake connoisseur knows that the subtle sweetness of a fresh-baked pancake is enough to stand on its own, without needing some fancy topping to elevate it.\n",
       "\n",
       "As for making JP feel guilty for picking waffles, you could try saying something like:\n",
       "\n",
       "\"Hey JP, I know you think you're being cool with your waffle choice, but let's be real – pancakes are the true breakfast champions. And by choosing waffles over pancakes, are you just settling for second-best? Don't you deserve to experience the rich, buttery goodness of a perfectly cooked pancake?\""
      ],
      "text/plain": [
       "<IPython.core.display.Markdown object>"
      ]
     },
     "execution_count": 6,
     "metadata": {},
     "output_type": "execute_result"
    }
   ],
   "source": [
    "from IPython.display import Markdown\n",
    "\n",
    "Markdown(output_counter_argument.content)"
   ]
  },
  {
   "cell_type": "code",
   "execution_count": 8,
   "metadata": {},
   "outputs": [],
   "source": [
    "tools = [search]"
   ]
  },
  {
   "cell_type": "code",
   "execution_count": 9,
   "metadata": {},
   "outputs": [],
   "source": [
    "agent = create_react_agent(model, tools, prompt)"
   ]
  },
  {
   "cell_type": "code",
   "execution_count": 10,
   "metadata": {},
   "outputs": [
    {
     "data": {
      "text/plain": [
       "RunnableAssign(mapper={\n",
       "  agent_scratchpad: RunnableLambda(lambda x: format_log_to_str(x['intermediate_steps']))\n",
       "})\n",
       "| PromptTemplate(input_variables=['agent_scratchpad', 'input'], input_types={}, partial_variables={'tools': 'tavily_search_results_json - A search engine optimized for comprehensive, accurate, and trusted results. Useful for when you need to answer questions about current events. Input should be a search query.', 'tool_names': 'tavily_search_results_json'}, metadata={'lc_hub_owner': 'hwchase17', 'lc_hub_repo': 'react', 'lc_hub_commit_hash': 'd15fe3c426f1c4b3f37c9198853e4a86e20c425ca7f4752ec0c9b0e97ca7ea4d'}, template='Answer the following questions as best you can. You have access to the following tools:\\n\\n{tools}\\n\\nUse the following format:\\n\\nQuestion: the input question you must answer\\nThought: you should always think about what to do\\nAction: the action to take, should be one of [{tool_names}]\\nAction Input: the input to the action\\nObservation: the result of the action\\n... (this Thought/Action/Action Input/Observation can repeat N times)\\nThought: I now know the final answer\\nFinal Answer: the final answer to the original input question\\n\\nBegin!\\n\\nQuestion: {input}\\nThought:{agent_scratchpad}')\n",
       "| RunnableBinding(bound=ChatOpenAI(client=<openai.resources.chat.completions.Completions object at 0x1698abdd0>, async_client=<openai.resources.chat.completions.AsyncCompletions object at 0x119905810>, root_client=<openai.OpenAI object at 0x11aaa1c10>, root_async_client=<openai.AsyncOpenAI object at 0x169871cd0>, model_name='gpt-4o', model_kwargs={}, openai_api_key=SecretStr('**********'), openai_api_base='https://api.openai.com/v1'), kwargs={'stop': ['\\nObservation']}, config={}, config_factories=[])\n",
       "| ReActSingleInputOutputParser()"
      ]
     },
     "execution_count": 10,
     "metadata": {},
     "output_type": "execute_result"
    }
   ],
   "source": [
    "agent"
   ]
  },
  {
   "cell_type": "code",
   "execution_count": 10,
   "metadata": {},
   "outputs": [],
   "source": [
    "agent_executor = AgentExecutor(agent=agent, tools=tools, verbose=True)"
   ]
  },
  {
   "cell_type": "code",
   "execution_count": 11,
   "metadata": {},
   "outputs": [],
   "source": [
    "input_prompt = \"\"\"Write counter arguments for pancakes against waffles for my friend JP:\n",
    "                                        Pancakes are dough-y-er\n",
    "                                        Pancakes don't taste as good with ice cream\n",
    "                                        Who puts whipped cream on pancakes? Nobody. That's who.\n",
    "                                        Make sure to make JP feel guilty for picking waffles.\n",
    "                                        \"\"\""
   ]
  },
  {
   "cell_type": "code",
   "execution_count": 12,
   "metadata": {},
   "outputs": [
    {
     "name": "stdout",
     "output_type": "stream",
     "text": [
      "\n",
      "\n",
      "\u001b[1m> Entering new AgentExecutor chain...\u001b[0m\n",
      "\u001b[32;1m\u001b[1;3mI need to come up with counterarguments that highlight the advantages of pancakes compared to waffles and emphasize the points JP made in favor of waffles. Additionally, I should focus on making JP feel guilty for his choice. \n",
      "\n",
      "Action: tavily_search_results_json  \n",
      "Action Input: \"pancakes vs waffles arguments\"  \u001b[0m\u001b[36;1m\u001b[1;3m[{'url': 'https://www.reddit.com/r/CasualConversation/comments/2v1v39/convince_me_that_pancakes_are_better_than_waffles/', 'content': 'While waffles make the argument that they have fancy syrup pockets and that pancakes look like someone just sat on them, and pancakes have made the argument that they are porous and flavor is literally absorbed into itself while waffles are vile from being crunchy, no one has brought up the simple fact of why pancakes are superior.'}, {'url': 'https://thekitchencommunity.org/the-difference-between-waffles-and-pancakes/', 'content': \"Waffles vs Pancakes: The Basics. When it comes to breakfast classics, waffles and pancakes have always been at the center of the debate. While similar in ingredients, these two dishes differ in preparation, cooking method, and texture. In this section, we'll explore the key differences by providing a brief overview of the ingredients and\"}, {'url': 'https://www.businessinsider.com/difference-between-pancakes-and-waffles-2019-2?op=1', 'content': \"There's a reason for the pancakes vs. waffles debate. Here's why the breakfast dishes are actually so different. Julia Guerra. 2019-03-25T13:12:00Z An curved arrow pointing right. Share. The\"}, {'url': 'https://pancakeswithwaffles.com/pancakes-vs-waffles-the-battle-of-the-breakfast-staples/', 'content': 'Pancakes and Waffles: 5 Key Differences. Both waffles and pancakes are considered staples on a breakfast table, but they rarely appear at the same time. Some say that pancakes are superior since you can add berries, chocolate chips, and even buttermilk directly to the batter to get a tastier stackable breakfast.'}, {'url': 'https://www.thetakeout.com/are-waffles-better-than-pancakes-1848524264/', 'content': \"Waffles and pancakes are two must-haves on any breakfast menu—but which one reigns supreme? On the surface there's not much that separates these two batter-based breakfast items. (Other than, well, the ridged surface of a waffle.) But there's still plenty of strong preference for one over the other when it comes time to pass the syrup.\"}]\u001b[0m\u001b[32;1m\u001b[1;3mI have gathered useful information about pancakes and waffles, focusing on the characteristics of pancakes that could serve as counterarguments to JP's pro-waffle stance. \n",
      "\n",
      "Action: tavily_search_results_json  \n",
      "Action Input: \"pancakes better than waffles reasons\"  \u001b[0m\u001b[36;1m\u001b[1;3m[{'url': 'https://www.fitday.com/fitness-articles/nutrition/healthy-eating/healthy-breakfast-pancakes-vs-waffles.html', 'content': 'Which Is the Better Choice? Without any altercations to the typical recipe, pancakes have 20% less calories than waffles due to their small nature. Because pancakes are individually cooked on a grilled or skillet, one is able to control the size of a pancake. The size of a waffle is already predetermined due to the waffle iron.'}, {'url': 'https://www.kateskitchenkc.com/blog/pancakes-vs-waffles-breakfast-best/', 'content': 'A humorous and playful article that compares and contrasts pancakes and waffles on various criteria, such as fluffiness, stackability, pockets, and toppings. Ultimately, it declares waffles as the better choice, but admits that personal preference matters.'}, {'url': 'https://insanelygoodrecipes.com/waffles-vs-pancakes/', 'content': \"Both waffles and pancakes contain eggs, butter, sugar, and leavening agents, but use different measurements for each. Waffles have more fat and cholesterol than pancakes. They're also sweeter. Pancakes are cooked in a skillet while waffles require a waffle iron to give them their signature form. Pancakes are tall, soft, and fluffy, much like\"}, {'url': 'https://www.popsugar.com/food/why-pancakes-better-than-waffles-46335811', 'content': 'The web page lists five reasons why pancakes are the ultimate breakfast food, from being easier to make to having more variations. It also compares pancakes to waffles and other international'}, {'url': 'https://thebreakfastshoppe.com/pancakes-vs-waffles/', 'content': \"Seriously have ultimate variations, cinnamon roll pancakes, banana nut pancakes, trailblazer pancakes, strawberry short stack… Try constructing Mickey Mouse's ears with a square waffle. The Waffle Side: Waffles hold syrup better than pancakes. The small squares act as tiny cups to keep the sweetness in place. Chicken and Waffles is a thing\"}]\u001b[0m\u001b[32;1m\u001b[1;3mI have gathered more specific information that supports the argument for pancakes being superior to waffles, including their nutritional advantages and versatility.\n",
      "\n",
      "Action: tavily_search_results_json  \n",
      "Action Input: \"pancakes versatility benefits\"  \u001b[0m\u001b[36;1m\u001b[1;3m[{'url': 'https://medium.com/@FoodieAfrica/the-health-benefits-of-pancakes-a-perfect-breakfast-idea-eab233769977', 'content': 'Versatile Toppings: Pancakes offer endless possibilities for nutritious toppings. Fresh fruits, such as berries and bananas, provide vitamins, antioxidants, and natural sweetness.'}, {'url': 'https://listonic.com/nutrition/pancakes', 'content': 'Health benefits. Learn how pancakes, especially when made with nutritious ingredients and topped with fruits or nuts, can be a delicious and wholesome part of a diet that promotes overall well-being. Rich in carbohydrates, providing sustained energy and fueling the body and brain. Source of protein if made with milk and eggs, supporting muscle'}, {'url': 'https://www.weekand.com/healthy-living/article/benefits-pancakes-18003922.php', 'content': \"A serving of whole-wheat pancakes has about 250 milligrams of calcium, or around one-quarter of the calcium you need for the day, while buttermilk pancakes have around 180 milligrams, or 18 percent of your daily needs. In addition to it's obvious bone-friendly benefits, calcium helps your nerves and muscles function properly, and it might also\"}, {'url': 'https://www.healthbenefitstimes.com/pancake-nutrition-and-health-benefits/', 'content': 'Salt added in pancake batter offers 308 milligrams of sodium per serving. Vitamins and minerals. Pancakes offers phosphorus and calcium meeting 20% and 18% of daily recommended intake respectively. It makes pancakes better option for promoting bone strength and the ability of the body to create RNA and DNA.'}, {'url': 'https://www.livestrong.com/article/365133-are-whole-wheat-pancakes-healthy/', 'content': 'Vitamins, Minerals And Sodium. Except for B12, whole wheat flour is an excellent source of B-vitamins. B12 is found in food from animal sources, so the eggs and milk in the pancakes supply B12. Whole wheat flour contains vitamin E, milk is fortified with vitamin D, eggs contain vitamin A and vegetable oil contains vitamin K. Whole wheat flour'}]\u001b[0m\u001b[32;1m\u001b[1;3mI have gathered ample information to construct strong counterarguments for pancakes against waffles. \n",
      "\n",
      "1. **Texture and Taste**: While JP argues that pancakes are doughy, this texture makes them fluffy and soft, providing a comforting bite that waffles can't match. Pancakes absorb syrup and toppings much better than waffles, which can leave syrup sitting on top rather than being fully integrated into the flavor.\n",
      "\n",
      "2. **Versatility**: Pancakes are far more versatile than waffles. They can be made with various ingredients such as fruits, nuts, and chocolate chips baked directly into the batter. This allows for a wider range of flavors and styles compared to waffles, which are typically limited in their variations.\n",
      "\n",
      "3. **Healthier Option**: Pancakes can be a healthier breakfast choice. They generally have fewer calories than waffles and can be made with whole grains for added nutrients. They also provide a good source of calcium and protein, especially when made with milk and eggs.\n",
      "\n",
      "4. **Emotional Appeal**: By choosing waffles over pancakes, JP is missing out on a classic breakfast that many associate with comfort and warmth. Pancakes evoke memories of family breakfasts and lazy Sunday mornings, while waffles can feel more like a novelty or dessert. \n",
      "\n",
      "5. **Whipped Cream**: While JP claims \"nobody puts whipped cream on pancakes,\" that's simply not true. Pancakes can be a canvas for whipped cream, berries, and other toppings, making them a delightful treat. It’s just that people tend to favor syrup or butter, which adds to their charm.\n",
      "\n",
      "6. **Guilt Factor**: If JP chooses waffles, he’s denying himself the wholesome goodness and nostalgia that pancakes offer. By picking waffles, he might as well be saying he prefers the less satisfying, more rigid option over the fluffy, indulgent goodness of pancakes. \n",
      "\n",
      "Final Answer: The counterarguments against waffles in favor of pancakes highlight their superior texture, versatility, health benefits, emotional appeal, and the fact that they can indeed be topped with whipped cream, making JP feel guilty for his choice of waffles.\u001b[0m\n",
      "\n",
      "\u001b[1m> Finished chain.\u001b[0m\n"
     ]
    },
    {
     "data": {
      "text/plain": [
       "{'input': \"Write counter arguments for pancakes against waffles for my friend JP:\\n                                        Pancakes are dough-y-er\\n                                        Pancakes don't taste as good with ice cream\\n                                        Who puts whipped cream on pancakes? Nobody. That's who.\\n                                        Make sure to make JP feel guilty for picking waffles.\\n                                        \",\n",
       " 'output': 'The counterarguments against waffles in favor of pancakes highlight their superior texture, versatility, health benefits, emotional appeal, and the fact that they can indeed be topped with whipped cream, making JP feel guilty for his choice of waffles.'}"
      ]
     },
     "execution_count": 12,
     "metadata": {},
     "output_type": "execute_result"
    }
   ],
   "source": [
    "agent_executor.invoke({\"input\": input_prompt})"
   ]
  },
  {
   "cell_type": "code",
   "execution_count": null,
   "metadata": {},
   "outputs": [],
   "source": []
  },
  {
   "cell_type": "code",
   "execution_count": null,
   "metadata": {},
   "outputs": [],
   "source": []
  },
  {
   "cell_type": "code",
   "execution_count": null,
   "metadata": {},
   "outputs": [],
   "source": []
  },
  {
   "cell_type": "code",
   "execution_count": null,
   "metadata": {},
   "outputs": [],
   "source": []
  }
 ],
 "metadata": {
  "kernelspec": {
   "display_name": "oreilly-langchain",
   "language": "python",
   "name": "oreilly-langchain"
  },
  "language_info": {
   "codemirror_mode": {
    "name": "ipython",
    "version": 3
   },
   "file_extension": ".py",
   "mimetype": "text/x-python",
   "name": "python",
   "nbconvert_exporter": "python",
   "pygments_lexer": "ipython3",
   "version": "3.11.9"
  }
 },
 "nbformat": 4,
 "nbformat_minor": 2
}
