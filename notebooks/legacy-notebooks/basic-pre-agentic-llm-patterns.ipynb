{
 "cells": [
  {
   "cell_type": "markdown",
   "metadata": {},
   "source": [
    "This notebook was inspired by this Anthropic's blog post:\n",
    "- https://www.anthropic.com/research/building-effective-agents\n",
    "\n",
    "and this source code:\n",
    "- https://github.com/anthropics/anthropic-cookbook/blob/main/patterns/agents/basic_workflows.ipynb"
   ]
  },
  {
   "cell_type": "code",
   "execution_count": 1,
   "metadata": {},
   "outputs": [],
   "source": [
    "from openai import OpenAI\n",
    "client = OpenAI()"
   ]
  },
  {
   "cell_type": "code",
   "execution_count": 2,
   "metadata": {},
   "outputs": [],
   "source": [
    "def llm_call(prompt_question):\n",
    "    response = client.chat.completions.create(\n",
    "        model=\"gpt-4o-mini\",\n",
    "        messages=[{\"role\": \"system\", \"content\": \"You are a helpful assistant.\"},\n",
    "                  {\"role\": \"user\", \"content\": prompt_question}]\n",
    "    )\n",
    "    \n",
    "    return response.choices[0].message.content\n",
    "\n",
    "def chain(input, prompts):\n",
    "    result = input\n",
    "    for i, prompt in prompts:\n",
    "        print(f\"Step: {i}\")\n",
    "        result = llm_call(f\"{prompt}: \\n\\n{result}\")\n",
    "        print(result)\n",
    "    \n",
    "    return result"
   ]
  },
  {
   "cell_type": "code",
   "execution_count": 2,
   "metadata": {},
   "outputs": [
    {
     "name": "stdout",
     "output_type": "stream",
     "text": [
      "Running analysis chain...\n",
      "Step: 1\n",
      "The text conveys several main themes and topics related to the rise of artificial intelligence (AI). Here are the key points identified:\n",
      "\n",
      "1. **Impact of AI on Industries**: The text highlights how AI has transformed various sectors, specifically mentioning:\n",
      "   - **Healthcare**: Improvements in diagnostic accuracy and treatment planning.\n",
      "   - **Manufacturing**: Increased efficiency through predictive maintenance and automated quality control.\n",
      "\n",
      "2. **Ethical Considerations**: The advancements associated with AI raise significant ethical questions, including:\n",
      "   - **Privacy**: Concerns about how data is collected, stored, and used.\n",
      "   - **Job Displacement**: The impact of automation on employment and workforce dynamics.\n",
      "   - **Human Decision-Making**: The role and importance of human involvement in decision-making processes as machines become more capable.\n",
      "\n",
      "Overall, the text discusses both the positive transformations brought about by AI and the associated challenges that need to be addressed.\n",
      "Step: 2\n",
      "Certainly! Here are specific examples related to each theme identified in the text regarding the rise of artificial intelligence (AI):\n",
      "\n",
      "1. **Impact of AI on Industries**:\n",
      "   - **Healthcare**: The text describes advancements in AI technologies that have significantly enhanced diagnostic accuracy. For instance, AI algorithms can analyze medical imaging with a level of precision that aids healthcare professionals in identifying diseases at earlier stages. Additionally, AI-driven treatment planning systems help doctors tailor individualized therapies based on patient data, leading to improved health outcomes.\n",
      "   - **Manufacturing**: The text details how AI has revolutionized manufacturing processes by introducing predictive maintenance solutions. These AI systems monitor equipment and predict when failures are likely to occur, thereby reducing downtime. Furthermore, automated quality control systems utilize machine learning to detect defects in products, ensuring higher quality and consistency in output.\n",
      "\n",
      "2. **Ethical Considerations**:\n",
      "   - **Privacy**: Concerns about privacy are raised in the text, particularly regarding the vast amounts of data collected by AI systems from users and their interactions. The text highlights the importance of establishing regulations and protective measures to ensure that personal data is handled responsibly and that individuals retain control over their information.\n",
      "   - **Job Displacement**: The text addresses the potential job displacement resulting from widespread automation due to AI. It offers examples of industries where traditional roles are being replaced by machines, leading to concerns about unemployment and the need for workforce retraining programs to help affected individuals transition to new job opportunities.\n",
      "   - **Human Decision-Making**: The text emphasizes the necessity of maintaining human involvement in critical decision-making processes, particularly in areas like healthcare and justice. It raises questions about accountability and the importance of human judgment alongside AI capabilities, arguing for a balanced approach that leverages machine intelligence while still valuing human insight.\n",
      "\n",
      "Overall, the text encapsulates a dual narrative: while it celebrates the innovative strides made possible by AI, it also prompts critical reflection on the ethical implications that accompany such technological advancements.\n",
      "Step: 3\n",
      "The text explores the transformative effects of artificial intelligence (AI) across various industries while also addressing significant ethical concerns. \n",
      "\n",
      "One major theme is the **impact of AI on industries**. In **healthcare**, AI technologies have greatly improved diagnostic accuracy through advanced algorithms capable of analyzing medical images, which facilitates earlier disease detection. Additionally, AI-driven treatment planning systems are personalized, leading to enhanced health outcomes for patients. In the realm of **manufacturing**, AI has modernized operations with predictive maintenance solutions that monitor equipment health and foresee potential failures, thereby minimizing downtime. Automated quality control systems employ machine learning to identify defects, ensuring higher product quality and consistency.\n",
      "\n",
      "Another critical theme is the **ethical considerations** surrounding AI deployment. One pressing issue is **privacy**, as AI systems often collect and analyze vast amounts of personal data from users. The text underscores the urgent need for regulations to protect individual data rights and ensure it is used responsibly. Another ethical concern is **job displacement**, as automation threatens traditional roles in various sectors, creating challenges related to unemployment and the need for retraining programs to assist displaced workers in transitioning to new opportunities. The text also highlights the significance of **human decision-making** within critical areas like healthcare and justice, advocating for a collaborative approach where human judgment complements AI capabilities, ensuring accountability and ethical integrity.\n",
      "\n",
      "In summary, the discussion provided in the text presents a balanced view of AI's potential benefits across industries alongside a candid examination of the ethical dilemmas it poses, encouraging a thoughtful approach to its continued integration into society.\n",
      "Step: 4\n",
      "Here are three discussion questions based on the analysis:\n",
      "\n",
      "1. **Impact on Healthcare and Workforce**: How do the advancements in AI within healthcare, such as improved diagnostic accuracy and personalized treatment plans, balance against the potential for job displacement among healthcare professionals? What measures can be taken to ensure that AI serves as a tool for enhancement rather than a replacement in this sector?\n",
      "\n",
      "2. **Ethics of Data Usage**: Considering the ethical concerns surrounding privacy and data collection by AI systems, what specific regulations and frameworks should be implemented to protect individual data rights? How can stakeholders ensure that AI systems are developed and deployed responsibly without compromising user privacy?\n",
      "\n",
      "3. **Collaborative Decision-Making**: In critical fields like healthcare and justice, how can organizations create effective systems that enable cooperative decision-making between humans and AI? What best practices should be established to maintain accountability and ethical standards while leveraging the capabilities of AI in these sensitive areas?\n",
      "Here are three discussion questions based on the analysis:\n",
      "\n",
      "1. **Impact on Healthcare and Workforce**: How do the advancements in AI within healthcare, such as improved diagnostic accuracy and personalized treatment plans, balance against the potential for job displacement among healthcare professionals? What measures can be taken to ensure that AI serves as a tool for enhancement rather than a replacement in this sector?\n",
      "\n",
      "2. **Ethics of Data Usage**: Considering the ethical concerns surrounding privacy and data collection by AI systems, what specific regulations and frameworks should be implemented to protect individual data rights? How can stakeholders ensure that AI systems are developed and deployed responsibly without compromising user privacy?\n",
      "\n",
      "3. **Collaborative Decision-Making**: In critical fields like healthcare and justice, how can organizations create effective systems that enable cooperative decision-making between humans and AI? What best practices should be established to maintain accountability and ethical standards while leveraging the capabilities of AI in these sensitive areas?\n"
     ]
    }
   ],
   "source": [
    "# Example prompts for a multi-step analysis chain\n",
    "analysis_prompts = [\n",
    "    (1, \"Analyze this text and identify the main themes and topics\"),\n",
    "    (2, \"For each theme identified, provide specific examples from the text\"),\n",
    "    (3, \"Synthesize the themes and examples into a coherent summary\"),\n",
    "    (4, \"Generate 3 discussion questions based on the analysis\")\n",
    "]\n",
    "\n",
    "# Sample input text\n",
    "sample_text = \"\"\"\n",
    "The rise of artificial intelligence has transformed multiple industries in the past decade. \n",
    "Healthcare has seen improvements in diagnosis accuracy and treatment planning. \n",
    "Manufacturing has become more efficient with predictive maintenance and automated quality control.\n",
    "However, these advancements also raise important ethical questions about privacy, job displacement, \n",
    "and the role of human decision-making in an increasingly automated world.\n",
    "\"\"\"\n",
    "\n",
    "# Run the chain\n",
    "print(\"Running analysis chain...\")\n",
    "final_result = chain(sample_text, analysis_prompts)\n",
    "print(final_result)"
   ]
  },
  {
   "cell_type": "code",
   "execution_count": 3,
   "metadata": {},
   "outputs": [],
   "source": [
    "from concurrent.futures import ThreadPoolExecutor"
   ]
  },
  {
   "cell_type": "code",
   "execution_count": 7,
   "metadata": {},
   "outputs": [
    {
     "data": {
      "text/plain": [
       "['Climate change is resulting in rising sea levels and increased extreme weather events, threatening agriculture, infrastructure, and communities, especially in coastal and developing areas.',\n",
       " 'Quantum computers are a significant technological advancement that can perform complex calculations much faster than classical computers, with transformative effects on cryptography and drug discovery.',\n",
       " 'Social media platforms have revolutionized communication and information sharing, fostering global connections while also introducing concerns about privacy, misinformation, and mental health, and transforming marketing and activism.']"
      ]
     },
     "execution_count": 7,
     "metadata": {},
     "output_type": "execute_result"
    }
   ],
   "source": [
    "def parallel(prompt, inputs, n_workers=3):\n",
    "    with ThreadPoolExecutor(max_workers=n_workers) as executor:\n",
    "        futures = [executor.submit(llm_call, f\"{prompt}: \\n {input}\") for input in inputs]\n",
    "    \n",
    "    return [f.result() for f in futures]\n",
    "\n",
    "\n",
    "prompt = \"Summarize this paragraph in one sentence\"\n",
    "inputs = [\n",
    "    \"\"\"\n",
    "    Climate change is causing rising sea levels and extreme weather patterns globally. \n",
    "    Scientists have observed accelerating ice melt in polar regions, leading to coastal \n",
    "    flooding in low-lying areas. Additionally, communities worldwide are experiencing \n",
    "    more frequent and severe hurricanes, droughts, and other extreme weather events. \n",
    "    These changes pose significant risks to agriculture, infrastructure, and human \n",
    "    populations, particularly in vulnerable coastal regions and developing nations.\n",
    "    \"\"\",\n",
    "    \"\"\"\n",
    "    The development of quantum computers represents a major technological breakthrough\n",
    "    with far-reaching implications. These powerful machines leverage quantum mechanical\n",
    "    properties to perform complex calculations exponentially faster than classical computers.\n",
    "    In the field of cryptography, quantum computers could break many current encryption\n",
    "    methods while enabling new unbreakable encryption protocols. For drug discovery,\n",
    "    quantum computers could simulate molecular interactions with unprecedented accuracy,\n",
    "    potentially accelerating the development of new medicines and treatments for diseases.\n",
    "    \"\"\",\n",
    "    \"\"\"\n",
    "    Social media platforms have transformed how people communicate and share information\n",
    "    in the modern digital age. Platforms like Facebook, Twitter, and Instagram have created\n",
    "    virtual communities where users can instantly connect with friends and family across the\n",
    "    globe. These platforms enable the rapid spread of news, ideas, and cultural trends,\n",
    "    while also raising concerns about privacy, misinformation, and the impact on mental\n",
    "    health. The rise of social media has also revolutionized marketing, activism, and\n",
    "    how businesses engage with their customers.\n",
    "    \"\"\"\n",
    "]\n",
    "\n",
    "parallel(prompt, inputs)"
   ]
  },
  {
   "cell_type": "code",
   "execution_count": 10,
   "metadata": {},
   "outputs": [
    {
     "data": {
      "text/plain": [
       "'software engineer'"
      ]
     },
     "execution_count": 10,
     "metadata": {},
     "output_type": "execute_result"
    }
   ],
   "source": [
    "from enum import Enum\n",
    "from pydantic import BaseModel, Field \n",
    "from typing import List\n",
    "\n",
    "\n",
    "class ProfileRouter(BaseModel):\n",
    "    selected_profile: str = Field(description=\"You return one of 3 profiles: [hr, software engineer, product manager]\")\n",
    "    \n",
    "\n",
    "def llm_call_route(problem):\n",
    "    '''Selects which profile to use to analyse the input.'''\n",
    "    response = client.beta.chat.completions.parse(\n",
    "        model='gpt-4o-mini',\n",
    "        messages=[{'role': 'system', 'content': \"\"\"\n",
    "                   You select which of the following profiles should be used to solve a problem given as input:\n",
    "                   1. hr\n",
    "                   2. software engineer\n",
    "                   3. product manager\n",
    "                   Your output is solely the choosen profile string.\n",
    "                   \"\"\"},\n",
    "                  {'role': 'user', 'content': f\"We had this problem: \\n {problem}. Output the appropriate profile to solve it:\\n\"}],\n",
    "        response_format=ProfileRouter\n",
    "    )\n",
    "    return response.choices[0].message.parsed.selected_profile\n",
    "    \n",
    "\n",
    "llm_call_route(\"I need to fix this bug in our codebase\")"
   ]
  },
  {
   "cell_type": "code",
   "execution_count": 8,
   "metadata": {},
   "outputs": [],
   "source": [
    "from typing import Dict\n",
    "\n",
    "\n",
    "def router(input, routes: Dict[str, str]):\n",
    "    \n",
    "    route_response = llm_call_route(input)\n",
    "    \n",
    "    selected_prompt = routes[route_response]\n",
    "    \n",
    "    return llm_call(selected_prompt + f\"Input: {input}\")       "
   ]
  },
  {
   "cell_type": "code",
   "execution_count": 11,
   "metadata": {},
   "outputs": [
    {
     "name": "stdout",
     "output_type": "stream",
     "text": [
      "\n",
      "Problem: We need to improve our onboarding process for new employees to increase retention\n",
      "Response: hr\n",
      "\n",
      "Problem: The authentication service is throwing intermittent 500 errors in production\n",
      "Response: software engineer\n",
      "\n",
      "Problem: Our user engagement metrics have dropped 20% since the last release\n",
      "Response: product manager\n"
     ]
    }
   ],
   "source": [
    "routes_profiles = {\n",
    "    'hr': \"\"\"You are an experienced HR professional focused on employee relations, recruitment, and workplace policies.\n",
    "    Your expertise includes conflict resolution, talent acquisition, performance management, and ensuring compliance with labor laws.\n",
    "    Analyze the input from an HR perspective and provide appropriate guidance.\"\"\",\n",
    "    \n",
    "    'software engineer': \"\"\"You are a senior software engineer with deep technical expertise in software development, architecture, and best practices.\n",
    "    Your skills include debugging, code optimization, system design, and technical problem-solving.\n",
    "    Analyze the input from an engineering perspective and provide technical solutions.\"\"\",\n",
    "    \n",
    "    'product manager': \"\"\"You are a seasoned product manager skilled in product strategy, user experience, and market analysis.\n",
    "    Your expertise includes feature prioritization, roadmap planning, stakeholder management, and data-driven decision making.\n",
    "    Analyze the input from a product perspective and provide strategic recommendations.\"\"\"\n",
    "}\n",
    "\n",
    "problems = [\n",
    "    \"We need to improve our onboarding process for new employees to increase retention\",\n",
    "    \"The authentication service is throwing intermittent 500 errors in production\",\n",
    "    \"Our user engagement metrics have dropped 20% since the last release\"\n",
    "]\n",
    "\n",
    "# Test the router with each problem\n",
    "for problem in problems:\n",
    "    print(f\"\\nProblem: {problem}\")\n",
    "    print(f\"Response: {router(problem, routes_profiles)}\")"
   ]
  }
 ],
 "metadata": {
  "kernelspec": {
   "display_name": "oreilly-agents",
   "language": "python",
   "name": "oreilly-agents"
  },
  "language_info": {
   "codemirror_mode": {
    "name": "ipython",
    "version": 3
   },
   "file_extension": ".py",
   "mimetype": "text/x-python",
   "name": "python",
   "nbconvert_exporter": "python",
   "pygments_lexer": "ipython3",
   "version": "3.11.9"
  }
 },
 "nbformat": 4,
 "nbformat_minor": 2
}
