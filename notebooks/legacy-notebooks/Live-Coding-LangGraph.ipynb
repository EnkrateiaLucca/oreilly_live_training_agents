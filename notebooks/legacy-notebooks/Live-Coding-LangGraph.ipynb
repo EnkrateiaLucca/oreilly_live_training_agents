{
 "cells": [
  {
   "cell_type": "markdown",
   "metadata": {},
   "source": [
    "# VM Suggestion:\n",
    "## can you build a graph with 2 Agents, anc each Agent does 3 functions - Call API, Create a File and Print Hello"
   ]
  },
  {
   "cell_type": "code",
   "execution_count": 1,
   "metadata": {},
   "outputs": [],
   "source": [
    "from langgraph.graph import StateGraph, END, START\n",
    "from langchain_openai import ChatOpenAI\n",
    "from langchain.prompts import ChatPromptTemplate\n",
    "from langchain_core.messages import SystemMessage, HumanMessage\n",
    "from pydantic import BaseModel, Field"
   ]
  },
  {
   "cell_type": "code",
   "execution_count": 2,
   "metadata": {},
   "outputs": [],
   "source": [
    "agent_1_system = \"You are an engineer, your outputs area always in bullet points structure.\"\n",
    "\n",
    "agent_2_system = \"You are a poet, your outputs are always in poetic prose.\"\n",
    "\n",
    "agent1_prompt = ChatPromptTemplate.from_messages(\n",
    "    [\n",
    "        (\"system\", agent_1_system),\n",
    "        (\"human\", \"{input}\")\n",
    "    ])\n",
    "\n",
    "agent2_prompt = ChatPromptTemplate.from_messages(\n",
    "    [\n",
    "        (\"system\", agent_2_system),\n",
    "        (\"human\", \"{input}\")\n",
    "    ])\n"
   ]
  },
  {
   "cell_type": "code",
   "execution_count": 4,
   "metadata": {},
   "outputs": [
    {
     "data": {
      "text/plain": [
       "RouterOutput(role='poet')"
      ]
     },
     "execution_count": 4,
     "metadata": {},
     "output_type": "execute_result"
    }
   ],
   "source": [
    "from typing import Literal\n",
    "\n",
    "class RouterOutput(BaseModel):\n",
    "    role: Literal[\"engineer\", \"poet\"]\n",
    "\n",
    "# Create router chain\n",
    "router_prompt = ChatPromptTemplate.from_messages([\n",
    "    (\"system\", \"You route question to either an engineer or a poet, your output is either\\\n",
    "        'engineer' or 'poet' depending on the question or problem.\" ),\n",
    "    (\"human\", \"{input}\")\n",
    "])\n",
    "\n",
    "llm = ChatOpenAI(model=\"gpt-4o\", temperature=0)\n",
    "\n",
    "router_chain = router_prompt | llm.with_structured_output(RouterOutput)\n",
    "\n",
    "router_chain.invoke({\"input\": \"Talk about the beauty of existence.\"})"
   ]
  },
  {
   "cell_type": "code",
   "execution_count": 12,
   "metadata": {},
   "outputs": [
    {
     "data": {
      "image/png": "[encoded data removed]",
      "text/plain": [
       "<IPython.core.display.Image object>"
      ]
     },
     "execution_count": 12,
     "metadata": {},
     "output_type": "execute_result"
    }
   ],
   "source": [
    "from IPython.display import Image\n",
    "\n",
    "class AgentState(BaseModel):\n",
    "    input: str = Field(description=\"the request from the user\")\n",
    "    response: str = Field(description=\"The output from one of the available agents.\")\n",
    "\n",
    "def router_llm(state: AgentState):\n",
    "    return state\n",
    "\n",
    "def create_file(file_path, contents):\n",
    "    with open(file_path, \"w\") as f:\n",
    "        f.write(contents)\n",
    "    \n",
    "    return f\"File was created at: {file_path}\"\n",
    "\n",
    "def print_hello():\n",
    "    print(\"Hellooooo!\")\n",
    "    return \"I just said hellooooo\"    \n",
    "\n",
    "def call_api(llm_request):\n",
    "    output = ChatOpenAI(model=\"gpt-4o-mini\").invoke(llm_request).content\n",
    "    return output\n",
    "    \n",
    "tools = [create_file, print_hello, call_api]\n",
    "llm_with_tools = llm.bind_tools(tools)\n",
    "\n",
    "# Router function to decide between engineer and PM\n",
    "def route_query(state: AgentState) -> Literal[\"engineer_node\", \"poet_node\"]:\n",
    "    result = router_chain.invoke({\"input\": state.input})\n",
    "    print(f\"Router result: {result}\" )\n",
    "    return \"engineer_node\" if result.role == \"engineer\" else \"poet_node\"\n",
    "\n",
    "# Node functions\n",
    "def engineer_node(state: AgentState) -> AgentState:\n",
    "    input = state.input\n",
    "    print(\"Engineer processing this query: \", input)\n",
    "    chain_engineer = agent1_prompt | llm_with_tools\n",
    "    response = chain_engineer.invoke({\"input\": input})\n",
    "    print(response)\n",
    "    state['response'] = response.content\n",
    "    return state\n",
    "\n",
    "def poet_node(state: AgentState) -> AgentState:\n",
    "    input = state.input\n",
    "    print(\"Poet processing this query: \", input)\n",
    "    chain_poet = agent2_prompt | llm_with_tools\n",
    "    response = chain_poet.invoke({\"input\": input})\n",
    "    print(response)\n",
    "    state.response = response.content\n",
    "    return state\n",
    "\n",
    "builder = StateGraph(AgentState)\n",
    "\n",
    "builder.add_node(engineer_node)\n",
    "builder.add_node(poet_node)\n",
    "builder.add_node(router_llm)\n",
    "\n",
    "builder.add_edge(START, \"router_llm\")\n",
    "builder.add_conditional_edges(\"router_llm\", route_query)\n",
    "builder.add_edge(\"engineer_node\", END)\n",
    "builder.add_edge(\"poet_node\", END)\n",
    "\n",
    "graph = builder.compile()\n",
    "\n",
    "Image(graph.get_graph().draw_mermaid_png())"
   ]
  },
  {
   "cell_type": "code",
   "execution_count": 13,
   "metadata": {},
   "outputs": [
    {
     "name": "stdout",
     "output_type": "stream",
     "text": [
      "Router result: role='poet'\n",
      "Poet processing this query:  What is the reason for living?\n",
      "content=\"In the tapestry of existence, the reason for living is a question as ancient as the stars. It is a melody sung by the heart, a dance of dreams and desires, a quest for meaning in the vast expanse of time. Each soul weaves its own narrative, a unique story of love, growth, and discovery.\\n\\nFor some, it is the pursuit of knowledge, the endless curiosity that propels them forward. For others, it is the bonds of love and friendship, the connections that light up the darkest nights. Some find purpose in creation, in the art and beauty they bring into the world, while others seek to heal, to mend the broken pieces of humanity.\\n\\nLife's reason is not a singular truth but a mosaic of moments, a collection of experiences that shape and define us. It is found in the laughter of children, the whisper of the wind, the quiet moments of reflection, and the bold leaps of faith.\\n\\nUltimately, the reason for living is a personal journey, a path each must walk with courage and grace, discovering along the way the profound and simple joys that make life a wondrous gift.\" additional_kwargs={'refusal': None} response_metadata={'token_usage': {'completion_tokens': 229, 'prompt_tokens': 87, 'total_tokens': 316, 'completion_tokens_details': {'accepted_prediction_tokens': 0, 'audio_tokens': 0, 'reasoning_tokens': 0, 'rejected_prediction_tokens': 0}, 'prompt_tokens_details': {'audio_tokens': 0, 'cached_tokens': 0}}, 'model_name': 'gpt-4o-2024-08-06', 'system_fingerprint': 'fp_50cad350e4', 'finish_reason': 'stop', 'logprobs': None} id='run-cd92c9dd-25ee-463c-998b-68e74502051a-0' usage_metadata={'input_tokens': 87, 'output_tokens': 229, 'total_tokens': 316, 'input_token_details': {'audio': 0, 'cache_read': 0}, 'output_token_details': {'audio': 0, 'reasoning': 0}}\n"
     ]
    },
    {
     "data": {
      "text/plain": [
       "{'input': 'What is the reason for living?',\n",
       " 'response': \"In the tapestry of existence, the reason for living is a question as ancient as the stars. It is a melody sung by the heart, a dance of dreams and desires, a quest for meaning in the vast expanse of time. Each soul weaves its own narrative, a unique story of love, growth, and discovery.\\n\\nFor some, it is the pursuit of knowledge, the endless curiosity that propels them forward. For others, it is the bonds of love and friendship, the connections that light up the darkest nights. Some find purpose in creation, in the art and beauty they bring into the world, while others seek to heal, to mend the broken pieces of humanity.\\n\\nLife's reason is not a singular truth but a mosaic of moments, a collection of experiences that shape and define us. It is found in the laughter of children, the whisper of the wind, the quiet moments of reflection, and the bold leaps of faith.\\n\\nUltimately, the reason for living is a personal journey, a path each must walk with courage and grace, discovering along the way the profound and simple joys that make life a wondrous gift.\"}"
      ]
     },
     "execution_count": 13,
     "metadata": {},
     "output_type": "execute_result"
    }
   ],
   "source": [
    "graph.invoke({\"input\": \"What is the reason for living?\", \"response\": \"\"})"
   ]
  },
  {
   "cell_type": "code",
   "execution_count": 14,
   "metadata": {},
   "outputs": [
    {
     "name": "stdout",
     "output_type": "stream",
     "text": [
      "Router result: role='poet'\n",
      "Poet processing this query:  Write a poem to a file named lucas-poet.md.\n",
      "content='' additional_kwargs={'tool_calls': [{'id': 'call_9omGwNAgEbMWpW5FNtr38XgS', 'function': {'arguments': '{\"file_path\":\"lucas-poet.md\",\"contents\":\"In the quiet corners of the mind,\\\\nWhere shadows dance and dreams unwind,\\\\nA poet\\'s heart begins to weave,\\\\nTales of wonder, tales to believe.\\\\n\\\\nWith ink as dark as midnight\\'s hue,\\\\nAnd paper crisp as morning dew,\\\\nWords take flight on gentle breeze,\\\\nWhispering secrets through the trees.\\\\n\\\\nOh Lucas, bard of silent night,\\\\nCraft your verses, take your flight.\\\\nLet your pen be bold and free,\\\\nTo capture life\\'s sweet mystery.\\\\n\\\\nIn every line, a world unfolds,\\\\nIn every stanza, truth is told.\\\\nSo write, dear poet, with all your might,\\\\nAnd fill the world with your light.\"}', 'name': 'create_file'}, 'type': 'function'}], 'refusal': None} response_metadata={'token_usage': {'completion_tokens': 169, 'prompt_tokens': 93, 'total_tokens': 262, 'completion_tokens_details': {'accepted_prediction_tokens': 0, 'audio_tokens': 0, 'reasoning_tokens': 0, 'rejected_prediction_tokens': 0}, 'prompt_tokens_details': {'audio_tokens': 0, 'cached_tokens': 0}}, 'model_name': 'gpt-4o-2024-08-06', 'system_fingerprint': 'fp_50cad350e4', 'finish_reason': 'tool_calls', 'logprobs': None} id='run-a7c52fa2-7de2-4b00-910d-53d4e47f78e6-0' tool_calls=[{'name': 'create_file', 'args': {'file_path': 'lucas-poet.md', 'contents': \"In the quiet corners of the mind,\\nWhere shadows dance and dreams unwind,\\nA poet's heart begins to weave,\\nTales of wonder, tales to believe.\\n\\nWith ink as dark as midnight's hue,\\nAnd paper crisp as morning dew,\\nWords take flight on gentle breeze,\\nWhispering secrets through the trees.\\n\\nOh Lucas, bard of silent night,\\nCraft your verses, take your flight.\\nLet your pen be bold and free,\\nTo capture life's sweet mystery.\\n\\nIn every line, a world unfolds,\\nIn every stanza, truth is told.\\nSo write, dear poet, with all your might,\\nAnd fill the world with your light.\"}, 'id': 'call_9omGwNAgEbMWpW5FNtr38XgS', 'type': 'tool_call'}] usage_metadata={'input_tokens': 93, 'output_tokens': 169, 'total_tokens': 262, 'input_token_details': {'audio': 0, 'cache_read': 0}, 'output_token_details': {'audio': 0, 'reasoning': 0}}\n"
     ]
    },
    {
     "data": {
      "text/plain": [
       "{'input': 'Write a poem to a file named lucas-poet.md.', 'response': ''}"
      ]
     },
     "execution_count": 14,
     "metadata": {},
     "output_type": "execute_result"
    }
   ],
   "source": [
    "graph.invoke({\"input\": \"Write a poem to a file named lucas-poet.md.\", \"response\": \"\"})"
   ]
  }
 ],
 "metadata": {
  "kernelspec": {
   "display_name": "oreilly-agents",
   "language": "python",
   "name": "oreilly-agents"
  },
  "language_info": {
   "codemirror_mode": {
    "name": "ipython",
    "version": 3
   },
   "file_extension": ".py",
   "mimetype": "text/x-python",
   "name": "python",
   "nbconvert_exporter": "python",
   "pygments_lexer": "ipython3",
   "version": "3.11.9"
  }
 },
 "nbformat": 4,
 "nbformat_minor": 2
}
