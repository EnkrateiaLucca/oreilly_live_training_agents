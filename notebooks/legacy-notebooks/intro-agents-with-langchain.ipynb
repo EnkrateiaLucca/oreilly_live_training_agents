{
 "cells": [
  {
   "cell_type": "code",
   "execution_count": 14,
   "metadata": {},
   "outputs": [],
   "source": [
    "# !pip install langchain\n",
    "# !pip install langchain-community\n",
    "# !pip install langchain-openai"
   ]
  },
  {
   "cell_type": "code",
   "execution_count": 1,
   "metadata": {},
   "outputs": [],
   "source": [
    "import os\n",
    "# FILEPATH: /Users/greatmaster/Desktop/projects/oreilly-live-trainings/oreilly_live_training_agents/notebooks/1.3-intro-agents-with-langchain.ipynb\n",
    "# SET YOUR API KEYS FOR LANGSMITH AND TAVILY TO RUN THIS NOTEBOOK!\n",
    "# langsmith: https://docs.smith.langchain.com/#:~:text=install%20-U%20langsmith-,Create%20an%20API%20key,click%20Create%20API%20Key.,-Setup%20your%20environment\n",
    "# tavily: https://app.tavily.com/sign-in\n",
    "# openai: https://platform.openai.com/docs/quickstart\n",
    "\n",
    "# os.environ[\"LANGCHAIN_TRACING_V2\"] = \"true\"\n",
    "# os.environ[\"LANGCHAIN_API_KEY\"] = \"your-api-key\"\n",
    "# os.environ[\"TAVILY_API_KEY\"] = \"your-api-key\"\n",
    "# os.environ[\"OPENAI_API_KEY\"] = 'your-api-key'"
   ]
  },
  {
   "cell_type": "code",
   "execution_count": 1,
   "metadata": {},
   "outputs": [
    {
     "data": {
      "text/plain": [
       "[{'title': 'Weather in San Francisco',\n",
       "  'url': 'https://www.weatherapi.com/',\n",
       "  'content': \"{'location': {'name': 'San Francisco', 'region': 'California', 'country': 'United States of America', 'lat': 37.775, 'lon': -122.4183, 'tz_id': 'America/Los_Angeles', 'localtime_epoch': 1744902463, 'localtime': '2025-04-17 08:07'}, 'current': {'last_updated_epoch': 1744902000, 'last_updated': '2025-04-17 08:00', 'temp_c': 11.7, 'temp_f': 53.1, 'is_day': 1, 'condition': {'text': 'Overcast', 'icon': '//cdn.weatherapi.com/weather/64x64/day/122.png', 'code': 1009}, 'wind_mph': 5.1, 'wind_kph': 8.3, 'wind_degree': 174, 'wind_dir': 'S', 'pressure_mb': 1014.0, 'pressure_in': 29.95, 'precip_mm': 0.0, 'precip_in': 0.0, 'humidity': 93, 'cloud': 100, 'feelslike_c': 11.0, 'feelslike_f': 51.7, 'windchill_c': 10.4, 'windchill_f': 50.7, 'heatindex_c': 11.0, 'heatindex_f': 51.7, 'dewpoint_c': 9.7, 'dewpoint_f': 49.4, 'vis_km': 14.0, 'vis_miles': 8.0, 'uv': 0.2, 'gust_mph': 7.1, 'gust_kph': 11.4}}\",\n",
       "  'score': 0.9538747},\n",
       " {'title': 'Thursday, April 17, 2025. San Francisco, CA - Weather Forecast',\n",
       "  'url': 'https://weathershogun.com/weather/usa/ca/san-francisco/480/april/2025-04-17',\n",
       "  'content': 'San Francisco, California Weather: Thursday, April 17, 2025. Cloudy weather, overcast skies with clouds. Day 64°. Night 55°.',\n",
       "  'score': 0.9392538},\n",
       " {'title': 'Weather San Francisco in April 2025: Temperature & Climate',\n",
       "  'url': 'https://en.climate-data.org/north-america/united-states-of-america/california/san-francisco-385/t/april-4/',\n",
       "  'content': '14.9 °C\\n\\n(58.7) °F\\n\\n16.2 °C\\n\\n(61.2) °F\\n\\n17.4 °C\\n\\n(63.3) °F\\n\\n19.2 °C\\n\\n(66.5) °F\\n\\n21.5 °C\\n\\n(70.8) °F\\n\\n21.8 °C\\n\\n(71.2) °F\\n\\n22.2 °C\\n\\n(71.9) °F\\n\\n23.1 °C\\n\\n(73.6) °F\\n\\n21.3 °C\\n\\n(70.3) °F\\n\\n17.1 °C\\n\\n(62.8) °F\\n\\n13.9 °C\\n\\n(57.1) °F\\n\\n113\\n\\n(4)\\n\\n118\\n\\n(4)\\n\\n83\\n\\n(3)\\n\\n40\\n\\n(1)\\n\\n21\\n\\n(0)\\n\\n6\\n\\n(0)\\n\\n2\\n\\n(0)\\n\\n2\\n\\n(0)\\n\\n3\\n\\n(0)\\n\\n25\\n\\n(0)\\n\\n57\\n\\n(2)\\n\\n111\\n\\n(4) [...] Precipitation / Rainfall mm (in) | 113(4) | 118(4) | 83(3) | 40(1) | 21(0) | 6(0) | 2(0) | 2(0) | 3(0) | 25(0) | 57(2) | 111(4)\\nHumidity(%) | 79% | 80% | 78% | 72% | 70% | 69% | 74% | 74% | 71% | 70% | 76% | 78%\\nRainy days (d) | 8 | 7 | 6 | 4 | 2 | 1 | 0 | 0 | 0 | 2 | 5 | 7\\navg. Sun hours (hours) | 5.9 | 6.5 | 7.8 | 9.1 | 9.1 | 9.3 | 7.4 | 6.8 | 7.6 | 7.3 | 6.8 | 5.8\\n9.6 °C [...] Min. Temperature °C (°F) | 6.2 °C(43.2) °F | 7.1 °C(44.8) °F | 8.2 °C(46.8) °F | 8.9 °C(48.1) °F | 10.3 °C(50.6) °F | 11.8 °C(53.3) °F | 12.7 °C(54.9) °F | 13.3 °C(55.9) °F | 13.1 °C(55.6) °F | 11.9 °C(53.4) °F | 9 °C(48.2) °F | 6.8 °C(44.2) °F\\nMax. Temperature °C (°F) | 14 °C(57.3) °F | 14.9 °C(58.7) °F | 16.2 °C(61.2) °F | 17.4 °C(63.3) °F | 19.2 °C(66.5) °F | 21.5 °C(70.8) °F | 21.8 °C(71.2) °F | 22.2 °C(71.9) °F | 23.1 °C(73.6) °F | 21.3 °C(70.3) °F | 17.1 °C(62.8) °F | 13.9 °C(57.1) °F',\n",
       "  'score': 0.8533396},\n",
       " {'title': 'San Francisco weather in April 2025 | California, USA',\n",
       "  'url': 'https://www.weather2travel.com/california/san-francisco/april/',\n",
       "  'content': 'San Francisco weather in April 2025\\n\\nExpect  daytime maximum temperatures of 17°C in San Francisco, California in April based on long-term weather averages. There are 10 hours of sunshine per day on average with typically 40 mm of rainfall in the month.\\n\\nMore about San Francisco\\n\\nSan Francisco by month\\n\\nJan\\nFeb\\nMar\\nApr\\nMay\\nJun\\nJul\\nAug\\nSep\\nOct\\nNov\\nDec\\n\\nRecommended for California\\n\\nTUI: up to 7% off holidays booked online\\n\\nView all TUI offers\\n\\nTUI deal finder\\n\\nDestination\\n\\nAny destination [...] The April weather guide for California (San Francisco) shows long term weather averages processed from data supplied by CRU (University of East Anglia), the Met Office & the Netherlands Meteorological Institute. Find out more about our data sources.\\n\\nMetric (°C / mm) \\xa0|\\xa0 Imperial (°F / inches)\\n\\nBack to top\\n\\nMore about San Francisco\\n\\nHow warm is it in San Francisco in April?\\n\\nDaytime temperatures usually reach 17°C in San Francisco in April, falling to 9°C at night.',\n",
       "  'score': 0.8412138},\n",
       " {'title': 'San Francisco weather in April 2025 | Weather25.com',\n",
       "  'url': 'https://www.weather25.com/north-america/usa/california/san-francisco?page=month&month=April',\n",
       "  'content': '| Sun | Mon | Tue | Wed | Thu | Fri | Sat |\\n| --- | --- | --- | --- | --- | --- | --- |\\n| \\n | \\n| 1  53° /48° | 2  53° /46° | 3  53° /46° | 4  62° /48° | 5  64° /53° |\\n| 6  57° /51° | 7  59° /50° | 8  60° /50° | 9  64° /53° | 10  64° /55° | 11  59° /53° | 12  55° /48° |\\n| 13  59° /46° | 14  59° /48° | 15  60° /48° | 16  62° /48° | 17  60° /48° | 18  60° /50° | 19  60° /50° |\\n| 20  60° /48° | 21  62° /50° | 22  62° /50° | 23  62° /50° | 24  62° /50° | 25  60° /50° | 26  64° /50° | [...] The temperatures in San Francisco in April are quite cold with temperatures between 48°F and 64°F, warm clothes are a must.\\nThe wather in San Francisco in April can vary between cold and nice weather days. Expect a few rainy days but usually not more than 3.\\nOur weather forecast can give you a great sense of what weather to expect in San Francisco in April 2025. [...] | July | 77° / 57° | 0 | 31 | 0 | 0.12 in | \\nPerfect\\n| San Francisco in July |\\n| August | 77° / 57° | 0 | 31 | 0 | 0.12 in | \\nPerfect\\n| San Francisco in August |\\n| September | 77° / 57° | 0 | 30 | 0 | 0.16 in | \\nPerfect\\n| San Francisco in September |\\n| October | 73° / 55° | 1 | 30 | 0 | 1.02 in | \\nPerfect\\n| San Francisco in October |\\n| November | 64° / 50° | 3 | 27 | 0 | 1.46 in | \\nGood\\n| San Francisco in November |\\n| December | 57° / 46° | 4 | 27 | 0 | 2.17 in | \\nGood',\n",
       "  'score': 0.82994765}]"
      ]
     },
     "execution_count": 1,
     "metadata": {},
     "output_type": "execute_result"
    }
   ],
   "source": [
    "from langchain_community.tools.tavily_search import TavilySearchResults\n",
    "from langchain_openai import ChatOpenAI\n",
    "\n",
    "search = TavilySearchResults()\n",
    "\n",
    "search.invoke(\"what is the weather in SF\")"
   ]
  },
  {
   "cell_type": "code",
   "execution_count": 2,
   "metadata": {},
   "outputs": [],
   "source": [
    "from langchain_core.tools import tool\n",
    "\n",
    "@tool \n",
    "def create_file(content: str, filename: str):\n",
    "    \"\"\"\n",
    "    Create a file with the given content.\n",
    "    \"\"\"\n",
    "    with open(filename, \"w\") as f:\n",
    "        f.write(content)\n"
   ]
  },
  {
   "cell_type": "code",
   "execution_count": 3,
   "metadata": {},
   "outputs": [],
   "source": [
    "create_file.invoke({\"content\": \"file content\", \"filename\": \"file.txt\"}) "
   ]
  },
  {
   "cell_type": "code",
   "execution_count": 4,
   "metadata": {},
   "outputs": [],
   "source": [
    "tools = [search, create_file]"
   ]
  },
  {
   "cell_type": "code",
   "execution_count": 5,
   "metadata": {},
   "outputs": [],
   "source": [
    "# Set up the model\n",
    "llm = ChatOpenAI(model=\"gpt-4o\", temperature=0)"
   ]
  },
  {
   "cell_type": "code",
   "execution_count": 6,
   "metadata": {},
   "outputs": [
    {
     "data": {
      "text/plain": [
       "[SystemMessagePromptTemplate(prompt=PromptTemplate(input_variables=[], input_types={}, partial_variables={}, template='You are a helpful assistant'), additional_kwargs={}),\n",
       " MessagesPlaceholder(variable_name='chat_history', optional=True),\n",
       " HumanMessagePromptTemplate(prompt=PromptTemplate(input_variables=['input'], input_types={}, partial_variables={}, template='{input}'), additional_kwargs={}),\n",
       " MessagesPlaceholder(variable_name='agent_scratchpad')]"
      ]
     },
     "execution_count": 6,
     "metadata": {},
     "output_type": "execute_result"
    }
   ],
   "source": [
    "from langchain import hub\n",
    "\n",
    "prompt = hub.pull(\"hwchase17/openai-tools-agent\")\n",
    "prompt.messages"
   ]
  },
  {
   "cell_type": "code",
   "execution_count": 7,
   "metadata": {},
   "outputs": [],
   "source": [
    "from langchain.agents import create_tool_calling_agent\n",
    "\n",
    "agent = create_tool_calling_agent(llm, tools, prompt)"
   ]
  },
  {
   "cell_type": "code",
   "execution_count": 8,
   "metadata": {},
   "outputs": [
    {
     "data": {
      "text/plain": [
       "RunnableAssign(mapper={\n",
       "  agent_scratchpad: RunnableLambda(lambda x: message_formatter(x['intermediate_steps']))\n",
       "})\n",
       "| ChatPromptTemplate(input_variables=['agent_scratchpad', 'input'], optional_variables=['chat_history'], input_types={'chat_history': list[typing.Annotated[typing.Union[typing.Annotated[langchain_core.messages.ai.AIMessage, Tag(tag='ai')], typing.Annotated[langchain_core.messages.human.HumanMessage, Tag(tag='human')], typing.Annotated[langchain_core.messages.chat.ChatMessage, Tag(tag='chat')], typing.Annotated[langchain_core.messages.system.SystemMessage, Tag(tag='system')], typing.Annotated[langchain_core.messages.function.FunctionMessage, Tag(tag='function')], typing.Annotated[langchain_core.messages.tool.ToolMessage, Tag(tag='tool')], typing.Annotated[langchain_core.messages.ai.AIMessageChunk, Tag(tag='AIMessageChunk')], typing.Annotated[langchain_core.messages.human.HumanMessageChunk, Tag(tag='HumanMessageChunk')], typing.Annotated[langchain_core.messages.chat.ChatMessageChunk, Tag(tag='ChatMessageChunk')], typing.Annotated[langchain_core.messages.system.SystemMessageChunk, Tag(tag='SystemMessageChunk')], typing.Annotated[langchain_core.messages.function.FunctionMessageChunk, Tag(tag='FunctionMessageChunk')], typing.Annotated[langchain_core.messages.tool.ToolMessageChunk, Tag(tag='ToolMessageChunk')]], FieldInfo(annotation=NoneType, required=True, discriminator=Discriminator(discriminator=<function _get_type at 0x1165bcf40>, custom_error_type=None, custom_error_message=None, custom_error_context=None))]], 'agent_scratchpad': list[typing.Annotated[typing.Union[typing.Annotated[langchain_core.messages.ai.AIMessage, Tag(tag='ai')], typing.Annotated[langchain_core.messages.human.HumanMessage, Tag(tag='human')], typing.Annotated[langchain_core.messages.chat.ChatMessage, Tag(tag='chat')], typing.Annotated[langchain_core.messages.system.SystemMessage, Tag(tag='system')], typing.Annotated[langchain_core.messages.function.FunctionMessage, Tag(tag='function')], typing.Annotated[langchain_core.messages.tool.ToolMessage, Tag(tag='tool')], typing.Annotated[langchain_core.messages.ai.AIMessageChunk, Tag(tag='AIMessageChunk')], typing.Annotated[langchain_core.messages.human.HumanMessageChunk, Tag(tag='HumanMessageChunk')], typing.Annotated[langchain_core.messages.chat.ChatMessageChunk, Tag(tag='ChatMessageChunk')], typing.Annotated[langchain_core.messages.system.SystemMessageChunk, Tag(tag='SystemMessageChunk')], typing.Annotated[langchain_core.messages.function.FunctionMessageChunk, Tag(tag='FunctionMessageChunk')], typing.Annotated[langchain_core.messages.tool.ToolMessageChunk, Tag(tag='ToolMessageChunk')]], FieldInfo(annotation=NoneType, required=True, discriminator=Discriminator(discriminator=<function _get_type at 0x1165bcf40>, custom_error_type=None, custom_error_message=None, custom_error_context=None))]]}, partial_variables={'chat_history': []}, metadata={'lc_hub_owner': 'hwchase17', 'lc_hub_repo': 'openai-tools-agent', 'lc_hub_commit_hash': 'c18672812789a3b9697656dd539edf0120285dcae36396d0b548ae42a4ed66f5'}, messages=[SystemMessagePromptTemplate(prompt=PromptTemplate(input_variables=[], input_types={}, partial_variables={}, template='You are a helpful assistant'), additional_kwargs={}), MessagesPlaceholder(variable_name='chat_history', optional=True), HumanMessagePromptTemplate(prompt=PromptTemplate(input_variables=['input'], input_types={}, partial_variables={}, template='{input}'), additional_kwargs={}), MessagesPlaceholder(variable_name='agent_scratchpad')])\n",
       "| RunnableBinding(bound=ChatOpenAI(client=<openai.resources.chat.completions.completions.Completions object at 0x120902750>, async_client=<openai.resources.chat.completions.completions.AsyncCompletions object at 0x120849650>, root_client=<openai.OpenAI object at 0x12080f2d0>, root_async_client=<openai.AsyncOpenAI object at 0x120902910>, model_name='gpt-4o', temperature=0.0, model_kwargs={}, openai_api_key=SecretStr('**********'), openai_api_base='https://api.openai.com/v1'), kwargs={'tools': [{'type': 'function', 'function': {'name': 'tavily_search_results_json', 'description': 'A search engine optimized for comprehensive, accurate, and trusted results. Useful for when you need to answer questions about current events. Input should be a search query.', 'parameters': {'properties': {'query': {'description': 'search query to look up', 'type': 'string'}}, 'required': ['query'], 'type': 'object'}}}, {'type': 'function', 'function': {'name': 'create_file', 'description': 'Create a file with the given content.', 'parameters': {'properties': {'content': {'type': 'string'}, 'filename': {'type': 'string'}}, 'required': ['content', 'filename'], 'type': 'object'}}}]}, config={}, config_factories=[])\n",
       "| ToolsAgentOutputParser()"
      ]
     },
     "execution_count": 8,
     "metadata": {},
     "output_type": "execute_result"
    }
   ],
   "source": [
    "agent"
   ]
  },
  {
   "cell_type": "code",
   "execution_count": 9,
   "metadata": {},
   "outputs": [
    {
     "name": "stdout",
     "output_type": "stream",
     "text": [
      "\n",
      "\n",
      "\u001b[1m> Entering new AgentExecutor chain...\u001b[0m\n",
      "\u001b[32;1m\u001b[1;3m\n",
      "Invoking: `tavily_search_results_json` with `{'query': 'why pancakes are the best'}`\n",
      "\n",
      "\n",
      "\u001b[0m\u001b[36;1m\u001b[1;3m[{'title': \"Writers' Block: No Need to Waffle, It's Clear that Pancakes are the ...\", 'url': 'https://www.cunesower.com/writers-block-no-need-to-waffle-its-clear-that-pancakes-are-the-better-choice/', 'content': 'Writers’ Block: No Need to Waffle, It’s Clear that Pancakes are the Better Choice\\n\\nMeredith Boster\\nSower Staff\\n\\n\\n\\nPancakes are one of the best foods, if not the best food ever to exist.\\n\\nThey are easy to make, easy to stack and easy to eat. They have an infinite number of combinations that go with them, they’re filling, and they can be eaten for breakfast, lunch or dinner. [...] Pancakes are time efficient, delicious, filling and versatile. THAT is why they are superior to any other food.\\n\\nSimilar articles\\n\\nStudents find enjoyment in majors across CUNE’s 11 departments\\n\\nCartoon by Nora Betts: “Sanctifying Weather”\\n\\nPlease leave a reply. Your comment will be reviewed by the Sower editors before posting. Cancel reply\\n\\nYou must be logged in to post a comment.\\n\\nLatest Opinion Posts\\n\\nCartoon by Nora Betts: “Sanctifying Weather”\\n\\nCartoon by Nora Betts: “Black Ice” [...] Pancakes are not only very versatile, but they are DELICIOUS. The most perfect pancake is one that is fried perfectly on both sides and fluffy in the middle, with a crispy layer of delicious goodness with the first bite.\\n\\nThe number of toppings that can be put on pancakes is practically preposterous\\xa0 – strawberries, blueberries, raspberries, bananas, almond butter, peanut butter, cinnamon and honey butter and regular butter.', 'score': 0.81347597}, {'title': '13 Reasons Pancakes Are Way Better Than Waffles - BuzzFeed', 'url': 'https://www.buzzfeed.com/ryankincaid/stacks-on-stacks', 'content': \"2.\\nIt’s encouraged to eat tons of pancakes at the same time. Not as socially acceptable to eat three or more waffles.\\n\\n3.\\nWith pancakes you get that special syrup drip alllll the way down the sides, but with waffles, it just kind of pools there.\\n\\n4.\\nPancakes are FAR superior for add-ins. Chocolate chips, bananas, pecans, etc. Waffles don’t play that game nearly as well.\\n\\n5.\\nYou need a special iron for waffles and it's so hard to clean. So high maintenance. [...] 6.\\nYou can make pancakes over a campfire and enjoy them in the great outdoors.\\n\\n7.\\nYou can make pancake balls but not waffle balls.\\n\\n8.\\nPancakes are flat and therefore better for when you want to drag them all the way across your plate to soak up syrup.\\n\\n9.\\nIt's impossible to spread butter on top of a waffle, but with pancakes it's oh so smooth.\\n\\n10.\\nPancakes are like fluffy carbohydrate pillows. You'd definitely lie down on a pancake before you'd lie down on a waffle. [...] Browse links\\n\\nNewsletters\\n\\nThe best of the internet, delivered straight to your inbox!\\n\\nPop Culture\\n\\nQuizzes & Games\\n\\nShopping\\n\\nVideo\\n\\nLifestyle\\n\\nCommunity\\n\\nFrom Our Partners\\n\\nAbout\\n\\nBuzzFeed Tasty\\n\\nBuzzFeed Goodful\\n\\nHuffPost\\n\\n13 Reasons Pancakes Are Way Better Than Waffles\\n\\nIn this head-to-head battle between breakfast all-stars, there can only be one winner, and that winner is pancakes.\\n\\nBuzzFeed Staff\\n\\n1.\\nPancakes can and should be stacked for maximum enjoyment. Who stacks waffles?\", 'score': 0.8021998}, {'title': 'Flipping Fantastic: Why Pancakes Are the Ultimate Breakfast', 'url': 'https://www.earlybirdseat.com/blog/flipping-fantastic-why-pancakes-reign-supreme-as-the-ultimate-breakfast-food/', 'content': 'In conclusion, pancakes are more than just a breakfast food; they’re a culinary delight that embodies comfort, versatility, and nostalgia. With their endless flavor possibilities, nutritional benefits, and ease of preparation, it’s no wonder pancakes reign supreme as the ultimate breakfast food. So why wait? Embrace the fluffiness, savor the sweetness, and start your day off right with a plateful of pancakes. Your taste buds—and your soul—will thank you. [...] When it comes to breakfast, few dishes evoke the same level of universal delight as pancakes. Whether fluffy stacks drizzled with syrup, adorned with fruits, or sprinkled with chocolate chips, pancakes have secured their spot as the undisputed champion of morning meals. But beyond their delicious appeal, pancakes also boast a plethora of reasons why they deserve the title of the ultimate breakfast food. Join us as we explore why pancakes reign supreme and why you should indulge in them every [...] Waitlist Available Daily - Early Birds Get the Worm\\n\\nFlipping Fantastic: Why Pancakes Reign Supreme as the Ultimate Breakfast Food', 'score': 0.78552294}, {'title': 'Why do pancakes from restaurants taste so much better than ... - Quora', 'url': 'https://www.quora.com/Why-do-pancakes-from-restaurants-taste-so-much-better-than-the-pancakes-I-make-at-home', 'content': 'Restaurant pancakes taste better because they use a professional griddle and the even heat cooks them better (crisper and more evenly) than you', 'score': 0.7604555}, {'title': 'Why Pancakes Are Better Than Waffles | PS Food - Popsugar', 'url': 'https://www.popsugar.com/food/why-pancakes-better-than-waffles-46335811', 'content': \"Reason 1: They're easier to make. Like I said, you don't need a waffle maker to make pancakes. All you need are your ingredients (or a premade\", 'score': 0.7574541}]\u001b[0m\u001b[32;1m\u001b[1;3m\n",
      "Invoking: `create_file` with `{'filename': 'pancakes.txt', 'content': \"Pancakes are celebrated as one of the best foods for several reasons:\\n\\n1. **Versatility and Ease of Preparation**: Pancakes are incredibly easy to make and can be prepared with basic kitchen tools, unlike waffles which require a special iron. This makes pancakes more accessible and less high-maintenance.\\n\\n2. **Stackability and Social Acceptance**: It's socially acceptable to eat multiple pancakes at once, and they are designed to be stacked, enhancing the eating experience. In contrast, eating multiple waffles is less common.\\n\\n3. **Perfect for Add-ins and Toppings**: Pancakes are perfect for a variety of add-ins like chocolate chips, bananas, and pecans. They also allow for a wide range of toppings, including strawberries, blueberries, raspberries, bananas, almond butter, peanut butter, cinnamon, honey butter, and regular butter.\\n\\n4. **Syrup and Butter Application**: Pancakes allow syrup to drip down the sides beautifully and make it easy to spread butter smoothly, unlike waffles where syrup pools and butter is hard to spread.\\n\\n5. **Outdoor Cooking**: Pancakes can be made over a campfire, making them a great option for outdoor adventures.\\n\\n6. **Comfort and Nostalgia**: Pancakes evoke a sense of comfort and nostalgia, often associated with family breakfasts and special occasions.\\n\\n7. **Nutritional Benefits**: Depending on the ingredients used, pancakes can offer nutritional benefits and can be customized to fit dietary needs.\\n\\n8. **Fluffy Texture**: Pancakes are like fluffy carbohydrate pillows, offering a delightful texture that is both comforting and satisfying.\\n\\nIn conclusion, pancakes are more than just a breakfast food; they are a culinary delight that embodies comfort, versatility, and nostalgia. With their endless flavor possibilities, ease of preparation, and universal appeal, pancakes reign supreme as the ultimate breakfast food.\"}`\n",
      "\n",
      "\n",
      "\u001b[0m\u001b[33;1m\u001b[1;3mNone\u001b[0m\u001b[32;1m\u001b[1;3mI have created a file named `pancakes.txt` with updated information about why pancakes are considered the best.\u001b[0m\n",
      "\n",
      "\u001b[1m> Finished chain.\u001b[0m\n"
     ]
    },
    {
     "data": {
      "text/plain": [
       "{'input': 'Write a file named pancakes.txt with updated information from the web about why pancakes are the best.',\n",
       " 'output': 'I have created a file named `pancakes.txt` with updated information about why pancakes are considered the best.'}"
      ]
     },
     "execution_count": 9,
     "metadata": {},
     "output_type": "execute_result"
    }
   ],
   "source": [
    "from langchain.agents import AgentExecutor\n",
    "\n",
    "agent_executor = AgentExecutor(agent=agent, tools=tools, verbose=True)\n",
    "\n",
    "agent_executor.invoke({\"input\": \"Write a file named pancakes.txt with updated information from the web about why pancakes are the best.\"})"
   ]
  }
 ],
 "metadata": {
  "kernelspec": {
   "display_name": "oreilly-langchain",
   "language": "python",
   "name": "oreilly-langchain"
  },
  "language_info": {
   "codemirror_mode": {
    "name": "ipython",
    "version": 3
   },
   "file_extension": ".py",
   "mimetype": "text/x-python",
   "name": "python",
   "nbconvert_exporter": "python",
   "pygments_lexer": "ipython3",
   "version": "3.11.9"
  }
 },
 "nbformat": 4,
 "nbformat_minor": 4
}
