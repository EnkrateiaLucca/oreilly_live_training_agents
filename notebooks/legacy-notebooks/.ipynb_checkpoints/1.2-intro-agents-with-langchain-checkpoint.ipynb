{
 "cells": [
  {
   "cell_type": "code",
   "execution_count": 14,
   "metadata": {},
   "outputs": [],
   "source": [
    "# !pip install langchain\n",
    "# !pip install langchain-community\n",
    "# !pip install langchain-openai"
   ]
  },
  {
   "cell_type": "code",
   "execution_count": 1,
   "metadata": {},
   "outputs": [],
   "source": [
    "import os\n",
    "# FILEPATH: /Users/greatmaster/Desktop/projects/oreilly-live-trainings/oreilly_live_training_agents/notebooks/1.3-intro-agents-with-langchain.ipynb\n",
    "# SET YOUR API KEYS FOR LANGSMITH AND TAVILY TO RUN THIS NOTEBOOK!\n",
    "# langsmith: https://docs.smith.langchain.com/#:~:text=install%20-U%20langsmith-,Create%20an%20API%20key,click%20Create%20API%20Key.,-Setup%20your%20environment\n",
    "# tavily: https://app.tavily.com/sign-in\n",
    "# openai: https://platform.openai.com/docs/quickstart\n",
    "\n",
    "# os.environ[\"LANGCHAIN_TRACING_V2\"] = \"true\"\n",
    "# os.environ[\"LANGCHAIN_API_KEY\"] = \"your-api-key\"\n",
    "# os.environ[\"TAVILY_API_KEY\"] = \"your-api-key\"\n",
    "# os.environ[\"OPENAI_API_KEY\"] = 'your-api-key'"
   ]
  },
  {
   "cell_type": "code",
   "execution_count": 2,
   "metadata": {},
   "outputs": [
    {
     "data": {
      "text/plain": [
       "[{'url': 'https://weatherspark.com/h/m/568/2025/4/Historical-Weather-in-April-2025-in-South-San-Francisco-California-United-States',\n",
       "  'content': 'The data for this report comes from the San Francisco International Airport. See all nearby weather stations\\n\\nLatest Report â\\x80\\x94 5:56 AM\\n\\nThu, Apr 17, 2025\\xa0\\xa0\\xa0\\xa019 min ago\\xa0\\xa0\\xa0\\xa0UTC 12:56\\n\\nCall Sign KSFO\\n\\nTemp.\\n\\n52.0Â°F\\n\\nDew Pt. | 50.0Â°Fdry\\nRel. Humidity | 93%\\nPrecipitation - last 1 hr\\n\\n0.00 in\\n\\nWind\\n\\n0.0 mph\\n\\nCloud Cover\\n\\nOvercast\\n\\n\\n2,400 ft [...] TodayYesterdayApr20251940195019601970198019902000201020202016201720182019202020212022202320242025SpringSummerFallWinterJanFebMarAprMayJunJulAugSepOctNovDec123456789101112131415161718192021222324252627282930April 2025 Weather History in South San FranciscoCalifornia, United StatesThe data for this report comes from the San Francisco International Airport.See all nearby weather stationsLatest Reportâ\\x80\\x945:56 AMThu, Apr 17, 2025\\xa0\\xa0\\xa0\\xa019 min ago\\xa0\\xa0\\xa0\\xa0UTC 12:56Call Sign KSFOTemp.52.0Â°FcoldDew [...] Pt.50.0Â°FdryRel. Humidity93%Precipitation - last 1 hr0.00inWind0.0mphcalmCloud CoverOvercast2,400 ftMostly Clear 800 ftMostly Cloudy 1,900 ftVis.10.00 mi or greaterAlt.29.94 inHgRaw: KSFO 171256Z 00000KT 10SM FEW008 BKN019 OVC024 11/10 A2994 RMK AO2 RAE09B40E52 SLP137 P0000 T01110100This report shows the past weather for South San Francisco, providing a weather history for April 2025. It features all historical weather data series we have available, including the South San Francisco'},\n",
       " {'url': 'https://www.weatherapi.com/',\n",
       "  'content': \"{'location': {'name': 'San Francisco', 'region': 'California', 'country': 'United States of America', 'lat': 37.775, 'lon': -122.4183, 'tz_id': 'America/Los_Angeles', 'localtime_epoch': 1744895458, 'localtime': '2025-04-17 06:10'}, 'current': {'last_updated_epoch': 1744894800, 'last_updated': '2025-04-17 06:00', 'temp_c': 12.2, 'temp_f': 54.0, 'is_day': 0, 'condition': {'text': 'Light rain', 'icon': '//cdn.weatherapi.com/weather/64x64/night/296.png', 'code': 1183}, 'wind_mph': 6.7, 'wind_kph': 10.8, 'wind_degree': 183, 'wind_dir': 'S', 'pressure_mb': 1014.0, 'pressure_in': 29.94, 'precip_mm': 0.0, 'precip_in': 0.0, 'humidity': 83, 'cloud': 100, 'feelslike_c': 11.1, 'feelslike_f': 52.1, 'windchill_c': 10.3, 'windchill_f': 50.5, 'heatindex_c': 11.0, 'heatindex_f': 51.7, 'dewpoint_c': 10.5, 'dewpoint_f': 50.9, 'vis_km': 14.0, 'vis_miles': 8.0, 'uv': 0.0, 'gust_mph': 9.5, 'gust_kph': 15.3}}\"},\n",
       " {'url': 'https://en.climate-data.org/north-america/united-states-of-america/california/san-francisco-385/t/april-4/',\n",
       "  'content': '14.9 °C\\n\\n(58.7) °F\\n\\n16.2 °C\\n\\n(61.2) °F\\n\\n17.4 °C\\n\\n(63.3) °F\\n\\n19.2 °C\\n\\n(66.5) °F\\n\\n21.5 °C\\n\\n(70.8) °F\\n\\n21.8 °C\\n\\n(71.2) °F\\n\\n22.2 °C\\n\\n(71.9) °F\\n\\n23.1 °C\\n\\n(73.6) °F\\n\\n21.3 °C\\n\\n(70.3) °F\\n\\n17.1 °C\\n\\n(62.8) °F\\n\\n13.9 °C\\n\\n(57.1) °F\\n\\n113\\n\\n(4)\\n\\n118\\n\\n(4)\\n\\n83\\n\\n(3)\\n\\n40\\n\\n(1)\\n\\n21\\n\\n(0)\\n\\n6\\n\\n(0)\\n\\n2\\n\\n(0)\\n\\n2\\n\\n(0)\\n\\n3\\n\\n(0)\\n\\n25\\n\\n(0)\\n\\n57\\n\\n(2)\\n\\n111\\n\\n(4) [...] Precipitation / Rainfall mm (in) | 113(4) | 118(4) | 83(3) | 40(1) | 21(0) | 6(0) | 2(0) | 2(0) | 3(0) | 25(0) | 57(2) | 111(4)\\nHumidity(%) | 79% | 80% | 78% | 72% | 70% | 69% | 74% | 74% | 71% | 70% | 76% | 78%\\nRainy days (d) | 8 | 7 | 6 | 4 | 2 | 1 | 0 | 0 | 0 | 2 | 5 | 7\\navg. Sun hours (hours) | 5.9 | 6.5 | 7.8 | 9.1 | 9.1 | 9.3 | 7.4 | 6.8 | 7.6 | 7.3 | 6.8 | 5.8\\n9.6 °C [...] Min. Temperature °C (°F) | 6.2 °C(43.2) °F | 7.1 °C(44.8) °F | 8.2 °C(46.8) °F | 8.9 °C(48.1) °F | 10.3 °C(50.6) °F | 11.8 °C(53.3) °F | 12.7 °C(54.9) °F | 13.3 °C(55.9) °F | 13.1 °C(55.6) °F | 11.9 °C(53.4) °F | 9 °C(48.2) °F | 6.8 °C(44.2) °F\\nMax. Temperature °C (°F) | 14 °C(57.3) °F | 14.9 °C(58.7) °F | 16.2 °C(61.2) °F | 17.4 °C(63.3) °F | 19.2 °C(66.5) °F | 21.5 °C(70.8) °F | 21.8 °C(71.2) °F | 22.2 °C(71.9) °F | 23.1 °C(73.6) °F | 21.3 °C(70.3) °F | 17.1 °C(62.8) °F | 13.9 °C(57.1) °F'},\n",
       " {'url': 'https://www.weather2travel.com/california/san-francisco/april/',\n",
       "  'content': 'San Francisco weather in April 2025\\n\\nExpect  daytime maximum temperatures of 17°C in San Francisco, California in April based on long-term weather averages. There are 10 hours of sunshine per day on average with typically 40 mm of rainfall in the month.\\n\\nMore about San Francisco\\n\\nSan Francisco by month\\n\\nJan\\nFeb\\nMar\\nApr\\nMay\\nJun\\nJul\\nAug\\nSep\\nOct\\nNov\\nDec\\n\\nRecommended for California\\n\\nTUI: up to 7% off holidays booked online\\n\\nView all TUI offers\\n\\nTUI deal finder\\n\\nDestination\\n\\nAny destination'},\n",
       " {'url': 'https://www.weather25.com/north-america/usa/california/san-francisco?page=month&month=April',\n",
       "  'content': '| Sun | Mon | Tue | Wed | Thu | Fri | Sat |\\n| --- | --- | --- | --- | --- | --- | --- |\\n| \\n | \\n| 1  53° /48° | 2  53° /46° | 3  53° /46° | 4  62° /48° | 5  64° /53° |\\n| 6  57° /51° | 7  59° /50° | 8  60° /50° | 9  64° /53° | 10  64° /55° | 11  59° /53° | 12  55° /48° |\\n| 13  59° /46° | 14  59° /48° | 15  60° /48° | 16  62° /48° | 17  60° /48° | 18  60° /50° | 19  60° /50° |\\n| 20  60° /48° | 21  62° /50° | 22  62° /50° | 23  62° /50° | 24  62° /50° | 25  60° /50° | 26  64° /50° | [...] The temperatures in San Francisco in April are quite cold with temperatures between 48°F and 64°F, warm clothes are a must.\\nThe wather in San Francisco in April can vary between cold and nice weather days. Expect a few rainy days but usually not more than 3.\\nOur weather forecast can give you a great sense of what weather to expect in San Francisco in April 2025. [...] | July | 77° / 57° | 0 | 31 | 0 | 0.12 in | \\nPerfect\\n| San Francisco in July |\\n| August | 77° / 57° | 0 | 31 | 0 | 0.12 in | \\nPerfect\\n| San Francisco in August |\\n| September | 77° / 57° | 0 | 30 | 0 | 0.16 in | \\nPerfect\\n| San Francisco in September |\\n| October | 73° / 55° | 1 | 30 | 0 | 1.02 in | \\nPerfect\\n| San Francisco in October |\\n| November | 64° / 50° | 3 | 27 | 0 | 1.46 in | \\nGood\\n| San Francisco in November |\\n| December | 57° / 46° | 4 | 27 | 0 | 2.17 in | \\nGood'}]"
      ]
     },
     "execution_count": 2,
     "metadata": {},
     "output_type": "execute_result"
    }
   ],
   "source": [
    "from langchain_community.tools.tavily_search import TavilySearchResults\n",
    "from langchain_openai import ChatOpenAI\n",
    "\n",
    "search = TavilySearchResults()\n",
    "\n",
    "search.invoke(\"what is the weather in SF\")"
   ]
  },
  {
   "cell_type": "code",
   "execution_count": 3,
   "metadata": {},
   "outputs": [],
   "source": [
    "from langchain_core.tools import tool\n",
    "\n",
    "@tool \n",
    "def create_file(content: str, filename: str):\n",
    "    \"\"\"\n",
    "    Create a file with the given content.\n",
    "    \"\"\"\n",
    "    with open(filename, \"w\") as f:\n",
    "        f.write(content)\n"
   ]
  },
  {
   "cell_type": "code",
   "execution_count": 4,
   "metadata": {},
   "outputs": [],
   "source": [
    "create_file.invoke({\"content\": \"file content\", \"filename\": \"file.txt\"}) "
   ]
  },
  {
   "cell_type": "code",
   "execution_count": 5,
   "metadata": {},
   "outputs": [],
   "source": [
    "tools = [search, create_file]"
   ]
  },
  {
   "cell_type": "code",
   "execution_count": 6,
   "metadata": {},
   "outputs": [],
   "source": [
    "# Set up the model\n",
    "llm = ChatOpenAI(model=\"gpt-4o\", temperature=0)"
   ]
  },
  {
   "cell_type": "code",
   "execution_count": 7,
   "metadata": {},
   "outputs": [
    {
     "data": {
      "text/plain": [
       "[SystemMessagePromptTemplate(prompt=PromptTemplate(input_variables=[], input_types={}, partial_variables={}, template='You are a helpful assistant'), additional_kwargs={}),\n",
       " MessagesPlaceholder(variable_name='chat_history', optional=True),\n",
       " HumanMessagePromptTemplate(prompt=PromptTemplate(input_variables=['input'], input_types={}, partial_variables={}, template='{input}'), additional_kwargs={}),\n",
       " MessagesPlaceholder(variable_name='agent_scratchpad')]"
      ]
     },
     "execution_count": 7,
     "metadata": {},
     "output_type": "execute_result"
    }
   ],
   "source": [
    "from langchain import hub\n",
    "\n",
    "prompt = hub.pull(\"hwchase17/openai-tools-agent\")\n",
    "prompt.messages"
   ]
  },
  {
   "cell_type": "code",
   "execution_count": 8,
   "metadata": {},
   "outputs": [],
   "source": [
    "from langchain.agents import create_tool_calling_agent\n",
    "\n",
    "agent = create_tool_calling_agent(llm, tools, prompt)"
   ]
  },
  {
   "cell_type": "code",
   "execution_count": 9,
   "metadata": {},
   "outputs": [
    {
     "data": {
      "text/plain": [
       "RunnableAssign(mapper={\n",
       "  agent_scratchpad: RunnableLambda(lambda x: message_formatter(x['intermediate_steps']))\n",
       "})\n",
       "| ChatPromptTemplate(input_variables=['agent_scratchpad', 'input'], optional_variables=['chat_history'], input_types={'chat_history': list[typing.Annotated[typing.Union[typing.Annotated[langchain_core.messages.ai.AIMessage, Tag(tag='ai')], typing.Annotated[langchain_core.messages.human.HumanMessage, Tag(tag='human')], typing.Annotated[langchain_core.messages.chat.ChatMessage, Tag(tag='chat')], typing.Annotated[langchain_core.messages.system.SystemMessage, Tag(tag='system')], typing.Annotated[langchain_core.messages.function.FunctionMessage, Tag(tag='function')], typing.Annotated[langchain_core.messages.tool.ToolMessage, Tag(tag='tool')], typing.Annotated[langchain_core.messages.ai.AIMessageChunk, Tag(tag='AIMessageChunk')], typing.Annotated[langchain_core.messages.human.HumanMessageChunk, Tag(tag='HumanMessageChunk')], typing.Annotated[langchain_core.messages.chat.ChatMessageChunk, Tag(tag='ChatMessageChunk')], typing.Annotated[langchain_core.messages.system.SystemMessageChunk, Tag(tag='SystemMessageChunk')], typing.Annotated[langchain_core.messages.function.FunctionMessageChunk, Tag(tag='FunctionMessageChunk')], typing.Annotated[langchain_core.messages.tool.ToolMessageChunk, Tag(tag='ToolMessageChunk')]], FieldInfo(annotation=NoneType, required=True, discriminator=Discriminator(discriminator=<function _get_type at 0x1125ad6c0>, custom_error_type=None, custom_error_message=None, custom_error_context=None))]], 'agent_scratchpad': list[typing.Annotated[typing.Union[typing.Annotated[langchain_core.messages.ai.AIMessage, Tag(tag='ai')], typing.Annotated[langchain_core.messages.human.HumanMessage, Tag(tag='human')], typing.Annotated[langchain_core.messages.chat.ChatMessage, Tag(tag='chat')], typing.Annotated[langchain_core.messages.system.SystemMessage, Tag(tag='system')], typing.Annotated[langchain_core.messages.function.FunctionMessage, Tag(tag='function')], typing.Annotated[langchain_core.messages.tool.ToolMessage, Tag(tag='tool')], typing.Annotated[langchain_core.messages.ai.AIMessageChunk, Tag(tag='AIMessageChunk')], typing.Annotated[langchain_core.messages.human.HumanMessageChunk, Tag(tag='HumanMessageChunk')], typing.Annotated[langchain_core.messages.chat.ChatMessageChunk, Tag(tag='ChatMessageChunk')], typing.Annotated[langchain_core.messages.system.SystemMessageChunk, Tag(tag='SystemMessageChunk')], typing.Annotated[langchain_core.messages.function.FunctionMessageChunk, Tag(tag='FunctionMessageChunk')], typing.Annotated[langchain_core.messages.tool.ToolMessageChunk, Tag(tag='ToolMessageChunk')]], FieldInfo(annotation=NoneType, required=True, discriminator=Discriminator(discriminator=<function _get_type at 0x1125ad6c0>, custom_error_type=None, custom_error_message=None, custom_error_context=None))]]}, partial_variables={'chat_history': []}, metadata={'lc_hub_owner': 'hwchase17', 'lc_hub_repo': 'openai-tools-agent', 'lc_hub_commit_hash': 'c18672812789a3b9697656dd539edf0120285dcae36396d0b548ae42a4ed66f5'}, messages=[SystemMessagePromptTemplate(prompt=PromptTemplate(input_variables=[], input_types={}, partial_variables={}, template='You are a helpful assistant'), additional_kwargs={}), MessagesPlaceholder(variable_name='chat_history', optional=True), HumanMessagePromptTemplate(prompt=PromptTemplate(input_variables=['input'], input_types={}, partial_variables={}, template='{input}'), additional_kwargs={}), MessagesPlaceholder(variable_name='agent_scratchpad')])\n",
       "| RunnableBinding(bound=ChatOpenAI(client=<openai.resources.chat.completions.Completions object at 0x114845c90>, async_client=<openai.resources.chat.completions.AsyncCompletions object at 0x114827e90>, root_client=<openai.OpenAI object at 0x114820850>, root_async_client=<openai.AsyncOpenAI object at 0x11486cd10>, model_name='gpt-4o', temperature=0.0, model_kwargs={}, openai_api_key=SecretStr('**********'), openai_api_base='https://api.openai.com/v1'), kwargs={'tools': [{'type': 'function', 'function': {'name': 'tavily_search_results_json', 'description': 'A search engine optimized for comprehensive, accurate, and trusted results. Useful for when you need to answer questions about current events. Input should be a search query.', 'parameters': {'properties': {'query': {'description': 'search query to look up', 'type': 'string'}}, 'required': ['query'], 'type': 'object'}}}, {'type': 'function', 'function': {'name': 'create_file', 'description': 'Create a file with the given content.', 'parameters': {'properties': {'content': {'type': 'string'}, 'filename': {'type': 'string'}}, 'required': ['content', 'filename'], 'type': 'object'}}}]}, config={}, config_factories=[])\n",
       "| ToolsAgentOutputParser()"
      ]
     },
     "execution_count": 9,
     "metadata": {},
     "output_type": "execute_result"
    }
   ],
   "source": [
    "agent"
   ]
  },
  {
   "cell_type": "code",
   "execution_count": null,
   "metadata": {},
   "outputs": [
    {
     "name": "stdout",
     "output_type": "stream",
     "text": [
      "\n",
      "\n",
      "\u001b[1m> Entering new AgentExecutor chain...\u001b[0m\n"
     ]
    }
   ],
   "source": [
    "from langchain.agents import AgentExecutor\n",
    "\n",
    "agent_executor = AgentExecutor(agent=agent, tools=tools, verbose=True)\n",
    "\n",
    "agent_executor.invoke({\"input\": \"Write a file named pancakes.txt with updated information from the web about why pancakes are the best.\"})"
   ]
  }
 ],
 "metadata": {
  "kernelspec": {
   "display_name": "oreilly-langchain",
   "language": "python",
   "name": "oreilly-langchain"
  },
  "language_info": {
   "codemirror_mode": {
    "name": "ipython",
    "version": 3
   },
   "file_extension": ".py",
   "mimetype": "text/x-python",
   "name": "python",
   "nbconvert_exporter": "python",
   "pygments_lexer": "ipython3",
   "version": "3.11.9"
  }
 },
 "nbformat": 4,
 "nbformat_minor": 4
}
