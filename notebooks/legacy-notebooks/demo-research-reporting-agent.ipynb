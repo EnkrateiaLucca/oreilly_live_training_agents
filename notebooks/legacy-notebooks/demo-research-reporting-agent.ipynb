{
 "cells": [
  {
   "cell_type": "code",
   "execution_count": 1,
   "metadata": {
    "execution": {
     "iopub.execute_input": "2024-07-18T12:06:40.375675Z",
     "iopub.status.busy": "2024-07-18T12:06:40.375575Z",
     "iopub.status.idle": "2024-07-18T12:06:40.379052Z",
     "shell.execute_reply": "2024-07-18T12:06:40.378778Z"
    }
   },
   "outputs": [],
   "source": [
    "%pip install langchain\n",
    "%pip install langchain-community\n",
    "%pip install langchain-openai\n",
    "%pip install beautifulsoup4"
   ]
  },
  {
   "cell_type": "code",
   "execution_count": 2,
   "metadata": {
    "execution": {
     "iopub.execute_input": "2024-07-18T12:06:40.380744Z",
     "iopub.status.busy": "2024-07-18T12:06:40.380628Z",
     "iopub.status.idle": "2024-07-18T12:06:40.382298Z",
     "shell.execute_reply": "2024-07-18T12:06:40.382048Z"
    }
   },
   "outputs": [],
   "source": [
    "# uncomment this if running locally\n",
    "# from dotenv import load_dotenv\n",
    "\n",
    "# load_dotenv()\n",
    "\n",
    "# FILEPATH: /Users/greatmaster/Desktop/projects/oreilly-live-trainings/oreilly_live_training_agents/notebooks/1.3-intro-agents-with-langchain.ipynb\n",
    "# SET YOUR API KEYS FOR LANGSMITH AND TAVILY TO RUN THIS NOTEBOOK!\n",
    "# langsmith: https://docs.smith.langchain.com/#:~:text=install%20-U%20langsmith-,Create%20an%20API%20key,click%20Create%20API%20Key.,-Setup%20your%20environment\n",
    "# tavily: https://app.tavily.com/sign-in\n",
    "# openai: https://platform.openai.com/docs/quickstart\n",
    "import os\n",
    "os.environ[\"LANGCHAIN_TRACING_V2\"] = \"true\"\n",
    "os.environ[\"LANGCHAIN_API_KEY\"] = \"your-api-key\"\n",
    "os.environ[\"TAVILY_API_KEY\"] = \"your-api-key\"\n",
    "os.environ[\"OPENAI_API_KEY\"] = 'your-api-key'"
   ]
  },
  {
   "cell_type": "markdown",
   "metadata": {},
   "source": [
    "# Building a Research and Report Agent\n",
    "\n",
    "Steps:\n",
    "\n",
    "1. Setup the LLM\n",
    "2. Define the tool or list of tools\n",
    "3. Set up a prompt template\n",
    "4. Bind the llm with the tools\n",
    "6. Use LCEL to connect the agent with prompt and the LLM binded with tools\n",
    "7. Create the agent loop\n",
    "8. Wrap everything under `AgentExecutor`\n",
    "9. Invoke the agent with some query input"
   ]
  },
  {
   "cell_type": "markdown",
   "metadata": {
    "vscode": {
     "languageId": "plaintext"
    }
   },
   "source": [
    "## 1. Setup the LLM"
   ]
  },
  {
   "cell_type": "code",
   "execution_count": 1,
   "metadata": {
    "execution": {
     "iopub.execute_input": "2024-07-18T12:06:40.383973Z",
     "iopub.status.busy": "2024-07-18T12:06:40.383868Z",
     "iopub.status.idle": "2024-07-18T12:06:41.345292Z",
     "shell.execute_reply": "2024-07-18T12:06:41.344798Z"
    }
   },
   "outputs": [
    {
     "data": {
      "text/plain": [
       "AIMessage(content='Hello! How can I assist you today?', response_metadata={'token_usage': {'completion_tokens': 9, 'prompt_tokens': 8, 'total_tokens': 17, 'prompt_tokens_details': {'cached_tokens': 0}, 'completion_tokens_details': {'reasoning_tokens': 0}}, 'model_name': 'gpt-4o-2024-08-06', 'system_fingerprint': 'fp_72bbfa6014', 'finish_reason': 'stop', 'logprobs': None}, id='run-acf898cf-5e77-41bc-b622-a70bf438594e-0', usage_metadata={'input_tokens': 8, 'output_tokens': 9, 'total_tokens': 17})"
      ]
     },
     "execution_count": 1,
     "metadata": {},
     "output_type": "execute_result"
    }
   ],
   "source": [
    "from langchain_openai.chat_models import ChatOpenAI\n",
    "\n",
    "llm = ChatOpenAI(model=\"gpt-4o\", temperature=0)\n",
    "\n",
    "llm.invoke(\"Hi\")"
   ]
  },
  {
   "cell_type": "markdown",
   "metadata": {},
   "source": [
    "## 2. Define the tool or list of tools"
   ]
  },
  {
   "cell_type": "code",
   "execution_count": 2,
   "metadata": {
    "execution": {
     "iopub.execute_input": "2024-07-18T12:06:41.368976Z",
     "iopub.status.busy": "2024-07-18T12:06:41.368834Z",
     "iopub.status.idle": "2024-07-18T12:06:43.963443Z",
     "shell.execute_reply": "2024-07-18T12:06:43.962792Z"
    }
   },
   "outputs": [
    {
     "name": "stdout",
     "output_type": "stream",
     "text": [
      "['https://springsapps.com/knowledge/main-ai-trends-in-education-2024', 'https://www.ed.gov/sites/ed/files/documents/ai-report/ai-report.pdf', 'https://edtechmagazine.com/k12/article/2024/09/ai-education-2024-educators-express-mixed-feelings-technologys-future-perfcon', 'https://www.sciencedirect.com/science/article/pii/S1877050918315382', 'https://www.the74million.org/article/7-artificial-intelligence-trends-that-could-reshape-education-in-2024/', 'https://www.weforum.org/agenda/2024/04/future-learning-ai-revolutionizing-education-4-0/', 'https://www.synthesia.io/post/education-trends', 'https://elearningindustry.com/how-ai-is-impacting-the-way-we-learn-key-trends-and-insights', 'https://www.educationnext.org/ai-is-officially-here-there-everywhere-and-nowhere/']\n",
      "Main AI Trends In Education (2024) - Springs October 1, 2024 Main AI Trends In Education (2024) Follow our article to learn about the latest artificial intelligence technology trends in education and the challenges they will bring into 2024. Written by Serhii Uspenskyi CEO AI & ML Education & EdTech AI & ML Education & EdTech Table of Contents H2 generate H3 generate According to the latest data , the market for generative AI solutions is expected to reach $207 billion by 2030. In 2020, this figure was only $5.67 billion and $23.17 billion in 2022. One of the driving forces of this progress has been attributed to educational services . Currently, they have some of the highest adoption rates among all organizations. Institutions worldwide recognize the impact of generative AI technology on the learning process. In the past few years, it transformed how educators tailor programs and how collegegoers approach their assignments. The latest statistics show that 58% of all university instructors use generative AI in their daily practice. This surge in use cases goes beyond using ChatGPT to make individual tests and quizzes. This technology can make learning more inclusive and engaging for all parties. Several AI technology trends in education will dictate how this field will develop in 2024. Generative AI is poised to revolutionize education by creating intelligent, adaptive learning companions that enhance the student experience. The AI Teacher offers a personalized learning path, adjusting to each studentâs pace while delivering tailored lessons and instant feedback to foster better understanding. Complementing this is the AI Study Buddy, an interactive partner that helps students review material, practice exercises, and receive answers to questions, reinforcing knowledge through real-time, personalized support. Additionally, AI Coaches and Mentors play a crucial role in guiding students by setting goals, offering data-driven insights, and providing continuous learning assistance. EdTech AI agents act as invaluable assistants, streamlining administrative and classroom management tasks. The AI Teaching Assistant helps teachers automate tasks like scheduling and attendance, significantly reducing their workload. Moreover, the AI Grader allows teachers to automate grading, offering consistent, swift feedback while freeing up time for more personalized student interaction. To further boost engagement, AI Gamification introduces game-driven learning experiences with varying complexity levels, relevant challenges, and reward systems that motivate students to reach their potential. Together, these AI tools are transforming both the student and teacher experience in education. Trend #1. Using Generative AI to Make Educational Content Generative AI is about saving time and producing quality content on a budget. Educational institutions will continue using tools like Bard and DALL-E2 to make slick and exciting materials for their students at no expense and effort. More advanced solutions allow them to provide vibrant slides or create course and topic glossaries. This approach will make lectures and video lessons more exciting and make it easier for students to refresh their memory about specific terms and notions. Hereâs why content will remain one of the biggest education trends in 2024 and beyond: Time saving . AI tools produce readily available content in a matter of minutes. This leaves teachers and professors more time to polish materials without spending hours researching and compiling them.Â Reduced costs . All types of learning institutions benefit from generative AI and provide a decent education even in the farthest parts of the world. Consistency . The use of these platforms allows organizations to maintain the same level of quality across various subjects and topics. Trend #2. Teaching With Virtual Avatars Artificial intelligence will provide all colleges with an easy and affordable way to make video lessons. Instead of paying actors or having the faculty record them, the implementation of AI in education will allow making them with virtual avatars. All that is required is to upload a photo of a real person or use one of the existing profiles.Â These avatars speak in multiple languages and offer personal education for students worldwide. Platforms like Elai.io , Synthesia, and Heygen provide these services to higher-learning organizations and everybody interested in them. Using these tools opens several opportunities: Teacher avatars . For example, Harvard will use this technology to have Professor Steven Pinker teach courses on psychology in Chinese or Arabic. More flexible and scalable learning process . College education will become more accessible for students with different learning styles. Better adaptability for international college attendants . Students from Brazil or Argentina can sign up for online courses and attend even if they speak little English. Trend #3. New Opportunities For Arts Students In the coming year, generative AI in education will enhance the arts departments. Tools like Runway and Midjourney allow students to experiment with different painting styles and methods. More advanced solutions show them video tutorials on how to achieve mastery of these techniques. Itâs also possible for collegegoers to use generative AI as inspiration and a source of new ideas. In addition to art styles, they can experiment with literary tools and architectural design elements and find new combinations. Several aspects of this technology make it a powerful tool for art students: Quick and free access . AI tools let education pursuers experiment with different themes and styles.Â Seamless collaboration . These platforms help students work on joint projects and seamlessly merge art techniques. Design assistance . AI tools help individuals by suggesting compositions, layouts, and color palettes for their works. Trend #4. Personalized Learning Experience The latest technology trends in education are all about the effective use of data. Gen AI products gather information on academic performance, learning styles, and studentsâ strong and weak sides. This helps develop teaching strategies that adapt to the personal needs of all students. Research by Knewton shows that AI content improved the test results for 62% of respondents. Some have a better time learning by learning, while others prefer video or audio formats. With these products, it will be easy to provide high-quality and affordable study content. Generative AI tools will play a big role in the future of education due to several factors: High customizability . Educators can instantly make learning content for different categories of students that is tailored to their backgrounds and academic levels. Improving problem areas . Generative AI tools donât just let people focus on their strong academic sides. With the right approach, they help students address their gaps in knowledge. Better progress tracking . These solutions are often integrated into existing progress-tracking software to provide a comprehensive picture of individual achievements and performance. Trend #5. Inclusive Education In addition to high adaptability to different learning practices, generative AI helps people with physical and learning disabilities achieve better results. Speech-to-text and text-to-speech platforms are some of the leading education trends 2024 will introduce. They make it possible to adapt study materials for people with auditory and visual impairments. Educational institutions will continue to use generative AI as an affordable way of making audio materials, visual aids, and subtitles to existing course materials. In 2024, the technology will help transform the educational field in several areas. Emotion recognition . Generative AI solutions assess the sentiments of students and support them or adapt content based on emotional cues. Additional inclusivity . These tools allow educational institutions to provide materials for all types of learners without spending too much time on making them. Trend #6. Student Support The use of generative AI in education isnât confined to producing educational materials. Many institutions use them to help students better adapt to their academic life. These tools serve as intelligent chatbots that provide information about the different aspects of the study process. The widespread implementation of AI in education will provide support whenever students need it. Modern solutions can help them with course registration, payment processing, extracurricular activities, and selecting courses. These tools are always there to give them detailed and accurate answers. They offer great help thanks to these characteristics: The ability to work with vast datasets . Educational organizations can teach generative AI products to provide information about all kinds of facts about the faculty, the curriculum, and the learning process organization. Fast response times . Artificial intelligence apps provide fast answers to any questions people might have in the blink of an eye. 24/7 availability . Chatbots and virtual helpers equipped with generative AI tech are accessible even when none of the faculty members are there to talk to. Trend #7. Intelligent Tutoring In 2024, generative AI in the education sector will continue to impact it by offering affordable tutoring assistance. Students turn to Bard and ChatGPT to ask for clarification on various topics, notions, and phenomena. These are a great alternative to reading through textbooks or conducting web research. Modern solutions will also allow students to break down complex topics into simpler components and let them find connections between them. For example, itâs possible to ask a generative AI tool to explain the human respiratory system and how each part plays a role. AI-based tutors will play a crucial role in the future of education as they are: Provide interactive learning content . Generative AI applications create engaging learning content like videos, quizzes , and simulations to explain new and old information better. Give instant feedback . With these tools, students get instant assessments of their work on projects and quizzes, providing information on areas that need improvement. Recommend study plan adjustments . Modern generative tools and platforms adjust individual learning programs based on a personâs goals, knowledge, and learning preferences, emphasizing skills that require the most attention. Trend #8. AI Agents Integration In 2024, AI agents for education and training are set to become a huge trend in EdTech, transforming how educational businesses approach personalized learning. The integration of AI agents into LMS platforms allows for significant personalization, where students receive tailored content and support based on their performance. LMSs powered by AI will enable educators to provide individualized learning paths for students, creating more effective and efficient education. These AI agents can assess student progress, offer instant feedback, and guide learners through complex subjects, ensuring a higher level of understanding and retention. Beyond enhancing student experiences, custom AI agents will boost administrative tasks for educators and institutions in 2024. By automating routine functions like grading, scheduling, and attendance, teachers can focus more on teaching and mentorship, while institutions benefit from data-driven insights into student performance. This trend aligns with the growing demand for efficiency and scalability in education, particularly in hybrid and online learning environments. AI agents, with their ability to deliver 24/7 support, foster collaborative learning, and provide interactive simulations, will play a crucial role in making education more accessible, personalized, and engaging in the digital age. Springsâ Expert Opinion Springs team goes on the edge of technologies and AI trends in education, so we would be happy to share some of our personal experiences and insights. Serhii Uspenskyi, CEO at Springs: Generative AI in education sector plays a crucial role today. Five years ago everyone talked about eLearning as a trend, today we talk about AI in education trends from day to day. With the release of ChatGPT Edu , businesses, schools, and universities can enjoy multiple benefits in the educational sector: ChatGPT4o Integration Advanced Analytics and Reporting Customization according to the business needs Bigger and better capabilities Overall, we consider the release of such LLMs as Gemini, LLaMa 3, and GPT-4 Omni to become one of the newest trends in terms of this duo: Generative AI and Education. Just imagine, how the educational and eLearning software can be changed within the next years with the power of LLMs and professional fine-tuning of them. For instance, here at Springs we had already implemented GPT-4o into one of the Video eLearning products we have been working on, and the quality of results given by the model was really impressive. The modern algorithms created by such giants as OpenAI, Google, or Meta are worth to be valued. So, all we need is just to provide professional AI/ML development services and use the whole power of Generative AI in education sector. Donât hesitate to contact our team if you need any help with your idea or project. We are here to help. Challenges Associated With Using AI In Education Although generative technology trends in education will play a big role in 2024 and beyond, educators still face several issues associated with using these products. The most pressing of these challenges are: Deep Fakes . Modern AI products produce life-like videos of pretty much anyone in the world. This puts collegegoers at risk of coming across generated content that looks legitimate on the surface. Other web users can utilize these tools to spread misinformation, hate speech, and wild conspiracy theories. Fraud . Educators will have to learn how to determine if the content was made by an AI or by the student. Of course, many platforms detect AI-made writing, but the proficiency of generative tools grows by the day. This development will make it harder to recognize if the content is original or AI-based. Hallucinations . This issue lies with the nature of AI products. Sometimes, they malfunction, resulting in inaccurate, unrelated, or nonsensical information. Everybody involved in education should be aware of this and fact-check everything provided by these solutions. Privacy Issues . Modern AI tools gather large amounts of sensitive data, which includes student and organization information. Educational institutions must have detailed policies about data security, storage, and sharing to avoid leaks or unauthorized access. The Future of Generative AI and Education What AI trends in education we will see in the next couple of years? What to expect in terms of the rise or fall of AI in education trends? Letâs try to find out. AI-Controlled Smart ClassroomsÂ With the rise of virtual elearning , ensuring academic integrity during examinations has become crucial. AI-proctoring systems can control test-takers' behavior, environments, and movements. These systems use computer vision , facial detection, and audio evaluation to identify suspicious behavior, detect plagiarism, and maintain the reliability of online exams. It is with saying that such AI systems can fully restore trust in the examination process and ensure academic honesty. Human-Like AI Teachers The development of human-like AI teachers will revolutionize the educational landscape within the next years. Such avatars are already capable of answering students' questions, providing explanations, and offering guidance 24/7 and all these capabilities will be growing. They use NLP and machine learning to understand and respond to students in a human-like manner, providing support that is both accessible and scalable. So, we are pretty sure that this will be a fast-growing part of generative AI in education sector. eLearning AI GamificationÂ Finally, AI can enhance the gamification of educational content by personalizing experiences to increase the engagement and motivation of all students. By the usage of predictive analysis , AI algorithms enable gamification designers to create UX and UI that align with each learner's preferences. One of the biggest advantages of AI in gamification is its ability to adapt based on user behavior and preferences, offering customized challenges, rewards, suggested activities, and advanced analytics to predict and meet learners' future needs. So, we consider these points would lead to the future of AI in education trends and make the learning process more smooth for both students and teachers. Conclusion The learning landscape is quickly changing before our eyes, thanks to the possibilities brought by AI technology. To ensure that education trends in 2024 will benefit students and educators, institutions must teach both parties how to use artificial intelligence properly. Only this way will it be able to become a great study and educational aid while keeping the spirit of learning alive. Incorporating generative AI into education through AI teachers, study companions, and assistants for both students and educators represents a transformative shift in how learning and teaching are approached. These AI-driven apps not only personalize and enhance the student learning experience but also alleviate the workload on educators by automating tasks like grading and classroom management. With the integration of interactive and engaging elements like gamification, generative AI creates a more dynamic, tailored, and efficient educational environment, empowering both learners and teachers to reach their full potential. FAQ How AI agent can be integrated into education business or institution? AI agents can be integrated into education businesses or institutions through APIs or AI-powered platforms that connect with existing Learning Management Systems (LMS), enabling real-time data exchange for personalized learning and automated administrative tasks. These agents can also be embedded into digital learning tools via machine learning models and natural language processing (NLP) algorithms, allowing for adaptive content delivery, chatbot-based support, and real-time analytics integration. How do you use Generative AI in the education sector?Â At Springs we use Generative AI in education for personalized tutoring, creating tailored educational content, facilitating language translation, enabling virtual labs and simulations, and developing adaptive learning platforms. These applications enhance student engagement and learning outcomes. Whatâs the cost of software development using Generative AI in education?Â The cost of developing software with Generative AI for education varies depending on factors such as the complexity of the AI model, customization requirements, data needs for training, deployment considerations, and ongoing maintenance. Costs are typically tailored to the specific project's goals and technical requirements. Customer retention is the key Lorem ipsum dolor sit amet, consectetur adipiscing elit lobortis arcu enim urna adipiscing praesent velit viverra sit semper lorem eu cursus vel hendrerit elementum morbi curabitur etiam nibh justo, lorem aliquet donec sed sit mi dignissim at ante massa mattis. Neque sodales ut etiam sit amet nisl purus non tellus orci ac auctor Adipiscing elit ut aliquam purus sit amet viverra suspendisse potent Mauris commodo quis imperdiet massa tincidunt nunc pulvinar Excepteur sint occaecat cupidatat non proident sunt in culpa qui officia What are the most relevant factors to consider? Vitae congue eu consequat ac felis placerat vestibulum lectus mauris ultrices cursus sit amet dictum sit amet justo donec enim diam porttitor lacus luctus accumsan tortor posuere praesent tristique magna sit amet purus gravida quis blandit turpis. Odio facilisis mauris sit amet massa vitae tortor. Donât overspend on growth marketing without good retention rates At risus viverra adipiscing at in tellus integer feugiat nisl pretium fusce id velit ut tortor sagittis orci a scelerisque purus semper eget at lectus urna duis convallis porta nibh venenatis cras sed felis eget neque laoreet suspendisse interdum consectetur libero id faucibus nisl donec pretium vulputate sapien nec sagittis aliquam nunc lobortis mattis aliquam faucibus purus in. Neque sodales ut etiam sit amet nisl purus non tellus orci ac auctor Adipiscing elit ut aliquam purus sit amet viverra suspendisse potenti Mauris commodo quis imperdiet massa tincidunt nunc pulvinar Adipiscing elit ut aliquam purus sit amet viverra suspendisse potenti Whatâs the ideal customer retention rate? Nisi quis eleifend quam adipiscing vitae aliquet bibendum enim facilisis gravida neque euismod in pellentesque massa placerat volutpat lacus laoreet non curabitur gravida odio aenean sed adipiscing diam donec adipiscing tristique risus amet est placerat in egestas erat. âLorem ipsum dolor sit amet, consectetur adipiscing elit, sed do eiusmod tempor incididunt ut labore et dolore magna aliqua enim ad minim veniam.â Next steps to increase your customer retention Eget lorem dolor sed viverra ipsum nunc aliquet bibendum felis donec et odio pellentesque diam volutpat commodo sed egestas aliquam sem fringilla ut morbi tincidunt augue interdum velit euismod eu tincidunt tortor aliquam nulla facilisi aenean sed adipiscing diam donec adipiscing ut lectus arcu bibendum at varius vel pharetra nibh venenatis cras sed felis eget. Have a question? Talk to our expert SHARE î  î  î  Interested in Learning More? Book a free consultation with our expert Name AI Agents î  Compliance & Legal Education & Training Pharmacy & Healthcare Data Analysis HR & Recruitment Services î  AI Development Custom Web & Mobile Development Discovery and MVP Development Case Studies Blog Contact us Contact Us Email address Message î  î  î  î  By clicking the \"Send\" button, I hereby agree to and accept the Privacy Policy î  Thank you We will get back to you soon. Oops! Something went wrong while submitting the form. Barcelona, Spain contact@springsapps.com +34 666845262 Home Projects Our Approach About Technologies Blog Security Policy Careers Privacy Policy Contact Expertise AI Chatbots Large Language Models Generative AI Transformer Models ChatGPT Integration Natural Language Processing AI Assistants Prompt Engineering Conversational AI Predictive Analytics Computer Vision Services Custom Web & Mobile Development AI/ML Development Software Development for StartupsÂ Â SaaS Development Business Process Automation Business Analysis QA Services UI/UX Design Software Support Hire Us Frontend Developers Backend Developers Fullstack Developers Web App Developers Mobile Developers API Developers ChatGPT Developers AI Chatbot Developers AI Developers Javascript Developers Python Developers NodeJS Developers UI/UX Designers Startup Developers Offshore Developers Industries Education Custom LMS Conversational AI in Education E-Commerce Copyright Â© 2016 - 2024 | Springs î  î  î  î ® By using this website, you agree to the storing of cookies on your device to enhance site navigation, analyze site usage, and assist in our marketing efforts. View our Privacy Policy for more information. Accept\n"
     ]
    }
   ],
   "source": [
    "import requests\n",
    "from bs4 import BeautifulSoup\n",
    "import os\n",
    "# Tools: search and scraping an internet page\n",
    "from langchain.tools import tool\n",
    "from serpapi import GoogleSearch\n",
    "\n",
    "serpapi_params = {\n",
    "    \"engine\": \"google\",\n",
    "    \"api_key\": os.environ[\"SERPAPI_KEY\"]\n",
    "}\n",
    "\n",
    "\n",
    "@tool\n",
    "def search_tool(query: str):\n",
    "    \"\"\"Searches the web given a user query and returns the most relevant links\"\"\"\n",
    "    search = GoogleSearch({**serpapi_params, \"q\": query, \"n\": 5})\n",
    "    output = search.get_dict()\n",
    "    results = output[\"organic_results\"]\n",
    "    return [r[\"link\"] for r in results]\n",
    "\n",
    "@tool\n",
    "def scrape_text(url: str):\n",
    "    \"\"\"Scrapes text from an internet page\"\"\"\n",
    "    # source: copied from this script by Harrison Chase https://gist.github.com/hwchase17/69a8cdef9b01760c244324339ab64f0c\n",
    "    try:\n",
    "        response = requests.get(url)\n",
    "        #check\n",
    "        if response.status_code == 200:\n",
    "            soup = BeautifulSoup(response.text, 'html.parser')\n",
    "            # Extract all the text from the page\n",
    "            page_text = soup.get_text(separator=\" \", strip=True)\n",
    "            \n",
    "            return page_text\n",
    "        else:\n",
    "            return f\"Failed to retrieve the webpage: Status code: {response.status_code}\"\n",
    "    \n",
    "    except Exception as e:\n",
    "        # In case of error print the error message\n",
    "        print(e)\n",
    "        return f\"Failed to retrieve the webpage: {e}\"\n",
    "\n",
    "query = \"Trends in using AI for education.\"\n",
    "links = search_tool.invoke(query)\n",
    "print(links)\n",
    "\n",
    "url = links[0]\n",
    "\n",
    "print(scrape_text.invoke(url))"
   ]
  },
  {
   "cell_type": "code",
   "execution_count": 3,
   "metadata": {
    "execution": {
     "iopub.execute_input": "2024-07-18T12:06:43.972084Z",
     "iopub.status.busy": "2024-07-18T12:06:43.971932Z",
     "iopub.status.idle": "2024-07-18T12:06:43.974293Z",
     "shell.execute_reply": "2024-07-18T12:06:43.973868Z"
    }
   },
   "outputs": [],
   "source": [
    "tools = [search_tool, scrape_text]"
   ]
  },
  {
   "cell_type": "markdown",
   "metadata": {},
   "source": [
    "3. Set up a prompt template\n"
   ]
  },
  {
   "cell_type": "code",
   "execution_count": 4,
   "metadata": {
    "execution": {
     "iopub.execute_input": "2024-07-18T12:06:43.977017Z",
     "iopub.status.busy": "2024-07-18T12:06:43.976804Z",
     "iopub.status.idle": "2024-07-18T12:06:43.980391Z",
     "shell.execute_reply": "2024-07-18T12:06:43.980074Z"
    }
   },
   "outputs": [],
   "source": [
    "from langchain.prompts import ChatPromptTemplate\n",
    "\n",
    "WRITER_SYSTEM_PROMPT = \"You are an AI critical thinker research assistant. \\\n",
    "                        Your sole purpose is to write well written, critically \\\n",
    "                        acclaimed, objective \\\n",
    "                        and structured reports on given text.\"\n",
    "# Report prompts from https://github.com/assafelovic/gpt-researcher/blob/master/gpt_researcher/master/prompts.py\n",
    "RESEARCH_REPORT_TEMPLATE = \"\"\"Information:\n",
    "Write a detailed research report on the following question:\\n\n",
    "\"{input}\". -- \\\n",
    "The report should focus on the answer to the question, should be well structured, informative, \\\n",
    "in depth, with facts and numbers if available and a minimum of 1,200 words.\n",
    "You should strive to write the report as long as you can using all relevant and necessary information provided.\n",
    "You must write the report with markdown syntax.\n",
    "You MUST determine your own concrete and valid opinion based on the given information. Do NOT deter to general and meaningless conclusions.\n",
    "Write all used source urls at the end of the report, and make sure to not add duplicated sources, but only one reference for each.\n",
    "You must write the report in apa format.\n",
    "Please do your best, this is very important to my career.\"\"\"\n",
    "\n",
    "prompt = ChatPromptTemplate.from_messages(\n",
    "    [\n",
    "        (\"system\", WRITER_SYSTEM_PROMPT),\n",
    "        (\"placeholder\"), \"{chat_history}\",\n",
    "        (\"human\", RESEARCH_REPORT_TEMPLATE),\n",
    "        (\"placeholder\"), \"{agent_scratchpad}\",\n",
    "    ]\n",
    ")"
   ]
  },
  {
   "cell_type": "markdown",
   "metadata": {},
   "source": [
    "4. Bind the llm with the tools\n"
   ]
  },
  {
   "cell_type": "code",
   "execution_count": 5,
   "metadata": {
    "execution": {
     "iopub.execute_input": "2024-07-18T12:06:43.982323Z",
     "iopub.status.busy": "2024-07-18T12:06:43.982185Z",
     "iopub.status.idle": "2024-07-18T12:06:44.026033Z",
     "shell.execute_reply": "2024-07-18T12:06:44.025773Z"
    }
   },
   "outputs": [],
   "source": [
    "llm_with_tools = llm.bind_tools(tools)"
   ]
  },
  {
   "cell_type": "code",
   "execution_count": 6,
   "metadata": {},
   "outputs": [
    {
     "data": {
      "text/plain": [
       "AIMessage(content='', additional_kwargs={'tool_calls': [{'id': 'call_nLmyYFSco3xDWcJyjhJtTmqE', 'function': {'arguments': '{\"query\":\"funny stories about large language models\"}', 'name': 'search_tool'}, 'type': 'function'}]}, response_metadata={'token_usage': {'completion_tokens': 20, 'prompt_tokens': 96, 'total_tokens': 116, 'prompt_tokens_details': {'cached_tokens': 0}, 'completion_tokens_details': {'reasoning_tokens': 0}}, 'model_name': 'gpt-4o-2024-08-06', 'system_fingerprint': 'fp_143bb8492c', 'finish_reason': 'tool_calls', 'logprobs': None}, id='run-cb4b5612-80e5-4f70-b55f-5c4d9e61d5f7-0', tool_calls=[{'name': 'search_tool', 'args': {'query': 'funny stories about large language models'}, 'id': 'call_nLmyYFSco3xDWcJyjhJtTmqE', 'type': 'tool_call'}], usage_metadata={'input_tokens': 96, 'output_tokens': 20, 'total_tokens': 116})"
      ]
     },
     "execution_count": 6,
     "metadata": {},
     "output_type": "execute_result"
    }
   ],
   "source": [
    "llm_with_tools.invoke(\"Search online for articles about large language models that talk about something funny and pick the funniest story to share a summary.\")"
   ]
  },
  {
   "cell_type": "code",
   "execution_count": 7,
   "metadata": {
    "execution": {
     "iopub.execute_input": "2024-07-18T12:06:44.027461Z",
     "iopub.status.busy": "2024-07-18T12:06:44.027392Z",
     "iopub.status.idle": "2024-07-18T12:06:44.184560Z",
     "shell.execute_reply": "2024-07-18T12:06:44.159255Z"
    }
   },
   "outputs": [],
   "source": [
    "from langchain.agents.format_scratchpad.tools import format_to_tool_messages\n",
    "from langchain.agents.output_parsers import ToolsAgentOutputParser"
   ]
  },
  {
   "cell_type": "markdown",
   "metadata": {},
   "source": [
    "5. Use LCEL to define and connect agent, prompt and the LLM binded with tools\n"
   ]
  },
  {
   "cell_type": "code",
   "execution_count": 8,
   "metadata": {
    "execution": {
     "iopub.execute_input": "2024-07-18T12:06:44.222459Z",
     "iopub.status.busy": "2024-07-18T12:06:44.217478Z",
     "iopub.status.idle": "2024-07-18T12:06:44.261899Z",
     "shell.execute_reply": "2024-07-18T12:06:44.260904Z"
    }
   },
   "outputs": [],
   "source": [
    "from langchain_core.runnables import RunnablePassthrough\n",
    "\n",
    "agent = (\n",
    "RunnablePassthrough.assign(\n",
    "                    agent_scratchpad=lambda x: format_to_tool_messages(x['intermediate_steps'])\n",
    "                    )\n",
    "    | prompt\n",
    "    | llm_with_tools\n",
    "    | ToolsAgentOutputParser()\n",
    ")"
   ]
  },
  {
   "cell_type": "code",
   "execution_count": 9,
   "metadata": {},
   "outputs": [
    {
     "data": {
      "text/plain": [
       "RunnableAssign(mapper={\n",
       "  agent_scratchpad: RunnableLambda(lambda x: format_to_tool_messages(x['intermediate_steps']))\n",
       "})\n",
       "| ChatPromptTemplate(input_variables=['agent_scratchpad', 'chat_history', 'input'], messages=[SystemMessagePromptTemplate(prompt=PromptTemplate(input_variables=[], template='You are an AI critical thinker research assistant.                         Your sole purpose is to write well written, critically                         acclaimed, objective                         and structured reports on given text.')), HumanMessagePromptTemplate(prompt=PromptTemplate(input_variables=[], template='placeholder')), HumanMessagePromptTemplate(prompt=PromptTemplate(input_variables=['chat_history'], template='{chat_history}')), HumanMessagePromptTemplate(prompt=PromptTemplate(input_variables=['input'], template='Information:\\nWrite a detailed research report on the following question:\\n\\n\"{input}\". -- The report should focus on the answer to the question, should be well structured, informative, in depth, with facts and numbers if available and a minimum of 1,200 words.\\nYou should strive to write the report as long as you can using all relevant and necessary information provided.\\nYou must write the report with markdown syntax.\\nYou MUST determine your own concrete and valid opinion based on the given information. Do NOT deter to general and meaningless conclusions.\\nWrite all used source urls at the end of the report, and make sure to not add duplicated sources, but only one reference for each.\\nYou must write the report in apa format.\\nPlease do your best, this is very important to my career.')), HumanMessagePromptTemplate(prompt=PromptTemplate(input_variables=[], template='placeholder')), HumanMessagePromptTemplate(prompt=PromptTemplate(input_variables=['agent_scratchpad'], template='{agent_scratchpad}'))])\n",
       "| RunnableBinding(bound=ChatOpenAI(client=<openai.resources.chat.completions.Completions object at 0x1220dbb90>, async_client=<openai.resources.chat.completions.AsyncCompletions object at 0x121e12250>, model_name='gpt-4o', temperature=0.0, openai_api_key=SecretStr('**********'), openai_api_base='https://api.openai.com/v1', openai_proxy=''), kwargs={'tools': [{'type': 'function', 'function': {'name': 'search_tool', 'description': 'Searches the web given a user query and returns the most relevant links', 'parameters': {'type': 'object', 'properties': {'query': {'type': 'string'}}, 'required': ['query']}}}, {'type': 'function', 'function': {'name': 'scrape_text', 'description': 'Scrapes text from an internet page', 'parameters': {'type': 'object', 'properties': {'url': {'type': 'string'}}, 'required': ['url']}}}]})\n",
       "| ToolsAgentOutputParser()"
      ]
     },
     "execution_count": 9,
     "metadata": {},
     "output_type": "execute_result"
    }
   ],
   "source": [
    "agent"
   ]
  },
  {
   "cell_type": "markdown",
   "metadata": {},
   "source": [
    "6. Create the agent loop\n",
    "\n",
    "7. Wrap everything under `AgentExecutor`s"
   ]
  },
  {
   "cell_type": "code",
   "execution_count": 10,
   "metadata": {
    "execution": {
     "iopub.execute_input": "2024-07-18T12:06:44.265021Z",
     "iopub.status.busy": "2024-07-18T12:06:44.264909Z",
     "iopub.status.idle": "2024-07-18T12:06:44.267153Z",
     "shell.execute_reply": "2024-07-18T12:06:44.266549Z"
    }
   },
   "outputs": [],
   "source": [
    "from langchain.agents import AgentExecutor"
   ]
  },
  {
   "cell_type": "code",
   "execution_count": 11,
   "metadata": {
    "execution": {
     "iopub.execute_input": "2024-07-18T12:06:44.269807Z",
     "iopub.status.busy": "2024-07-18T12:06:44.269638Z",
     "iopub.status.idle": "2024-07-18T12:06:44.273373Z",
     "shell.execute_reply": "2024-07-18T12:06:44.272436Z"
    }
   },
   "outputs": [],
   "source": [
    "agent_executor = AgentExecutor(agent=agent, tools=tools, verbose=True)"
   ]
  },
  {
   "cell_type": "markdown",
   "metadata": {},
   "source": [
    "8. Invoke the agent with some query input"
   ]
  },
  {
   "cell_type": "code",
   "execution_count": 12,
   "metadata": {
    "execution": {
     "iopub.execute_input": "2024-07-18T12:06:44.277013Z",
     "iopub.status.busy": "2024-07-18T12:06:44.276661Z",
     "iopub.status.idle": "2024-07-18T12:07:32.458254Z",
     "shell.execute_reply": "2024-07-18T12:07:32.457454Z"
    }
   },
   "outputs": [
    {
     "name": "stdout",
     "output_type": "stream",
     "text": [
      "\n",
      "\n",
      "\u001b[1m> Entering new AgentExecutor chain...\u001b[0m\n",
      "\u001b[32;1m\u001b[1;3m\n",
      "Invoking: `search_tool` with `{'query': 'scientific comparison between pancakes and waffles'}`\n",
      "\n",
      "\n",
      "\u001b[0m\u001b[36;1m\u001b[1;3m['https://january.ai/blog/pancake-vs-waffle', 'https://www.businessinsider.com/difference-between-pancakes-and-waffles-2019-2', 'https://www.centraltimes.org/showcase/2023/03/22/breakfast-battle-waffles-vs-pancakes/', 'https://greatist.com/eat/pancakes-and-waffles-which-is-better', 'https://www.quora.com/What-are-the-differences-between-pancake-batter-and-waffle-batter-Is-one-easier-to-make-than-the-other', 'https://www.reddit.com/r/GameTheorists/comments/l14m40/which_is_better_pancakes_or_waffles/', 'https://www.cliffsnotes.com/study-notes/5575754', 'https://www.bc-sightline.net/2020/09/23/pancakes-vs-waffles/', 'https://www.kateskitchenkc.com/blog/differences-pancakes-waffles/']\u001b[0m\u001b[32;1m\u001b[1;3m\n",
      "Invoking: `scrape_text` with `{'url': 'https://january.ai/blog/pancake-vs-waffle'}`\n",
      "\n",
      "\n",
      "\u001b[0m\u001b[33;1m\u001b[1;3mPancake vs waffle: Nutritional differences Enterprise How It Works Our Science Learn Food comparisons Yam vs sweet potatoes Mandarin vs clementine American cheese vs cheddar Custard vs ice cream Krill oil vs fish oil Duck eggs vs chicken eggs Cabbage vs lettuce Beef vs chicken Beef vs lamb Tortilla alternatives Sandwich alternatives Oatmeal alternatives Caffe latte vs cappuccino Blood sugar impact of foods Orange juice Cheese Watermelon Sucralose Coffee Rice Chicken Sourdough bread Pineapple Oatmeal Butter Healthiest store & restaurant options Healthiest fast food restaurants Healthiest drinks at Starbucks Healthiest foods from Trader Joe's Healthiest foods from Chipotle Healthiest ice cream Healthiest cereal brands Read more on our blog - The January Journal Android Waitlist About January Careers FAQs Contact Sign In Download Pancake vs waffle: Nutritional differences July 10, 2024 The debate between pancakes and waffles is a beloved culinary rivalry that has breakfast enthusiasts passionately divided. Whether you find solace in the fluffy embrace of a pancake or delight in the crispy texture of a waffle, both breakfast staples offer unique qualities that make them hard to resist. In this article, we will explore various aspects of these breakfast favorites to determine which one truly reigns supreme. Key takeaways Pancakes are celebrated for their soft, fluffy texture, while waffles are known for their crispy exterior and syrup-holding pockets. Both pancakes and waffles offer a wide range of topping possibilities, from classic options like maple syrup and butter to creative combinations like fresh fruit and whipped cream. Mastering the cooking techniques for both pancakes and waffles can elevate your breakfast game, whether it's perfecting the art of pancake flipping or making the most out of your waffle iron. Nutritionally, both pancakes and waffles can be tailored to be healthier with the right ingredients and recipes, making them versatile options for any diet. Use the free January app to see calorie and macro information, as well as how both waffles and pancakes would affect your blood sugar. Blood sugar impact of waffles vs pancakes A super easy way to see the nutritional differences in foods is by using the free January app . As you can see in the above image, the app shows the nutritional profile of both waffles and pancakes, along with the predicted blood sugar impact. In both cases, the impact is high (for 2 pieces), meaning if you're concerned about blood sugar management â as we all should be, whether we're healthy or not â both options will spike your blood sugar. If we had to pick, we'd opt for a pancake for blood sugar control due to its lower calorie content and fractionally lower blood sugar impact, although, as you can see, there's not a huge difference between the two. The reality is that neither is good for blood sugar management, especially when you consider the toppings you might want to add, so in an ideal world, you'd avoid both. With the January app, you can scan the barcode of the food you're choosing between in the grocery store and get instant access to the macro and blood sugar impact, so you can make the best choice possible for your health goals. The January app is completely free to download and use. You can even take a photo of your meal and instantly get the macro information and the predicted glucose response. Whether at a restaurant, in the grocery store, or rummaging around the pantry, we always keep the January app on hand to help us make the best choices for our health goals. You can download the January app for free here. Pancakes vs waffles: Which is healthier? When it comes to choosing between pancakes and waffles, understanding their nutritional profiles is crucial. Let's dive into the nutritional showdown to see which one offers a healthier start to your day. Calorie counts and nutritional facts Pancakes generally have better macros and about 20% fewer calories than waffles. Waffles often contain more refined sugar, making them a less favorable option if you're watching your sugar intake. Plant-based pancake & waffle mixes are free of artificial sweeteners, sugars, and oils, contributing to fewer calories overall. When it comes to macros, we'd opt for pancakes over waffles. See for yourself by downloading the free January app . Healthy pancake recipes Pancakes are easier to make healthier. For more fiber, use whole grain flours like oat, buckwheat, or chickpea. You can also substitute half the flour with unflavored whey protein to boost the protein content, making it a more complete meal. High-fiber breakfast foods are essential for a balanced diet, and pancakes can easily be adapted to meet this need. Nutritious waffle options While waffles may have a reputation for being less healthy, there are ways to make them more nutritious. Opt for whole grain or plant-based mixes and avoid store-bought options that are high in refined sugars. Healthy granola can be a great topping to add some crunch and nutritional value. Remember, the best pancakes or waffles are the ones that fit into your overall dietary goals and preferences. Experiment with different recipes and toppings to find your perfect breakfast match. Enjoy these delicious treats in moderation and savor the delightful flavors they bring to your morning routine. The texture showdown: Fluffy vs crispy When it comes to breakfast, the texture of your treat can make all the difference. Pancakes and waffles each offer a unique experience that caters to different cravings. Pancakes are celebrated for their uniform and fluffy texture throughout. Each bite melts in your mouth, providing a soft and tender experience that many find comforting. The pillowy comfort of pancakes is perfect for those who enjoy a consistent, airy texture. Waffles, on the other hand, bring a delightful contrast to the table. With their crispy, golden-brown edges and chewy centers, waffles offer a unique combination of textures. The satisfying crunch on the outside paired with a soft, chewy middle makes waffles a favorite for those who crave a bit of everything in one bite. Ultimately, the choice between pancakes and waffles comes down to personal preference. Do you prefer the melt-in-your-mouth softness of pancakes, or do you enjoy the satisfying contrast of crispy and chewy that waffles provide? Your breakfast choice can vary based on your mood and cravings, making both options equally appealing in their own right. Whether you lean towards the fluffy comfort of pancakes or the crispy delight of waffles, there's no wrong choice. Both offer a unique and delicious way to start your day. Topping versatility: Pancakes and waffles When it comes to topping versatility , both pancakes and waffles offer a playground for your taste buds. Whether you prefer sweet or savory, the possibilities are endless. Classic pancake toppings to try Pancakes can be topped with classic options like maple syrup and butter, or you can get creative with fresh fruit, chocolate chips, and even savory options such as bacon. The stackable nature of pancakes allows for a tower of deliciousness, each layer offering a new flavor experience. Waffle toppings to try Waffles, with their crispy edges and chewy centers, have pockets that can hold syrup, butter, and other toppings, creating bursts of flavor with each bite. The grooves in waffles act as perfect slots for toppings. Chocolate chips naturally spread out to be even and delicious, fruit stays in place instead of sliding around, and syrup pools up in small pockets that can be transferred to one another just by a gentle tilt. Cooking techniques: Pancakes vs waffles Mastering the art of pancake flipping Making pancakes requires a bit of finesse. You don't need any special equipment beyond what you already have in your kitchen. However, the process can be labor-intensive and leaves room for error. You control the heat of the pan, the size of the pancake, and the cooking time. Here are some tips to master the art of pancake flipping: Preheat your pan : Make sure your pan is hot enough before pouring the batter. Use a ladle : This helps in getting the right amount of batter for each pancake. Wait for bubbles : Flip the pancake when you see bubbles forming on the surface. Gentle flipping : Use a spatula to flip the pancake gently to avoid breaking it. Perfecting your pancake flipping technique can make your breakfast experience much more enjoyable. Waffle iron wonders: Tips and tricks Waffles, on the other hand, require a waffle iron, which makes the cooking process easier and more consistent. Here are some tips to get the best results with your waffle iron: Preheat the waffle iron : Always preheat to ensure even cooking. Grease the plates : Use a brush to apply a thin layer of oil or butter to prevent sticking. Don't overfill : Pour just enough batter to cover the bottom plate without overflowing. Follow the timer : Most waffle irons come with a timer; use it to avoid undercooking or burning. Common mistakes to avoid Whether you're making pancakes or waffles, there are some common mistakes to avoid: Overmixing the batter : This can make your pancakes or waffles tough. Mix just until combined. Incorrect heat : Too high or too low heat can ruin the texture. Medium heat is usually best. Skipping the preheat : Always preheat your pan or waffle iron for even cooking. Ignoring the first batch : The first pancake or waffle often doesn't turn out perfect. Use it as a test to adjust your technique. By keeping these tips in mind, you can enjoy a delicious and perfectly cooked breakfast, whether you prefer fluffy pancakes or crispy waffles. Kid-friendly breakfasts: Pancakes vs waffles When it comes to kid-friendly breakfasts, both pancakes and waffles have their unique appeal. These beloved breakfast items can double as conduits for nutrition. One way to do this is by infusing them with vegetables. Spinach, for example, can be blended into pancake batter for a nutritious twist. Why kids love pancakes Pancakes are often a hit with kids because they are soft, fluffy, and easy to eat. You can make them even more appealing by using fun shapes or adding colorful fruits like blueberries and strawberries. Plus, they can be made with just three simple ingredients , making them a quick and healthy breakfast option. Waffles: A fun breakfast option Waffles, with their crispy texture and fun grid pattern, are another favorite among children. The little pockets are perfect for holding syrup, fruit, or even a dollop of whipped cream. Making breakfast fun for kids To make breakfast more exciting, consider setting up a topping bar where kids can choose their own toppings. This not only makes the meal more interactive but also allows them to get creative with their food. Whether it's pancakes or waffles, the key is to make the experience enjoyable and nutritious. Conclusion In the end, the pancake vs waffle debate is one that may never be definitively settled. Both breakfast treats bring their own unique textures, flavors, and culinary possibilities to the table. Whether you prefer the soft, fluffy comfort of pancakes or the crispy, syrup-catching pockets of waffles, there's no wrong choice. The beauty of breakfast is that it offers the perfect opportunity to enjoy both. So, why not alternate between a stack of fluffy pancakes one day and a golden, crisp waffle the next? After all, variety is the spice of life, especially when it comes to breakfast! Frequently asked questions What are the main differences between pancakes and waffles? The main differences lie in their texture and cooking methods. Pancakes are typically soft and fluffy, cooked on a griddle, while waffles are crispy with pockets, cooked in a waffle iron. Which is healthier, pancakes or waffles? Both can be made healthier with the right ingredients. Generally, the calorie and nutritional content depend on the recipe and toppings used, but with pancakes, you're likely starting from a healthier base. Can I use pancake batter to make waffles? While you can use pancake batter to make waffles, the texture may not be as crispy. Waffle batter typically contains more fat to achieve that signature crispiness. What are some popular toppings for pancakes and waffles? Popular toppings include maple syrup, fresh fruits, whipped cream, nuts, and chocolate chips. Both pancakes and waffles offer versatile topping options. Do I need special equipment to make waffles? Yes, to achieve the classic waffle texture, you need a waffle iron. Pancakes, on the other hand, only require a griddle or frying pan. Can I freeze pancakes and waffles for later? Yes, both pancakes and waffles can be frozen and reheated. Make sure they are completely cooled before freezing to maintain their texture. â heading 1 The rich text element allows you to create and format headings, paragraphs, blockquotes, images, and video all in one place instead of having to add and format them individually. Just double-click and easily create content. heading 2 A rich text element can be used with static or dynamic content. For static content, just drop it into any page and begin editing. For dynamic content, add a rich text field to any collection and then connect a rich text element to that field in the settings panel. Voila! Heading 3 Headings, paragraphs, blockquotes, figures , images, and figure captions can all be styled after a class is added to the rich text element using the \"When inside of\" nested selector system. Heading 4 Headings, paragraphs, blockquotes, figures, images, and figure captions can all be styled after a class is added to the rich text element using the \"When inside of\" nested selector system. Headings, paragraphs, blockquotes, figures, images, and figure captions can all be styled after a class is added to the rich text element using the \"When inside of\" nested selector system. Heading 5 Headings, paragraphs, blockquotes, figures, images, and figure captions can all be styled after a class is added to the rich text element using the \"When inside of\" nested selector system. Headings, paragraphs, blockquotes, figures, images, and figure captions can all be styled after a class is added to the rich text element using the \"When inside of\" nested selector system. Headings, paragraphs, blockquotes, figures, images, and figure captions can all be styled after a class is added to the rich text element using the \"When inside of\" nested selector system. Headings, paragraphs, blockquotes, figures, images, and figure captions can all be styled after a class is added to the rich text element using the \"When inside of\" nested selector system. Headings, paragraphs, blockquotes, figures, images, and figure captions can all be styled after a class is added to the rich text element using the \"When inside of\" nested selector system. Headings, paragraphs, blockquotes, figures, images, and figure captions can all be styled after a class is added to the rich text element using the \"When inside of\" nested selector system. Headings, paragraphs, blockquotes, figures, images, and figure captions can all be styled after a class is added to the rich text element using the \"When inside of\" nested selector system. Headings, paragraphs, blockquotes, figures, images, and figure captions can all be styled after a class is added to the rich text element using the \"When inside of\" nested selector system. Headings, paragraphs, blockquotes, figures, images, and figure captions can all be styled after a class is added to the rich text element using the \"When inside of\" nested selector system. Heading 6 Headings, paragraphs, blockquotes, figures, images, and figure captions can all be styled after a class is added to the rich text element using the \"When inside of\" nested selector system. Related Articles Are bananas good for weight loss? Is almond milk good for weight loss? Get insights in your inbox too. Sign up for our newsletter to read the latest in metabolic health. Thank you! Your submission has been received! Thank you! Your submission has been received! Oops! Something went wrong while submitting the form. Manage blood sugar & lose weight Januaryâs predictive AI shows you the impact of a food before you eat it. Try January for free, today! DOWNLOAD FOR FREE Try January for free, today! Itâs completely free to download and use. Get started DOWNLOAD FOR FREE Newsletter signup Thank you! Your submission has been received! Oops! Something went wrong while submitting the form. Our Science Blog About Us Careers Enterprise Android Waitlist Partners Pharma Enterprise Contact Press FAQs Privacy Policy Terms of Use AI Whitepaper What is Metabolic Health? Glycemic index of food Â© 2024 January. All Rights Reserved Any claim on this page has not been reviewed by the FDA. This product is not intended to diagnose, cure, or prevent any disease or illness.\u001b[0m\u001b[32;1m\u001b[1;3m\n",
      "Invoking: `scrape_text` with `{'url': 'https://www.businessinsider.com/difference-between-pancakes-and-waffles-2019-2'}`\n",
      "\n",
      "\n",
      "\u001b[0m\u001b[33;1m\u001b[1;3mThe Real Difference Between Pancakes and Waffles - Business Insider Menu icon A vertical stack of three evenly spaced horizontal lines. Business Insider logo Business Insider Newsletters Subscribe Account icon An icon in the shape of a person's head and shoulders. It often indicates a user profile. Log in Subscribe Business Strategy Economy Finance Retail Advertising Careers Media Real Estate Small Business The Better Work Project Tech Science AI Sustainability Enterprise Transportation Startups Innovation Markets Stocks Indices Commodities Crypto Currencies ETFs Lifestyle Entertainment Culture Travel Food Health Parenting Reviews Tech Streaming Home Kitchen Style Beauty Pets Gifts Deals Politics Military & Defense Law Education Personal Finance Banking Credit Cards Investing Loans Mortgages Video Big Business Food Wars So Expensive Explainers Still Standing Boot Camp All A-Z Advertising AI Banking Business Careers Commodities Credit Cards Crypto Culture Currencies Economy Education Enterprise Entertainment ETFs Finance Food Health Indices Innovation Investing Law Lifestyle Loans Markets Media Military & Defense Mortgages Parenting Personal Finance Politics Retail Reviews Small Business Science Startups Stocks Strategy Sustainability Tech Transportation Travel Video Featured Talent Insider About About Advertise Careers Code of Ethics Contact Us Corporate Corrections Policy Follow RSS Sitemap Facebook Twitter Instagram YouTube LinkedIn Subscriptions Intelligence Close icon Two crossed lines that form an 'X'. It indicates a way to close an interaction, or dismiss a notification. Chevron icon It indicates an expandable section or menu, or sometimes previous / next navigation options. Home Newsletters Account icon An icon in the shape of a person's head and shoulders. It often indicates a user profile. Log in Subscribe News There's a reason for the pancakes vs. waffles debate. Here's why the breakfast dishes are actually so different. Julia Guerra 2019-03-25T13:12:00Z Share icon An curved arrow pointing right. Share Facebook Icon The letter F. Facebook Email icon An envelope. It indicates the ability to send an email. Email Twitter icon A stylized bird with an open mouth, tweeting. Twitter LinkedIn icon LinkedIn Link icon An image of a chain link. It symobilizes a website link url. Copy Link lighning bolt icon An icon in the shape of a lightning bolt. Impact Link Save Article Icon A bookmark Save Read in app Angle down icon An icon in the shape of an angle pointing down. Pancakes and waffles are cooked very differently. iStock This story is available exclusively to Business Insider\n",
      "                      subscribers. Become an Insider and start reading now. Have an account? Log in . Pancakes and waffles typically have the same or similar ingredients but they taste different because of how they're made. Some chefs add toppings and spices to the batters to create totally separate breakfast dishes. When pancakes and waffles are made from the same batter, chefs have said the difference in taste comes from how they're prepared. Sign up to get the inside scoop on today’s biggest stories in markets, tech, and business — delivered daily. Read preview Thanks for signing up! Go to newsletter preferences Thanks for signing up! Access your favorite topics in a personalized feed while you're on the go. download the app Email address Sign up By clicking “Sign Up”, you accept our Terms of Service and Privacy Policy . You can opt-out at any time by visiting our Preferences page or by clicking \"unsubscribe\" at the bottom of the email. Advertisement Let's set the record straight once and for all: A short stack of pancakes and a plate of waffles are not one and the same. Sure, the off-the-griddle breakfast items are essentially birds of a feather — quick, doughy delicacies to satisfy your morning sweet tooth — but pancakes and waffles taste vastly different and you might be surprised to know the reason why isn't always on the tip of your tongue. For starters, not all pancake and waffle batters are created equally Both pancake and waffle batter typically contain eggs, butter, and leavening agents. Sydney Kramer/INSIDER Pancake and waffle mixes generally have a similar base — eggs, butter, sugar, leavening agents — but a handful of chefs will tell you the difference in taste is all in the additives. \"When the batter is made separately, there are several key differences between the recipes,\" Chef Bryan Ogden, the corporate executive chef of Sugar Factory told INSIDER. Advertisement Even if pancakes and waffles are made from separate batters, the batter's texture is key. Ogden told INSIDER that typically chefs will add more butter and baking powder to waffles, but when it comes to pancakes, folding whipped egg whites into the batter is his secret for delivering optimal fluffiness to each bite. Jamie Johnson, nightlife impresario and owner of The Morning After , also noted that his restaurant's signature pancake recipe calls for baking soda and baking powder but his waffle recipe does not. At the same time, even though the ingredients that make up the batter matter, spices and toppings can make a significant difference in taste Lizzi Ackerma, CMO and co-founder of Birch Benders, told INSIDER it only takes a few key ingredients to transform one batter into two completely separate dishes with very different tastes. For example, adding chocolate chips to a classic pancake batter, she said, can create a totally different tasting experience because during cooking the chocolate will melt throughout the batter differently than it would in a waffle. Chef Johnny Church, the corporate executive chef for Golden Entertainment, Inc ., told INSIDER he always uses different batters for pancakes and waffles and he tends to be more experimental with pancakes as they're \"more versatile.\" Advertisement But when pancakes and waffles are made from the same batter, the difference in taste comes from how they're individually cooked Waffles are made using a special iron. Getty Images Not only do pancakes and waffles taste different, but they also don't look very similar, either. It turns out, the visible discrepancies translate to a difference in taste. Pancakes are cooked on a smooth, flat surface. For waffles, the batter is drizzled into an iron and compressed on both sides. In theory, no matter what shape a batter takes on, it should taste the same, but when it comes to pancakes and waffles, Tanner Agar, owner and chief experience officer of Rye restaurant in Texas, said the mold makes all the difference. \"The pancake is all about the fluffy texture created from having one, flat, cooking surface. This means two caramelized sides with fluff in the middle,\" Agar told INSIDER. \"The waffle maximizes the cooking surface so that you have more caramelization and less fluff. This change changes everything.\" Read next Watch: 11 homes that are out of this world Breakfast Advertisement Close icon Two crossed lines that form an 'X'. It indicates a way to close an interaction, or dismiss a notification. Advertisement Recommended video Advertisement This story is available exclusively to Business Insider\n",
      "        subscribers. Become an Insider and start reading now. Have an account? Log in . Follow us on: * Copyright © 2024 Insider Inc. All rights reserved.\n",
      "                    Registration on or use of this site constitutes acceptance of our Terms of Service and Privacy Policy . Contact Us Masthead Sitemap Disclaimer Accessibility Commerce Policy Advertising Policies Jobs @ Business Insider Stock quotes by finanzen.net Reprints & Permissions Cookie Settings International Editions: United States US International INTL Deutschland & Österreich AT Deutschland DE España ES India IN Japan JP Netherlands NL Polska PL Jump to Main content Search Account\u001b[0m\u001b[32;1m\u001b[1;3m\n",
      "Invoking: `scrape_text` with `{'url': 'https://www.centraltimes.org/showcase/2023/03/22/breakfast-battle-waffles-vs-pancakes/'}`\n",
      "\n",
      "\n",
      "\u001b[0m\u001b[33;1m\u001b[1;3mCentral Times | Opinion: Breakfast Battle: Waffles vs. Pancakes Opinion: Breakfast Battle: Waffles vs. Pancakes – Central Times Submit Search Search E-newspaper News Community DNC 2024 Features Profiles Sports Opinions Editorial Columns Rowdie Ramblings No She-Didn’t-Puri Blogs Letters to the Editor Arts & Entertainment Reviews Media Video Podcasts Photography About Us 2024-25 Editorial Policy Staff Our Awards Contact Us Letter to the editor Advertising Support The Central Times Menu Close Menu Search E-newspaper News Community DNC 2024 Features Profiles Sports Opinions Editorial Columns Rowdie Ramblings No She-Didn’t-Puri Blogs Letters to the Editor Arts & Entertainment Reviews Media Video Podcasts Photography About Us 2024-25 Editorial Policy Staff Our Awards Contact Us Letter to the editor Advertising Support The Central Times ( Adeline Tse ) Adeline Tse Opinion: Breakfast Battle: Waffles vs. Pancakes March 22, 2023 Waffles are better Nina Rao , Staff Writer Breakfast is considered the most important meal of the day, though I think many high schoolers would disagree, including myself. In reality, breakfast is the meal that you eat when your parents tell you to and you make when you want to feel like a productive human being. And so, to my fellow students who undoubtedly lack cooking skills, I propose to you the idea of waffles. On the few days when I actually make and eat breakfast, I am a sucker for a good waffle. Waffles are easy to make and the machine does it for you. No need to flip off a poorly flipped pancake when you can have a perfectly cooked and fluffy waffle. I mean, who needs to worry about a failed Honors Geometry test when your waffle maker does it for you (further proof that geometry is useless?)You could practically learn your times tables by counting the squares of your waffles, but that is besides the point. Truly, waffles are superior to pancakes for the following reasons: they provide you with delicious places to put syrup, and are a more fulfilling meal (both mentally and physically). While many may criticize the holes in waffles as “giving you too much syrup” I would argue that they give you the perfect amount. They practically give you a guideline. As high schoolers (and chronic procrastinators) none of us actually want to use our brains. Trust me, thinking is hard. Waffles tell you how much syrup to put and they store it for you nicely. You’ll never need to look for the hole with a waffle. Furthermore, waffles give you a sense of fulfillment to a greater extent than pancakes. Not only will your stomach be pleased after you feed it a sweet, fluffy waffle but your mind will also experience immense joy. The wondrous shapes of waffles and the aesthetically pleasing look of them naturally creates fulfillment in the brain. As people, we immediately look for a purpose in life, desiring accomplishment and achievement. In my opinion, making a waffle that generates the same reaction from people when they see Chris Evans and/or Harry Styles (drooling due to the scrumptiousness) is an accomplishment comparable to acing an Honors Biology test. We have too long lived in an age of hardship. We have too long pressured ourselves to be better, to work harder, when sometimes all you need is a break. So relax. Take a break. Make (and of course, eat) a waffle. View 6 Comments Pancakes are better Emma Dram , Staff Writer Few things make me feel more capable as a human being than making a nice batch of pancakes. There’s something about mixing the pancake batter and experimenting with possible flavor combinations that really feeds my god complex (no pun intended). When I inevitably disregard the advice of the online recipe I’m following because “I can probably figure it out from here,” I feel like I’m Gordon Ramsey, and I’ve come to save a struggling restaurant by showing them how to make the perfect pancake. There’s truly nothing like it. Realistically, I’m probably freshly woken up on a Sunday at noon, stressing about having to do all of that homework I’ve been putting off. I’ve probably been humbled by a recent Infinite Campus notification on my Honors Biology test from last Friday. But once I make myself a batch of pancakes, I feel a sense of accomplishment as I think to myself: “Damn — I’m kind of awesome.” But maybe this is just a me thing. All jokes aside, I truly think making pancakes (and, of course, eating them too) is superior to making (and, of course, eating) waffles for two simple, yet crucial reasons: creative freedom, and the absence of structure. There are so many things we can do to make pancakes. For those of you who haven’t already, I urge you to do a deep dive into the world of pancake art. Ranging from drawings of flowers to ironic depictions of other food to full drawn portraits, the sky’s the limit when it comes to pancake art. Whereas with waffles? Confined to the boring, geometric design generated by waffle makers. In a battle of creativity, it’s clear that pancakes reign victorious. Our lives are defined by structure, schedules and timetables that dictate how we spend our day to day. Especially as students, our livelihoods are contaminated with the frivolous necessity of scheduling time with academics, extracurriculars and even our free time. But in the land of pancakes, the concept of structure suddenly disappears in the form of fluffy, heavenly dough. Without those suppressive boxes which are characteristic of waffles, we have the freedom to run wild. No longer are we boxed in (pun intended) and forced to abide by preset designs. Finally we can experience what true happiness feels like when we arbitrarily flood our plate with syrup – pouring a little here, pouring a lot here, missing some spots entirely. Is this what heaven feels like? Dear readers, I leave you with this. In a world where our creative freedom is stifled and our daily lives are polluted with the arbitrary need for structure and order, will you still really be reaching for waffles on those Sundays? View 1 Comment Central Times • Copyright 2024 • FLEX WordPress Theme by SNO • Log in Donate to Central Times $178 $700 Contributed Our Goal Full Name (as appears on credit card) Email I would like to remain anonymous. (Name will only be used to verify billing.) $10 $25 $50 $100 Other Custom Donation Amount Card Details I agree to the terms of service . Submit Donation Submitting donation... Thank you for supporting the Central Times! There was an issue submitting your request. Comments (0) Share your thoughts... All Central Times Picks Reader Picks Sort: Newest Cancel reply Your email address will not be published. Required fields are marked * Comment * Spam Control Field. Verification Field. Name * Email * Δ 13 Share on Facebook Share on X Share on Reddit Close Close Modal Window Close\u001b[0m\u001b[32;1m\u001b[1;3m\n",
      "Invoking: `scrape_text` with `{'url': 'https://greatist.com/eat/pancakes-and-waffles-which-is-better'}`\n",
      "\n",
      "\n",
      "\u001b[0m\u001b[33;1m\u001b[1;3mPancakes vs. Waffles: Nutrition, Flavor, and Versatility Greatist Health & Wellness Wellness Women's Health Men's Health Mental Health Sexual Health Relationships Skin & Hair Sleep CBD Home Pets Weight Loss Travel Health Conditions ADHD Allergies Cold & Flu Diabetes High Cholesterol HIV IBD Mental Health Conditions Migraines Psoriatic Arthritis Skin Conditions STDs Food Food Nutrition Vitamins & Supplements Vegan & Vegetarian Eating International Food Cooking 101 Kitchen Gear Recipes All Breakfast & Brunch Appetizers & Snacks Main Dishes Sandwiches Salads Sides Desserts Drinks Fitness Fitness Workout Tips Strength Training HIIT Kettlebell Resistance Bands Running Cycling Yoga Stretching Gear Workouts Beginner Abs & Core Legs Arms Butt Full Body Faves Product Reviews Health Fitness & Home Gym Food & Cooking Skin & Beauty Home & Garden Sleep Series The Lift Crash Course First Gear DJ Gr8st Greatist Reads How-To Train for a 10K Better Sex in 10 Days 30 Days of Yoga 14-Day Guide to Plant-Based Eating Connect The Greatist Community Instagram Facebook Twitter Pinterest TikTok Spotify YouTube About Greatist Who We Are Our Editorial Process Our Product Vetting Process Content Integrity Conscious Language Which Is Better, Pancakes or Waffles? Written by Jen Wheeler on September 22, 2021 In the age-old breakfast debate of pancakes vs waffles , it’s hard to pick a side. Both are delicious, and each has its superior applications ( chicken and pancakes is not a thing for a good reason, but you can’t roll waffles around jam and cream as you can with crepes , which are technically part of the pancake family ). Share on Pinterest We wouldn’t want to live without either of them, but if we had to choose between pancakes and waffles, we’d want to be at least a little scientific about it. Everyone has a gut reaction that one is obviously better than the other, which may be regionally influenced (were there more IHOPs or Waffle Houses where you grew up?), and naturally, what your caregivers cooked at home must be a factor. But that can be a bad thing too; if you only ate Eggos as a kid, for instance, and you think you don’t like waffles based on that experience, it’s time to try a real one and reconsider. In the interest of choosing with our heads over our hearts, we’ve broken down all the most important factors that determine which is the better bite, and declared a winner in each category. Whichever racks up the most points overall, then, must be the One True Breakfast Carb (as long you temporarily forget about croissants, doughnuts , Danishes, and the like). Health and Nutrition Neither carb-tastic treat is exactly spa food (though both can be made healthier and/or made to suit special diets—by using almond flour for gluten-free versions, for instance), but if you’re counting calories, waffles have about 100 more of them than pancakes, and more cholesterol too, but that’s before you factor in toppings like butter, syrup, or whipped cream. Pancakes are often served in taller stacks, so they could end up being less virtuous, but in a 1:1 comparison, the victor is clear. Point: pancakes. Carrot Cake Pancakes recipe Flavor Both plain pancakes and waffles are lightly sweet and a little bready, although waffles are more so on both counts; they generally have more butter and sugar in the batter and become more caramelized during cooking, so they taste a little richer and more pastry -like. They’re also rarely underdone, unlike so many sad pancakes, which still taste raw and bitter in the middle when not quite cooked through—but even when they’re perfect, they’re just a bit more bland before you bring in the toppings. Point: waffles. Easy Waffles recipe Texture + Relationship to Toppings Properly cooked pancakes are soft and spongy (in a good way!) but not gummy, whereas waffles are lighter, crisp outside, and tender within. Which texture is better may be a matter of personal preference, but neither pancakes nor waffles usually stand alone, and once you bring toppings into it, the winner becomes clear… Pancakes are better at soaking up syrup , no doubt, but many people would rather not have soggy breakfast food, and that’s what pancakes become after just a short while under a good drenching. Waffles trap that syrup (or whatever else you want to top them with) in all their handy nooks and crannies while staying crisp for a relatively long while. So taking toppings into account, texturally, waffles have the edge ( so many edges). Those crunchy little squares also hold things like chopped nuts and berries in place, while with pancakes, such morsels are apt to fall off the stack. Point: waffles. Pedigree Pancakes are way older than waffles; they’ve been around in some form since at least the 1430s, based on the first written record of the word “pancake,” but probably existed long before then in some form . The first waffle iron was only patented in 1869, so relatively speaking, it’s still the new kid on the block. Point: pancakes. Versatility In sweet situations—say, with butter and syrup, or whipped cream and berries—pancakes and waffles are fairly equally matched, as long as you eat the pancakes fast enough to avoid the sog factor. They’re both easily changed up with extra flavors (from gingerbread spices to orange and vanilla ) and mix-ins, from chocolate chips to blueberries and beyond. They can conceivably both be turned into dessert ( hello , carrot cake pancakes ), although waffles are better vehicles for ice cream. And in their most familiar forms (meaning, as you’d find them in a diner), both can be savory, but waffles are better at it. This is mostly thanks to their texture, which (whether they’re cheddar waffles , sourdough waffles , or basic buttermilk), can stand up not just to the classic partner of fried chicken , but even chili or cream gravy, without disintegrating into mush (at least for a little while). They also make better sandwiches than pancakes do (though mini pancakes aren’t bad bread replacements at breakfast time). Point: waffles. International Variations Despite waffles’ win directly above, if you look beyond the horizon of the traditional American breakfast (and lunch and dinner) table, the pancake pantheon proves vast and endlessly enticing—from various savory Asian pancakes and fluffy Japanese souffle pancakes to blini, crepes, Dutch babies , idlis, and even latkes (which might be a stretch, but they are also called potato pancakes, so there’s an argument for lumping them in). There just aren’t as many international versions of waffles; basically, Belgian waffles , Scandinavian sweetheart waffles , Hong Kong egg waffles , and taiyaki are it. And those are great, but they don’t just don’t quite stack up as high. Point: pancakes. Hassle The biggest con leveled against waffles, that you need a special appliance just to make them, is fair enough, but if you have a waffle iron, you can use it for all sorts of other food, from sandwiches to brownies and lots else in between. Some types of pancakes— Poffertjes and Aebleskiver —also require special pans, and those pans are probably far less versatile than a waffle iron…but still, pancakes in their most common form can be made on virtually any flat surface that conducts heat, whereas if you have a craving for homemade waffles and you’re without an iron, you’re simply out of luck. That said, waffle irons basically do all the work for you, while pancakes require more skill and attention and the first one almost always seems to burn. Point: it’s a toss-up. Pop Culture Presence Pancakes have appeared in many movies and TV shows, sometimes incidentally and sometimes with intent: for example, they show up in “ Pee-wee’s Big Adventure ,” “ Uncle Buck ,” “ The Big Lebowski ,” “ Adventure Time ” (where they even get their own song), and “Pulp Fiction.” Waffle highlights may be harder to recall (and even then, tend to be less illustrious: “Shrek Forever After,” “50 First Dates”…), but they recently had a great showing in “ Stranger Things ” (even if in the unfortunate form of frozen Eggos), and they occupy an iconic place in sacrilicious Simpsons history . Point: let’s call this one another draw. Artistic Merits If you have a squeeze bottle and a knack for it, you can make pancakes in literally any shape . But if you want your waffles to look like something else (say, the Death Star , Captain America’s shield , or Mickey Mouse ), you have to buy yet another machine. Point: pancakes. And The Winner Is… Pancakes, by a hair. However, if you strongly believe waffle irons are magic appliances and not a burden, or don’t care about making edible art, then the playing field evens out. And if you set aside global variations and compare only plain old American-style pancakes and waffles on their merits, waffles definitely win. But in the end, of course, only you can decide. And happily, you don’t actually have to. Team: All the Breakfast Foods . FEEDBACK: Written by Jen Wheeler on September 22, 2021 Read this next 5 Best Substitutes for Mirin: Easy Alternatives for Your Recipes Discover the best substitute for mirin in your recipes. Learn about five alternatives to mirin and how to use them when you’re in a pinch. READ MORE Best Coconut Milk Substitutes for Delicious Curry Night Discover the best coconut milk substitutes for your curry nights. Learn which alternatives work best to keep your dishes flavorful and delicious. READ MORE Get Baked: 9 Best Substitutes for Molasses Find the 9 best molasses substitutes to save your recipe. Learn how to use these alternatives when out of molasses or seeking a different flavor. READ MORE 6 Best Replacements for Baking Soda You Might Already Have Discover 6 effective replacements for baking soda in your recipes. Learn how to use baking powder, egg whites, and more to keep your bakes fluffy. READ MORE 10 Cookbooks to Liven Up Your Kitchen for Spring 2022 Check out our favorite pop culture and culinary wellness cookbooks so far this year. READ MORE What Is Korean BBQ? And How to Order It Like a Pro At the most basic culinary level, it’s simply the traditional Korean method of grilling meat tableside. But as a cultural phenomenon, it’s truly all… READ MORE The Ultimate Guide to Homemade Pizza Ingredients for Perfect Pies Explore the history and charm of homemade pizza with our guide. Learn simple steps and classic toppings to elevate your next pizza night. READ MORE Dan Levy’s New HBO Max Cooking Show Is Giving Us Total GBBO Vibes Levy's show will spotlight underrepresented cooks from eateries across the U.S. for a chance to gain exposure and support. READ MORE 15 Creamy Soup Recipes for Warding Off Cold Winter Weather Good homemade soup comes in many forms and flavors, but the comfort food factor ratchets up when you add cream, or simply a creamy texture, to the mix. READ MORE Soup School: Up Your Soup Skills in a Weekend! Level up your soup skills in just a few short hours each week with amazing recipes, essential cookware, cooking tips, and more. READ MORE © 2024 Greatist, a Healthline Media Company. Healthline Media is an RVO Health Company. Our content does not constitute a medical consultation. See a certified medical professional for diagnosis. See additional information . About Us Contact Us Terms of Use Privacy Policy Privacy Settings Advertising Policy Medical Affairs Content Integrity © 2024 Greatist, a Healthline Media Company. Healthline Media is an RVO Health Company. Our content does not constitute a medical consultation. See a certified medical professional for diagnosis. See additional information . About Careers Advertise with us OUR BRANDS Healthline Medical News Today Greatist Psych Central Bezzy\u001b[0m\u001b[32;1m\u001b[1;3m\n",
      "Invoking: `scrape_text` with `{'url': 'https://www.quora.com/What-are-the-differences-between-pancake-batter-and-waffle-batter-Is-one-easier-to-make-than-the-other'}`\n",
      "\n",
      "\n",
      "\u001b[0m\u001b[33;1m\u001b[1;3mWhat are the differences between pancake batter and waffle batter? Is one easier to make than the other? - Quora Something went wrong. Wait a moment and try again. Try again Please enable Javascript and refresh the page to continue\u001b[0m\u001b[32;1m\u001b[1;3m# Pancakes vs. Waffles: A Scientific Perspective on Why Pancakes Are Better\n",
      "\n",
      "## Introduction\n",
      "\n",
      "The debate between pancakes and waffles is a long-standing culinary rivalry that has breakfast enthusiasts passionately divided. Both breakfast staples offer unique qualities that make them hard to resist. However, when it comes to determining which is superior, pancakes often emerge as the preferred choice. This report delves into the scientific, nutritional, and cultural aspects of pancakes and waffles to establish why pancakes are considered better.\n",
      "\n",
      "## Nutritional Comparison\n",
      "\n",
      "### Caloric Content\n",
      "\n",
      "Pancakes generally have fewer calories compared to waffles. According to a study by January.ai, pancakes have about 20% fewer calories than waffles (January.ai, 2024). This makes pancakes a more favorable option for those who are calorie-conscious.\n",
      "\n",
      "### Sugar and Fat Content\n",
      "\n",
      "Waffles often contain more refined sugar and fat, making them a less healthy option. The batter for waffles typically includes more butter and sugar, contributing to their richer taste but also higher caloric content (Business Insider, 2019). In contrast, pancakes can be made with healthier ingredients, such as whole grain flours and less sugar, making them a better choice for a balanced diet.\n",
      "\n",
      "### Blood Sugar Impact\n",
      "\n",
      "Both pancakes and waffles can spike blood sugar levels, but pancakes have a slightly lower impact. The January app indicates that pancakes have a fractionally lower blood sugar impact compared to waffles, making them a slightly better option for blood sugar management (January.ai, 2024).\n",
      "\n",
      "## Culinary Versatility\n",
      "\n",
      "### Ingredient Flexibility\n",
      "\n",
      "Pancakes offer greater flexibility in terms of ingredients and flavors. They can be made with a variety of flours, such as oat, buckwheat, or chickpea, to increase fiber content. Additionally, pancakes can be enriched with protein by adding ingredients like unflavored whey protein (January.ai, 2024).\n",
      "\n",
      "### Topping Versatility\n",
      "\n",
      "Pancakes provide a versatile canvas for a wide range of toppings. From classic options like maple syrup and butter to creative combinations like fresh fruit and whipped cream, pancakes can be customized to suit individual preferences (Greatist, 2021).\n",
      "\n",
      "### Creative Freedom\n",
      "\n",
      "Pancakes allow for more creative expression in the kitchen. Unlike waffles, which are confined to the geometric design of the waffle iron, pancakes can be shaped and decorated in various ways, making them a fun and engaging breakfast option (Central Times, 2023).\n",
      "\n",
      "## Cooking Techniques\n",
      "\n",
      "### Simplicity and Accessibility\n",
      "\n",
      "Pancakes are easier to make and require less specialized equipment. While waffles necessitate a waffle iron, pancakes can be cooked on any flat surface that conducts heat, such as a griddle or frying pan (Greatist, 2021). This makes pancakes more accessible to a wider audience.\n",
      "\n",
      "### Mastering the Art\n",
      "\n",
      "Cooking pancakes involves mastering the art of flipping, which can be a rewarding experience. The process of making pancakes allows for greater control over the cooking process, from adjusting the heat to determining the size and thickness of each pancake (January.ai, 2024).\n",
      "\n",
      "## Cultural and Historical Significance\n",
      "\n",
      "### Historical Roots\n",
      "\n",
      "Pancakes have a rich history that dates back centuries. The first written record of the word \"pancake\" appeared in the 1430s, indicating their long-standing presence in culinary traditions (Greatist, 2021). This historical significance adds to the cultural value of pancakes.\n",
      "\n",
      "### Global Variations\n",
      "\n",
      "Pancakes boast a wide array of international variations, from crepes and blini to Japanese souffle pancakes and latkes. This diversity highlights the global appeal and adaptability of pancakes across different cultures (Greatist, 2021).\n",
      "\n",
      "## Conclusion\n",
      "\n",
      "In conclusion, pancakes are superior to waffles for several reasons. They offer a healthier nutritional profile, greater culinary versatility, and a rich cultural history. Pancakes are easier to make, require less specialized equipment, and provide a canvas for creative expression. While both pancakes and waffles have their unique qualities, pancakes ultimately emerge as the better choice for a delicious and satisfying breakfast.\n",
      "\n",
      "## References\n",
      "\n",
      "- January.ai. (2024). Pancake vs waffle: Nutritional differences. Retrieved from [https://january.ai/blog/pancake-vs-waffle](https://january.ai/blog/pancake-vs-waffle)\n",
      "- Business Insider. (2019). The real difference between pancakes and waffles. Retrieved from [https://www.businessinsider.com/difference-between-pancakes-and-waffles-2019-2](https://www.businessinsider.com/difference-between-pancakes-and-waffles-2019-2)\n",
      "- Central Times. (2023). Breakfast battle: Waffles vs. pancakes. Retrieved from [https://www.centraltimes.org/showcase/2023/03/22/breakfast-battle-waffles-vs-pancakes/](https://www.centraltimes.org/showcase/2023/03/22/breakfast-battle-waffles-vs-pancakes/)\n",
      "- Greatist. (2021). Pancakes vs. waffles: Nutrition, flavor, and versatility. Retrieved from [https://greatist.com/eat/pancakes-and-waffles-which-is-better](https://greatist.com/eat/pancakes-and-waffles-which-is-better)\u001b[0m\n",
      "\n",
      "\u001b[1m> Finished chain.\u001b[0m\n"
     ]
    },
    {
     "data": {
      "text/markdown": [
       "# Pancakes vs. Waffles: A Scientific Perspective on Why Pancakes Are Better\n",
       "\n",
       "## Introduction\n",
       "\n",
       "The debate between pancakes and waffles is a long-standing culinary rivalry that has breakfast enthusiasts passionately divided. Both breakfast staples offer unique qualities that make them hard to resist. However, when it comes to determining which is superior, pancakes often emerge as the preferred choice. This report delves into the scientific, nutritional, and cultural aspects of pancakes and waffles to establish why pancakes are considered better.\n",
       "\n",
       "## Nutritional Comparison\n",
       "\n",
       "### Caloric Content\n",
       "\n",
       "Pancakes generally have fewer calories compared to waffles. According to a study by January.ai, pancakes have about 20% fewer calories than waffles (January.ai, 2024). This makes pancakes a more favorable option for those who are calorie-conscious.\n",
       "\n",
       "### Sugar and Fat Content\n",
       "\n",
       "Waffles often contain more refined sugar and fat, making them a less healthy option. The batter for waffles typically includes more butter and sugar, contributing to their richer taste but also higher caloric content (Business Insider, 2019). In contrast, pancakes can be made with healthier ingredients, such as whole grain flours and less sugar, making them a better choice for a balanced diet.\n",
       "\n",
       "### Blood Sugar Impact\n",
       "\n",
       "Both pancakes and waffles can spike blood sugar levels, but pancakes have a slightly lower impact. The January app indicates that pancakes have a fractionally lower blood sugar impact compared to waffles, making them a slightly better option for blood sugar management (January.ai, 2024).\n",
       "\n",
       "## Culinary Versatility\n",
       "\n",
       "### Ingredient Flexibility\n",
       "\n",
       "Pancakes offer greater flexibility in terms of ingredients and flavors. They can be made with a variety of flours, such as oat, buckwheat, or chickpea, to increase fiber content. Additionally, pancakes can be enriched with protein by adding ingredients like unflavored whey protein (January.ai, 2024).\n",
       "\n",
       "### Topping Versatility\n",
       "\n",
       "Pancakes provide a versatile canvas for a wide range of toppings. From classic options like maple syrup and butter to creative combinations like fresh fruit and whipped cream, pancakes can be customized to suit individual preferences (Greatist, 2021).\n",
       "\n",
       "### Creative Freedom\n",
       "\n",
       "Pancakes allow for more creative expression in the kitchen. Unlike waffles, which are confined to the geometric design of the waffle iron, pancakes can be shaped and decorated in various ways, making them a fun and engaging breakfast option (Central Times, 2023).\n",
       "\n",
       "## Cooking Techniques\n",
       "\n",
       "### Simplicity and Accessibility\n",
       "\n",
       "Pancakes are easier to make and require less specialized equipment. While waffles necessitate a waffle iron, pancakes can be cooked on any flat surface that conducts heat, such as a griddle or frying pan (Greatist, 2021). This makes pancakes more accessible to a wider audience.\n",
       "\n",
       "### Mastering the Art\n",
       "\n",
       "Cooking pancakes involves mastering the art of flipping, which can be a rewarding experience. The process of making pancakes allows for greater control over the cooking process, from adjusting the heat to determining the size and thickness of each pancake (January.ai, 2024).\n",
       "\n",
       "## Cultural and Historical Significance\n",
       "\n",
       "### Historical Roots\n",
       "\n",
       "Pancakes have a rich history that dates back centuries. The first written record of the word \"pancake\" appeared in the 1430s, indicating their long-standing presence in culinary traditions (Greatist, 2021). This historical significance adds to the cultural value of pancakes.\n",
       "\n",
       "### Global Variations\n",
       "\n",
       "Pancakes boast a wide array of international variations, from crepes and blini to Japanese souffle pancakes and latkes. This diversity highlights the global appeal and adaptability of pancakes across different cultures (Greatist, 2021).\n",
       "\n",
       "## Conclusion\n",
       "\n",
       "In conclusion, pancakes are superior to waffles for several reasons. They offer a healthier nutritional profile, greater culinary versatility, and a rich cultural history. Pancakes are easier to make, require less specialized equipment, and provide a canvas for creative expression. While both pancakes and waffles have their unique qualities, pancakes ultimately emerge as the better choice for a delicious and satisfying breakfast.\n",
       "\n",
       "## References\n",
       "\n",
       "- January.ai. (2024). Pancake vs waffle: Nutritional differences. Retrieved from [https://january.ai/blog/pancake-vs-waffle](https://january.ai/blog/pancake-vs-waffle)\n",
       "- Business Insider. (2019). The real difference between pancakes and waffles. Retrieved from [https://www.businessinsider.com/difference-between-pancakes-and-waffles-2019-2](https://www.businessinsider.com/difference-between-pancakes-and-waffles-2019-2)\n",
       "- Central Times. (2023). Breakfast battle: Waffles vs. pancakes. Retrieved from [https://www.centraltimes.org/showcase/2023/03/22/breakfast-battle-waffles-vs-pancakes/](https://www.centraltimes.org/showcase/2023/03/22/breakfast-battle-waffles-vs-pancakes/)\n",
       "- Greatist. (2021). Pancakes vs. waffles: Nutrition, flavor, and versatility. Retrieved from [https://greatist.com/eat/pancakes-and-waffles-which-is-better](https://greatist.com/eat/pancakes-and-waffles-which-is-better)"
      ],
      "text/plain": [
       "<IPython.core.display.Markdown object>"
      ]
     },
     "execution_count": 12,
     "metadata": {},
     "output_type": "execute_result"
    }
   ],
   "source": [
    "from IPython.display import Markdown\n",
    "\n",
    "output_report = agent_executor.invoke({\"input\": \"Write a quick simple report with\\\n",
    "    scientific resources as to why pancakes are better than waffles.\\\n",
    "    Make sure to include a references section.\", \n",
    "                                       \"chat_history\": []})\n",
    "\n",
    "Markdown(output_report[\"output\"])"
   ]
  },
  {
   "cell_type": "code",
   "execution_count": 12,
   "metadata": {},
   "outputs": [
    {
     "data": {
      "text/markdown": [
       "# Current Trends in AI: Focus on Large Language Models (LLMs) for Education\n",
       "\n",
       "## Introduction\n",
       "\n",
       "Artificial Intelligence (AI) has been a transformative force across various sectors, and its impact on education is becoming increasingly significant. Among the various AI technologies, Large Language Models (LLMs) like OpenAI's GPT-4 have shown immense potential in revolutionizing educational practices. This report delves into the current trends in AI with a specific focus on the application of LLMs in education, highlighting their benefits, challenges, and future prospects.\n",
       "\n",
       "## Overview of AI Trends in 2023\n",
       "\n",
       "### Generative AI\n",
       "\n",
       "Generative AI, which includes LLMs, has seen explosive growth in 2023. These models are capable of generating human-like text, creating images, and even producing music. The widespread adoption of generative AI tools like ChatGPT, DALL-E, and others has brought AI into mainstream use, making it accessible to a broader audience (Kesari, 2022; Heikkilä, 2023).\n",
       "\n",
       "### Multimodal AI\n",
       "\n",
       "Multimodal AI, which processes multiple types of data inputs such as text, images, and audio, is another significant trend. This technology aims to mimic human sensory processing, enhancing the capabilities of AI systems to understand and interact with the world more comprehensively (Craig, 2024).\n",
       "\n",
       "### AI Democratization\n",
       "\n",
       "The democratization of AI refers to making AI tools accessible to a wider audience, including non-technical users. This trend is driven by the development of user-friendly AI platforms and open-source frameworks, enabling more people to leverage AI for various applications (Ayuya, 2024).\n",
       "\n",
       "### AI in Cybersecurity\n",
       "\n",
       "AI-driven cybersecurity solutions are becoming more prevalent, offering enhanced threat detection and response capabilities. These systems use machine learning to predict, detect, and respond to cyber threats more efficiently than traditional methods (Ayuya, 2024).\n",
       "\n",
       "### Ethical and Explainable AI\n",
       "\n",
       "As AI systems become more integrated into daily life, there is a growing emphasis on ethical AI and explainability. This involves developing AI systems that are transparent, fair, and accountable, addressing concerns about bias and misuse (Srivastava, 2024).\n",
       "\n",
       "## LLMs in Education\n",
       "\n",
       "### Enhancing Learning Experiences\n",
       "\n",
       "LLMs have the potential to transform educational experiences by providing personalized learning, automating administrative tasks, and offering new ways to engage students. These models can generate customized content, answer student queries, and provide feedback, making learning more interactive and tailored to individual needs (McKinsey, 2023).\n",
       "\n",
       "### Personalized Learning\n",
       "\n",
       "One of the most significant benefits of LLMs in education is their ability to offer personalized learning experiences. By analyzing student data, LLMs can tailor educational content to meet the specific needs and learning styles of each student. This personalized approach can help improve student engagement and outcomes (Baker Tilly, 2024).\n",
       "\n",
       "### Automating Administrative Tasks\n",
       "\n",
       "LLMs can also automate various administrative tasks, such as grading assignments, scheduling, and managing student records. This automation can free up educators' time, allowing them to focus more on teaching and interacting with students (Appinventiv, 2024).\n",
       "\n",
       "### Enhancing Accessibility\n",
       "\n",
       "LLMs can make education more accessible by providing real-time translation services, generating content in multiple languages, and offering support for students with disabilities. For example, AI-powered tools can convert text to speech, provide subtitles for videos, and offer other assistive technologies (Bocasay, 2023).\n",
       "\n",
       "## Challenges and Ethical Considerations\n",
       "\n",
       "### Data Privacy and Security\n",
       "\n",
       "The use of LLMs in education raises significant concerns about data privacy and security. Educational institutions must ensure that student data is protected and that AI systems comply with relevant regulations and standards (TechTarget, 2024).\n",
       "\n",
       "### Bias and Fairness\n",
       "\n",
       "LLMs can inadvertently perpetuate biases present in their training data, leading to unfair or discriminatory outcomes. It is crucial to develop and implement strategies to mitigate these biases and ensure that AI systems are fair and equitable (Appinventiv, 2024).\n",
       "\n",
       "### Transparency and Explainability\n",
       "\n",
       "Ensuring that AI systems are transparent and explainable is essential for building trust among educators, students, and parents. This involves making the decision-making processes of AI systems understandable and providing clear explanations for their outputs (Srivastava, 2024).\n",
       "\n",
       "### Ethical Use of AI\n",
       "\n",
       "The ethical use of AI in education involves considering the broader implications of AI technologies and ensuring that they are used responsibly. This includes addressing issues such as the potential for AI to replace human educators and the impact of AI on student well-being (Baker Tilly, 2024).\n",
       "\n",
       "## Future Prospects\n",
       "\n",
       "### Integration with Other Technologies\n",
       "\n",
       "The future of LLMs in education will likely involve their integration with other emerging technologies, such as augmented reality (AR), virtual reality (VR), and the Internet of Things (IoT). These integrations can create more immersive and interactive learning experiences, further enhancing the educational process (Appinventiv, 2024).\n",
       "\n",
       "### Lifelong Learning and Professional Development\n",
       "\n",
       "LLMs can also play a significant role in lifelong learning and professional development. By providing personalized learning paths and resources, AI can help individuals continuously update their skills and knowledge, keeping pace with the rapidly changing job market (McKinsey, 2023).\n",
       "\n",
       "### Research and Innovation\n",
       "\n",
       "Ongoing research and innovation in AI and LLMs will continue to drive advancements in educational technologies. This includes developing more sophisticated models, improving the accuracy and reliability of AI systems, and exploring new applications of AI in education (Heikkilä, 2023).\n",
       "\n",
       "## Conclusion\n",
       "\n",
       "The application of LLMs in education represents a significant trend in the current AI landscape. These models have the potential to revolutionize educational practices by offering personalized learning experiences, automating administrative tasks, and enhancing accessibility. However, it is essential to address the challenges and ethical considerations associated with their use to ensure that AI technologies are implemented responsibly and effectively. As research and innovation continue to advance, the future of LLMs in education looks promising, with the potential to transform learning experiences and outcomes for students worldwide.\n",
       "\n",
       "## References\n",
       "\n",
       "- Kesari, G. (2022). AI Trends For 2023: Industry Experts (And ChatGPT AI) Make Their Predictions. Forbes. Retrieved from [Forbes](https://www.forbes.com/sites/ganeskesari/2022/12/22/ai-trends-for-2023-industry-experts-and-chatgpt-ai-make-their-predictions/)\n",
       "- Heikkilä, M. (2023). Four trends that changed AI in 2023. MIT Technology Review. Retrieved from [MIT Technology Review](https://www.technologyreview.com/2023/12/19/1085696/four-trends-that-changed-ai-in-2023/)\n",
       "- McKinsey & Company. (2023). The state of AI in 2023: Generative AI’s breakout year. Retrieved from [McKinsey](https://www.mckinsey.com/capabilities/quantumblack/our-insights/the-state-of-ai-in-2023-generative-ais-breakout-year)\n",
       "- Bocasay. (2023). Major AI Trends in 2023. Retrieved from [Bocasay](https://www.bocasay.com/major-ai-trends-2023/)\n",
       "- TechTarget. (2024). 10 top AI and machine learning trends for 2024. Retrieved from [TechTarget](https://www.techtarget.com/searchenterpriseai/tip/9-top-AI-and-machine-learning-trends)\n",
       "- Ayuya, C. (2024). 10 Most Impactful AI Trends in 2024. eWeek. Retrieved from [eWeek](https://www.eweek.com/artificial-intelligence/ai-trends/)\n",
       "- Baker Tilly. (2024). AI trends: 2023 recap and insights for what’s to come. Retrieved from [Baker Tilly](https://www.bakertilly.com/insights/ai-trends-2023-recap-and-insights-for-whats-to-come)\n",
       "- Appinventiv. (2024). Top AI Trends in 2024: Transforming Businesses Across Industries. Retrieved from [Appinventiv](https://appinventiv.com/blog/ai-trends/)"
      ],
      "text/plain": [
       "<IPython.core.display.Markdown object>"
      ]
     },
     "execution_count": 12,
     "metadata": {},
     "output_type": "execute_result"
    }
   ],
   "source": [
    "Markdown(output_report[\"output\"])"
   ]
  }
 ],
 "metadata": {
  "kernelspec": {
   "display_name": "oreilly-agents",
   "language": "python",
   "name": "oreilly-agents"
  },
  "language_info": {
   "codemirror_mode": {
    "name": "ipython",
    "version": 3
   },
   "file_extension": ".py",
   "mimetype": "text/x-python",
   "name": "python",
   "nbconvert_exporter": "python",
   "pygments_lexer": "ipython3",
   "version": "3.11.9"
  }
 },
 "nbformat": 4,
 "nbformat_minor": 2
}
