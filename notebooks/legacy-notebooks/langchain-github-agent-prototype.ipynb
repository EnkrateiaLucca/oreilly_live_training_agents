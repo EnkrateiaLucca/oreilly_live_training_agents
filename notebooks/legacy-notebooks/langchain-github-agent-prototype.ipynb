{
 "cells": [
  {
   "cell_type": "code",
   "execution_count": 1,
   "metadata": {
    "execution": {
     "iopub.execute_input": "2024-07-18T12:04:53.247494Z",
     "iopub.status.busy": "2024-07-18T12:04:53.247127Z",
     "iopub.status.idle": "2024-07-18T12:04:53.251229Z",
     "shell.execute_reply": "2024-07-18T12:04:53.250765Z"
    }
   },
   "outputs": [],
   "source": [
    "%pip install langchain\n",
    "%pip install langchain-community\n",
    "%pip install langchain-openai\n",
    "%pip install langchainhub"
   ]
  },
  {
   "cell_type": "code",
   "execution_count": 2,
   "metadata": {
    "execution": {
     "iopub.execute_input": "2024-07-18T12:04:53.253750Z",
     "iopub.status.busy": "2024-07-18T12:04:53.253601Z",
     "iopub.status.idle": "2024-07-18T12:04:53.255509Z",
     "shell.execute_reply": "2024-07-18T12:04:53.255192Z"
    }
   },
   "outputs": [],
   "source": [
    "# uncomment this if running locally\n",
    "# from dotenv import load_dotenv\n",
    "\n",
    "# load_dotenv()\n",
    "\n",
    "# Or if you are in Colab, uncoment below and add your api key\n",
    "import os\n",
    "os.environ[\"OPENAI_API_KEY\"] = \"your-api-key\""
   ]
  },
  {
   "cell_type": "markdown",
   "metadata": {},
   "source": [
    "The more complex version of this would use this pygithub package as shown in here:\n",
    "- https://python.langchain.com/docs/integrations/toolkits/github\n",
    "\n",
    "But let's try a simpler version that just sets up a bunch of python functions to automate different github actions like add, commit and pull requests."
   ]
  },
  {
   "cell_type": "markdown",
   "metadata": {},
   "source": []
  },
  {
   "cell_type": "markdown",
   "metadata": {},
   "source": [
    "Let's start with a simple commit to a branch of some repository."
   ]
  },
  {
   "cell_type": "markdown",
   "metadata": {},
   "source": [
    "First, I'll create a github repository using some simple commands."
   ]
  },
  {
   "cell_type": "markdown",
   "metadata": {},
   "source": []
  },
  {
   "cell_type": "code",
   "execution_count": 3,
   "metadata": {
    "execution": {
     "iopub.execute_input": "2024-07-18T12:04:53.257842Z",
     "iopub.status.busy": "2024-07-18T12:04:53.257711Z",
     "iopub.status.idle": "2024-07-18T12:04:53.259525Z",
     "shell.execute_reply": "2024-07-18T12:04:53.259199Z"
    }
   },
   "outputs": [],
   "source": [
    "# git init -b main\n",
    "\n",
    "# git add . && git commit -m \"Some commit\"\n",
    "\n",
    "# gh repo create"
   ]
  },
  {
   "cell_type": "markdown",
   "metadata": {},
   "source": [
    "Now, let's try asking an agent to write come code and commit the resulting code to the current branch of this repository.\n",
    "\n",
    "To do that, let's give the agent the necessary tools it will need which in this case will be python functions that perform different github actions using the `subprocess` package."
   ]
  },
  {
   "cell_type": "markdown",
   "metadata": {},
   "source": [
    "We'll follow the basic steps for building a langchain agent:\n",
    "\n",
    "# Steps for building a simple agent:\n",
    "- Set up the LLM\n",
    "- Define the tool or toolkit (list of tools)\n",
    "- Set up a prompt template\n",
    "- Connect llm with your tools\n",
    "- Define your agent as a dict with keys: input, and agent scratchpad \n",
    "- Use the Langchain LCEL language to pipe agent, prompt the llm_with_tools variable and the output parser (which can use OpenAI function calling parser)\n",
    "- Create the agent loop\n",
    "- Wrap everything into the AgentExecutor\n",
    "- Invoke the agent with some query input\n"
   ]
  },
  {
   "cell_type": "code",
   "execution_count": 4,
   "metadata": {
    "execution": {
     "iopub.execute_input": "2024-07-18T12:04:53.261439Z",
     "iopub.status.busy": "2024-07-18T12:04:53.261329Z",
     "iopub.status.idle": "2024-07-18T12:04:53.603155Z",
     "shell.execute_reply": "2024-07-18T12:04:53.602865Z"
    }
   },
   "outputs": [],
   "source": [
    "# setup the llm\n",
    "from langchain_openai.chat_models import ChatOpenAI\n",
    "\n",
    "llm_chat = ChatOpenAI(temperature=0)"
   ]
  },
  {
   "cell_type": "markdown",
   "metadata": {},
   "source": [
    "Now, let's create a tool for the LLM"
   ]
  },
  {
   "cell_type": "code",
   "execution_count": 5,
   "metadata": {
    "execution": {
     "iopub.execute_input": "2024-07-18T12:04:53.604687Z",
     "iopub.status.busy": "2024-07-18T12:04:53.604620Z",
     "iopub.status.idle": "2024-07-18T12:04:53.606119Z",
     "shell.execute_reply": "2024-07-18T12:04:53.605924Z"
    }
   },
   "outputs": [],
   "source": [
    "# !pip install PyGithub\n",
    "# I don't want more external packages"
   ]
  },
  {
   "cell_type": "code",
   "execution_count": 6,
   "metadata": {
    "execution": {
     "iopub.execute_input": "2024-07-18T12:04:53.607282Z",
     "iopub.status.busy": "2024-07-18T12:04:53.607220Z",
     "iopub.status.idle": "2024-07-18T12:04:53.608879Z",
     "shell.execute_reply": "2024-07-18T12:04:53.608694Z"
    }
   },
   "outputs": [],
   "source": [
    "import subprocess\n",
    "\n",
    "def github_commit_tool(commit_message=\"Some commit\"):\n",
    "    subprocess.run([\"git\", \"add\", \".\"])\n",
    "    subprocess.run([\"git\", \"commit\", \"-m\", commit_message])\n",
    "    subprocess.run([\"git\", \"push\", \"-u\", \"origin\", \"main\"])\n",
    "    \n",
    "    return \"Committed to Github\""
   ]
  },
  {
   "cell_type": "markdown",
   "metadata": {},
   "source": [
    "Now! Before we use it with langchain, let's test it by itself."
   ]
  },
  {
   "cell_type": "code",
   "execution_count": 7,
   "metadata": {
    "execution": {
     "iopub.execute_input": "2024-07-18T12:04:53.610007Z",
     "iopub.status.busy": "2024-07-18T12:04:53.609943Z",
     "iopub.status.idle": "2024-07-18T12:04:53.611256Z",
     "shell.execute_reply": "2024-07-18T12:04:53.611076Z"
    }
   },
   "outputs": [],
   "source": [
    "# github_commit_tool(\"Some testing commit\")"
   ]
  },
  {
   "cell_type": "markdown",
   "metadata": {},
   "source": [
    "Now, let's take a look at out github repository from the terminal.\n",
    "\n",
    "![](2023-10-29-20-47-54.png)"
   ]
  },
  {
   "cell_type": "markdown",
   "metadata": {},
   "source": [
    "Nice! It looks like we are good to go with this first simple tool!"
   ]
  },
  {
   "cell_type": "markdown",
   "metadata": {},
   "source": [
    "Let's now make it a tool for our langchain agent by adding the @tool. "
   ]
  },
  {
   "cell_type": "code",
   "execution_count": 8,
   "metadata": {
    "execution": {
     "iopub.execute_input": "2024-07-18T12:04:53.612507Z",
     "iopub.status.busy": "2024-07-18T12:04:53.612427Z",
     "iopub.status.idle": "2024-07-18T12:04:53.615960Z",
     "shell.execute_reply": "2024-07-18T12:04:53.615744Z"
    }
   },
   "outputs": [],
   "source": [
    "from langchain.tools import tool\n",
    "\n",
    "@tool\n",
    "def github_commit_tool(commit_message=\"Some commit\"):\n",
    "    \"\"\"This function uses the subprocess package to make commits to a github repo pre-defined.\"\"\"\n",
    "    subprocess.run([\"git\", \"add\", \".\"])\n",
    "    subprocess.run([\"git\", \"commit\", \"-m\", commit_message])\n",
    "    subprocess.run([\"git\", \"push\", \"-u\", \"origin\", \"main\"])\n",
    "    \n",
    "    return \"Committed to Github\"\n",
    "\n",
    "tools = [github_commit_tool]"
   ]
  },
  {
   "cell_type": "markdown",
   "metadata": {},
   "source": [
    "We added some documentation to our function to abide by the requirements of the tool decorator from langchain."
   ]
  },
  {
   "cell_type": "markdown",
   "metadata": {},
   "source": [
    "Now, let's test if a simple agent can use that tool!"
   ]
  },
  {
   "cell_type": "markdown",
   "metadata": {},
   "source": [
    "Let's start by setting up our prompt template."
   ]
  },
  {
   "cell_type": "code",
   "execution_count": 9,
   "metadata": {
    "execution": {
     "iopub.execute_input": "2024-07-18T12:04:53.617282Z",
     "iopub.status.busy": "2024-07-18T12:04:53.617202Z",
     "iopub.status.idle": "2024-07-18T12:04:53.618573Z",
     "shell.execute_reply": "2024-07-18T12:04:53.618394Z"
    }
   },
   "outputs": [],
   "source": [
    "# from langchain.agents import AgentExecutor\n",
    "# from langchain.prompts import ChatPromptTemplate\n",
    "\n",
    "# template = \"\"\"\n",
    "# You are a helpful programming assistant. The user will ask you to perform commits to a github repo and you will perform the needed actions and call the necessary\n",
    "# functions when needed.\n",
    "# Your current task:\n",
    "# {input}\n",
    "# \"\"\"\n",
    "# prompt = ChatPromptTemplate.from_template(template)"
   ]
  },
  {
   "cell_type": "code",
   "execution_count": 10,
   "metadata": {
    "execution": {
     "iopub.execute_input": "2024-07-18T12:04:53.619690Z",
     "iopub.status.busy": "2024-07-18T12:04:53.619622Z",
     "iopub.status.idle": "2024-07-18T12:04:58.049565Z",
     "shell.execute_reply": "2024-07-18T12:04:58.049308Z"
    }
   },
   "outputs": [
    {
     "data": {
      "text/plain": [
       "[SystemMessagePromptTemplate(prompt=PromptTemplate(input_variables=[], template='You are a helpful assistant')),\n",
       " MessagesPlaceholder(variable_name='chat_history', optional=True),\n",
       " HumanMessagePromptTemplate(prompt=PromptTemplate(input_variables=['input'], template='{input}')),\n",
       " MessagesPlaceholder(variable_name='agent_scratchpad')]"
      ]
     },
     "execution_count": 10,
     "metadata": {},
     "output_type": "execute_result"
    }
   ],
   "source": [
    "from langchain import hub\n",
    "\n",
    "prompt = hub.pull(\"hwchase17/openai-tools-agent\")\n",
    "prompt.messages"
   ]
  },
  {
   "cell_type": "code",
   "execution_count": 11,
   "metadata": {
    "execution": {
     "iopub.execute_input": "2024-07-18T12:04:58.066018Z",
     "iopub.status.busy": "2024-07-18T12:04:58.065916Z",
     "iopub.status.idle": "2024-07-18T12:04:59.634564Z",
     "shell.execute_reply": "2024-07-18T12:04:59.633984Z"
    }
   },
   "outputs": [],
   "source": [
    "from langchain.agents import create_tool_calling_agent\n",
    "from langchain_openai import ChatOpenAI\n",
    "\n",
    "llm_chat = ChatOpenAI(temperature=0)\n",
    "agent = create_tool_calling_agent(llm_chat, tools, prompt)"
   ]
  },
  {
   "cell_type": "code",
   "execution_count": 12,
   "metadata": {
    "execution": {
     "iopub.execute_input": "2024-07-18T12:04:59.638607Z",
     "iopub.status.busy": "2024-07-18T12:04:59.638392Z",
     "iopub.status.idle": "2024-07-18T12:04:59.648068Z",
     "shell.execute_reply": "2024-07-18T12:04:59.647821Z"
    }
   },
   "outputs": [],
   "source": [
    "from langchain.agents import AgentExecutor\n",
    "\n",
    "agent_executor = AgentExecutor(agent=agent,tools=tools, verbose=True)"
   ]
  },
  {
   "cell_type": "code",
   "execution_count": 13,
   "metadata": {
    "execution": {
     "iopub.execute_input": "2024-07-18T12:04:59.649417Z",
     "iopub.status.busy": "2024-07-18T12:04:59.649343Z",
     "iopub.status.idle": "2024-07-18T12:05:03.327322Z",
     "shell.execute_reply": "2024-07-18T12:05:03.326136Z"
    }
   },
   "outputs": [
    {
     "name": "stdout",
     "output_type": "stream",
     "text": [
      "\n",
      "\n",
      "\u001b[1m> Entering new AgentExecutor chain...\u001b[0m\n"
     ]
    },
    {
     "name": "stdout",
     "output_type": "stream",
     "text": [
      "\u001b[32;1m\u001b[1;3m\n",
      "Invoking: `github_commit_tool` with `{'commit_message': 'Pancakes are better than waffles! And I hope I am not a super boring instructor!'}`\n",
      "\n",
      "\n",
      "\u001b[0m[main f8d38a3] Pancakes are better than waffles! And I hope I am not a super boring instructor!\n",
      " 7 files changed, 90 insertions(+), 55 deletions(-)\n"
     ]
    },
    {
     "name": "stderr",
     "output_type": "stream",
     "text": [
      "remote: \n",
      "remote: GitHub found 20 vulnerabilities on EnkrateiaLucca/oreilly_live_training_agents's default branch (2 high, 14 moderate, 4 low). To find out more, visit:        \n",
      "remote:      https://github.com/EnkrateiaLucca/oreilly_live_training_agents/security/dependabot        \n",
      "remote: \n",
      "To https://github.com/EnkrateiaLucca/oreilly_live_training_agents.git\n",
      "   786ff37..f8d38a3  main -> main\n"
     ]
    },
    {
     "name": "stdout",
     "output_type": "stream",
     "text": [
      "branch 'main' set up to track 'origin/main'.\n",
      "\u001b[36;1m\u001b[1;3mCommitted to Github\u001b[0m"
     ]
    },
    {
     "name": "stdout",
     "output_type": "stream",
     "text": [
      "\u001b[32;1m\u001b[1;3mI have successfully created a GitHub commit with the message 'Pancakes are better than waffles! And I hope I am not a super boring instructor!'.\u001b[0m\n",
      "\n",
      "\u001b[1m> Finished chain.\u001b[0m\n"
     ]
    },
    {
     "data": {
      "text/plain": [
       "{'input': \"Create a github commit with the message 'Pancakes are better than waffles! And I hope I am not a super boring instructor!\",\n",
       " 'output': \"I have successfully created a GitHub commit with the message 'Pancakes are better than waffles! And I hope I am not a super boring instructor!'.\"}"
      ]
     },
     "execution_count": 13,
     "metadata": {},
     "output_type": "execute_result"
    }
   ],
   "source": [
    "import subprocess\n",
    "\n",
    "agent_executor.invoke({\"input\": \"Create a github commit with the message 'Pancakes are better than waffles! And I hope I am not a super boring instructor!\"})"
   ]
  },
  {
   "cell_type": "markdown",
   "metadata": {},
   "source": [
    "And voila, the agent calls the right function and creates the commit!\n",
    "\n",
    "(ignore the github related error, let's focus on the agent capabilities)."
   ]
  },
  {
   "cell_type": "markdown",
   "metadata": {},
   "source": [
    "And voila! We made a commit!\n",
    "\n",
    "![](2023-10-30-13-04-20.png)"
   ]
  },
  {
   "cell_type": "markdown",
   "metadata": {},
   "source": [
    "Ok, this is cool but, we can go beyond that, and add the ability to create a file and then commit that file to our desired repository. Let's do that!\n",
    "\n",
    "To do it all we have to do is amplify the Agent's toolkit with another tool that can create files in the current folder."
   ]
  },
  {
   "cell_type": "markdown",
   "metadata": {},
   "source": [
    "Perfect! Now, let's add this to our github agent"
   ]
  },
  {
   "cell_type": "code",
   "execution_count": 14,
   "metadata": {
    "execution": {
     "iopub.execute_input": "2024-07-18T12:05:03.332727Z",
     "iopub.status.busy": "2024-07-18T12:05:03.332462Z",
     "iopub.status.idle": "2024-07-18T12:05:03.338592Z",
     "shell.execute_reply": "2024-07-18T12:05:03.338146Z"
    }
   },
   "outputs": [],
   "source": [
    "@tool\n",
    "def create_file_tool(file_contents):\n",
    "    \"\"\"This function creates a file with the contents and file path provided as inputs.\"\"\"\n",
    "    with open(\"file.py\", \"w\") as f:\n",
    "        f.write(file_contents)\n",
    "    \n",
    "    return \"File created\""
   ]
  },
  {
   "cell_type": "markdown",
   "metadata": {},
   "source": [
    "Now, let's add that functionality to our agent by just updating the tools list."
   ]
  },
  {
   "cell_type": "code",
   "execution_count": 15,
   "metadata": {
    "execution": {
     "iopub.execute_input": "2024-07-18T12:05:03.340904Z",
     "iopub.status.busy": "2024-07-18T12:05:03.340656Z",
     "iopub.status.idle": "2024-07-18T12:05:03.342718Z",
     "shell.execute_reply": "2024-07-18T12:05:03.342415Z"
    }
   },
   "outputs": [],
   "source": [
    "tools = [github_commit_tool, create_file_tool]"
   ]
  },
  {
   "cell_type": "markdown",
   "metadata": {},
   "source": [
    "Now, let's modify our agent with its new toolkit"
   ]
  },
  {
   "cell_type": "code",
   "execution_count": 16,
   "metadata": {
    "execution": {
     "iopub.execute_input": "2024-07-18T12:05:03.344629Z",
     "iopub.status.busy": "2024-07-18T12:05:03.344485Z",
     "iopub.status.idle": "2024-07-18T12:05:03.347565Z",
     "shell.execute_reply": "2024-07-18T12:05:03.347291Z"
    }
   },
   "outputs": [],
   "source": [
    "agent = create_tool_calling_agent(llm_chat, tools, prompt)"
   ]
  },
  {
   "cell_type": "code",
   "execution_count": 17,
   "metadata": {
    "execution": {
     "iopub.execute_input": "2024-07-18T12:05:03.349257Z",
     "iopub.status.busy": "2024-07-18T12:05:03.349142Z",
     "iopub.status.idle": "2024-07-18T12:05:03.351014Z",
     "shell.execute_reply": "2024-07-18T12:05:03.350768Z"
    }
   },
   "outputs": [],
   "source": [
    "agent_executor = AgentExecutor(agent=agent, tools=tools, verbose=True)"
   ]
  },
  {
   "cell_type": "markdown",
   "metadata": {},
   "source": [
    "Now, let's try using both tools in a call to see if the agent can do something slightly more complex now."
   ]
  },
  {
   "cell_type": "code",
   "execution_count": 18,
   "metadata": {
    "execution": {
     "iopub.execute_input": "2024-07-18T12:05:03.352628Z",
     "iopub.status.busy": "2024-07-18T12:05:03.352510Z",
     "iopub.status.idle": "2024-07-18T12:05:07.725662Z",
     "shell.execute_reply": "2024-07-18T12:05:07.725125Z"
    }
   },
   "outputs": [
    {
     "name": "stdout",
     "output_type": "stream",
     "text": [
      "\n",
      "\n",
      "\u001b[1m> Entering new AgentExecutor chain...\u001b[0m\n"
     ]
    },
    {
     "name": "stdout",
     "output_type": "stream",
     "text": [
      "\u001b[32;1m\u001b[1;3m\n",
      "Invoking: `create_file_tool` with `{'file_contents': \"# Python code\\n\\ntruths = ['Pancakes are better than waffles.', 'Waffles are better than pancakes.']\\n\\nfor truth in truths:\\n    print(truth)\\n\", 'file_path': 'pancakes_vs_waffles.py'}`\n",
      "\n",
      "\n",
      "\u001b[0m\u001b[33;1m\u001b[1;3mFile created\u001b[0m"
     ]
    },
    {
     "name": "stdout",
     "output_type": "stream",
     "text": [
      "\u001b[32;1m\u001b[1;3m\n",
      "Invoking: `github_commit_tool` with `{'commit_message': 'Add Python code to compare pancakes and waffles'}`\n",
      "\n",
      "\n",
      "\u001b[0mOn branch main\n",
      "Your branch is up to date with 'origin/main'.\n",
      "\n",
      "Changes not staged for commit:\n",
      "  (use \"git add <file>...\" to update what will be committed)\n",
      "  (use \"git restore <file>...\" to discard changes in working directory)\n",
      "\tmodified:   ../requirements/requirements.in\n",
      "\tmodified:   ../requirements/requirements.txt\n",
      "\n",
      "no changes added to commit (use \"git add\" and/or \"git commit -a\")\n"
     ]
    },
    {
     "name": "stderr",
     "output_type": "stream",
     "text": [
      "Everything up-to-date\n"
     ]
    },
    {
     "name": "stdout",
     "output_type": "stream",
     "text": [
      "branch 'main' set up to track 'origin/main'.\n",
      "\u001b[36;1m\u001b[1;3mCommitted to Github\u001b[0m"
     ]
    },
    {
     "name": "stdout",
     "output_type": "stream",
     "text": [
      "\u001b[32;1m\u001b[1;3mI have written the Python code comparing pancakes and waffles, saved it to a file, and committed it to our GitHub repository.\u001b[0m\n",
      "\n",
      "\u001b[1m> Finished chain.\u001b[0m\n"
     ]
    },
    {
     "data": {
      "text/plain": [
       "{'input': 'Write Python code with a for loop stating the truth about what is better: pancakes or waffles.    Output ONLY THE CODE and save that to a file then commit it to our github repository.',\n",
       " 'output': 'I have written the Python code comparing pancakes and waffles, saved it to a file, and committed it to our GitHub repository.'}"
      ]
     },
     "execution_count": 18,
     "metadata": {},
     "output_type": "execute_result"
    }
   ],
   "source": [
    "agent_executor.invoke({\n",
    "    \"input\": \"Write Python code with a for loop stating the truth about what is better: pancakes or waffles.\\\n",
    "    Output ONLY THE CODE and save that to a file then commit it to our github repository.\"\n",
    "})"
   ]
  },
  {
   "cell_type": "markdown",
   "metadata": {},
   "source": [
    "And voila again!\n",
    "![](2023-10-30-13-15-38.png)"
   ]
  },
  {
   "cell_type": "markdown",
   "metadata": {},
   "source": [
    "For The Practice Demo We'll stop here, below I show how to expand this for multi-input tools."
   ]
  },
  {
   "cell_type": "markdown",
   "metadata": {},
   "source": [
    "Ok! This is awesome right? Let's just stop for a second and appreciate the simplicity of this implementation and the power that it gives us! Now, on the other hand, we are using a [ZeroShotReactAgent](https://python.langchain.com/docs/modules/agents/agent_types/react#:~:text=Using-,zeroshotreactagent), which is limited when it comes to multi input functions as tools. However, we can easily expand this by leveraging Langchain's amazing [Multi-Input Tools](https://python.langchain.com/docs/modules/agents/tools/multi_input_tool#:~:text=On%20this%20page-,Multi-Input%20Tools,with%20the%20StructuredTool%20class.,-import%20os).\n",
    "\n",
    "Let's do that to modify our current tool: `create_file_tool()` to accept the file's contents as well as a file path, this way we are not restricted in creating just one type of file with a pre-specified name."
   ]
  },
  {
   "cell_type": "code",
   "execution_count": 19,
   "metadata": {
    "execution": {
     "iopub.execute_input": "2024-07-18T12:05:07.729595Z",
     "iopub.status.busy": "2024-07-18T12:05:07.729359Z",
     "iopub.status.idle": "2024-07-18T12:05:07.735947Z",
     "shell.execute_reply": "2024-07-18T12:05:07.735386Z"
    }
   },
   "outputs": [
    {
     "data": {
      "text/plain": [
       "'File created'"
      ]
     },
     "execution_count": 19,
     "metadata": {},
     "output_type": "execute_result"
    }
   ],
   "source": [
    "from langchain.tools import StructuredTool\n",
    "\n",
    "def create_file_tool(file_contents: str, file_path: str) -> str:\n",
    "    \"\"\"\n",
    "    Function that creates a file with the contents \n",
    "    and file path provided as inputs.\n",
    "    \"\"\"\n",
    "    with open(file_path, \"w\") as f:\n",
    "        f.write(file_contents)\n",
    "    \n",
    "    return \"File created\"\n",
    "\n",
    "# Let's test it first!\n",
    "create_file_tool(\"print('Hello World')\", \"print_file.py\")"
   ]
  },
  {
   "cell_type": "code",
   "execution_count": 20,
   "metadata": {
    "execution": {
     "iopub.execute_input": "2024-07-18T12:05:07.739481Z",
     "iopub.status.busy": "2024-07-18T12:05:07.739277Z",
     "iopub.status.idle": "2024-07-18T12:05:07.876658Z",
     "shell.execute_reply": "2024-07-18T12:05:07.875405Z"
    }
   },
   "outputs": [
    {
     "name": "stdout",
     "output_type": "stream",
     "text": [
      "file.py                   jira-agent.py             research-assistant.py\r\n",
      "function_calls_chatgpt.py print_file.py\r\n"
     ]
    }
   ],
   "source": [
    "!ls *.py"
   ]
  },
  {
   "cell_type": "code",
   "execution_count": 21,
   "metadata": {
    "execution": {
     "iopub.execute_input": "2024-07-18T12:05:07.883810Z",
     "iopub.status.busy": "2024-07-18T12:05:07.883376Z",
     "iopub.status.idle": "2024-07-18T12:05:08.041715Z",
     "shell.execute_reply": "2024-07-18T12:05:08.040585Z"
    }
   },
   "outputs": [
    {
     "name": "stdout",
     "output_type": "stream",
     "text": [
      "Hello World\r\n"
     ]
    }
   ],
   "source": [
    "!python print_file.py"
   ]
  },
  {
   "cell_type": "markdown",
   "metadata": {},
   "source": [
    "Great! Now, let's make it a tool for the agent."
   ]
  },
  {
   "cell_type": "code",
   "execution_count": 22,
   "metadata": {
    "execution": {
     "iopub.execute_input": "2024-07-18T12:05:08.049845Z",
     "iopub.status.busy": "2024-07-18T12:05:08.047460Z",
     "iopub.status.idle": "2024-07-18T12:05:08.062084Z",
     "shell.execute_reply": "2024-07-18T12:05:08.060518Z"
    }
   },
   "outputs": [],
   "source": [
    "create_file_tool = StructuredTool.from_function(create_file_tool)"
   ]
  },
  {
   "cell_type": "markdown",
   "metadata": {},
   "source": [
    "And, again, let's update our toolkit and our agent."
   ]
  },
  {
   "cell_type": "code",
   "execution_count": 23,
   "metadata": {
    "execution": {
     "iopub.execute_input": "2024-07-18T12:05:08.069384Z",
     "iopub.status.busy": "2024-07-18T12:05:08.069212Z",
     "iopub.status.idle": "2024-07-18T12:05:08.071239Z",
     "shell.execute_reply": "2024-07-18T12:05:08.070917Z"
    }
   },
   "outputs": [],
   "source": [
    "tools = [github_commit_tool, create_file_tool]"
   ]
  },
  {
   "cell_type": "code",
   "execution_count": 24,
   "metadata": {
    "execution": {
     "iopub.execute_input": "2024-07-18T12:05:08.072958Z",
     "iopub.status.busy": "2024-07-18T12:05:08.072835Z",
     "iopub.status.idle": "2024-07-18T12:05:08.077190Z",
     "shell.execute_reply": "2024-07-18T12:05:08.076853Z"
    }
   },
   "outputs": [],
   "source": [
    "agent = create_tool_calling_agent(llm_chat, tools, prompt)\n",
    "\n",
    "agent_executor = AgentExecutor(agent=agent, tools=tools, verbose=True)"
   ]
  },
  {
   "cell_type": "markdown",
   "metadata": {},
   "source": [
    "Now, let's test it by asking it to write a simple `README.md` file, giving the agent some context about the project's repo."
   ]
  },
  {
   "cell_type": "code",
   "execution_count": 25,
   "metadata": {
    "execution": {
     "iopub.execute_input": "2024-07-18T12:05:08.079162Z",
     "iopub.status.busy": "2024-07-18T12:05:08.079022Z",
     "iopub.status.idle": "2024-07-18T12:05:15.610679Z",
     "shell.execute_reply": "2024-07-18T12:05:15.609325Z"
    }
   },
   "outputs": [
    {
     "name": "stdout",
     "output_type": "stream",
     "text": [
      "\n",
      "\n",
      "\u001b[1m> Entering new AgentExecutor chain...\u001b[0m\n"
     ]
    },
    {
     "name": "stdout",
     "output_type": "stream",
     "text": [
      "\u001b[32;1m\u001b[1;3m\n",
      "Invoking: `create_file_tool` with `{'file_contents': \"# Pancakes for the Win!\\n\\nPancakes are undoubtedly the superior choice for a happy breakfast. Here are a few reasons why pancakes reign supreme:\\n\\n1. Versatility: Pancakes can be enjoyed in a variety of ways - with fruits, chocolate chips, syrup, or even savory toppings like bacon and eggs.\\n\\n2. Fluffiness: The light and fluffy texture of pancakes is unmatched by any other breakfast option.\\n\\n3. Comfort: There's something comforting about a stack of warm pancakes that just makes you feel good inside.\\n\\n4. Nostalgia: Pancakes are often associated with happy childhood memories of weekend breakfasts with family.\\n\\n5. Easy to make: Pancakes are simple to whip up, requiring just a few basic ingredients.\\n\\nAnd let's not forget about waffles... Just kidding! Pancakes clearly take the crown for the ultimate breakfast choice.\\n\\nNext time you're deciding what to have for breakfast, remember that pancakes are the way to go!\\n\", 'file_path': 'pancakes_for_the_win.md'}`\n",
      "\n",
      "\n",
      "\u001b[0m\u001b[33;1m\u001b[1;3mFile created\u001b[0m"
     ]
    },
    {
     "name": "stdout",
     "output_type": "stream",
     "text": [
      "\u001b[32;1m\u001b[1;3m\n",
      "Invoking: `github_commit_tool` with `{'commit_message': 'Add report on why pancakes are the best breakfast option'}`\n",
      "\n",
      "\n",
      "\u001b[0m[main 6de41c8] Add report on why pancakes are the best breakfast option\n",
      " 1 file changed, 9 insertions(+), 5 deletions(-)\n"
     ]
    },
    {
     "name": "stderr",
     "output_type": "stream",
     "text": [
      "remote: \n",
      "remote: GitHub found 20 vulnerabilities on EnkrateiaLucca/oreilly_live_training_agents's default branch (2 high, 14 moderate, 4 low). To find out more, visit:        \n",
      "remote:      https://github.com/EnkrateiaLucca/oreilly_live_training_agents/security/dependabot        \n",
      "remote: \n",
      "To https://github.com/EnkrateiaLucca/oreilly_live_training_agents.git\n",
      "   f8d38a3..6de41c8  main -> main\n"
     ]
    },
    {
     "name": "stdout",
     "output_type": "stream",
     "text": [
      "branch 'main' set up to track 'origin/main'.\n",
      "\u001b[36;1m\u001b[1;3mCommitted to Github\u001b[0m"
     ]
    },
    {
     "name": "stdout",
     "output_type": "stream",
     "text": [
      "\u001b[32;1m\u001b[1;3mI have written a report on why pancakes are the best breakfast option and saved it as \"pancakes_for_the_win.md\". The report has been committed to our GitHub repository.\u001b[0m\n",
      "\n",
      "\u001b[1m> Finished chain.\u001b[0m\n"
     ]
    },
    {
     "data": {
      "text/plain": [
       "{'input': 'Write a report on why pancakes are so much better than all the other options (including sarcastially waffles) for a good happy breakfast. Save that to pancakes_for_the_win.md and commit it to our github repository.',\n",
       " 'output': 'I have written a report on why pancakes are the best breakfast option and saved it as \"pancakes_for_the_win.md\". The report has been committed to our GitHub repository.'}"
      ]
     },
     "execution_count": 25,
     "metadata": {},
     "output_type": "execute_result"
    }
   ],
   "source": [
    "agent_executor.invoke({\n",
    "    \"input\": \"Write a report on why pancakes are so much better than all the other options (including sarcastially waffles) for a good happy breakfast. Save that to pancakes_for_the_win.md and commit it to our github repository.\"\n",
    "})"
   ]
  },
  {
   "cell_type": "markdown",
   "metadata": {},
   "source": [
    "And again we succeed!\n",
    "\n",
    "![](2023-10-30-13-26-32.png)"
   ]
  },
  {
   "cell_type": "markdown",
   "metadata": {},
   "source": [
    "Ok, before we finish with this example, let's add a last tool to read files from a repo, for situations where we might write some Python code and we want our agent to integrate that Python code into our repository. "
   ]
  },
  {
   "cell_type": "markdown",
   "metadata": {},
   "source": [
    "Again, we follow the same procedure:\n",
    "\n",
    "- Create the tool\n",
    "- Update our tookit\n",
    "- Update our agent\n",
    "- Run a test task to check if it works "
   ]
  },
  {
   "cell_type": "code",
   "execution_count": 26,
   "metadata": {
    "execution": {
     "iopub.execute_input": "2024-07-18T12:05:15.616925Z",
     "iopub.status.busy": "2024-07-18T12:05:15.616602Z",
     "iopub.status.idle": "2024-07-18T12:05:15.621223Z",
     "shell.execute_reply": "2024-07-18T12:05:15.620789Z"
    }
   },
   "outputs": [
    {
     "data": {
      "text/plain": [
       "\"# Pancakes for the Win!\\n\\nPancakes are undoubtedly the superior choice for a happy breakfast. Here are a few reasons why pancakes reign supreme:\\n\\n1. Versatility: Pancakes can be enjoyed in a variety of ways - with fruits, chocolate chips, syrup, or even savory toppings like bacon and eggs.\\n\\n2. Fluffiness: The light and fluffy texture of pancakes is unmatched by any other breakfast option.\\n\\n3. Comfort: There's something comforting about a stack of warm pancakes that just makes you feel good inside.\\n\\n4. Nostalgia: Pancakes are often associated with happy childhood memories of weekend breakfasts with family.\\n\\n5. Easy to make: Pancakes are simple to whip up, requiring just a few basic ingredients.\\n\\nAnd let's not forget about waffles... Just kidding! Pancakes clearly take the crown for the ultimate breakfast choice.\\n\\nNext time you're deciding what to have for breakfast, remember that pancakes are the way to go!\\n\""
      ]
     },
     "execution_count": 26,
     "metadata": {},
     "output_type": "execute_result"
    }
   ],
   "source": [
    "def read_file_tool(file_path):\n",
    "    with open(file_path, \"r\") as f:\n",
    "        contents = f.read()\n",
    "    \n",
    "    return contents\n",
    "\n",
    "read_file_tool(\"./pancakes_for_the_win.md\")"
   ]
  },
  {
   "cell_type": "markdown",
   "metadata": {},
   "source": [
    "Ok, our function seems to work so let's add it to our toolkit, since its a simple function with only one input we can just add the @tool decorator on top of it."
   ]
  },
  {
   "cell_type": "code",
   "execution_count": 27,
   "metadata": {
    "execution": {
     "iopub.execute_input": "2024-07-18T12:05:15.624027Z",
     "iopub.status.busy": "2024-07-18T12:05:15.623895Z",
     "iopub.status.idle": "2024-07-18T12:05:15.627541Z",
     "shell.execute_reply": "2024-07-18T12:05:15.627249Z"
    }
   },
   "outputs": [],
   "source": [
    "@tool\n",
    "def read_file_tool(file_path):\n",
    "    \"\"\"\n",
    "    Simple function to read contents from a file.\n",
    "    \"\"\"\n",
    "    with open(file_path, \"r\") as f:\n",
    "        contents = f.read()\n",
    "    \n",
    "    return contents"
   ]
  },
  {
   "cell_type": "markdown",
   "metadata": {},
   "source": [
    "And we update our toolkit:"
   ]
  },
  {
   "cell_type": "code",
   "execution_count": 28,
   "metadata": {
    "execution": {
     "iopub.execute_input": "2024-07-18T12:05:15.629351Z",
     "iopub.status.busy": "2024-07-18T12:05:15.629246Z",
     "iopub.status.idle": "2024-07-18T12:05:15.631014Z",
     "shell.execute_reply": "2024-07-18T12:05:15.630756Z"
    }
   },
   "outputs": [],
   "source": [
    "tools = [github_commit_tool, create_file_tool, read_file_tool]"
   ]
  },
  {
   "cell_type": "markdown",
   "metadata": {},
   "source": [
    "And we update our agent"
   ]
  },
  {
   "cell_type": "code",
   "execution_count": 29,
   "metadata": {
    "execution": {
     "iopub.execute_input": "2024-07-18T12:05:15.632760Z",
     "iopub.status.busy": "2024-07-18T12:05:15.632642Z",
     "iopub.status.idle": "2024-07-18T12:05:15.636234Z",
     "shell.execute_reply": "2024-07-18T12:05:15.636015Z"
    }
   },
   "outputs": [],
   "source": [
    "agent = create_tool_calling_agent(llm_chat, tools, prompt)\n",
    "\n",
    "agent_executor = AgentExecutor(agent=agent, tools=tools, verbose=True)"
   ]
  },
  {
   "cell_type": "markdown",
   "metadata": {},
   "source": [
    "Before we run our newly updated agent, let's create a .txt file containing the contents from this notebook so that our agent has something useful to read."
   ]
  },
  {
   "cell_type": "code",
   "execution_count": 30,
   "metadata": {
    "execution": {
     "iopub.execute_input": "2024-07-18T12:05:15.637797Z",
     "iopub.status.busy": "2024-07-18T12:05:15.637697Z",
     "iopub.status.idle": "2024-07-18T12:05:24.536271Z",
     "shell.execute_reply": "2024-07-18T12:05:24.535084Z"
    }
   },
   "outputs": [
    {
     "name": "stdout",
     "output_type": "stream",
     "text": [
      "\n",
      "\n",
      "\u001b[1m> Entering new AgentExecutor chain...\u001b[0m\n"
     ]
    },
    {
     "name": "stdout",
     "output_type": "stream",
     "text": [
      "\u001b[32;1m\u001b[1;3m\n",
      "Invoking: `read_file_tool` with `{'file_path': 'pancakes_for_the_win.md'}`\n",
      "\n",
      "\n",
      "\u001b[0m\u001b[38;5;200m\u001b[1;3m# Pancakes for the Win!\n",
      "\n",
      "Pancakes are undoubtedly the superior choice for a happy breakfast. Here are a few reasons why pancakes reign supreme:\n",
      "\n",
      "1. Versatility: Pancakes can be enjoyed in a variety of ways - with fruits, chocolate chips, syrup, or even savory toppings like bacon and eggs.\n",
      "\n",
      "2. Fluffiness: The light and fluffy texture of pancakes is unmatched by any other breakfast option.\n",
      "\n",
      "3. Comfort: There's something comforting about a stack of warm pancakes that just makes you feel good inside.\n",
      "\n",
      "4. Nostalgia: Pancakes are often associated with happy childhood memories of weekend breakfasts with family.\n",
      "\n",
      "5. Easy to make: Pancakes are simple to whip up, requiring just a few basic ingredients.\n",
      "\n",
      "And let's not forget about waffles... Just kidding! Pancakes clearly take the crown for the ultimate breakfast choice.\n",
      "\n",
      "Next time you're deciding what to have for breakfast, remember that pancakes are the way to go!\n",
      "\u001b[0m"
     ]
    },
    {
     "name": "stdout",
     "output_type": "stream",
     "text": [
      "\u001b[32;1m\u001b[1;3m\n",
      "Invoking: `create_file_tool` with `{'file_contents': \"# Waffles for the Win!\\n\\nWaffles are often touted as the breakfast champion, but let's debunk some of the arguments in favor of waffles:\\n\\n1. **Versatility**: While waffles can be enjoyed with various toppings, they lack the adaptability of pancakes. Pancakes can accommodate both sweet and savory toppings with ease.\\n\\n2. **Texture**: Waffles may have a crispy exterior, but they often lack the fluffy interior that makes pancakes so delightful.\\n\\n3. **Comfort**: Just like pancakes, waffles can provide a sense of comfort. However, the nostalgia associated with pancakes is unmatched.\\n\\n4. **Nostalgia**: While waffles may bring back memories of Sunday brunches, pancakes evoke a stronger sense of childhood joy and family bonding.\\n\\n5. **Ease of Preparation**: Waffles require a specialized appliance, while pancakes can be made with just a pan. The simplicity of pancake preparation makes them a more accessible choice.\\n\\nIn conclusion, while waffles have their merits, pancakes emerge as the true breakfast champion. The versatility, fluffiness, comfort, nostalgia, and ease of preparation make pancakes the ultimate breakfast delight.\\n\\nNext time you're contemplating between waffles and pancakes, remember that pancakes are the clear winner!\\n\", 'file_path': 'waffles_for_the_win.md'}`\n",
      "\n",
      "\n",
      "\u001b[0m\u001b[33;1m\u001b[1;3mFile created\u001b[0m"
     ]
    },
    {
     "name": "stdout",
     "output_type": "stream",
     "text": [
      "\u001b[32;1m\u001b[1;3m\n",
      "Invoking: `github_commit_tool` with `{'commit_message': 'Counter arguments for waffles'}`\n",
      "\n",
      "\n",
      "\u001b[0m[main 046c99f] Counter arguments for waffles\n",
      " 1 file changed, 10 insertions(+), 6 deletions(-)\n"
     ]
    },
    {
     "name": "stderr",
     "output_type": "stream",
     "text": [
      "remote: \n",
      "remote: GitHub found 20 vulnerabilities on EnkrateiaLucca/oreilly_live_training_agents's default branch (2 high, 14 moderate, 4 low). To find out more, visit:        \n",
      "remote:      https://github.com/EnkrateiaLucca/oreilly_live_training_agents/security/dependabot        \n",
      "remote: \n",
      "To https://github.com/EnkrateiaLucca/oreilly_live_training_agents.git\n",
      "   6de41c8..046c99f  main -> main\n"
     ]
    },
    {
     "name": "stdout",
     "output_type": "stream",
     "text": [
      "branch 'main' set up to track 'origin/main'.\n",
      "\u001b[36;1m\u001b[1;3mCommitted to Github\u001b[0m"
     ]
    },
    {
     "name": "stdout",
     "output_type": "stream",
     "text": [
      "\u001b[32;1m\u001b[1;3mI have written a simple essay countering the arguments in favor of waffles and saved it as \"waffles_for_the_win.md\". The file has been committed to our GitHub repository.\u001b[0m\n",
      "\n",
      "\u001b[1m> Finished chain.\u001b[0m\n"
     ]
    },
    {
     "data": {
      "text/plain": [
       "{'input': 'Write a simple essay that counters all the arguments in the        pancakes_for_the_win.md file arguing for waffles, write that to waffles_for_the_win.md and commit it to our github repository.',\n",
       " 'output': 'I have written a simple essay countering the arguments in favor of waffles and saved it as \"waffles_for_the_win.md\". The file has been committed to our GitHub repository.'}"
      ]
     },
     "execution_count": 30,
     "metadata": {},
     "output_type": "execute_result"
    }
   ],
   "source": [
    "agent_executor.invoke(\n",
    "    {\n",
    "    \"input\": \"Write a simple essay that counters all the arguments in the\\\n",
    "        pancakes_for_the_win.md file arguing for waffles, write that to waffles_for_the_win.md and commit it to our github repository.\"\n",
    "    }\n",
    "                      )"
   ]
  },
  {
   "cell_type": "markdown",
   "metadata": {},
   "source": [
    "I think this is a great usecase for agents like these even if sometimes the performance and reliability is a bit off, because now, its a matter of optimizing the edges to get it to work for complex use cases."
   ]
  }
 ],
 "metadata": {
  "kernelspec": {
   "display_name": "oreilly-agents",
   "language": "python",
   "name": "oreilly-agents"
  },
  "language_info": {
   "codemirror_mode": {
    "name": "ipython",
    "version": 3
   },
   "file_extension": ".py",
   "mimetype": "text/x-python",
   "name": "python",
   "nbconvert_exporter": "python",
   "pygments_lexer": "ipython3",
   "version": "3.11.9"
  }
 },
 "nbformat": 4,
 "nbformat_minor": 2
}
