{
 "cells": [
  {
   "cell_type": "markdown",
   "metadata": {},
   "source": [
    "![](2025-07-02-14-21-18.png)"
   ]
  },
  {
   "cell_type": "code",
   "execution_count": 3,
   "metadata": {},
   "outputs": [
    {
     "data": {
      "text/plain": [
       "{'messages': [HumanMessage(content='Create a simple file named how did pancakes \\ninfluence western philosophy, and name it, lucas-stop-talking-about-pancakes.txt\\n', additional_kwargs={}, response_metadata={}, id='d0f7d8c5-d8f0-4828-a205-378bff977102'),\n",
       "  AIMessage(content='', additional_kwargs={'tool_calls': [{'id': 'call_thHfPeF7VbGGi4Ajy28yBk9B', 'function': {'arguments': '{\"filename\":\"lucas-stop-talking-about-pancakes.txt\",\"content\":\"How did pancakes influence Western philosophy?\\\\n\\\\nWhile pancakes themselves have not been a central subject in Western philosophy, the concept of sharing a simple meal, such as pancakes, has historically embodied ideas of community, hospitality, and the common good. Philosophers from ancient Greece to modern times have used food metaphors to discuss ethics, society, and even the nature of reality. In this sense, pancakes—like all communal foods—can be seen as symbols for philosophical discussions about generosity, equality, and the pleasures of everyday life.\"}', 'name': 'create_file'}, 'type': 'function'}], 'refusal': None}, response_metadata={'token_usage': {'completion_tokens': 131, 'prompt_tokens': 121, 'total_tokens': 252, 'completion_tokens_details': {'accepted_prediction_tokens': 0, 'audio_tokens': 0, 'reasoning_tokens': 0, 'rejected_prediction_tokens': 0}, 'prompt_tokens_details': {'audio_tokens': 0, 'cached_tokens': 0}}, 'model_name': 'gpt-4.1-2025-04-14', 'system_fingerprint': 'fp_51e1070cf2', 'id': 'chatcmpl-BorO3iTleK6CYKQoowmBZiPhxNsBJ', 'finish_reason': 'tool_calls', 'logprobs': None}, id='run-5470655f-a18d-41ba-96ba-e55b03f9aafa-0', tool_calls=[{'name': 'create_file', 'args': {'filename': 'lucas-stop-talking-about-pancakes.txt', 'content': 'How did pancakes influence Western philosophy?\\n\\nWhile pancakes themselves have not been a central subject in Western philosophy, the concept of sharing a simple meal, such as pancakes, has historically embodied ideas of community, hospitality, and the common good. Philosophers from ancient Greece to modern times have used food metaphors to discuss ethics, society, and even the nature of reality. In this sense, pancakes—like all communal foods—can be seen as symbols for philosophical discussions about generosity, equality, and the pleasures of everyday life.'}, 'id': 'call_thHfPeF7VbGGi4Ajy28yBk9B', 'type': 'tool_call'}], usage_metadata={'input_tokens': 121, 'output_tokens': 131, 'total_tokens': 252, 'input_token_details': {'audio': 0, 'cache_read': 0}, 'output_token_details': {'audio': 0, 'reasoning': 0}}),\n",
       "  ToolMessage(content=\"Successfully created file 'lucas-stop-talking-about-pancakes.txt' with content.\", name='create_file', id='3f562df0-6052-4fcd-a0df-337428765285', tool_call_id='call_thHfPeF7VbGGi4Ajy28yBk9B'),\n",
       "  AIMessage(content='The file titled \"lucas-stop-talking-about-pancakes.txt\" has been created with a brief explanation on how pancakes could relate to Western philosophy. If you need any changes or further details, just let me know!', additional_kwargs={'refusal': None}, response_metadata={'token_usage': {'completion_tokens': 46, 'prompt_tokens': 278, 'total_tokens': 324, 'completion_tokens_details': {'accepted_prediction_tokens': 0, 'audio_tokens': 0, 'reasoning_tokens': 0, 'rejected_prediction_tokens': 0}, 'prompt_tokens_details': {'audio_tokens': 0, 'cached_tokens': 0}}, 'model_name': 'gpt-4.1-2025-04-14', 'system_fingerprint': 'fp_51e1070cf2', 'id': 'chatcmpl-BorO6fQnmMhRq3mDXgRkFsMNTdMGu', 'finish_reason': 'stop', 'logprobs': None}, id='run-488872fc-1c82-4636-8d56-38127a31ee7e-0', usage_metadata={'input_tokens': 278, 'output_tokens': 46, 'total_tokens': 324, 'input_token_details': {'audio': 0, 'cache_read': 0}, 'output_token_details': {'audio': 0, 'reasoning': 0}})]}"
      ]
     },
     "execution_count": 3,
     "metadata": {},
     "output_type": "execute_result"
    }
   ],
   "source": [
    "# No system message in this simple example\n",
    "from langchain.chat_models import init_chat_model\n",
    "from langgraph.prebuilt import create_react_agent\n",
    "\n",
    "def create_file(filename: str, content: str) -> str:\n",
    "    \"\"\"\n",
    "    Create a file with the given filename and content.\n",
    "    \n",
    "    Args:\n",
    "        filename (str): The name of the file to create\n",
    "        content (str): The content to write to the file\n",
    "        \n",
    "    Returns:\n",
    "        str: A success message confirming the file was created\n",
    "    \"\"\"\n",
    "    try:\n",
    "        with open(filename, 'w') as f:\n",
    "            f.write(content)\n",
    "        return f\"Successfully created file '{filename}' with content.\"\n",
    "    except Exception as e:\n",
    "        return f\"Error creating file: {str(e)}\"\n",
    "\n",
    "tools = [create_file]\n",
    "\n",
    "llm = init_chat_model(\"openai:gpt-4.1\")\n",
    "\n",
    "langgraph_agent_executor = create_react_agent(llm, tools)\n",
    "\n",
    "query = \"\"\"Create a simple file named how did pancakes \n",
    "influence western philosophy, and name it, lucas-stop-talking-about-pancakes.txt\n",
    "\"\"\"\n",
    "\n",
    "messages = langgraph_agent_executor.invoke({\"messages\": [(\"human\", query)]})\n",
    "{\n",
    "    \"input\": query,\n",
    "    \"output\": messages[\"messages\"][-1].content,\n",
    "}\n",
    "messages"
   ]
  },
  {
   "cell_type": "code",
   "execution_count": null,
   "metadata": {},
   "outputs": [],
   "source": []
  },
  {
   "cell_type": "code",
   "execution_count": null,
   "metadata": {},
   "outputs": [],
   "source": []
  },
  {
   "cell_type": "code",
   "execution_count": null,
   "metadata": {},
   "outputs": [],
   "source": []
  }
 ],
 "metadata": {
  "language_info": {
   "name": "python"
  }
 },
 "nbformat": 4,
 "nbformat_minor": 2
}
